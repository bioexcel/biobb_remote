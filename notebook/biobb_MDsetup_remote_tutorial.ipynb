{
 "cells": [
  {
   "cell_type": "markdown",
   "metadata": {},
   "source": [
    "# Protein MD Setup tutorial using BioExcel Building Blocks (biobb) with remote execution\n",
    "**Based on the official GROMACS tutorial:** [http://www.mdtutorials.com/gmx/lysozyme/index.html](http://www.mdtutorials.com/gmx/lysozyme/index.html)\n",
    "***\n",
    "This tutorial aims to illustrate the process of **setting up a simulation system** containing a **protein**, step by step, using the **BioExcel Building Blocks library (biobb)**. The particular example used is the **Lysozyme** protein (PDB code 1AKI). \n",
    "***\n",
    "\n",
    "## Settings\n",
    "\n",
    "### Biobb modules used\n",
    "\n",
    " - [biobb_io](https://github.com/bioexcel/biobb_io): Tools to fetch biomolecular data from public databases.\n",
    " - [biobb_model](https://github.com/bioexcel/biobb_model): Tools to model macromolecular structures.\n",
    " - [biobb_md](https://github.com/bioexcel/biobb_md): Tools to setup and run Molecular Dynamics simulations.\n",
    " - [biobb_analysis](https://github.com/bioexcel/biobb_analysis): Tools to analyse Molecular Dynamics trajectories.\n",
    " \n",
    "### Auxiliar libraries used\n",
    "\n",
    " - [nb_conda_kernels](https://github.com/Anaconda-Platform/nb_conda_kernels): Enables a Jupyter Notebook or JupyterLab application in one conda environment to access kernels for Python, R, and other languages found in other environments.\n",
    " - [nglview](http://nglviewer.org/#nglview): Jupyter/IPython widget to interactively view molecular structures and trajectories in notebooks.\n",
    " - [ipywidgets](https://github.com/jupyter-widgets/ipywidgets): Interactive HTML widgets for Jupyter notebooks and the IPython kernel.\n",
    " - [plotly](https://plot.ly/python/offline/): Python interactive graphing library integrated in Jupyter notebooks.\n",
    " - [simpletraj](https://github.com/arose/simpletraj): Lightweight coordinate-only trajectory reader based on code from GROMACS, MDAnalysis and VMD.\n",
    "\n",
    "### Conda Installation and Launch\n",
    "\n",
    "```console\n",
    "git clone https://github.com/bioexcel/biobb_wf_md_setup.git\n",
    "cd biobb_wf_md_setup\n",
    "conda env create -f conda_env/environment.yml\n",
    "conda activate biobb_MDsetup_tutorial\n",
    "jupyter-nbextension enable --py --user widgetsnbextension\n",
    "jupyter-nbextension enable --py --user nglview\n",
    "jupyter-notebook biobb_wf_md_setup/notebooks/biobb_MDsetup_tutorial.ipynb\n",
    "  ``` \n",
    "\n",
    "***\n",
    "## Pipeline steps\n",
    " 0. Setting up remote access\n",
    " 0.1. Getting new credentials\n",
    " 0.2. Installing credentials on host\n",
    " 0.3. Setting host queue \n",
    " 1. [Input Parameters](#input)\n",
    " 2. [Fetching PDB Structure](#fetch)\n",
    " 3. [Fix Protein Structure](#fix)\n",
    " 4. [Create Protein System Topology](#top)\n",
    " 5. [Create Solvent Box](#box)\n",
    " 6. [Fill the Box with Water Molecules](#water)\n",
    " 7. [Adding Ions](#ions)\n",
    " 8. [Energetically Minimize the System](#min) (local)\n",
    " 9. [Equilibrate the System (NVT)](#nvt) (remote)\n",
    " 10. [Equilibrate the System (NPT)](#npt) (remote)\n",
    " 11. [Free Molecular Dynamics Simulation](#free) (remote)\n",
    " 12. [Post-processing and Visualizing Resulting 3D Trajectory](#post)\n",
    " 13. [Output Files](#output)\n",
    " 14. [Questions & Comments](#questions)\n",
    " \n",
    "***\n",
    "<img src=\"https://bioexcel.eu/wp-content/uploads/2019/04/Bioexcell_logo_1080px_transp.png\" alt=\"Bioexcel2 logo\"\n",
    "\ttitle=\"Bioexcel2 logo\" width=\"400\" />\n",
    "***\n"
   ]
  },
  {
   "cell_type": "code",
   "execution_count": 1,
   "metadata": {},
   "outputs": [],
   "source": [
    "%load_ext autoreload\n",
    "%autoreload 2"
   ]
  },
  {
   "cell_type": "markdown",
   "metadata": {},
   "source": [
    "<a id=\"credentials\"></a>\n",
    "## Setting up remote access\n",
    "\n",
    "Remote access uses standard ssh/sftp sessions. \n",
    "A specific public/private key pair will be generated (optional)"
   ]
  },
  {
   "cell_type": "code",
   "execution_count": 22,
   "metadata": {},
   "outputs": [],
   "source": [
    "host = 'mn1.bsc.es'\n",
    "userid = 'bsc23860'\n",
    "host_config_path = '../conf/BSC_MN4.json'"
   ]
  },
  {
   "cell_type": "markdown",
   "metadata": {},
   "source": [
    "### Generate SSH keys and store locally\n",
    "Skip to use user's credentials"
   ]
  },
  {
   "cell_type": "code",
   "execution_count": null,
   "metadata": {},
   "outputs": [],
   "source": [
    "#keys_file = 'bsc23860@mn1.keys'\n",
    "\n",
    "#from biobb_remote.ssh_credentials import SSHCredentials\n",
    "\n",
    "#credentials = SSHCredentials(\n",
    "#    host=host, userid=userid, generate_key=True, look_for_keys=False\n",
    "#)\n",
    "#credentials.save(keys_file)"
   ]
  },
  {
   "cell_type": "markdown",
   "metadata": {},
   "source": [
    "### Get generated keys"
   ]
  },
  {
   "cell_type": "code",
   "execution_count": null,
   "metadata": {},
   "outputs": [],
   "source": [
    "#credentials.get_private_key()"
   ]
  },
  {
   "cell_type": "code",
   "execution_count": null,
   "metadata": {},
   "outputs": [],
   "source": [
    "#credentials.get_public_key()"
   ]
  },
  {
   "cell_type": "code",
   "execution_count": null,
   "metadata": {},
   "outputs": [],
   "source": [
    "#credentials.sftp=None"
   ]
  },
  {
   "cell_type": "markdown",
   "metadata": {},
   "source": [
    "Public key should to included in .ssh/authorized_keys, either manually or using install_host_auth (requires user's own ssh credentials)"
   ]
  },
  {
   "cell_type": "code",
   "execution_count": null,
   "metadata": {},
   "outputs": [],
   "source": [
    "#backup_file_ext = 'bck'\n",
    "#credentials.install_host_auth(backup_file_ext)"
   ]
  },
  {
   "cell_type": "markdown",
   "metadata": {},
   "source": [
    "Let's recover the keys from the local file. Useful to reuse previous sessions. "
   ]
  },
  {
   "cell_type": "code",
   "execution_count": null,
   "metadata": {},
   "outputs": [],
   "source": [
    "#new_credentials = SSHCredentials()\n",
    "#new_credentials.load_from_file(keys_file)\n",
    "#new_credentials.check_host_auth()"
   ]
  },
  {
   "cell_type": "markdown",
   "metadata": {},
   "source": [
    "Setting the connection to host queueing system (SLURM). \n",
    "\n",
    "local_path is a local working directory, should be created already. \n",
    "\n",
    "remote_path is a base path in the remote computer, will be created when necessary. remote_path will contain a different directory for each instance of the task manager created\n",
    "\n",
    "task_data_path keeps a local copy of task manager status allowing to recover interrupted sessions"
   ]
  },
  {
   "cell_type": "code",
   "execution_count": 25,
   "metadata": {},
   "outputs": [],
   "source": [
    "host = 'mn1.bsc.es'\n",
    "userid = 'bsc23860'\n",
    "local_path = '/data/PROJECTES/COVID19/VacunaRNA/B_CONSTRUCT/CONSRBD/MODEL/MD'\n",
    "remote_path = 'scratch/test_biobb'\n",
    "task_data_path = '/data/PROJECTES/COVID19/VacunaRNA/B_CONSTRUCT/CONSRBD/MODEL/MD/task_data.json'\n",
    "# queue settings are bundled in Slurm class according to the options \n",
    "# on the remote computer\n",
    "# modules are predefined bundles of HPC modules to be loaded.\n",
    "queue_settings = 'default'\n",
    "modules = ['biobb','gromacs']\n",
    "conda_env = None"
   ]
  },
  {
   "cell_type": "code",
   "execution_count": 26,
   "metadata": {},
   "outputs": [],
   "source": [
    "from biobb_remote.slurm import Slurm\n",
    "\n",
    "##Option 1: Adding Biobb credentials set previously\n",
    "#slurm = Slurm()\n",
    "#slurm.set_credentials(credentials)\n",
    "#slurm.load_host_config(host_config_path)\n",
    "#slurm.save(task_data_path)\n",
    "\n",
    "##Option 2: Using user's own credentials\n",
    "slurm = Slurm(host=host, userid=userid, look_for_keys=True)\n",
    "slurm.load_host_config(host_config_path)\n",
    "slurm.save(task_data_path)"
   ]
  },
  {
   "cell_type": "markdown",
   "metadata": {},
   "source": [
    "<a id=\"input\"></a>\n",
    "## Input parameters\n",
    "**Input parameters** needed:\n",
    " - **pdbCode**: PDB code of the protein structure (e.g. 1AKI)"
   ]
  },
  {
   "cell_type": "code",
   "execution_count": 5,
   "metadata": {},
   "outputs": [
    {
     "data": {
      "application/vnd.jupyter.widget-view+json": {
       "model_id": "3cad0456d71d4b789c16d1f0bbc9c761",
       "version_major": 2,
       "version_minor": 0
      },
      "text/plain": []
     },
     "metadata": {},
     "output_type": "display_data"
    }
   ],
   "source": [
    "import nglview\n",
    "import ipywidgets\n",
    "\n",
    "pdbCode = \"1AKI\""
   ]
  },
  {
   "cell_type": "markdown",
   "metadata": {},
   "source": [
    "<a id=\"fetch\"></a>\n",
    "***\n",
    "## Fetching PDB structure\n",
    "Downloading **PDB structure** with the **protein molecule** from the RCSB PDB database.<br>\n",
    "Alternatively, a **PDB file** can be used as starting structure. <br>\n",
    "***\n",
    "**Building Blocks** used:\n",
    " - [Pdb](https://biobb-io.readthedocs.io/en/latest/api.html#module-api.pdb) from **biobb_io.api.pdb**\n",
    "***"
   ]
  },
  {
   "cell_type": "code",
   "execution_count": 6,
   "metadata": {},
   "outputs": [
    {
     "name": "stderr",
     "output_type": "stream",
     "text": [
      "2021-01-14 19:16:17,414 [MainThread  ] [INFO ]  Downloading: 1aki from: http://www.ebi.ac.uk/pdbe/entry-files/download/pdb1aki.ent\n",
      "/home/gelpi/miniconda3/envs/biobb_remote/lib/python3.7/site-packages/urllib3/connectionpool.py:1020: InsecureRequestWarning: Unverified HTTPS request is being made to host 'www.ebi.ac.uk'. Adding certificate verification is strongly advised. See: https://urllib3.readthedocs.io/en/latest/advanced-usage.html#ssl-warnings\n",
      "  InsecureRequestWarning,\n",
      "2021-01-14 19:16:17,729 [MainThread  ] [INFO ]  Writting pdb to: ../test/test_wdir/1AKI.pdb\n",
      "2021-01-14 19:16:17,729 [MainThread  ] [INFO ]  Filtering lines NOT starting with one of these words: ['ATOM', 'MODEL', 'ENDMDL']\n"
     ]
    }
   ],
   "source": [
    "# Downloading desired PDB file \n",
    "# Import module\n",
    "from biobb_io.api.pdb import Pdb\n",
    "\n",
    "# Create properties dict and inputs/outputs\n",
    "prop = {\n",
    "    'pdb_code': pdbCode\n",
    "}\n",
    "\n",
    "#Create and launch bb\n",
    "Pdb(output_pdb_path=downloaded_pdb,\n",
    "    properties=prop).launch()"
   ]
  },
  {
   "cell_type": "markdown",
   "metadata": {},
   "source": [
    "<a id=\"vis3D\"></a>\n",
    "### Visualizing 3D structure\n",
    "Visualizing the downloaded/given **PDB structure** using **NGL**:    "
   ]
  },
  {
   "cell_type": "code",
   "execution_count": 7,
   "metadata": {},
   "outputs": [
    {
     "data": {
      "application/vnd.jupyter.widget-view+json": {
       "model_id": "8fd6db0353ea4167b88f11feab20901f",
       "version_major": 2,
       "version_minor": 0
      },
      "text/plain": [
       "NGLWidget()"
      ]
     },
     "metadata": {},
     "output_type": "display_data"
    }
   ],
   "source": [
    "# Show protein\n",
    "view = nglview.show_structure_file(downloaded_pdb)\n",
    "view.add_representation(repr_type='ball+stick', selection='all')\n",
    "view._remote_call('setSize', target='Widget', args=['','600px'])\n",
    "view"
   ]
  },
  {
   "cell_type": "markdown",
   "metadata": {},
   "source": [
    "<a id=\"fix\"></a>\n",
    "***\n",
    "## Fix protein structure\n",
    "**Checking** and **fixing** (if needed) the protein structure:<br>\n",
    "- **Modeling** **missing side-chain atoms**, modifying incorrect **amide assignments**, choosing **alternative locations**.<br>\n",
    "- **Checking** for missing **backbone atoms**, **heteroatoms**, **modified residues** and possible **atomic clashes**.\n",
    "\n",
    "***\n",
    "**Building Blocks** used:\n",
    " - [FixSideChain](https://biobb-model.readthedocs.io/en/latest/model.html#module-model.fix_side_chain) from **biobb_model.model.fix_side_chain**\n",
    "***"
   ]
  },
  {
   "cell_type": "code",
   "execution_count": 9,
   "metadata": {},
   "outputs": [
    {
     "name": "stderr",
     "output_type": "stream",
     "text": [
      "2021-01-14 19:17:34,845 [MainThread  ] [INFO ]  check_structure -i ../test/test_wdir/1AKI.pdb -o ../test/test_wdir/1AKI_fixed.pdb --force_save fixside --fix ALL\n",
      "\n",
      "2021-01-14 19:17:34,846 [MainThread  ] [INFO ]  Exit code 0\n",
      "\n",
      "2021-01-14 19:17:34,847 [MainThread  ] [INFO ]  ===============================================================================\n",
      "=                   BioBB structure checking utility v3.0.3                   =\n",
      "=                 A. Hospital, P. Andrio, J.L. Gelpi 2018-20                  =\n",
      "===============================================================================\n",
      "\n",
      "Warning: sequence features only available in mmCIF format or with external fasta input\n",
      "Structure ../test/test_wdir/1AKI.pdb loaded\n",
      " Title: \n",
      " Experimental method: unknown\n",
      " Resolution: None A\n",
      "\n",
      " Num. models: 1\n",
      " Num. chains: 1 (A: Protein)\n",
      " Num. residues:  129\n",
      " Num. residues with ins. codes:  0\n",
      " Num. HETATM residues:  0\n",
      " Num. ligands or modified residues:  0\n",
      " Num. water mol.:  0\n",
      " Num. atoms:  1001\n",
      "\n",
      "Running fixside. Options: --fix ALL\n",
      "No residues with missing or unknown side chain atoms found\n",
      "Structure not modified, saving due to --force_save option\n",
      "Final Num. models: 1\n",
      "Final Num. chains: 1 (A: Protein)\n",
      "Final Num. residues:  129\n",
      "Final Num. residues with ins. codes:  0\n",
      "Final Num. HETATM residues:  0\n",
      "Final Num. ligands or modified residues:  0\n",
      "Final Num. water mol.:  0\n",
      "Final Num. atoms:  1001\n",
      "Structure saved on ../test/test_wdir/1AKI_fixed.pdb\n",
      "\n",
      "2021-01-14 19:17:34,847 [MainThread  ] [INFO ]  Removed: []\n"
     ]
    },
    {
     "data": {
      "text/plain": [
       "0"
      ]
     },
     "execution_count": 9,
     "metadata": {},
     "output_type": "execute_result"
    }
   ],
   "source": [
    "from os.path import join as opj\n",
    "# Check & Fix PDB\n",
    "# Import module\n",
    "from biobb_model.model.fix_side_chain import FixSideChain\n",
    "\n",
    "# Create prop dict and inputs/outputs\n",
    "fixed_pdb = opj(local_path, pdbCode + '_fixed.pdb')\n",
    "\n",
    "# Create and launch bb\n",
    "FixSideChain(input_pdb_path=downloaded_pdb, \n",
    "             output_pdb_path=fixed_pdb).launch()"
   ]
  },
  {
   "cell_type": "markdown",
   "metadata": {},
   "source": [
    "### Visualizing 3D structure\n",
    "Visualizing the fixed **PDB structure** using **NGL**. In this particular example, the checking step didn't find any issue to be solved, so there is no difference between the original structure and the fixed one.   "
   ]
  },
  {
   "cell_type": "code",
   "execution_count": null,
   "metadata": {
    "scrolled": true
   },
   "outputs": [],
   "source": [
    "# Show protein\n",
    "view = nglview.show_structure_file(fixed_pdb)\n",
    "view.add_representation(repr_type='ball+stick', selection='all')\n",
    "view._remote_call('setSize', target='Widget', args=['','600px'])\n",
    "view.camera='orthographic'\n",
    "view"
   ]
  },
  {
   "cell_type": "markdown",
   "metadata": {},
   "source": [
    "<a id=\"top\"></a>\n",
    "***\n",
    "## Create protein system topology\n",
    "**Building GROMACS topology** corresponding to the protein structure.<br>\n",
    "Force field used in this tutorial is [**amber99sb-ildn**](https://dx.doi.org/10.1002%2Fprot.22711): AMBER **parm99** force field with **corrections on backbone** (sb) and **side-chain torsion potentials** (ildn). Water molecules type used in this tutorial is [**spc/e**](https://pubs.acs.org/doi/abs/10.1021/j100308a038).<br>\n",
    "Adding **hydrogen atoms** if missing. Automatically identifying **disulfide bridges**. <br>\n",
    "\n",
    "Generating two output files: \n",
    "- **GROMACS structure** (gro file)\n",
    "- **GROMACS topology** ZIP compressed file containing:\n",
    "    - *GROMACS topology top file* (top file)\n",
    "    - *GROMACS position restraint file/s* (itp file/s)\n",
    "***\n",
    "**Building Blocks** used:\n",
    " - [Pdb2gmx](https://biobb-md.readthedocs.io/en/latest/gromacs.html#module-gromacs.pdb2gmx) from **biobb_md.gromacs.pdb2gmx**\n",
    "***"
   ]
  },
  {
   "cell_type": "code",
   "execution_count": 10,
   "metadata": {},
   "outputs": [
    {
     "name": "stderr",
     "output_type": "stream",
     "text": [
      "2021-01-14 19:18:06,386 [MainThread  ] [INFO ]  GROMACS Pdb2gmx 20191 version detected\n",
      "2021-01-14 19:18:06,388 [MainThread  ] [INFO ]  Not using any container\n",
      "2021-01-14 19:18:06,712 [MainThread  ] [INFO ]  gmx -nobackup -nocopyright pdb2gmx -f ../test/test_wdir/1AKI_fixed.pdb -o ../test/test_wdir/1AKI_pdb2gmx.gro -p p2g.top -water spce -ff amber99sb-ildn -i posre.itp\n",
      "\n",
      "2021-01-14 19:18:06,715 [MainThread  ] [INFO ]  Exit code 0\n",
      "\n",
      "2021-01-14 19:18:06,716 [MainThread  ] [INFO ]  \n",
      "Using the Amber99sb-ildn force field in directory amber99sb-ildn.ff\n",
      "\n",
      "going to rename amber99sb-ildn.ff/aminoacids.r2b\n",
      "going to rename amber99sb-ildn.ff/dna.r2b\n",
      "going to rename amber99sb-ildn.ff/rna.r2b\n",
      "Reading ../test/test_wdir/1AKI_fixed.pdb...\n",
      "Read '', 1001 atoms\n",
      "Analyzing pdb file\n",
      "Splitting chemical chains based on TER records or chain id changing.\n",
      "There are 1 chains and 0 blocks of water and 129 residues with 1001 atoms\n",
      "\n",
      "  chain  #res #atoms\n",
      "  1 'A'   129   1001  \n",
      "\n",
      "Reading residue database... (Amber99sb-ildn)\n",
      "Processing chain 1 'A' (1001 atoms, 129 residues)\n",
      "Identified residue LYS1 as a starting terminus.\n",
      "Identified residue LEU129 as a ending terminus.\n",
      "Checking for duplicate atoms....\n",
      "Generating any missing hydrogen atoms and/or adding termini.\n",
      "Now there are 129 residues with 1960 atoms\n",
      "\t\t--------- PLEASE NOTE ------------\n",
      "You have successfully generated a topology from: ../test/test_wdir/1AKI_fixed.pdb.\n",
      "The Amber99sb-ildn force field and the spce water model are used.\n",
      "\t\t--------- ETON ESAELP ------------\n",
      "\n",
      "2021-01-14 19:18:06,717 [MainThread  ] [INFO ]                       :-) GROMACS - gmx pdb2gmx, 2019.1 (-:\n",
      "\n",
      "Executable:   /home/gelpi/miniconda3/envs/biobb_remote/bin/gmx\n",
      "Data prefix:  /home/gelpi/miniconda3/envs/biobb_remote\n",
      "Working dir:  /home/gelpi/DEVEL/BioExcel/biobb/biobb_remote/notebook\n",
      "Command line:\n",
      "  gmx -nobackup -nocopyright pdb2gmx -f ../test/test_wdir/1AKI_fixed.pdb -o ../test/test_wdir/1AKI_pdb2gmx.gro -p p2g.top -water spce -ff amber99sb-ildn -i posre.itp\n",
      "\n",
      "Opening force field file /home/gelpi/miniconda3/envs/biobb_remote/share/gromacs/top/amber99sb-ildn.ff/aminoacids.r2b\n",
      "Opening force field file /home/gelpi/miniconda3/envs/biobb_remote/share/gromacs/top/amber99sb-ildn.ff/dna.r2b\n",
      "Opening force field file /home/gelpi/miniconda3/envs/biobb_remote/share/gromacs/top/amber99sb-ildn.ff/rna.r2b\n",
      "All occupancies are one\n",
      "Opening force field file /home/gelpi/miniconda3/envs/biobb_remote/share/gromacs/top/amber99sb-ildn.ff/atomtypes.atp\n",
      "Atomtype 67\n",
      "Opening force field file /home/gelpi/miniconda3/envs/biobb_remote/share/gromacs/top/amber99sb-ildn.ff/aminoacids.rtp\n",
      "Residue 93\n",
      "Sorting it all out...\n",
      "Opening force field file /home/gelpi/miniconda3/envs/biobb_remote/share/gromacs/top/amber99sb-ildn.ff/dna.rtp\n",
      "Residue 109\n",
      "Sorting it all out...\n",
      "Opening force field file /home/gelpi/miniconda3/envs/biobb_remote/share/gromacs/top/amber99sb-ildn.ff/rna.rtp\n",
      "Residue 125\n",
      "Sorting it all out...\n",
      "Opening force field file /home/gelpi/miniconda3/envs/biobb_remote/share/gromacs/top/amber99sb-ildn.ff/aminoacids.hdb\n",
      "Opening force field file /home/gelpi/miniconda3/envs/biobb_remote/share/gromacs/top/amber99sb-ildn.ff/dna.hdb\n",
      "Opening force field file /home/gelpi/miniconda3/envs/biobb_remote/share/gromacs/top/amber99sb-ildn.ff/rna.hdb\n",
      "Opening force field file /home/gelpi/miniconda3/envs/biobb_remote/share/gromacs/top/amber99sb-ildn.ff/aminoacids.n.tdb\n",
      "Opening force field file /home/gelpi/miniconda3/envs/biobb_remote/share/gromacs/top/amber99sb-ildn.ff/aminoacids.c.tdb\n",
      "Analysing hydrogen-bonding network for automated assignment of histidine\n",
      " protonation. 213 donors and 184 acceptors were found.\n",
      "There are 255 hydrogen bonds\n",
      "Will use HISE for residue 15\n",
      "8 out of 8 lines of specbond.dat converted successfully\n",
      "Special Atom Distance matrix:\n",
      "                    CYS6   MET12   HIS15   CYS30   CYS64   CYS76   CYS80\n",
      "                    SG48    SD87  NE2118   SG238   SG513   SG601   SG630\n",
      "   MET12    SD87   1.166\n",
      "   HIS15  NE2118   1.776   1.019\n",
      "   CYS30   SG238   1.406   1.054   2.069\n",
      "   CYS64   SG513   2.835   1.794   1.789   2.241\n",
      "   CYS76   SG601   2.704   1.551   1.468   2.116   0.765\n",
      "   CYS80   SG630   2.959   1.951   1.916   2.391   0.199   0.944\n",
      "   CYS94   SG724   2.550   1.407   1.382   1.975   0.665   0.202   0.855\n",
      "  MET105   SD799   1.827   0.911   1.683   0.888   1.849   1.461   2.036\n",
      "  CYS115   SG889   1.576   1.084   2.078   0.200   2.111   1.989   2.262\n",
      "  CYS127   SG981   0.197   1.072   1.721   1.313   2.799   2.622   2.934\n",
      "                   CYS94  MET105  CYS115\n",
      "                   SG724   SD799   SG889\n",
      "  MET105   SD799   1.381\n",
      "  CYS115   SG889   1.853   0.790\n",
      "  CYS127   SG981   2.475   1.686   1.483\n",
      "Linking CYS-6 SG-48 and CYS-127 SG-981...\n",
      "Linking CYS-30 SG-238 and CYS-115 SG-889...\n",
      "Linking CYS-64 SG-513 and CYS-80 SG-630...\n",
      "Linking CYS-76 SG-601 and CYS-94 SG-724...\n",
      "Opening force field file /home/gelpi/miniconda3/envs/biobb_remote/share/gromacs/top/amber99sb-ildn.ff/aminoacids.arn\n",
      "Opening force field file /home/gelpi/miniconda3/envs/biobb_remote/share/gromacs/top/amber99sb-ildn.ff/dna.arn\n",
      "Opening force field file /home/gelpi/miniconda3/envs/biobb_remote/share/gromacs/top/amber99sb-ildn.ff/rna.arn\n",
      "Making bonds...\n",
      "Number of bonds was 1985, now 1984\n",
      "Generating angles, dihedrals and pairs...\n",
      "Before cleaning: 5142 pairs\n",
      "Before cleaning: 5454 dihedrals\n",
      "Keeping all generated dihedrals\n",
      "Making cmap torsions...\n",
      "There are 5454 dihedrals,  426 impropers, 3547 angles\n",
      "          5106 pairs,     1984 bonds and     0 virtual sites\n",
      "Total mass 14313.332 a.m.u.\n",
      "Total charge 8.000 e\n",
      "Writing topology\n",
      "\n",
      "Writing coordinate file...\n",
      "\n",
      "GROMACS reminds you: \"Push It Real Good\" (Salt 'n' Pepa)\n",
      "\n",
      "\n",
      "2021-01-14 19:18:06,718 [MainThread  ] [INFO ]  Compressing topology to: ../test/test_wdir/1AKI_pdb2gmx_top.zip\n",
      "2021-01-14 19:18:06,721 [MainThread  ] [INFO ]  Ignored file amber99sb-ildn.ff/forcefield.itp\n",
      "2021-01-14 19:18:06,728 [MainThread  ] [INFO ]  Ignored file amber99sb-ildn.ff/spce.itp\n",
      "2021-01-14 19:18:06,731 [MainThread  ] [INFO ]  Ignored file amber99sb-ildn.ff/ions.itp\n",
      "2021-01-14 19:18:06,737 [MainThread  ] [INFO ]  Adding:\n",
      "2021-01-14 19:18:06,739 [MainThread  ] [INFO ]  ['p2g.top', 'posre.itp']\n",
      "2021-01-14 19:18:06,740 [MainThread  ] [INFO ]  to: /home/gelpi/DEVEL/BioExcel/biobb/biobb_remote/test/test_wdir/1AKI_pdb2gmx_top.zip\n",
      "2021-01-14 19:18:06,742 [MainThread  ] [INFO ]  Removed: ['p2g.top', 'posre.itp']\n"
     ]
    },
    {
     "data": {
      "text/plain": [
       "0"
      ]
     },
     "execution_count": 10,
     "metadata": {},
     "output_type": "execute_result"
    }
   ],
   "source": [
    "# Create system topology\n",
    "# Import module\n",
    "from biobb_md.gromacs.pdb2gmx import Pdb2gmx\n",
    "\n",
    "# Create inputs/outputs\n",
    "output_pdb2gmx_gro = opj(local_path, pdbCode+'_pdb2gmx.gro')\n",
    "output_pdb2gmx_top_zip = opj(local_path, pdbCode+'_pdb2gmx_top.zip')\n",
    "\n",
    "# Create and launch bb\n",
    "Pdb2gmx(input_pdb_path=fixed_pdb, \n",
    "        output_gro_path=output_pdb2gmx_gro, \n",
    "        output_top_zip_path=output_pdb2gmx_top_zip).launch()"
   ]
  },
  {
   "cell_type": "markdown",
   "metadata": {},
   "source": [
    "### Visualizing 3D structure\n",
    "Visualizing the generated **GRO structure** using **NGL**. Note that **hydrogen atoms** were added to the structure by the **pdb2gmx GROMACS tool** when generating the **topology**.    "
   ]
  },
  {
   "cell_type": "code",
   "execution_count": null,
   "metadata": {},
   "outputs": [],
   "source": [
    "# Show protein\n",
    "view = nglview.show_structure_file(output_pdb2gmx_gro)\n",
    "view.add_representation(repr_type='ball+stick', selection='all')\n",
    "view._remote_call('setSize', target='Widget', args=['','600px'])\n",
    "view.camera='orthographic'\n",
    "view"
   ]
  },
  {
   "cell_type": "markdown",
   "metadata": {},
   "source": [
    "<a id=\"box\"></a>\n",
    "***\n",
    "## Create solvent box\n",
    "Define the unit cell for the **protein structure MD system** to fill it with water molecules.<br>\n",
    "A **cubic box** is used to define the unit cell, with a **distance from the protein to the box edge of 1.0 nm**. The protein is **centered in the box**.  \n",
    "\n",
    "***\n",
    "**Building Blocks** used:\n",
    " - [Editconf](https://biobb-md.readthedocs.io/en/latest/gromacs.html#module-gromacs.editconf) from **biobb_md.gromacs.editconf** \n",
    "***"
   ]
  },
  {
   "cell_type": "code",
   "execution_count": 11,
   "metadata": {},
   "outputs": [
    {
     "name": "stderr",
     "output_type": "stream",
     "text": [
      "2021-01-14 19:18:19,882 [MainThread  ] [INFO ]  GROMACS Editconf 20191 version detected\n",
      "2021-01-14 19:18:19,885 [MainThread  ] [INFO ]  Centering molecule in the box.\n",
      "2021-01-14 19:18:19,886 [MainThread  ] [INFO ]  Distance of the box to molecule:   1.00\n",
      "2021-01-14 19:18:19,888 [MainThread  ] [INFO ]  Box type: cubic\n",
      "2021-01-14 19:18:19,889 [MainThread  ] [INFO ]  Not using any container\n",
      "2021-01-14 19:18:19,941 [MainThread  ] [INFO ]  gmx -nobackup -nocopyright editconf -f ../test/test_wdir/1AKI_pdb2gmx.gro -o ../test/test_wdir/1AKI_editconf.gro -d 1.0 -bt cubic -c\n",
      "\n",
      "2021-01-14 19:18:19,943 [MainThread  ] [INFO ]  Exit code 0\n",
      "\n",
      "2021-01-14 19:18:19,944 [MainThread  ] [INFO ]  Note that major changes are planned in future for editconf, to improve usability and utility.Read 1960 atoms\n",
      "Volume: 55.8378 nm^3, corresponds to roughly 25100 electrons\n",
      "No velocities found\n",
      "    system size :  3.817  4.234  3.454 (nm)\n",
      "    diameter    :  5.010               (nm)\n",
      "    center      :  2.781  2.488  0.017 (nm)\n",
      "    box vectors :  3.817  4.235  3.455 (nm)\n",
      "    box angles  :  90.00  90.00  90.00 (degrees)\n",
      "    box volume  :  55.84               (nm^3)\n",
      "    shift       :  0.724  1.017  3.488 (nm)\n",
      "new center      :  3.505  3.505  3.505 (nm)\n",
      "new box vectors :  7.010  7.010  7.010 (nm)\n",
      "new box angles  :  90.00  90.00  90.00 (degrees)\n",
      "new box volume  : 344.48               (nm^3)\n",
      "\n",
      "2021-01-14 19:18:19,946 [MainThread  ] [INFO ]                       :-) GROMACS - gmx editconf, 2019.1 (-:\n",
      "\n",
      "Executable:   /home/gelpi/miniconda3/envs/biobb_remote/bin/gmx\n",
      "Data prefix:  /home/gelpi/miniconda3/envs/biobb_remote\n",
      "Working dir:  /home/gelpi/DEVEL/BioExcel/biobb/biobb_remote/notebook\n",
      "Command line:\n",
      "  gmx -nobackup -nocopyright editconf -f ../test/test_wdir/1AKI_pdb2gmx.gro -o ../test/test_wdir/1AKI_editconf.gro -d 1.0 -bt cubic -c\n",
      "\n",
      "\n",
      "GROMACS reminds you: \"Have a Nice Day\" (R. McDonald)\n",
      "\n",
      "\n",
      "2021-01-14 19:18:19,947 [MainThread  ] [INFO ]  Removed: []\n"
     ]
    },
    {
     "data": {
      "text/plain": [
       "0"
      ]
     },
     "execution_count": 11,
     "metadata": {},
     "output_type": "execute_result"
    }
   ],
   "source": [
    "# Editconf: Create solvent box\n",
    "# Import module\n",
    "from biobb_md.gromacs.editconf import Editconf\n",
    "\n",
    "# Create prop dict and inputs/outputs\n",
    "output_editconf_gro = opj(local_path, pdbCode+'_editconf.gro')\n",
    "\n",
    "prop = {\n",
    "    'box_type': 'cubic',\n",
    "    'distance_to_molecule': 1.0\n",
    "}\n",
    "\n",
    "#Create and launch bb\n",
    "Editconf(input_gro_path=output_pdb2gmx_gro, \n",
    "         output_gro_path=output_editconf_gro,\n",
    "         properties=prop).launch()"
   ]
  },
  {
   "cell_type": "markdown",
   "metadata": {},
   "source": [
    "<a id=\"water\"></a>\n",
    "***\n",
    "## Fill the box with water molecules\n",
    "Fill the unit cell for the **protein structure system** with water molecules.<br>\n",
    "The solvent type used is the default **Simple Point Charge water (SPC)**, a generic equilibrated 3-point solvent model. \n",
    "\n",
    "***\n",
    "**Building Blocks** used:\n",
    " - [Solvate](https://biobb-md.readthedocs.io/en/latest/gromacs.html#module-gromacs.solvate) from **biobb_md.gromacs.solvate** \n",
    "***"
   ]
  },
  {
   "cell_type": "code",
   "execution_count": 12,
   "metadata": {},
   "outputs": [
    {
     "name": "stderr",
     "output_type": "stream",
     "text": [
      "2021-01-14 19:18:42,998 [MainThread  ] [INFO ]  GROMACS Solvate 20191 version detected\n",
      "2021-01-14 19:18:43,002 [MainThread  ] [INFO ]  Extracting: /home/gelpi/DEVEL/BioExcel/biobb/biobb_remote/test/test_wdir/1AKI_pdb2gmx_top.zip\n",
      "2021-01-14 19:18:43,004 [MainThread  ] [INFO ]  to:\n",
      "2021-01-14 19:18:43,006 [MainThread  ] [INFO ]  ['0f69ac92-8145-4c1d-8a39-9c657c7d079a/p2g.top', '0f69ac92-8145-4c1d-8a39-9c657c7d079a/posre.itp']\n",
      "2021-01-14 19:18:43,008 [MainThread  ] [INFO ]  Unzipping: \n",
      "2021-01-14 19:18:43,010 [MainThread  ] [INFO ]  ../test/test_wdir/1AKI_pdb2gmx_top.zip\n",
      "2021-01-14 19:18:43,011 [MainThread  ] [INFO ]  To: \n",
      "2021-01-14 19:18:43,013 [MainThread  ] [INFO ]  0f69ac92-8145-4c1d-8a39-9c657c7d079a/p2g.top\n",
      "2021-01-14 19:18:43,016 [MainThread  ] [INFO ]  0f69ac92-8145-4c1d-8a39-9c657c7d079a/posre.itp\n",
      "2021-01-14 19:18:43,017 [MainThread  ] [INFO ]  Not using any container\n",
      "2021-01-14 19:18:43,422 [MainThread  ] [INFO ]  gmx -nobackup -nocopyright solvate -cp ../test/test_wdir/1AKI_editconf.gro -cs spc216.gro -o ../test/test_wdir/1AKI_solvate.gro -p 0f69ac92-8145-4c1d-8a39-9c657c7d079a/p2g.top\n",
      "\n",
      "2021-01-14 19:18:43,423 [MainThread  ] [INFO ]  Exit code 0\n",
      "\n",
      "2021-01-14 19:18:43,424 [MainThread  ] [INFO ]  \n",
      "WARNING: Masses and atomic (Van der Waals) radii will be guessed\n",
      "         based on residue and atom names, since they could not be\n",
      "         definitively assigned from the information in your input\n",
      "         files. These guessed numbers might deviate from the mass\n",
      "         and radius of the atom type. Please check the output\n",
      "         files if necessary.\n",
      "\n",
      "NOTE: From version 5.0 gmx solvate uses the Van der Waals radii\n",
      "from the source below. This means the results may be different\n",
      "compared to previous GROMACS versions.\n",
      "\n",
      "++++ PLEASE READ AND CITE THE FOLLOWING REFERENCE ++++\n",
      "A. Bondi\n",
      "van der Waals Volumes and Radii\n",
      "J. Phys. Chem. 68 (1964) pp. 441-451\n",
      "-------- -------- --- Thank You --- -------- --------\n",
      "\n",
      "Adding line for 10644 solvent molecules with resname (SOL) to topology file (0f69ac92-8145-4c1d-8a39-9c657c7d079a/p2g.top)\n",
      "\n",
      "2021-01-14 19:18:43,426 [MainThread  ] [INFO ]                       :-) GROMACS - gmx solvate, 2019.1 (-:\n",
      "\n",
      "Executable:   /home/gelpi/miniconda3/envs/biobb_remote/bin/gmx\n",
      "Data prefix:  /home/gelpi/miniconda3/envs/biobb_remote\n",
      "Working dir:  /home/gelpi/DEVEL/BioExcel/biobb/biobb_remote/notebook\n",
      "Command line:\n",
      "  gmx -nobackup -nocopyright solvate -cp ../test/test_wdir/1AKI_editconf.gro -cs spc216.gro -o ../test/test_wdir/1AKI_solvate.gro -p 0f69ac92-8145-4c1d-8a39-9c657c7d079a/p2g.top\n",
      "\n",
      "Reading solute configuration\n",
      "Reading solvent configuration\n",
      "\n",
      "Initialising inter-atomic distances...\n",
      "Generating solvent configuration\n",
      "Will generate new solvent configuration of 4x4x4 boxes\n",
      "Solvent box contains 39252 atoms in 13084 residues\n",
      "Removed 5451 solvent atoms due to solvent-solvent overlap\n",
      "Removed 1869 solvent atoms due to solute-solvent overlap\n",
      "Sorting configuration\n",
      "Found 1 molecule type:\n",
      "    SOL (   3 atoms): 10644 residues\n",
      "Generated solvent containing 31932 atoms in 10644 residues\n",
      "Writing generated configuration to ../test/test_wdir/1AKI_solvate.gro\n",
      "\n",
      "Output configuration contains 33892 atoms in 10773 residues\n",
      "Volume                 :     344.484 (nm^3)\n",
      "Density                :     997.935 (g/l)\n",
      "Number of solvent molecules:  10644   \n",
      "\n",
      "Processing topology\n",
      "\n",
      "GROMACS reminds you: \"Like other defaulters, I like to lay half the blame on ill-fortune and adverse circumstances\" (Mr. Rochester in Jane Eyre by Charlotte Bronte)\n",
      "\n",
      "\n",
      "2021-01-14 19:18:43,426 [MainThread  ] [INFO ]  Compressing topology to: ../test/test_wdir/1AKI_solvate_top.zip\n",
      "2021-01-14 19:18:43,429 [MainThread  ] [INFO ]  Ignored file 0f69ac92-8145-4c1d-8a39-9c657c7d079a/amber99sb-ildn.ff/forcefield.itp\n",
      "2021-01-14 19:18:43,437 [MainThread  ] [INFO ]  Ignored file 0f69ac92-8145-4c1d-8a39-9c657c7d079a/amber99sb-ildn.ff/spce.itp\n",
      "2021-01-14 19:18:43,438 [MainThread  ] [INFO ]  Ignored file 0f69ac92-8145-4c1d-8a39-9c657c7d079a/amber99sb-ildn.ff/ions.itp\n",
      "2021-01-14 19:18:43,440 [MainThread  ] [INFO ]  Adding:\n",
      "2021-01-14 19:18:43,441 [MainThread  ] [INFO ]  ['0f69ac92-8145-4c1d-8a39-9c657c7d079a/p2g.top', '0f69ac92-8145-4c1d-8a39-9c657c7d079a/posre.itp']\n",
      "2021-01-14 19:18:43,442 [MainThread  ] [INFO ]  to: /home/gelpi/DEVEL/BioExcel/biobb/biobb_remote/test/test_wdir/1AKI_solvate_top.zip\n",
      "2021-01-14 19:18:43,443 [MainThread  ] [INFO ]  Removed: ['0f69ac92-8145-4c1d-8a39-9c657c7d079a']\n"
     ]
    },
    {
     "data": {
      "text/plain": [
       "0"
      ]
     },
     "execution_count": 12,
     "metadata": {},
     "output_type": "execute_result"
    }
   ],
   "source": [
    "# Solvate: Fill the box with water molecules\n",
    "from biobb_md.gromacs.solvate import Solvate\n",
    "\n",
    "# Create prop dict and inputs/outputs\n",
    "output_solvate_gro = opj(local_path, pdbCode+'_solvate.gro')\n",
    "output_solvate_top_zip = opj(local_path, pdbCode+'_solvate_top.zip')\n",
    "\n",
    "# Create and launch bb\n",
    "Solvate(input_solute_gro_path=output_editconf_gro, \n",
    "        output_gro_path=output_solvate_gro, \n",
    "        input_top_zip_path=output_pdb2gmx_top_zip, \n",
    "        output_top_zip_path=output_solvate_top_zip).launch()"
   ]
  },
  {
   "cell_type": "markdown",
   "metadata": {},
   "source": [
    "### Visualizing 3D structure\n",
    "Visualizing the **protein system** with the newly added **solvent box** using **NGL**.<br> Note the **cubic box** filled with **water molecules** surrounding the **protein structure**, which is **centered** right in the middle of the cube."
   ]
  },
  {
   "cell_type": "code",
   "execution_count": null,
   "metadata": {},
   "outputs": [],
   "source": [
    "# Show protein\n",
    "view = nglview.show_structure_file(output_solvate_gro)\n",
    "view.clear_representations()\n",
    "view.add_representation(repr_type='cartoon', selection='solute', color='green')\n",
    "view.add_representation(repr_type='ball+stick', selection='SOL')\n",
    "view._remote_call('setSize', target='Widget', args=['','600px'])\n",
    "view.camera='orthographic'\n",
    "view"
   ]
  },
  {
   "cell_type": "markdown",
   "metadata": {},
   "source": [
    "<a id=\"ions\"></a>\n",
    "***\n",
    "## Adding ions\n",
    "Add ions to neutralize the **protein structure** charge\n",
    "- [Step 1](#ionsStep1): Creating portable binary run file for ion generation\n",
    "- [Step 2](#ionsStep2): Adding ions to **neutralize** the system\n",
    "***\n",
    "**Building Blocks** used:\n",
    " - [Grompp](https://biobb-md.readthedocs.io/en/latest/gromacs.html#module-gromacs.grompp) from **biobb_md.gromacs.grompp** \n",
    " - [Genion](https://biobb-md.readthedocs.io/en/latest/gromacs.html#module-gromacs.genion) from **biobb_md.gromacs.genion** \n",
    "***"
   ]
  },
  {
   "cell_type": "markdown",
   "metadata": {},
   "source": [
    "<a id=\"ionsStep1\"></a>\n",
    "### Step 1: Creating portable binary run file for ion generation\n",
    "A simple **energy minimization** molecular dynamics parameters (mdp) properties will be used to generate the portable binary run file for **ion generation**, although **any legitimate combination of parameters** could be used in this step."
   ]
  },
  {
   "cell_type": "code",
   "execution_count": 13,
   "metadata": {},
   "outputs": [
    {
     "name": "stderr",
     "output_type": "stream",
     "text": [
      "2021-01-14 19:19:31,108 [MainThread  ] [INFO ]  GROMACS Grompp 20191 version detected\n",
      "2021-01-14 19:19:31,111 [MainThread  ] [INFO ]  Extracting: /home/gelpi/DEVEL/BioExcel/biobb/biobb_remote/test/test_wdir/1AKI_solvate_top.zip\n",
      "2021-01-14 19:19:31,111 [MainThread  ] [INFO ]  to:\n",
      "2021-01-14 19:19:31,112 [MainThread  ] [INFO ]  ['389aba4b-4f93-45c1-af60-7e1471e10cd3/p2g.top', '389aba4b-4f93-45c1-af60-7e1471e10cd3/posre.itp']\n",
      "2021-01-14 19:19:31,114 [MainThread  ] [INFO ]  Unzipping: \n",
      "2021-01-14 19:19:31,116 [MainThread  ] [INFO ]  ../test/test_wdir/1AKI_solvate_top.zip\n",
      "2021-01-14 19:19:31,116 [MainThread  ] [INFO ]  To: \n",
      "2021-01-14 19:19:31,116 [MainThread  ] [INFO ]  389aba4b-4f93-45c1-af60-7e1471e10cd3/p2g.top\n",
      "2021-01-14 19:19:31,117 [MainThread  ] [INFO ]  389aba4b-4f93-45c1-af60-7e1471e10cd3/posre.itp\n",
      "2021-01-14 19:19:31,118 [MainThread  ] [INFO ]  Not using any container\n",
      "2021-01-14 19:19:31,405 [MainThread  ] [INFO ]  gmx -nobackup -nocopyright grompp -f 88a4a35a-6012-4b62-b588-8235a2b196b7/grompp.mdp -c ../test/test_wdir/1AKI_solvate.gro -r ../test/test_wdir/1AKI_solvate.gro -p 389aba4b-4f93-45c1-af60-7e1471e10cd3/p2g.top -o ../test/test_wdir/1AKI_gppion.tpr -po mdout.mdp -maxwarn 10\n",
      "\n",
      "2021-01-14 19:19:31,407 [MainThread  ] [INFO ]  Exit code 0\n",
      "\n",
      "2021-01-14 19:19:31,407 [MainThread  ] [INFO ]  \n",
      "++++ PLEASE READ AND CITE THE FOLLOWING REFERENCE ++++\n",
      "J. S. Hub, B. L. de Groot, H. Grubmueller, G. Groenhof\n",
      "Quantifying Artifacts in Ewald Simulations of Inhomogeneous Systems with a Net\n",
      "Charge\n",
      "J. Chem. Theory Comput. 10 (2014) pp. 381-393\n",
      "-------- -------- --- Thank You --- -------- --------\n",
      "\n",
      "Analysing residue names:\n",
      "There are:   129    Protein residues\n",
      "There are: 10644      Water residues\n",
      "Analysing Protein...\n",
      "Calculating fourier grid dimensions for X Y Z\n",
      "Using a fourier grid of 60x60x60, spacing 0.117 0.117 0.117\n",
      "This run will generate roughly 3 Mb of data\n",
      "\n",
      "2021-01-14 19:19:31,408 [MainThread  ] [INFO ]                        :-) GROMACS - gmx grompp, 2019.1 (-:\n",
      "\n",
      "Executable:   /home/gelpi/miniconda3/envs/biobb_remote/bin/gmx\n",
      "Data prefix:  /home/gelpi/miniconda3/envs/biobb_remote\n",
      "Working dir:  /home/gelpi/DEVEL/BioExcel/biobb/biobb_remote/notebook\n",
      "Command line:\n",
      "  gmx -nobackup -nocopyright grompp -f 88a4a35a-6012-4b62-b588-8235a2b196b7/grompp.mdp -c ../test/test_wdir/1AKI_solvate.gro -r ../test/test_wdir/1AKI_solvate.gro -p 389aba4b-4f93-45c1-af60-7e1471e10cd3/p2g.top -o ../test/test_wdir/1AKI_gppion.tpr -po mdout.mdp -maxwarn 10\n",
      "\n",
      "Setting the LD random seed to -1267066219\n",
      "Generated 2145 of the 2145 non-bonded parameter combinations\n",
      "Generating 1-4 interactions: fudge = 0.5\n",
      "Generated 2145 of the 2145 1-4 parameter combinations\n",
      "Excluding 3 bonded neighbours molecule type 'Protein_chain_A'\n",
      "Excluding 2 bonded neighbours molecule type 'SOL'\n",
      "\n",
      "NOTE 1 [file p2g.top, line 18676]:\n",
      "  System has non-zero total charge: 8.000000\n",
      "  Total charge should normally be an integer. See\n",
      "  http://www.gromacs.org/Documentation/Floating_Point_Arithmetic\n",
      "  for discussion on how close it should be to an integer.\n",
      "  \n",
      "\n",
      "\n",
      "\n",
      "WARNING 1 [file p2g.top, line 18676]:\n",
      "  You are using Ewald electrostatics in a system with net charge. This can\n",
      "  lead to severe artifacts, such as ions moving into regions with low\n",
      "  dielectric, due to the uniform background charge. We suggest to\n",
      "  neutralize your system with counter ions, possibly in combination with a\n",
      "  physiological salt concentration.\n",
      "\n",
      "Removing all charge groups because cutoff-scheme=Verlet\n",
      "Number of degrees of freedom in T-Coupling group rest is 69741.00\n",
      "Estimate for the relative computational load of the PME mesh part: 0.17\n",
      "\n",
      "There was 1 note\n",
      "\n",
      "There was 1 warning\n",
      "\n",
      "GROMACS reminds you: \"There's no kill like overkill, right?\" (Erik Lindahl)\n",
      "\n",
      "\n",
      "2021-01-14 19:19:31,409 [MainThread  ] [INFO ]  Removed: ['mdout.mdp', '389aba4b-4f93-45c1-af60-7e1471e10cd3', '88a4a35a-6012-4b62-b588-8235a2b196b7']\n"
     ]
    },
    {
     "data": {
      "text/plain": [
       "0"
      ]
     },
     "execution_count": 13,
     "metadata": {},
     "output_type": "execute_result"
    }
   ],
   "source": [
    "# Grompp: Creating portable binary run file for ion generation\n",
    "from biobb_md.gromacs.grompp import Grompp\n",
    "\n",
    "# Create prop dict and inputs/outputs\n",
    "output_gppion_tpr = opj(local_path, pdbCode+'_gppion.tpr')\n",
    "prop = {\n",
    "    'simulation_type':'minimization'\n",
    "}\n",
    "\n",
    "# Create and launch bb\n",
    "Grompp(input_gro_path=output_solvate_gro, \n",
    "       input_top_zip_path=output_solvate_top_zip, \n",
    "       output_tpr_path=output_gppion_tpr,  \n",
    "       properties=prop).launch()"
   ]
  },
  {
   "cell_type": "markdown",
   "metadata": {},
   "source": [
    "<a id=\"ionsStep2\"></a>\n",
    "### Step 2: Adding ions to neutralize the system\n",
    "Replace **solvent molecules** with **ions** to **neutralize** the system."
   ]
  },
  {
   "cell_type": "code",
   "execution_count": 14,
   "metadata": {},
   "outputs": [
    {
     "name": "stderr",
     "output_type": "stream",
     "text": [
      "2021-01-14 19:19:58,314 [MainThread  ] [INFO ]  GROMACS Genion 20191 version detected\n",
      "2021-01-14 19:19:58,317 [MainThread  ] [INFO ]  Extracting: /home/gelpi/DEVEL/BioExcel/biobb/biobb_remote/test/test_wdir/1AKI_solvate_top.zip\n",
      "2021-01-14 19:19:58,318 [MainThread  ] [INFO ]  to:\n",
      "2021-01-14 19:19:58,320 [MainThread  ] [INFO ]  ['fda8419a-b515-433f-ab08-ea428663630a/p2g.top', 'fda8419a-b515-433f-ab08-ea428663630a/posre.itp']\n",
      "2021-01-14 19:19:58,320 [MainThread  ] [INFO ]  Unzipping: \n",
      "2021-01-14 19:19:58,323 [MainThread  ] [INFO ]  ../test/test_wdir/1AKI_solvate_top.zip\n",
      "2021-01-14 19:19:58,326 [MainThread  ] [INFO ]  To: \n",
      "2021-01-14 19:19:58,327 [MainThread  ] [INFO ]  fda8419a-b515-433f-ab08-ea428663630a/p2g.top\n",
      "2021-01-14 19:19:58,328 [MainThread  ] [INFO ]  fda8419a-b515-433f-ab08-ea428663630a/posre.itp\n",
      "2021-01-14 19:19:58,329 [MainThread  ] [INFO ]  To reach up 0.05 mol/litre concentration\n",
      "2021-01-14 19:19:58,331 [MainThread  ] [INFO ]  Not using any container\n",
      "2021-01-14 19:19:58,435 [MainThread  ] [INFO ]  echo \"SOL\" | gmx -nobackup -nocopyright genion -s ../test/test_wdir/1AKI_gppion.tpr -o ../test/test_wdir/1AKI_genion.gro -p fda8419a-b515-433f-ab08-ea428663630a/p2g.top -neutral -conc 0.05 -seed 1993\n",
      "\n",
      "2021-01-14 19:19:58,436 [MainThread  ] [INFO ]  Exit code 0\n",
      "\n",
      "2021-01-14 19:19:58,438 [MainThread  ] [INFO ]  Will try to add 10 NA ions and 18 CL ions.\n",
      "Select a continuous group of solvent molecules\n",
      "Selected 13: 'SOL'\n",
      "\n",
      "Processing topology\n",
      "Replacing 28 solute molecules in topology file (fda8419a-b515-433f-ab08-ea428663630a/p2g.top)  by 10 NA and 18 CL ions.\n",
      "\n",
      "2021-01-14 19:19:58,438 [MainThread  ] [INFO ]                        :-) GROMACS - gmx genion, 2019.1 (-:\n",
      "\n",
      "Executable:   /home/gelpi/miniconda3/envs/biobb_remote/bin/gmx\n",
      "Data prefix:  /home/gelpi/miniconda3/envs/biobb_remote\n",
      "Working dir:  /home/gelpi/DEVEL/BioExcel/biobb/biobb_remote/notebook\n",
      "Command line:\n",
      "  gmx -nobackup -nocopyright genion -s ../test/test_wdir/1AKI_gppion.tpr -o ../test/test_wdir/1AKI_genion.gro -p fda8419a-b515-433f-ab08-ea428663630a/p2g.top -neutral -conc 0.05 -seed 1993\n",
      "\n",
      "Reading file ../test/test_wdir/1AKI_gppion.tpr, VERSION 2019.1 (single precision)\n",
      "Reading file ../test/test_wdir/1AKI_gppion.tpr, VERSION 2019.1 (single precision)\n",
      "Group     0 (         System) has 33892 elements\n",
      "Group     1 (        Protein) has  1960 elements\n",
      "Group     2 (      Protein-H) has  1001 elements\n",
      "Group     3 (        C-alpha) has   129 elements\n",
      "Group     4 (       Backbone) has   387 elements\n",
      "Group     5 (      MainChain) has   517 elements\n",
      "Group     6 (   MainChain+Cb) has   634 elements\n",
      "Group     7 (    MainChain+H) has   646 elements\n",
      "Group     8 (      SideChain) has  1314 elements\n",
      "Group     9 (    SideChain-H) has   484 elements\n",
      "Group    10 (    Prot-Masses) has  1960 elements\n",
      "Group    11 (    non-Protein) has 31932 elements\n",
      "Group    12 (          Water) has 31932 elements\n",
      "Group    13 (            SOL) has 31932 elements\n",
      "Group    14 (      non-Water) has  1960 elements\n",
      "Select a group: Number of (3-atomic) solvent molecules: 10644\n",
      "Using random seed 1993.\n",
      "Replacing solvent molecule 6684 (atom 22012) with NA\n",
      "Replacing solvent molecule 3713 (atom 13099) with NA\n",
      "Replacing solvent molecule 6865 (atom 22555) with NA\n",
      "Replacing solvent molecule 6607 (atom 21781) with NA\n",
      "Replacing solvent molecule 2054 (atom 8122) with NA\n",
      "Replacing solvent molecule 3610 (atom 12790) with NA\n",
      "Replacing solvent molecule 2213 (atom 8599) with NA\n",
      "Replacing solvent molecule 2304 (atom 8872) with NA\n",
      "Replacing solvent molecule 1640 (atom 6880) with NA\n",
      "Replacing solvent molecule 2994 (atom 10942) with NA\n",
      "Replacing solvent molecule 905 (atom 4675) with CL\n",
      "Replacing solvent molecule 9779 (atom 31297) with CL\n",
      "Replacing solvent molecule 9064 (atom 29152) with CL\n",
      "Replacing solvent molecule 4558 (atom 15634) with CL\n",
      "Replacing solvent molecule 1900 (atom 7660) with CL\n",
      "Replacing solvent molecule 7505 (atom 24475) with CL\n",
      "Replacing solvent molecule 9184 (atom 29512) with CL\n",
      "Replacing solvent molecule 5771 (atom 19273) with CL\n",
      "Replacing solvent molecule 2902 (atom 10666) with CL\n",
      "Replacing solvent molecule 2024 (atom 8032) with CL\n",
      "Replacing solvent molecule 8521 (atom 27523) with CL\n",
      "Replacing solvent molecule 909 (atom 4687) with CL\n",
      "Replacing solvent molecule 10104 (atom 32272) with CL\n",
      "Replacing solvent molecule 3869 (atom 13567) with CL\n",
      "Replacing solvent molecule 965 (atom 4855) with CL\n",
      "Replacing solvent molecule 5862 (atom 19546) with CL\n",
      "Replacing solvent molecule 8200 (atom 26560) with CL\n",
      "Replacing solvent molecule 3200 (atom 11560) with CL\n",
      "\n",
      "\n",
      "GROMACS reminds you: \"In the processing of models we must be especially cautious of the human weakness to think that models can be verified or validated. Especially one's own.\" (Roald Hoffmann)\n",
      "\n",
      "\n",
      "2021-01-14 19:19:58,440 [MainThread  ] [INFO ]  Compressing topology to: ../test/test_wdir/1AKI_genion_top.zip\n",
      "2021-01-14 19:19:58,443 [MainThread  ] [INFO ]  Ignored file fda8419a-b515-433f-ab08-ea428663630a/amber99sb-ildn.ff/forcefield.itp\n",
      "2021-01-14 19:19:58,452 [MainThread  ] [INFO ]  Ignored file fda8419a-b515-433f-ab08-ea428663630a/amber99sb-ildn.ff/spce.itp\n",
      "2021-01-14 19:19:58,452 [MainThread  ] [INFO ]  Ignored file fda8419a-b515-433f-ab08-ea428663630a/amber99sb-ildn.ff/ions.itp\n",
      "2021-01-14 19:19:58,456 [MainThread  ] [INFO ]  Adding:\n",
      "2021-01-14 19:19:58,459 [MainThread  ] [INFO ]  ['fda8419a-b515-433f-ab08-ea428663630a/p2g.top', 'fda8419a-b515-433f-ab08-ea428663630a/posre.itp']\n",
      "2021-01-14 19:19:58,461 [MainThread  ] [INFO ]  to: /home/gelpi/DEVEL/BioExcel/biobb/biobb_remote/test/test_wdir/1AKI_genion_top.zip\n",
      "2021-01-14 19:19:58,462 [MainThread  ] [INFO ]  Removed: ['fda8419a-b515-433f-ab08-ea428663630a']\n"
     ]
    },
    {
     "data": {
      "text/plain": [
       "0"
      ]
     },
     "execution_count": 14,
     "metadata": {},
     "output_type": "execute_result"
    }
   ],
   "source": [
    "# Genion: Adding ions to neutralize the system\n",
    "from biobb_md.gromacs.genion import Genion\n",
    "\n",
    "# Create prop dict and inputs/outputs\n",
    "output_genion_gro = opj(local_path, pdbCode+'_genion.gro')\n",
    "output_genion_top_zip = opj(local_path, pdbCode+'_genion_top.zip')\n",
    "prop={\n",
    "    'neutral':True\n",
    "}\n",
    "\n",
    "# Create and launch bb\n",
    "Genion(input_tpr_path=output_gppion_tpr, \n",
    "       output_gro_path=output_genion_gro, \n",
    "       input_top_zip_path=output_solvate_top_zip, \n",
    "       output_top_zip_path=output_genion_top_zip, \n",
    "       properties=prop).launch()"
   ]
  },
  {
   "cell_type": "markdown",
   "metadata": {},
   "source": [
    "### Visualizing 3D structure\n",
    "Visualizing the **neutralized protein system** with the newly added **ions** using **NGL**"
   ]
  },
  {
   "cell_type": "code",
   "execution_count": null,
   "metadata": {},
   "outputs": [],
   "source": [
    "# Show protein\n",
    "view = nglview.show_structure_file(output_genion_gro)\n",
    "view.clear_representations()\n",
    "view.add_representation(repr_type='cartoon', selection='solute', color='sstruc')\n",
    "view.add_representation(repr_type='ball+stick', selection='NA')\n",
    "view.add_representation(repr_type='ball+stick', selection='CL')\n",
    "view._remote_call('setSize', target='Widget', args=['','600px'])\n",
    "view.camera='orthographic'\n",
    "view"
   ]
  },
  {
   "cell_type": "markdown",
   "metadata": {},
   "source": [
    "<a id=\"min\"></a>\n",
    "***\n",
    "## Energetically minimize the system\n",
    "Energetically minimize the **protein system** till reaching a desired potential energy.\n",
    "- [Step 1](#emStep1): Creating portable binary run file for energy minimization\n",
    "- [Step 2](#emStep2): Energetically minimize the **system** till reaching a force of 500 kJ mol-1 nm-1.\n",
    "- [Step 3](#emStep3): Checking **energy minimization** results. Plotting energy by time during the **minimization** process.\n",
    "***\n",
    "**Building Blocks** used:\n",
    " - [Grompp](https://biobb-md.readthedocs.io/en/latest/gromacs.html#module-gromacs.grompp) from **biobb_md.gromacs.grompp** \n",
    " - [Mdrun](https://biobb-md.readthedocs.io/en/latest/gromacs.html#module-gromacs.mdrun) from **biobb_md.gromacs.mdrun** \n",
    " - [GMXEnergy](https://biobb-analysis.readthedocs.io/en/latest/gromacs.html#module-gromacs.gmx_energy) from **biobb_analysis.gromacs.gmx_energy** \n",
    "***"
   ]
  },
  {
   "cell_type": "markdown",
   "metadata": {},
   "source": [
    "<a id=\"emStep1\"></a>\n",
    "### Step 1: Creating portable binary run file for energy minimization\n",
    "The **minimization** type of the **molecular dynamics parameters (mdp) property** contains the main default parameters to run an **energy minimization**:\n",
    "\n",
    "-  integrator  = steep ; Algorithm (steep = steepest descent minimization)\n",
    "-  emtol       = 1000.0 ; Stop minimization when the maximum force < 1000.0 kJ/mol/nm\n",
    "-  emstep      = 0.01 ; Minimization step size (nm)\n",
    "-  nsteps      = 50000 ; Maximum number of (minimization) steps to perform\n",
    "\n",
    "In this particular example, the method used to run the **energy minimization** is the default **steepest descent**, but the **maximum force** is placed at **500 KJ/mol\\*nm^2**, and the **maximum number of steps** to perform (if the maximum force is not reached) to **5,000 steps**. "
   ]
  },
  {
   "cell_type": "code",
   "execution_count": 15,
   "metadata": {},
   "outputs": [
    {
     "name": "stderr",
     "output_type": "stream",
     "text": [
      "2021-01-14 19:20:28,408 [MainThread  ] [INFO ]  GROMACS Grompp 20191 version detected\n",
      "2021-01-14 19:20:28,412 [MainThread  ] [INFO ]  Extracting: /home/gelpi/DEVEL/BioExcel/biobb/biobb_remote/test/test_wdir/1AKI_genion_top.zip\n",
      "2021-01-14 19:20:28,412 [MainThread  ] [INFO ]  to:\n",
      "2021-01-14 19:20:28,413 [MainThread  ] [INFO ]  ['9d8a0dc2-b9b2-48ce-9ddf-1557f1f6ec39/p2g.top', '9d8a0dc2-b9b2-48ce-9ddf-1557f1f6ec39/posre.itp']\n",
      "2021-01-14 19:20:28,414 [MainThread  ] [INFO ]  Unzipping: \n",
      "2021-01-14 19:20:28,414 [MainThread  ] [INFO ]  ../test/test_wdir/1AKI_genion_top.zip\n",
      "2021-01-14 19:20:28,415 [MainThread  ] [INFO ]  To: \n",
      "2021-01-14 19:20:28,415 [MainThread  ] [INFO ]  9d8a0dc2-b9b2-48ce-9ddf-1557f1f6ec39/p2g.top\n",
      "2021-01-14 19:20:28,416 [MainThread  ] [INFO ]  9d8a0dc2-b9b2-48ce-9ddf-1557f1f6ec39/posre.itp\n",
      "2021-01-14 19:20:28,417 [MainThread  ] [INFO ]  Not using any container\n",
      "2021-01-14 19:20:28,708 [MainThread  ] [INFO ]  gmx -nobackup -nocopyright grompp -f 964de7bb-f554-4370-8992-5e57dccdbf3c/grompp.mdp -c ../test/test_wdir/1AKI_genion.gro -r ../test/test_wdir/1AKI_genion.gro -p 9d8a0dc2-b9b2-48ce-9ddf-1557f1f6ec39/p2g.top -o ../test/test_wdir/1AKI_gppmin.tpr -po mdout.mdp -maxwarn 10\n",
      "\n",
      "2021-01-14 19:20:28,709 [MainThread  ] [INFO ]  Exit code 0\n",
      "\n",
      "2021-01-14 19:20:28,710 [MainThread  ] [INFO ]  Analysing residue names:\n",
      "There are:   129    Protein residues\n",
      "There are: 10616      Water residues\n",
      "There are:    28        Ion residues\n",
      "Analysing Protein...\n",
      "Analysing residues not classified as Protein/DNA/RNA/Water and splitting into groups...\n",
      "Calculating fourier grid dimensions for X Y Z\n",
      "Using a fourier grid of 60x60x60, spacing 0.117 0.117 0.117\n",
      "This run will generate roughly 3 Mb of data\n",
      "\n",
      "2021-01-14 19:20:28,711 [MainThread  ] [INFO ]                        :-) GROMACS - gmx grompp, 2019.1 (-:\n",
      "\n",
      "Executable:   /home/gelpi/miniconda3/envs/biobb_remote/bin/gmx\n",
      "Data prefix:  /home/gelpi/miniconda3/envs/biobb_remote\n",
      "Working dir:  /home/gelpi/DEVEL/BioExcel/biobb/biobb_remote/notebook\n",
      "Command line:\n",
      "  gmx -nobackup -nocopyright grompp -f 964de7bb-f554-4370-8992-5e57dccdbf3c/grompp.mdp -c ../test/test_wdir/1AKI_genion.gro -r ../test/test_wdir/1AKI_genion.gro -p 9d8a0dc2-b9b2-48ce-9ddf-1557f1f6ec39/p2g.top -o ../test/test_wdir/1AKI_gppmin.tpr -po mdout.mdp -maxwarn 10\n",
      "\n",
      "Setting the LD random seed to -532925428\n",
      "Generated 2145 of the 2145 non-bonded parameter combinations\n",
      "Generating 1-4 interactions: fudge = 0.5\n",
      "Generated 2145 of the 2145 1-4 parameter combinations\n",
      "Excluding 3 bonded neighbours molecule type 'Protein_chain_A'\n",
      "Excluding 2 bonded neighbours molecule type 'SOL'\n",
      "Excluding 1 bonded neighbours molecule type 'NA'\n",
      "Excluding 1 bonded neighbours molecule type 'CL'\n",
      "Removing all charge groups because cutoff-scheme=Verlet\n",
      "Number of degrees of freedom in T-Coupling group rest is 69657.00\n",
      "Estimate for the relative computational load of the PME mesh part: 0.17\n",
      "\n",
      "GROMACS reminds you: \"I Ripped the Cord Right Out Of the Phone\" (Capt. Beefheart)\n",
      "\n",
      "\n",
      "2021-01-14 19:20:28,712 [MainThread  ] [INFO ]  Removed: ['mdout.mdp', '9d8a0dc2-b9b2-48ce-9ddf-1557f1f6ec39', '964de7bb-f554-4370-8992-5e57dccdbf3c']\n"
     ]
    },
    {
     "data": {
      "text/plain": [
       "0"
      ]
     },
     "execution_count": 15,
     "metadata": {},
     "output_type": "execute_result"
    }
   ],
   "source": [
    "# Grompp: Creating portable binary run file for mdrun\n",
    "from biobb_md.gromacs.grompp import Grompp\n",
    "\n",
    "# Create prop dict and inputs/outputs\n",
    "output_gppmin_tpr = opj(local_path, pdbCode+'_gppmin.tpr')\n",
    "prop = {\n",
    "    'simulation_type':'minimization',\n",
    "    'mdp':{\n",
    "        'emtol':'500',\n",
    "        'nsteps':'5000'\n",
    "    }\n",
    "}\n",
    "\n",
    "# Create and launch bb\n",
    "Grompp(input_gro_path=output_genion_gro, \n",
    "       input_top_zip_path=output_genion_top_zip, \n",
    "       output_tpr_path=output_gppmin_tpr,  \n",
    "       properties=prop).launch()"
   ]
  },
  {
   "cell_type": "markdown",
   "metadata": {},
   "source": [
    "<a id=\"emStep2\"></a>\n",
    "### Step 2: Running Energy Minimization (remote)\n",
    "Running **energy minimization** using the **tpr file** generated in the previous step. "
   ]
  },
  {
   "cell_type": "markdown",
   "metadata": {},
   "source": [
    "Setting local data and uploading files to remote. "
   ]
  },
  {
   "cell_type": "code",
   "execution_count": 27,
   "metadata": {
    "scrolled": true
   },
   "outputs": [
    {
     "name": "stdout",
     "output_type": "stream",
     "text": [
      "sending_file: ../test/test_wdir/1AKI_gppmin.tpr -> scratch/test_biobb/biobb_81dff893-f0f9-49dd-b795-508c073a19e8/1AKI_gppmin.tpr\n"
     ]
    }
   ],
   "source": [
    "slurm.set_local_data_bundle(local_path, add_files=False)\n",
    "slurm.task_data['local_data_bundle'].add_file(output_gppmin_tpr)\n",
    "slurm.send_input_data(remote_path, overwrite=False)"
   ]
  },
  {
   "cell_type": "code",
   "execution_count": 28,
   "metadata": {},
   "outputs": [],
   "source": [
    "slurm.load_host_config(host_config_path)\n",
    "slurm.save(task_data_path)"
   ]
  },
  {
   "cell_type": "code",
   "execution_count": 32,
   "metadata": {},
   "outputs": [
    {
     "name": "stdout",
     "output_type": "stream",
     "text": [
      "Submitted job 13718865\n"
     ]
    }
   ],
   "source": [
    "# Mdrun: Running minimization\n",
    "python_import = 'from biobb_md.gromacs.mdrun import Mdrun'\n",
    "\n",
    "# Create prop dict and inputs/outputs\n",
    "output_min_trr = pdbCode + '_min.trr'\n",
    "output_min_gro = pdbCode + '_min.gro'\n",
    "output_min_edr = pdbCode + '_min.edr'\n",
    "output_min_log = pdbCode + '_min.log'\n",
    "\n",
    "files = {\n",
    "    'input_tpr_path' : pdbCode + '_gppmin.tpr', \n",
    "    'output_trr_path' : output_min_trr, \n",
    "    'output_gro_path' : output_min_gro, \n",
    "    'output_edr_path' : output_min_edr, \n",
    "    'output_log_path' : output_min_log\n",
    "}\n",
    "\n",
    "# properties\n",
    "# Python dict\n",
    "prop = {\n",
    "    'gmx_path': 'gmx_mpi'\n",
    "}\n",
    "# YAML file\n",
    "# prop = 'properties_path.yaml'\n",
    "# Json string\n",
    "# prop = '{\"gmx_path\": \"gmx_mpi\"}'\n",
    "# Galaxy escaped Json string\n",
    "# prop = '__oc____dq__gmx_path__dq__:__dq__gmx_mpi__dq____cc__'\n",
    "\n",
    "# patching queue settings\n",
    "# get_remote_py_script generates one-line python script appropriate \n",
    "# for a single biobb execution on a slurm job\n",
    "# Alternatively, a file containing a more complex script can be loaded from disk\n",
    "slurm.submit(\n",
    "    job_name= pdbCode + '_min',\n",
    "    queue_settings='default',\n",
    "    set_debug=True,\n",
    "    modules=modules,\n",
    "    conda_env=conda_env,\n",
    "    local_run_script=slurm.get_remote_py_script(\n",
    "        python_import, \n",
    "        files, \n",
    "        'Mdrun', \n",
    "        properties=prop\n",
    "    )\n",
    ")\n"
   ]
  },
  {
   "cell_type": "markdown",
   "metadata": {},
   "source": [
    "Waiting for job completion and saving status. Poll time is in seconds."
   ]
  },
  {
   "cell_type": "code",
   "execution_count": 33,
   "metadata": {},
   "outputs": [
    {
     "name": "stdout",
     "output_type": "stream",
     "text": [
      "0 Job 13718865 is Submitted\n",
      "5 Job 13718865 is Submitted\n",
      "10 Job 13718865 is Submitted\n",
      "15 Job 13718865 is Submitted\n",
      "20 Job 13718865 is Submitted\n",
      "25 Job 13718865 is Submitted\n",
      "30 Job 13718865 is Submitted\n",
      "35 Job 13718865 is Submitted\n",
      "40 Job 13718865 is Submitted\n",
      "45 Job 13718865 is Submitted\n",
      "50 Job 13718865 is Submitted\n",
      "55 Job 13718865 is Submitted\n",
      "60 Job 13718865 is Submitted\n",
      "65 Job 13718865 is Submitted\n",
      "70 Job 13718865 is Submitted\n",
      "75 Job 13718865 is Running\n",
      "80 Job 13718865 is Running\n",
      "85 Job 13718865 is Running\n",
      "90 Job 13718865 is Running\n",
      "95 Job 13718865 is Closing\n",
      " Job 13718865 is Finished\n"
     ]
    }
   ],
   "source": [
    "slurm.check_job(poll_time=5)\n",
    "slurm.save(task_data_path)"
   ]
  },
  {
   "cell_type": "markdown",
   "metadata": {},
   "source": [
    "Getting logs"
   ]
  },
  {
   "cell_type": "code",
   "execution_count": 34,
   "metadata": {},
   "outputs": [
    {
     "name": "stdout",
     "output_type": "stream",
     "text": [
      " Job 13718865 is Finished\n",
      "\n",
      "load ANACONDA/2019.10 (PATH, MANPATH, LD_LIBRARY_PATH, LIBRARY_PATH,\n",
      "PKG_CONFIG_PATH, C_INCLUDE_PATH) \n",
      "load java/8u131 (PATH, MANPATH, JAVA_HOME, JAVA_ROOT, JAVA_BINDIR, SDK_HOME,\n",
      "JDK_HOME, JRE_HOME) \n",
      "load papi/5.5.1 (PATH, LD_LIBRARY_PATH, C_INCLUDE_PATH) \n",
      "NOT Loading any Python for COMPSs - the user must load its own. \n",
      "PLEASE, add the LDFLAGS and CPPFLAGS accordingly. \n",
      "load COMPSs/2.6 (PATH, CLASSPATH, MANPATH, GAT_LOCATION, COMPSS_HOME,\n",
      "JAVA_TOOL_OPTIONS, LDFLAGS, CPPFLAGS) \n",
      "load SINGULARITY/3.5.2 (PATH) \n",
      "Set INTEL compilers as MPI wrappers backend \n",
      "remove impi/2017.4 (PATH, MANPATH, LD_LIBRARY_PATH) \n",
      "load impi/2018.4 (PATH, MANPATH, LD_LIBRARY_PATH) \n",
      "remove mkl/2017.4 (LD_LIBRARY_PATH) \n",
      "load mkl/2018.4 (LD_LIBRARY_PATH) \n",
      "load gromacs/2019.1 (PATH, LD_LIBRARY_PATH, C_INCLUDE_PATH, MANPATH) \n",
      "load biobb/3.0 (PATH, LD_LIBRARY_PATH, C_INCLUDE_PATH, MANPATH) \n",
      "\n",
      "The following have been reloaded with a version change:\n",
      "  1) impi/2017.4 => impi/2018.4       3) mkl/2017.4 => mkl/2018.4\n",
      "  2) intel/2017.4 => intel/2018.4\n",
      "\n",
      "remove impi/2018.4 (PATH, MANPATH, LD_LIBRARY_PATH) \n",
      "load impi/2018.4 (PATH, MANPATH, LD_LIBRARY_PATH) \n",
      "Set INTEL compilers as MPI wrappers backend \n",
      "remove mkl/2018.4 (LD_LIBRARY_PATH) \n",
      "load mkl/2018.4 (LD_LIBRARY_PATH) \n",
      "load fftw/3.3.8 (FFTW_CFLAGS, FFTW_FFLAGS, FFTW_LDFLAGS, FFTW_INCL, FFTW_LIBS,\n",
      "LIBRARY_PATH, LD_LIBRARY_PATH, C_INCLUDE_PATH) \n",
      "remove gromacs/2019.1 (PATH, LD_LIBRARY_PATH, C_INCLUDE_PATH, MANPATH) \n",
      "load gromacs/2019.1 (PATH, LD_LIBRARY_PATH, C_INCLUDE_PATH, MANPATH) \n",
      "2021-01-14 19:30:02,936 [MainThread  ] [INFO ]  GROMACS Mdrun 20191 version detected\n",
      "2021-01-14 19:30:02,936 [MainThread  ] [INFO ]  Not using any container\n",
      "2021-01-14 19:30:14,263 [MainThread  ] [INFO ]  gmx_mpi -nobackup -nocopyright mdrun -s 1AKI_gppmin.tpr -o 1AKI_min.trr -c 1AKI_min.gro -e 1AKI_min.edr -g 1AKI_min.log -nt 0\n",
      "\n",
      "2021-01-14 19:30:14,263 [MainThread  ] [INFO ]  Exit code 0\n",
      "\n",
      "2021-01-14 19:30:14,263 [MainThread  ] [INFO ]                        :-) GROMACS - gmx mdrun, 2019.1 (-:\n",
      "\n",
      "Executable:   /apps/GROMACS/2019.1/INTEL/IMPI/bin/gmx_mpi\n",
      "Data prefix:  /apps/GROMACS/2019.1/INTEL/IMPI\n",
      "Working dir:  /gpfs/scratch/bsc23/bsc23860/test_biobb/biobb_81dff893-f0f9-49dd-b795-508c073a19e8\n",
      "Command line:\n",
      "  gmx_mpi -nobackup -nocopyright mdrun -s 1AKI_gppmin.tpr -o 1AKI_min.trr -c 1AKI_min.gro -e 1AKI_min.edr -g 1AKI_min.log -nt 0\n",
      "\n",
      "Reading file 1AKI_gppmin.tpr, VERSION 2019.1 (single precision)\n",
      "Using 1 MPI process\n",
      "Using 48 OpenMP threads \n",
      "\n",
      "\n",
      "Steepest Descents:\n",
      "   Tolerance (Fmax)   =  5.00000e+02\n",
      "   Number of steps    =         5000\n",
      "\n",
      "writing lowest energy coordinates.\n",
      "\n",
      "Steepest Descents converged to Fmax < 500 in 2244 steps\n",
      "Potential Energy  = -6.0163950e+05\n",
      "Maximum force     =  4.8134659e+02 on atom 1958\n",
      "Norm of force     =  1.1251456e+01\n",
      "\n",
      "GROMACS reminds you: \"There's Nothing We Can't Fix, 'coz We Can Do It in the Mix\" (Indeep)\n",
      "\n",
      "\n",
      "2021-01-14 19:30:14,264 [MainThread  ] [INFO ]  Removed: []\n",
      "\n"
     ]
    }
   ],
   "source": [
    "print('\\n'.join(slurm.get_logs()))"
   ]
  },
  {
   "cell_type": "markdown",
   "metadata": {},
   "source": [
    "Recovering output files to local_path"
   ]
  },
  {
   "cell_type": "code",
   "execution_count": 35,
   "metadata": {},
   "outputs": [
    {
     "name": "stdout",
     "output_type": "stream",
     "text": [
      "Warning: using original input folder\n",
      "getting_file: scratch/test_biobb/biobb_81dff893-f0f9-49dd-b795-508c073a19e8/log.out -> ../test/test_wdir/log.out\n",
      "getting_file: scratch/test_biobb/biobb_81dff893-f0f9-49dd-b795-508c073a19e8/log.err -> ../test/test_wdir/log.err\n"
     ]
    }
   ],
   "source": [
    "slurm.get_output_data(overwrite=False)"
   ]
  },
  {
   "cell_type": "markdown",
   "metadata": {},
   "source": [
    "<a id=\"emStep3\"></a>\n",
    "### Step 3: Checking Energy Minimization results\n",
    "Checking **energy minimization** results. Plotting **potential energy** by time during the minimization process. "
   ]
  },
  {
   "cell_type": "code",
   "execution_count": 36,
   "metadata": {},
   "outputs": [
    {
     "name": "stderr",
     "output_type": "stream",
     "text": [
      "2021-01-14 19:31:38,123 [MainThread  ] [INFO ]  Not using any container\n",
      "2021-01-14 19:31:38,149 [MainThread  ] [INFO ]  gmx energy -f /home/gelpi/DEVEL/BioExcel/biobb/biobb_remote/notebook/../test/test_wdir/1AKI_min.edr -o ../test/test_wdir/1AKI_min_ene.xvg -xvg none < 8a56862d-c913-46f1-8d0c-a19d15554d1d/instructions.in\n",
      "\n",
      "2021-01-14 19:31:38,150 [MainThread  ] [INFO ]  Exit code 0\n",
      "\n",
      "2021-01-14 19:31:38,152 [MainThread  ] [INFO ]  \n",
      "Statistics over 2450 steps [ 0.0000 through 2449.0000 ps ], 1 data sets\n",
      "All statistics are over 1939 points (frames)\n",
      "\n",
      "Energy                      Average   Err.Est.       RMSD  Tot-Drift\n",
      "-------------------------------------------------------------------------------\n",
      "Potential                   -585502       9000    23013.4   -58820.8  (kJ/mol)\n",
      "\n",
      "2021-01-14 19:31:38,154 [MainThread  ] [INFO ]                        :-) GROMACS - gmx energy, 2019.1 (-:\n",
      "\n",
      "                            GROMACS is written by:\n",
      "     Emile Apol      Rossen Apostolov      Paul Bauer     Herman J.C. Berendsen\n",
      "    Par Bjelkmar      Christian Blau   Viacheslav Bolnykh     Kevin Boyd    \n",
      " Aldert van Buuren   Rudi van Drunen     Anton Feenstra       Alan Gray     \n",
      "  Gerrit Groenhof     Anca Hamuraru    Vincent Hindriksen  M. Eric Irrgang  \n",
      "  Aleksei Iupinov   Christoph Junghans     Joe Jordan     Dimitrios Karkoulis\n",
      "    Peter Kasson        Jiri Kraus      Carsten Kutzner      Per Larsson    \n",
      "  Justin A. Lemkul    Viveca Lindahl    Magnus Lundborg     Erik Marklund   \n",
      "    Pascal Merz     Pieter Meulenhoff    Teemu Murtola       Szilard Pall   \n",
      "    Sander Pronk      Roland Schulz      Michael Shirts    Alexey Shvetsov  \n",
      "   Alfons Sijbers     Peter Tieleman      Jon Vincent      Teemu Virolainen \n",
      " Christian Wennberg    Maarten Wolf   \n",
      "                           and the project leaders:\n",
      "        Mark Abraham, Berk Hess, Erik Lindahl, and David van der Spoel\n",
      "\n",
      "Copyright (c) 1991-2000, University of Groningen, The Netherlands.\n",
      "Copyright (c) 2001-2018, The GROMACS development team at\n",
      "Uppsala University, Stockholm University and\n",
      "the Royal Institute of Technology, Sweden.\n",
      "check out http://www.gromacs.org for more information.\n",
      "\n",
      "GROMACS is free software; you can redistribute it and/or modify it\n",
      "under the terms of the GNU Lesser General Public License\n",
      "as published by the Free Software Foundation; either version 2.1\n",
      "of the License, or (at your option) any later version.\n",
      "\n",
      "GROMACS:      gmx energy, version 2019.1\n",
      "Executable:   /home/gelpi/miniconda3/envs/biobb_remote/bin/gmx\n",
      "Data prefix:  /home/gelpi/miniconda3/envs/biobb_remote\n",
      "Working dir:  /home/gelpi/DEVEL/BioExcel/biobb/biobb_remote/notebook\n",
      "Command line:\n",
      "  gmx energy -f /home/gelpi/DEVEL/BioExcel/biobb/biobb_remote/notebook/../test/test_wdir/1AKI_min.edr -o ../test/test_wdir/1AKI_min_ene.xvg -xvg none\n",
      "\n",
      "Opened /home/gelpi/DEVEL/BioExcel/biobb/biobb_remote/notebook/../test/test_wdir/1AKI_min.edr as single precision energy file\n",
      "\n",
      "Select the terms you want from the following list by\n",
      "selecting either (part of) the name or the number or a combination.\n",
      "End your selection with an empty line or a zero.\n",
      "-------------------------------------------------------------------\n",
      "  1  Bond             2  Angle            3  Proper-Dih.      4  Improper-Dih. \n",
      "  5  LJ-14            6  Coulomb-14       7  LJ-(SR)          8  Coulomb-(SR)  \n",
      "  9  Coul.-recip.    10  Position-Rest.  11  Potential       12  Pressure      \n",
      " 13  Vir-XX          14  Vir-XY          15  Vir-XZ          16  Vir-YX        \n",
      " 17  Vir-YY          18  Vir-YZ          19  Vir-ZX          20  Vir-ZY        \n",
      " 21  Vir-ZZ          22  Pres-XX         23  Pres-XY         24  Pres-XZ       \n",
      " 25  Pres-YX         26  Pres-YY         27  Pres-YZ         28  Pres-ZX       \n",
      " 29  Pres-ZY         30  Pres-ZZ         31  #Surf*SurfTen   32  T-rest        \n",
      "\n",
      "\n",
      "Back Off! I just backed up ../test/test_wdir/1AKI_min_ene.xvg to ../test/test_wdir/#1AKI_min_ene.xvg.1#\n",
      "Last energy frame read 1938 time 2449.000         \n",
      "\n",
      "GROMACS reminds you: \"Your daddy ain't your daddy but your daddy don't know\" (Dalahan)\n",
      "\n",
      "\n",
      "2021-01-14 19:31:38,155 [MainThread  ] [INFO ]  Removed: [PurePosixPath('8a56862d-c913-46f1-8d0c-a19d15554d1d')]\n"
     ]
    },
    {
     "data": {
      "text/plain": [
       "0"
      ]
     },
     "execution_count": 36,
     "metadata": {},
     "output_type": "execute_result"
    }
   ],
   "source": [
    "# GMXEnergy: Getting system energy by time  \n",
    "from biobb_analysis.gromacs.gmx_energy import GMXEnergy\n",
    "\n",
    "# Create prop dict and inputs/outputs\n",
    "output_min_edr = opj(local_path, pdbCode + \"_min.edr\")\n",
    "output_min_ene_xvg = opj(local_path, pdbCode+'_min_ene.xvg')\n",
    "prop = {\n",
    "    'terms':  [\"Potential\"]\n",
    "}\n",
    "\n",
    "# Create and launch bb\n",
    "GMXEnergy(input_energy_path=output_min_edr, \n",
    "          output_xvg_path=output_min_ene_xvg, \n",
    "          properties=prop).launch()"
   ]
  },
  {
   "cell_type": "code",
   "execution_count": 37,
   "metadata": {},
   "outputs": [
    {
     "data": {
      "text/html": [
       "        <script type=\"text/javascript\">\n",
       "        window.PlotlyConfig = {MathJaxConfig: 'local'};\n",
       "        if (window.MathJax) {MathJax.Hub.Config({SVG: {font: \"STIX-Web\"}});}\n",
       "        if (typeof require !== 'undefined') {\n",
       "        require.undef(\"plotly\");\n",
       "        requirejs.config({\n",
       "            paths: {\n",
       "                'plotly': ['https://cdn.plot.ly/plotly-latest.min']\n",
       "            }\n",
       "        });\n",
       "        require(['plotly'], function(Plotly) {\n",
       "            window._Plotly = Plotly;\n",
       "        });\n",
       "        }\n",
       "        </script>\n",
       "        "
      ]
     },
     "metadata": {},
     "output_type": "display_data"
    },
    {
     "data": {
      "application/vnd.plotly.v1+json": {
       "config": {
        "linkText": "Export to plot.ly",
        "plotlyServerURL": "https://plot.ly",
        "showLink": false
       },
       "data": [
        {
         "type": "scatter",
         "x": [
          0,
          1,
          2,
          3,
          4,
          5,
          6,
          7,
          8,
          9,
          11,
          12,
          13,
          15,
          16,
          17,
          18,
          19,
          21,
          22,
          23,
          25,
          26,
          27,
          28,
          29,
          31,
          33,
          34,
          35,
          36,
          38,
          39,
          40,
          42,
          43,
          44,
          45,
          46,
          48,
          49,
          50,
          52,
          53,
          54,
          55,
          56,
          58,
          59,
          60,
          62,
          63,
          64,
          65,
          67,
          68,
          69,
          71,
          72,
          73,
          74,
          75,
          77,
          78,
          79,
          81,
          82,
          83,
          84,
          86,
          87,
          88,
          90,
          91,
          92,
          93,
          95,
          96,
          97,
          99,
          100,
          101,
          102,
          104,
          105,
          106,
          108,
          109,
          110,
          111,
          112,
          114,
          115,
          116,
          118,
          119,
          120,
          121,
          123,
          124,
          125,
          127,
          128,
          129,
          130,
          132,
          133,
          134,
          136,
          137,
          138,
          139,
          140,
          141,
          143,
          144,
          145,
          147,
          148,
          149,
          150,
          152,
          153,
          154,
          156,
          157,
          158,
          159,
          160,
          162,
          163,
          164,
          166,
          167,
          168,
          169,
          171,
          172,
          173,
          175,
          176,
          177,
          178,
          180,
          181,
          182,
          184,
          185,
          186,
          187,
          189,
          190,
          191,
          193,
          194,
          195,
          196,
          197,
          198,
          200,
          202,
          203,
          204,
          205,
          207,
          208,
          209,
          211,
          212,
          213,
          215,
          216,
          217,
          218,
          219,
          221,
          222,
          223,
          225,
          226,
          227,
          228,
          229,
          231,
          232,
          233,
          235,
          236,
          237,
          238,
          239,
          241,
          242,
          243,
          245,
          246,
          247,
          248,
          249,
          251,
          252,
          253,
          255,
          256,
          257,
          258,
          259,
          261,
          262,
          263,
          265,
          266,
          267,
          268,
          269,
          271,
          272,
          273,
          275,
          276,
          277,
          278,
          279,
          281,
          282,
          283,
          285,
          286,
          287,
          288,
          290,
          291,
          292,
          294,
          295,
          296,
          297,
          299,
          300,
          301,
          303,
          304,
          305,
          306,
          307,
          309,
          310,
          311,
          313,
          314,
          315,
          316,
          317,
          319,
          320,
          321,
          323,
          324,
          325,
          326,
          328,
          329,
          330,
          332,
          333,
          334,
          335,
          337,
          338,
          339,
          341,
          342,
          343,
          344,
          345,
          347,
          348,
          349,
          351,
          352,
          353,
          354,
          355,
          357,
          358,
          359,
          361,
          362,
          363,
          364,
          366,
          367,
          368,
          370,
          371,
          372,
          373,
          375,
          376,
          377,
          379,
          380,
          381,
          382,
          383,
          384,
          386,
          387,
          388,
          390,
          391,
          392,
          393,
          395,
          396,
          397,
          399,
          400,
          401,
          402,
          403,
          405,
          406,
          407,
          409,
          410,
          411,
          412,
          414,
          415,
          416,
          418,
          419,
          420,
          421,
          422,
          423,
          425,
          427,
          428,
          429,
          430,
          432,
          433,
          434,
          436,
          437,
          438,
          440,
          441,
          442,
          443,
          444,
          446,
          447,
          448,
          450,
          451,
          452,
          453,
          454,
          455,
          456,
          458,
          459,
          460,
          462,
          463,
          464,
          465,
          467,
          468,
          469,
          471,
          472,
          473,
          474,
          475,
          477,
          478,
          479,
          481,
          482,
          483,
          484,
          486,
          487,
          488,
          490,
          491,
          492,
          493,
          495,
          496,
          497,
          499,
          500,
          501,
          502,
          503,
          505,
          506,
          507,
          509,
          510,
          511,
          512,
          513,
          515,
          516,
          517,
          519,
          520,
          521,
          522,
          524,
          525,
          526,
          528,
          529,
          530,
          531,
          533,
          534,
          535,
          537,
          538,
          539,
          540,
          541,
          543,
          544,
          545,
          547,
          548,
          549,
          550,
          551,
          553,
          554,
          555,
          557,
          558,
          559,
          560,
          561,
          563,
          564,
          565,
          567,
          568,
          569,
          570,
          572,
          573,
          574,
          576,
          577,
          578,
          579,
          581,
          582,
          583,
          585,
          586,
          587,
          588,
          589,
          591,
          592,
          593,
          595,
          596,
          597,
          598,
          599,
          601,
          602,
          603,
          605,
          606,
          607,
          608,
          610,
          611,
          612,
          614,
          615,
          616,
          617,
          619,
          620,
          621,
          623,
          624,
          625,
          626,
          627,
          629,
          630,
          631,
          633,
          634,
          635,
          636,
          637,
          639,
          640,
          641,
          643,
          644,
          645,
          646,
          648,
          649,
          650,
          652,
          653,
          654,
          655,
          657,
          658,
          659,
          661,
          662,
          663,
          664,
          665,
          666,
          668,
          669,
          670,
          672,
          673,
          675,
          676,
          677,
          679,
          680,
          681,
          682,
          683,
          685,
          686,
          687,
          689,
          690,
          691,
          692,
          693,
          694,
          695,
          697,
          699,
          700,
          701,
          702,
          704,
          705,
          706,
          708,
          709,
          710,
          711,
          712,
          714,
          715,
          716,
          718,
          719,
          720,
          721,
          722,
          724,
          725,
          726,
          728,
          729,
          730,
          731,
          732,
          733,
          735,
          736,
          737,
          739,
          740,
          741,
          742,
          744,
          745,
          746,
          748,
          749,
          750,
          751,
          753,
          754,
          755,
          757,
          758,
          759,
          760,
          761,
          763,
          764,
          765,
          767,
          768,
          769,
          770,
          772,
          773,
          774,
          776,
          777,
          778,
          779,
          781,
          782,
          783,
          785,
          786,
          787,
          788,
          789,
          790,
          792,
          793,
          794,
          796,
          797,
          799,
          800,
          801,
          803,
          804,
          805,
          806,
          807,
          808,
          809,
          811,
          812,
          813,
          815,
          816,
          817,
          818,
          819,
          821,
          822,
          823,
          825,
          826,
          827,
          828,
          830,
          831,
          832,
          834,
          835,
          836,
          837,
          839,
          840,
          841,
          843,
          844,
          845,
          846,
          847,
          849,
          850,
          851,
          853,
          854,
          855,
          856,
          858,
          859,
          860,
          862,
          863,
          864,
          865,
          867,
          868,
          869,
          871,
          872,
          873,
          874,
          875,
          877,
          878,
          879,
          881,
          882,
          883,
          884,
          885,
          886,
          888,
          889,
          890,
          892,
          893,
          895,
          896,
          897,
          899,
          900,
          901,
          902,
          903,
          905,
          906,
          907,
          909,
          910,
          911,
          912,
          913,
          914,
          915,
          917,
          919,
          920,
          921,
          922,
          924,
          925,
          926,
          928,
          929,
          930,
          931,
          932,
          934,
          935,
          936,
          938,
          939,
          940,
          941,
          942,
          944,
          945,
          946,
          948,
          949,
          950,
          951,
          952,
          953,
          955,
          956,
          957,
          959,
          960,
          961,
          962,
          964,
          965,
          966,
          968,
          969,
          970,
          971,
          973,
          974,
          975,
          977,
          978,
          979,
          980,
          981,
          983,
          984,
          985,
          987,
          988,
          989,
          990,
          992,
          993,
          994,
          996,
          997,
          998,
          999,
          1001,
          1002,
          1003,
          1005,
          1006,
          1007,
          1008,
          1009,
          1011,
          1012,
          1013,
          1015,
          1016,
          1017,
          1018,
          1019,
          1021,
          1022,
          1023,
          1025,
          1026,
          1027,
          1028,
          1030,
          1031,
          1032,
          1034,
          1035,
          1036,
          1037,
          1039,
          1040,
          1041,
          1043,
          1044,
          1045,
          1046,
          1047,
          1048,
          1049,
          1051,
          1053,
          1054,
          1055,
          1056,
          1058,
          1059,
          1060,
          1062,
          1063,
          1064,
          1065,
          1066,
          1068,
          1069,
          1070,
          1072,
          1073,
          1074,
          1075,
          1076,
          1078,
          1079,
          1080,
          1082,
          1083,
          1084,
          1085,
          1086,
          1087,
          1089,
          1091,
          1092,
          1093,
          1094,
          1096,
          1097,
          1098,
          1100,
          1101,
          1102,
          1103,
          1104,
          1106,
          1107,
          1108,
          1110,
          1111,
          1112,
          1113,
          1114,
          1115,
          1116,
          1118,
          1120,
          1121,
          1122,
          1123,
          1125,
          1126,
          1127,
          1129,
          1130,
          1131,
          1133,
          1134,
          1135,
          1136,
          1137,
          1138,
          1139,
          1141,
          1142,
          1143,
          1145,
          1146,
          1147,
          1148,
          1150,
          1151,
          1152,
          1154,
          1155,
          1156,
          1157,
          1158,
          1160,
          1161,
          1162,
          1164,
          1165,
          1166,
          1167,
          1169,
          1170,
          1171,
          1173,
          1174,
          1175,
          1176,
          1178,
          1179,
          1180,
          1182,
          1183,
          1184,
          1185,
          1186,
          1187,
          1188,
          1190,
          1192,
          1193,
          1194,
          1195,
          1197,
          1198,
          1199,
          1201,
          1202,
          1203,
          1204,
          1205,
          1207,
          1208,
          1209,
          1211,
          1212,
          1213,
          1214,
          1215,
          1217,
          1218,
          1219,
          1221,
          1222,
          1223,
          1224,
          1225,
          1226,
          1228,
          1230,
          1231,
          1232,
          1233,
          1235,
          1236,
          1237,
          1239,
          1240,
          1241,
          1242,
          1243,
          1245,
          1246,
          1247,
          1249,
          1250,
          1251,
          1252,
          1253,
          1255,
          1256,
          1257,
          1259,
          1260,
          1261,
          1262,
          1263,
          1264,
          1266,
          1268,
          1269,
          1270,
          1271,
          1273,
          1274,
          1275,
          1277,
          1278,
          1279,
          1280,
          1281,
          1283,
          1284,
          1285,
          1287,
          1288,
          1289,
          1290,
          1291,
          1292,
          1293,
          1295,
          1296,
          1297,
          1299,
          1300,
          1302,
          1303,
          1304,
          1306,
          1307,
          1308,
          1309,
          1310,
          1312,
          1313,
          1314,
          1316,
          1317,
          1318,
          1319,
          1320,
          1322,
          1323,
          1324,
          1326,
          1327,
          1328,
          1329,
          1330,
          1332,
          1333,
          1334,
          1336,
          1337,
          1338,
          1339,
          1340,
          1341,
          1343,
          1344,
          1345,
          1347,
          1348,
          1350,
          1351,
          1352,
          1354,
          1355,
          1356,
          1357,
          1358,
          1360,
          1361,
          1362,
          1364,
          1365,
          1366,
          1367,
          1368,
          1370,
          1371,
          1372,
          1374,
          1375,
          1376,
          1377,
          1378,
          1380,
          1381,
          1382,
          1384,
          1385,
          1386,
          1387,
          1388,
          1389,
          1391,
          1393,
          1394,
          1395,
          1396,
          1398,
          1399,
          1400,
          1402,
          1403,
          1404,
          1406,
          1407,
          1408,
          1409,
          1410,
          1411,
          1412,
          1414,
          1415,
          1416,
          1418,
          1419,
          1420,
          1421,
          1423,
          1424,
          1425,
          1427,
          1428,
          1429,
          1430,
          1431,
          1433,
          1434,
          1435,
          1437,
          1438,
          1439,
          1440,
          1442,
          1443,
          1444,
          1446,
          1447,
          1448,
          1449,
          1451,
          1452,
          1453,
          1455,
          1456,
          1457,
          1458,
          1459,
          1461,
          1462,
          1463,
          1465,
          1466,
          1467,
          1468,
          1469,
          1470,
          1472,
          1473,
          1474,
          1476,
          1477,
          1479,
          1480,
          1481,
          1483,
          1484,
          1485,
          1486,
          1487,
          1489,
          1490,
          1491,
          1493,
          1494,
          1495,
          1496,
          1497,
          1499,
          1500,
          1501,
          1503,
          1504,
          1505,
          1506,
          1507,
          1509,
          1510,
          1511,
          1513,
          1514,
          1515,
          1516,
          1517,
          1518,
          1520,
          1521,
          1522,
          1524,
          1525,
          1527,
          1528,
          1529,
          1531,
          1532,
          1533,
          1534,
          1535,
          1537,
          1538,
          1539,
          1541,
          1542,
          1543,
          1544,
          1545,
          1547,
          1548,
          1549,
          1551,
          1552,
          1553,
          1554,
          1555,
          1557,
          1558,
          1559,
          1561,
          1562,
          1563,
          1564,
          1565,
          1566,
          1568,
          1569,
          1570,
          1572,
          1573,
          1575,
          1576,
          1577,
          1579,
          1580,
          1581,
          1582,
          1583,
          1585,
          1586,
          1587,
          1589,
          1590,
          1591,
          1592,
          1593,
          1595,
          1596,
          1597,
          1599,
          1600,
          1601,
          1602,
          1603,
          1605,
          1606,
          1607,
          1609,
          1610,
          1611,
          1612,
          1613,
          1614,
          1616,
          1617,
          1618,
          1620,
          1621,
          1623,
          1624,
          1625,
          1627,
          1628,
          1629,
          1630,
          1631,
          1633,
          1634,
          1635,
          1637,
          1638,
          1639,
          1640,
          1641,
          1643,
          1644,
          1645,
          1647,
          1648,
          1649,
          1650,
          1651,
          1652,
          1654,
          1655,
          1656,
          1658,
          1659,
          1661,
          1662,
          1663,
          1665,
          1666,
          1667,
          1668,
          1669,
          1671,
          1672,
          1673,
          1675,
          1676,
          1677,
          1678,
          1679,
          1681,
          1682,
          1683,
          1685,
          1686,
          1687,
          1688,
          1689,
          1691,
          1692,
          1693,
          1695,
          1696,
          1697,
          1698,
          1699,
          1701,
          1702,
          1703,
          1705,
          1706,
          1707,
          1708,
          1710,
          1711,
          1712,
          1714,
          1715,
          1716,
          1717,
          1719,
          1720,
          1721,
          1723,
          1724,
          1725,
          1726,
          1727,
          1728,
          1729,
          1731,
          1733,
          1734,
          1735,
          1736,
          1738,
          1739,
          1740,
          1742,
          1743,
          1744,
          1745,
          1746,
          1748,
          1749,
          1750,
          1752,
          1753,
          1754,
          1755,
          1756,
          1758,
          1759,
          1760,
          1762,
          1763,
          1764,
          1765,
          1766,
          1767,
          1769,
          1770,
          1771,
          1773,
          1774,
          1775,
          1776,
          1778,
          1779,
          1780,
          1782,
          1783,
          1784,
          1785,
          1787,
          1788,
          1789,
          1791,
          1792,
          1793,
          1794,
          1795,
          1797,
          1798,
          1799,
          1801,
          1802,
          1803,
          1804,
          1805,
          1807,
          1808,
          1809,
          1811,
          1812,
          1813,
          1814,
          1816,
          1817,
          1818,
          1820,
          1821,
          1822,
          1823,
          1825,
          1826,
          1827,
          1829,
          1830,
          1831,
          1832,
          1833,
          1835,
          1836,
          1837,
          1839,
          1840,
          1841,
          1842,
          1843,
          1844,
          1846,
          1847,
          1848,
          1850,
          1851,
          1853,
          1854,
          1855,
          1857,
          1858,
          1859,
          1860,
          1861,
          1863,
          1864,
          1865,
          1867,
          1868,
          1869,
          1870,
          1871,
          1873,
          1874,
          1875,
          1877,
          1878,
          1879,
          1880,
          1881,
          1882,
          1884,
          1885,
          1886,
          1888,
          1889,
          1891,
          1892,
          1893,
          1895,
          1896,
          1897,
          1898,
          1899,
          1901,
          1902,
          1903,
          1905,
          1906,
          1907,
          1908,
          1909,
          1910,
          1911,
          1913,
          1915,
          1916,
          1917,
          1918,
          1920,
          1921,
          1922,
          1924,
          1925,
          1926,
          1927,
          1928,
          1930,
          1931,
          1932,
          1934,
          1935,
          1936,
          1937,
          1938,
          1940,
          1941,
          1942,
          1944,
          1945,
          1946,
          1947,
          1948,
          1949,
          1951,
          1952,
          1953,
          1955,
          1956,
          1957,
          1958,
          1960,
          1961,
          1962,
          1964,
          1965,
          1966,
          1967,
          1969,
          1970,
          1971,
          1973,
          1974,
          1975,
          1976,
          1977,
          1979,
          1980,
          1981,
          1983,
          1984,
          1985,
          1986,
          1987,
          1989,
          1990,
          1991,
          1993,
          1994,
          1995,
          1996,
          1998,
          1999,
          2000,
          2002,
          2003,
          2004,
          2005,
          2006,
          2007,
          2009,
          2011,
          2012,
          2013,
          2014,
          2016,
          2017,
          2018,
          2020,
          2021,
          2022,
          2023,
          2024,
          2026,
          2027,
          2028,
          2030,
          2031,
          2032,
          2033,
          2034,
          2036,
          2037,
          2038,
          2040,
          2041,
          2042,
          2043,
          2044,
          2045,
          2047,
          2048,
          2049,
          2051,
          2052,
          2053,
          2054,
          2056,
          2057,
          2058,
          2060,
          2061,
          2062,
          2063,
          2065,
          2066,
          2067,
          2069,
          2070,
          2071,
          2072,
          2073,
          2075,
          2076,
          2077,
          2079,
          2080,
          2081,
          2082,
          2084,
          2085,
          2086,
          2088,
          2089,
          2090,
          2091,
          2092,
          2093,
          2095,
          2096,
          2097,
          2099,
          2100,
          2101,
          2102,
          2104,
          2105,
          2106,
          2108,
          2109,
          2110,
          2111,
          2113,
          2114,
          2115,
          2117,
          2118,
          2119,
          2120,
          2121,
          2123,
          2124,
          2125,
          2127,
          2128,
          2129,
          2130,
          2132,
          2133,
          2134,
          2136,
          2137,
          2138,
          2139,
          2140,
          2141,
          2143,
          2145,
          2146,
          2147,
          2148,
          2150,
          2151,
          2152,
          2154,
          2155,
          2156,
          2157,
          2158,
          2160,
          2161,
          2162,
          2164,
          2165,
          2166,
          2167,
          2168,
          2170,
          2171,
          2172,
          2174,
          2175,
          2176,
          2177,
          2178,
          2179,
          2181,
          2182,
          2183,
          2185,
          2186,
          2187,
          2188,
          2190,
          2191,
          2192,
          2194,
          2195,
          2196,
          2197,
          2199,
          2200,
          2201,
          2203,
          2204,
          2205,
          2206,
          2207,
          2209,
          2210,
          2211,
          2213,
          2214,
          2215,
          2216,
          2218,
          2219,
          2220,
          2222,
          2223,
          2224,
          2225,
          2226,
          2227,
          2229,
          2230,
          2231,
          2233,
          2234,
          2235,
          2236,
          2238,
          2239,
          2240,
          2242,
          2243,
          2244,
          2245,
          2247,
          2248,
          2249,
          2251,
          2252,
          2253,
          2254,
          2255,
          2257,
          2258,
          2259,
          2261,
          2262,
          2263,
          2264,
          2266,
          2267,
          2268,
          2270,
          2271,
          2272,
          2273,
          2274,
          2275,
          2277,
          2278,
          2279,
          2281,
          2282,
          2283,
          2284,
          2286,
          2287,
          2288,
          2290,
          2291,
          2292,
          2293,
          2295,
          2296,
          2297,
          2299,
          2300,
          2301,
          2302,
          2303,
          2305,
          2306,
          2307,
          2309,
          2310,
          2311,
          2312,
          2314,
          2315,
          2316,
          2318,
          2319,
          2320,
          2321,
          2322,
          2323,
          2325,
          2326,
          2327,
          2329,
          2330,
          2331,
          2332,
          2334,
          2335,
          2336,
          2338,
          2339,
          2340,
          2341,
          2343,
          2344,
          2345,
          2347,
          2348,
          2349,
          2350,
          2351,
          2353,
          2354,
          2355,
          2357,
          2358,
          2359,
          2360,
          2362,
          2363,
          2364,
          2366,
          2367,
          2368,
          2369,
          2370,
          2371,
          2373,
          2374,
          2375,
          2377,
          2378,
          2379,
          2380,
          2382,
          2383,
          2384,
          2386,
          2387,
          2388,
          2389,
          2391,
          2392,
          2393,
          2395,
          2396,
          2397,
          2398,
          2399,
          2401,
          2402,
          2403,
          2405,
          2406,
          2407,
          2408,
          2410,
          2411,
          2412,
          2414,
          2415,
          2416,
          2417,
          2418,
          2419,
          2421,
          2422,
          2423,
          2425,
          2426,
          2427,
          2428,
          2430,
          2431,
          2432,
          2434,
          2435,
          2436,
          2437,
          2439,
          2440,
          2441,
          2443,
          2444,
          2445,
          2446,
          2447,
          2449
         ],
         "y": [
          -327616.90625,
          -347311.0625,
          -371492.46875,
          -400076.8125,
          -427777.96875,
          -452049.0625,
          -457295.75,
          -461904.53125,
          -463968.46875,
          -467423.375,
          -472350.46875,
          -473182.25,
          -479743.8125,
          -482197.9375,
          -483607.65625,
          -485773.71875,
          -486206.21875,
          -487954,
          -491242.90625,
          -491573.21875,
          -496082.8125,
          -497215.3125,
          -497917.9375,
          -498765.53125,
          -498801.5,
          -499047.96875,
          -503263.9375,
          -504590.40625,
          -505913,
          -506152.53125,
          -507572.3125,
          -508782.75,
          -509315.71875,
          -510723.90625,
          -511569.125,
          -512162,
          -513047.3125,
          -513196.5625,
          -514056.5,
          -515344.53125,
          -515769.09375,
          -517367,
          -517971.75,
          -518394.09375,
          -518940.65625,
          -519113.90625,
          -519502.21875,
          -520977.625,
          -521473.375,
          -523381.78125,
          -523773.40625,
          -524165.75,
          -524397,
          -524647.6875,
          -525847.0625,
          -526626.5625,
          -528134.25,
          -528466.1875,
          -528804.125,
          -529018.875,
          -529233.0625,
          -529242,
          -530580.25,
          -531354.5625,
          -533032.8125,
          -533253.4375,
          -533524.75,
          -533610.625,
          -533748.4375,
          -534754.8125,
          -534977.125,
          -536366.875,
          -536551.125,
          -536809.1875,
          -536872.25,
          -537040.5,
          -537862.125,
          -538094.0625,
          -539171.25,
          -539359.0625,
          -539593.375,
          -539679.0625,
          -539866.0625,
          -540478.75,
          -540764.9375,
          -541521.25,
          -541724.875,
          -541905.25,
          -542066.25,
          -542172.5625,
          -542252.0625,
          -542919.75,
          -543340.125,
          -544161.875,
          -544320.5625,
          -544499.125,
          -544593.0625,
          -544717.9375,
          -545207.5,
          -545585.375,
          -546228.3125,
          -546381.25,
          -546557.25,
          -546647.3125,
          -546798,
          -547168.125,
          -547466.8125,
          -547931.3125,
          -548088.875,
          -548232.5,
          -548363.4375,
          -548463.5,
          -548543.125,
          -548556.125,
          -549136.625,
          -549488.3125,
          -550258.875,
          -550349.6875,
          -550510,
          -550519.0625,
          -550654.5,
          -551054.1875,
          -551094.25,
          -551611.8125,
          -551737.875,
          -551835.8125,
          -551932.8125,
          -551973,
          -552007.5625,
          -552500.9375,
          -552615.5625,
          -553259.6875,
          -553346.0625,
          -553462,
          -553490.4375,
          -553567.125,
          -553951.9375,
          -554038.5,
          -554553,
          -554645.9375,
          -554749.75,
          -554798.625,
          -554866.6875,
          -555196.25,
          -555375.25,
          -555808.6875,
          -555900.25,
          -556003.25,
          -556056.875,
          -556133.125,
          -556405.5625,
          -556602.5625,
          -556962.9375,
          -557055.25,
          -557151.875,
          -557213.75,
          -557286.1875,
          -557294.0625,
          -557310.4375,
          -557745.4375,
          -557911.9375,
          -558075.625,
          -558090.625,
          -558287.1875,
          -558421.1875,
          -558473.5625,
          -558628.6875,
          -558752.8125,
          -558836.25,
          -558983.25,
          -559088.9375,
          -559183.9375,
          -559302.6875,
          -559336.625,
          -559462.9375,
          -559614.9375,
          -559697.25,
          -559885.875,
          -559983,
          -560055.9375,
          -560159.25,
          -560186.125,
          -560292,
          -560467.4375,
          -560547.125,
          -560759.3125,
          -560850.875,
          -560915.4375,
          -561010,
          -561030.875,
          -561122.6875,
          -561315.5625,
          -561383.1875,
          -561619.25,
          -561704.5625,
          -561763.1875,
          -561847.125,
          -561864.375,
          -561938.625,
          -562153,
          -562211.25,
          -562476,
          -562553.6875,
          -562609,
          -562680.0625,
          -562696.6875,
          -562749.625,
          -562990.0625,
          -563042.4375,
          -563341,
          -563409.6875,
          -563464.1875,
          -563519.5,
          -563538.625,
          -563566.4375,
          -563837.3125,
          -563889.25,
          -564226.75,
          -564284.5625,
          -564340.25,
          -564378.125,
          -564400.8125,
          -564401.1875,
          -564705.8125,
          -564764.375,
          -565142.9375,
          -565189.5625,
          -565246.875,
          -565266.9375,
          -565293.3125,
          -565529.75,
          -565619.5,
          -565938.125,
          -565983.1875,
          -566056.9375,
          -566066.0625,
          -566135.0625,
          -566300.8125,
          -566337.3125,
          -566544.25,
          -566609.0625,
          -566653.4375,
          -566713.25,
          -566726.625,
          -566772.375,
          -566964,
          -567007.5625,
          -567248.8125,
          -567304.8125,
          -567351.1875,
          -567395.125,
          -567415.125,
          -567434.625,
          -567655.8125,
          -567720.5625,
          -567999.125,
          -568045.3125,
          -568095.6875,
          -568121.9375,
          -568149.8125,
          -568328.625,
          -568451.6875,
          -568691,
          -568735.75,
          -568797.9375,
          -568816.0625,
          -568874.0625,
          -569002.625,
          -569061.125,
          -569222.8125,
          -569278.4375,
          -569322.25,
          -569372.8125,
          -569394.6875,
          -569432.4375,
          -569582.75,
          -569661.5625,
          -569852.1875,
          -569900.6875,
          -569946.4375,
          -569983.4375,
          -570011.8125,
          -570026.6875,
          -570202.125,
          -570327.875,
          -570550.125,
          -570590.6875,
          -570639.875,
          -570661.6875,
          -570697.6875,
          -570832.375,
          -570920.125,
          -571098.75,
          -571142.25,
          -571191.3125,
          -571218.375,
          -571259.4375,
          -571368.8125,
          -571466.75,
          -571605.5625,
          -571652.375,
          -571696.5,
          -571735.1875,
          -571767.1875,
          -571790.0625,
          -571797.3125,
          -571971.9375,
          -572079.375,
          -572310.4375,
          -572341.5625,
          -572393.4375,
          -572399.25,
          -572444.875,
          -572568.375,
          -572594,
          -572753.875,
          -572796.9375,
          -572831.4375,
          -572866.75,
          -572883.5625,
          -572900.6875,
          -573053.6875,
          -573119.8125,
          -573319.0625,
          -573352.5,
          -573395.125,
          -573410.8125,
          -573442.375,
          -573562.625,
          -573620.625,
          -573778.3125,
          -573816.3125,
          -573855.125,
          -573880.875,
          -573909,
          -573912.5,
          -573915.8125,
          -574107.3125,
          -574181.375,
          -574252.375,
          -574259,
          -574345.25,
          -574401.75,
          -574425.6875,
          -574490.75,
          -574544.5,
          -574584.0625,
          -574648,
          -574693.25,
          -574736.0625,
          -574786.4375,
          -574805.75,
          -574858.625,
          -574923.5,
          -574970.0625,
          -575051.8125,
          -575093.6875,
          -575129.5,
          -575171.4375,
          -575193.375,
          -575230.0625,
          -575230.3125,
          -575251.4375,
          -575398.3125,
          -575398.5625,
          -575594.6875,
          -575622.0625,
          -575657.125,
          -575666.625,
          -575691,
          -575812.0625,
          -575843.1875,
          -575999.4375,
          -576032,
          -576062.875,
          -576085.3125,
          -576102.0625,
          -576105.375,
          -576251.1875,
          -576313.625,
          -576500.5625,
          -576526.375,
          -576561,
          -576570.875,
          -576593.125,
          -576706.1875,
          -576747.9375,
          -576901.1875,
          -576929.0625,
          -576965.5,
          -576977.5,
          -577009.4375,
          -577098.75,
          -577136.25,
          -577249,
          -577283.375,
          -577310.625,
          -577341.125,
          -577353.6875,
          -577374.8125,
          -577479.5625,
          -577520.875,
          -577653.625,
          -577684.1875,
          -577711.6875,
          -577735.1875,
          -577748.5625,
          -577758.3125,
          -577880.1875,
          -577925.4375,
          -578080,
          -578106.3125,
          -578134.375,
          -578150.125,
          -578164.6875,
          -578266.4375,
          -578346.875,
          -578487.875,
          -578512.3125,
          -578550.75,
          -578556.875,
          -578596.1875,
          -578667.125,
          -578688.0625,
          -578776.3125,
          -578810.75,
          -578832.6875,
          -578867.5625,
          -578871.875,
          -578904.1875,
          -578987.0625,
          -579002.9375,
          -579106.8125,
          -579138.5,
          -579159.25,
          -579189.1875,
          -579193.0625,
          -579216.6875,
          -579314,
          -579324.8125,
          -579447.9375,
          -579476.25,
          -579497.1875,
          -579520.375,
          -579525.25,
          -579537.25,
          -579652.0625,
          -579659.9375,
          -579806.1875,
          -579829.875,
          -579852.125,
          -579866.9375,
          -579874.375,
          -579975.125,
          -580054.5625,
          -580193.9375,
          -580213.625,
          -580249.9375,
          -580250.875,
          -580287.625,
          -580355.4375,
          -580365.125,
          -580450.1875,
          -580481.1875,
          -580499.0625,
          -580530.125,
          -580531.3125,
          -580558.875,
          -580640.0625,
          -580647.125,
          -580750.5625,
          -580777.9375,
          -580796.3125,
          -580820.125,
          -580824.0625,
          -580838.8125,
          -580936.9375,
          -580945.9375,
          -581072.5,
          -581094.625,
          -581115.8125,
          -581129.875,
          -581139,
          -581226.0625,
          -581299.375,
          -581418,
          -581437.625,
          -581468.5625,
          -581473.6875,
          -581503.625,
          -581565.1875,
          -581583,
          -581660.8125,
          -581687.75,
          -581707,
          -581731.9375,
          -581739.125,
          -581758.5625,
          -581833.25,
          -581856.875,
          -581952.75,
          -581976,
          -581996.75,
          -582014.25,
          -582025.5,
          -582032.125,
          -582122.0625,
          -582166.3125,
          -582283.375,
          -582301.8125,
          -582325.9375,
          -582334.25,
          -582351.3125,
          -582422.25,
          -582455.5625,
          -582550.3125,
          -582571,
          -582594.9375,
          -582606.3125,
          -582625.8125,
          -582684.6875,
          -582726.4375,
          -582802,
          -582824.875,
          -582846.1875,
          -582864.375,
          -582879,
          -582888.375,
          -582889.0625,
          -582985.5,
          -583026.9375,
          -583157.5,
          -583170.3125,
          -583198.125,
          -583236.125,
          -583268.4375,
          -583316,
          -583339.875,
          -583360.6875,
          -583384.9375,
          -583398,
          -583420,
          -583465.0625,
          -583505.875,
          -583563.125,
          -583585.9375,
          -583606.375,
          -583626.75,
          -583640.875,
          -583655.9375,
          -583658.25,
          -583662,
          -583759.5,
          -583797,
          -583833.375,
          -583838.5625,
          -583881.375,
          -583912.0625,
          -583925.625,
          -583962.375,
          -583989.3125,
          -584009.5,
          -584040.625,
          -584043.625,
          -584076.875,
          -584116.5,
          -584129.5625,
          -584179.4375,
          -584203.4375,
          -584219.8125,
          -584244.125,
          -584250.25,
          -584271.875,
          -584322.6875,
          -584344.5,
          -584411.8125,
          -584431.9375,
          -584450.3125,
          -584466.0625,
          -584479,
          -584485.6875,
          -584487.25,
          -584574.1875,
          -584593.875,
          -584707.625,
          -584720.75,
          -584740.8125,
          -584744.0625,
          -584757.375,
          -584824.5625,
          -584836.9375,
          -584927.5625,
          -584943.5625,
          -584962.5,
          -584970.125,
          -584984.5,
          -585041,
          -585068.1875,
          -585141.0625,
          -585159.0625,
          -585176.4375,
          -585189.75,
          -585200.9375,
          -585205.3125,
          -585273.4375,
          -585324.25,
          -585412.8125,
          -585427.625,
          -585447.4375,
          -585454.1875,
          -585469.4375,
          -585521.625,
          -585548.125,
          -585617.875,
          -585634.8125,
          -585653.25,
          -585664.125,
          -585679,
          -585723.5,
          -585764.25,
          -585821.375,
          -585839.5,
          -585856.875,
          -585871.6875,
          -585884.1875,
          -585892.4375,
          -585894.9375,
          -585966.5625,
          -586005.125,
          -586102.125,
          -586113.8125,
          -586135.75,
          -586164.5625,
          -586191.8125,
          -586227.75,
          -586246.8125,
          -586264.25,
          -586283.8125,
          -586294.5625,
          -586313.125,
          -586313.625,
          -586327.75,
          -586387.5625,
          -586389.4375,
          -586466.75,
          -586483,
          -586496,
          -586507.5625,
          -586512.25,
          -586515,
          -586588.5625,
          -586600.875,
          -586696.625,
          -586708.5625,
          -586725.0625,
          -586728.9375,
          -586738.75,
          -586797.375,
          -586812.3125,
          -586891.4375,
          -586904.625,
          -586922.125,
          -586927.375,
          -586941.4375,
          -586988.625,
          -587007.5,
          -587068.125,
          -587084.4375,
          -587098.5,
          -587111.375,
          -587119.3125,
          -587125.25,
          -587182.4375,
          -587214.75,
          -587288.5,
          -587302.125,
          -587318.1875,
          -587325.625,
          -587336.9375,
          -587382.625,
          -587413.5,
          -587475.1875,
          -587489.5625,
          -587506.625,
          -587514.875,
          -587529.625,
          -587566.75,
          -587594.5,
          -587641.625,
          -587657.875,
          -587672.3125,
          -587686.375,
          -587695.75,
          -587705.25,
          -587749.25,
          -587788.875,
          -587845.6875,
          -587860.25,
          -587875.4375,
          -587885.9375,
          -587897.25,
          -587900.4375,
          -587902.5625,
          -587970.25,
          -587980.25,
          -588072.1875,
          -588080.875,
          -588098.8125,
          -588126.4375,
          -588149.5625,
          -588184.3125,
          -588200.625,
          -588214.75,
          -588230.875,
          -588239.5625,
          -588254.125,
          -588286.6875,
          -588315.1875,
          -588356.3125,
          -588371.875,
          -588385.875,
          -588399.9375,
          -588409.375,
          -588419.375,
          -588419.9375,
          -588422.1875,
          -588492.375,
          -588517.1875,
          -588542.9375,
          -588545.4375,
          -588575.4375,
          -588597.4375,
          -588606.3125,
          -588632.6875,
          -588651.75,
          -588665,
          -588686.5625,
          -588688.375,
          -588710.9375,
          -588739.875,
          -588748.8125,
          -588785.6875,
          -588802.1875,
          -588813.6875,
          -588830,
          -588834.9375,
          -588848.3125,
          -588885.875,
          -588904.5625,
          -588954.75,
          -588968.5,
          -588982.4375,
          -588992,
          -589002.875,
          -589004.4375,
          -589008.75,
          -589069.5625,
          -589070.9375,
          -589149.9375,
          -589160.125,
          -589172.5625,
          -589176.6875,
          -589183,
          -589233.9375,
          -589252,
          -589320.75,
          -589331.1875,
          -589346.75,
          -589349.625,
          -589363.375,
          -589401.875,
          -589411.8125,
          -589461.125,
          -589475.1875,
          -589486,
          -589498.25,
          -589502.75,
          -589510.25,
          -589556.9375,
          -589573.0625,
          -589633.5625,
          -589645.4375,
          -589657.625,
          -589665.25,
          -589672.6875,
          -589712.6875,
          -589749.9375,
          -589804.3125,
          -589816,
          -589831.5625,
          -589837.125,
          -589851.875,
          -589881.8125,
          -589898.5625,
          -589936.5,
          -589950.6875,
          -589962.1875,
          -589975.375,
          -589981.5,
          -589991.9375,
          -590027.8125,
          -590049.75,
          -590095.6875,
          -590108.5,
          -590120.5625,
          -590131,
          -590138.5,
          -590144,
          -590186.4375,
          -590219.875,
          -590274.6875,
          -590286.375,
          -590299.1875,
          -590306,
          -590315.75,
          -590350.0625,
          -590379.5625,
          -590425.9375,
          -590437.9375,
          -590451.9375,
          -590459.25,
          -590471.9375,
          -590499.4375,
          -590523.3125,
          -590558,
          -590571.625,
          -590583.4375,
          -590595.4375,
          -590603.375,
          -590612.75,
          -590612.875,
          -590615.3125,
          -590674.5625,
          -590695.25,
          -590717.0625,
          -590719.4375,
          -590744.5625,
          -590763.875,
          -590771.625,
          -590794.75,
          -590810.875,
          -590821.9375,
          -590840.125,
          -590842.5,
          -590861.0625,
          -590886.125,
          -590894.75,
          -590927.0625,
          -590941.125,
          -590951.1875,
          -590964.6875,
          -590969.75,
          -590980.375,
          -591013.125,
          -591032.8125,
          -591076.75,
          -591088.4375,
          -591100.6875,
          -591108.6875,
          -591119.1875,
          -591119.4375,
          -591125.0625,
          -591175.75,
          -591195.4375,
          -591214.625,
          -591219.3125,
          -591241.125,
          -591259.25,
          -591269.1875,
          -591291.0625,
          -591305.5,
          -591317.625,
          -591333.5625,
          -591337.9375,
          -591354.25,
          -591377.3125,
          -591390.3125,
          -591420.1875,
          -591433,
          -591443.9375,
          -591456.3125,
          -591463.3125,
          -591472.5,
          -591472.875,
          -591474.9375,
          -591530.4375,
          -591552.0625,
          -591573.375,
          -591575.6875,
          -591602.0625,
          -591618.5,
          -591626.1875,
          -591644.3125,
          -591660.8125,
          -591674.25,
          -591694.9375,
          -591708.125,
          -591720.5,
          -591734.5,
          -591741.8125,
          -591755.5,
          -591756.125,
          -591766.6875,
          -591803.9375,
          -591808.125,
          -591858.125,
          -591868.4375,
          -591879,
          -591885.3125,
          -591892.8125,
          -591926.125,
          -591951.0625,
          -591993.875,
          -592004.9375,
          -592015.75,
          -592023.75,
          -592031.375,
          -592034.1875,
          -592073.625,
          -592112,
          -592162.6875,
          -592172.125,
          -592184.375,
          -592189.1875,
          -592198.6875,
          -592229,
          -592248.75,
          -592290,
          -592300.5625,
          -592312.1875,
          -592318.875,
          -592329.1875,
          -592354.4375,
          -592377.625,
          -592409.625,
          -592421.25,
          -592431.5625,
          -592441.75,
          -592448.9375,
          -592456.125,
          -592456.625,
          -592457.4375,
          -592511.6875,
          -592530.875,
          -592550.6875,
          -592552,
          -592575.1875,
          -592591.9375,
          -592598.1875,
          -592618.3125,
          -592632.75,
          -592642.5625,
          -592659,
          -592659.9375,
          -592677.125,
          -592699.1875,
          -592705.5,
          -592734.0625,
          -592746.4375,
          -592754.875,
          -592766.9375,
          -592770.4375,
          -592780.5625,
          -592809.75,
          -592823.3125,
          -592862.5625,
          -592872.5625,
          -592883.4375,
          -592890.25,
          -592898.75,
          -592899.25,
          -592902.9375,
          -592949.375,
          -592967.0625,
          -592984.5,
          -592988,
          -593008,
          -593023.875,
          -593031.6875,
          -593050.9375,
          -593063.8125,
          -593074.1875,
          -593088.625,
          -593091.8125,
          -593106.6875,
          -593127.0625,
          -593136.75,
          -593163.3125,
          -593174.75,
          -593184.25,
          -593194.9375,
          -593200.6875,
          -593209,
          -593235.5625,
          -593258.1875,
          -593294,
          -593304.1875,
          -593315.125,
          -593321.75,
          -593331.5,
          -593331.75,
          -593338.3125,
          -593377.625,
          -593393.1875,
          -593408.4375,
          -593413.5,
          -593430.4375,
          -593445.75,
          -593455.375,
          -593474,
          -593486,
          -593496.1875,
          -593508.9375,
          -593514.0625,
          -593526.5,
          -593545.6875,
          -593560.3125,
          -593585.375,
          -593596.25,
          -593606.0625,
          -593615.8125,
          -593622.75,
          -593629.75,
          -593632.625,
          -593633,
          -593678.125,
          -593689.25,
          -593751.25,
          -593756.8125,
          -593769.625,
          -593787.125,
          -593800,
          -593821.8125,
          -593832.75,
          -593842,
          -593853.375,
          -593858.0625,
          -593869.3125,
          -593889.8125,
          -593904.4375,
          -593930.3125,
          -593940.8125,
          -593949.6875,
          -593959.8125,
          -593964.9375,
          -593973.4375,
          -593997.5625,
          -594015.5625,
          -594046.4375,
          -594056.5,
          -594065.4375,
          -594073.5625,
          -594079.375,
          -594084.8125,
          -594113.5,
          -594138,
          -594174.625,
          -594183.625,
          -594193.1875,
          -594199.4375,
          -594206.375,
          -594207.75,
          -594208.5,
          -594252.75,
          -594256.6875,
          -594317.25,
          -594322,
          -594333.9375,
          -594351.3125,
          -594364.25,
          -594385.9375,
          -594396.25,
          -594405.125,
          -594415.6875,
          -594420.4375,
          -594430.1875,
          -594450.5625,
          -594465.4375,
          -594491.4375,
          -594501.3125,
          -594510,
          -594518.9375,
          -594524.0625,
          -594531.5,
          -594555.625,
          -594574.5,
          -594605.4375,
          -594614.6875,
          -594623.4375,
          -594631,
          -594636.4375,
          -594640.8125,
          -594669.4375,
          -594696.4375,
          -594732.9375,
          -594741.25,
          -594750.625,
          -594755.9375,
          -594762.9375,
          -594763.1875,
          -594764.3125,
          -594807.375,
          -594824.125,
          -594840.6875,
          -594842.3125,
          -594862.75,
          -594875.4375,
          -594880.875,
          -594894.875,
          -594907.5625,
          -594918.1875,
          -594934.125,
          -594944.125,
          -594953.5625,
          -594964.25,
          -594970.0625,
          -594979.875,
          -594980.75,
          -594988.5625,
          -595017.3125,
          -595021.0625,
          -595060.375,
          -595068.25,
          -595076.5,
          -595080.875,
          -595086.75,
          -595112.3125,
          -595128.4375,
          -595161.4375,
          -595169.875,
          -595178.125,
          -595184.4375,
          -595189.75,
          -595192.3125,
          -595222.6875,
          -595247.875,
          -595286.875,
          -595294.1875,
          -595303.1875,
          -595307.125,
          -595313.875,
          -595337.5,
          -595353.9375,
          -595385.9375,
          -595394.0625,
          -595403.3125,
          -595408.0625,
          -595416.25,
          -595435.5625,
          -595451.6875,
          -595476.3125,
          -595485.25,
          -595493.3125,
          -595501.3125,
          -595506.4375,
          -595512.3125,
          -595535.0625,
          -595556.4375,
          -595585.375,
          -595593.6875,
          -595602,
          -595608.375,
          -595614.625,
          -595617.3125,
          -595618.125,
          -595654,
          -595666.625,
          -595716,
          -595721,
          -595731.75,
          -595745.75,
          -595757.3125,
          -595774.75,
          -595784.0625,
          -595792.0625,
          -595801.75,
          -595806.0625,
          -595815.8125,
          -595831.875,
          -595844.875,
          -595865.5625,
          -595874.4375,
          -595881.9375,
          -595890.6875,
          -595895.25,
          -595903,
          -595921.9375,
          -595937.625,
          -595962,
          -595970.4375,
          -595978.125,
          -595985.5,
          -595990.5625,
          -595995.75,
          -596018.25,
          -596038.875,
          -596067.875,
          -596075.8125,
          -596083.625,
          -596089.5625,
          -596095.5,
          -596097.8125,
          -596098.5,
          -596133.75,
          -596142.6875,
          -596191.125,
          -596195.6875,
          -596205.8125,
          -596219.9375,
          -596231,
          -596248,
          -596256.8125,
          -596264.375,
          -596273.5,
          -596277.6875,
          -596286.5625,
          -596302.75,
          -596315.1875,
          -596335.5625,
          -596344.125,
          -596351.3125,
          -596359.5,
          -596363.9375,
          -596370.6875,
          -596389.625,
          -596405.125,
          -596429,
          -596437,
          -596444.5,
          -596451.5,
          -596456.1875,
          -596460.6875,
          -596483.25,
          -596503.6875,
          -596532.4375,
          -596539.9375,
          -596547.5,
          -596552.8125,
          -596558.3125,
          -596560,
          -596560.9375,
          -596595.25,
          -596600.9375,
          -596648.5,
          -596652.5625,
          -596662.1875,
          -596676,
          -596686.625,
          -596703.5,
          -596711.75,
          -596719.125,
          -596727.8125,
          -596731.8125,
          -596740,
          -596756.0625,
          -596768,
          -596788.1875,
          -596796.375,
          -596803.1875,
          -596810.9375,
          -596815.0625,
          -596821.1875,
          -596840.25,
          -596854.9375,
          -596878.9375,
          -596886.5,
          -596893.4375,
          -596899.9375,
          -596904.6875,
          -596908.4375,
          -596930.75,
          -596951.375,
          -596979.875,
          -596986.875,
          -596994.25,
          -596999.0625,
          -597004.4375,
          -597005.8125,
          -597006.5,
          -597040.3125,
          -597042.4375,
          -597089.3125,
          -597093.3125,
          -597102.3125,
          -597115.625,
          -597125.75,
          -597142.8125,
          -597151,
          -597157.75,
          -597166,
          -597169.625,
          -597177.1875,
          -597193.125,
          -597204.875,
          -597225.125,
          -597232.75,
          -597239.375,
          -597246.25,
          -597250.3125,
          -597256,
          -597275,
          -597290.0625,
          -597313.8125,
          -597321.125,
          -597327.75,
          -597333.75,
          -597338.1875,
          -597341.4375,
          -597341.5,
          -597372.125,
          -597388.1875,
          -597430.625,
          -597434.5,
          -597444.5,
          -597456,
          -597464.875,
          -597479.0625,
          -597487.125,
          -597493.875,
          -597502.625,
          -597505.875,
          -597514.625,
          -597528.25,
          -597537.75,
          -597554.5625,
          -597562.375,
          -597568.8125,
          -597576.5,
          -597580.1875,
          -597587.125,
          -597603.0625,
          -597614.25,
          -597634.25,
          -597641.4375,
          -597647.9375,
          -597654.875,
          -597658.75,
          -597663.75,
          -597682.5,
          -597697.0625,
          -597720.875,
          -597727.8125,
          -597734.375,
          -597739.8125,
          -597744.375,
          -597747.0625,
          -597769.25,
          -597790.6875,
          -597819.0625,
          -597825.25,
          -597832.5,
          -597836.25,
          -597841.6875,
          -597859.0625,
          -597874.75,
          -597898.375,
          -597904.9375,
          -597912.25,
          -597916.75,
          -597923.5,
          -597937.75,
          -597951.375,
          -597969.375,
          -597976.5,
          -597983.0625,
          -597989.6875,
          -597993.9375,
          -597999.0625,
          -597999.6875,
          -598001.4375,
          -598031.625,
          -598043.0625,
          -598054.4375,
          -598056.4375,
          -598069.5625,
          -598079.625,
          -598084.5,
          -598096.5,
          -598104.9375,
          -598111.625,
          -598121,
          -598122.6875,
          -598132.625,
          -598145.75,
          -598151.25,
          -598168.25,
          -598175.5625,
          -598181.5,
          -598188.75,
          -598192,
          -598197.5625,
          -598214.5625,
          -598227.6875,
          -598250.4375,
          -598257.125,
          -598264,
          -598268.4375,
          -598274.3125,
          -598274.6875,
          -598278.75,
          -598304.375,
          -598304.5,
          -598337.875,
          -598343.625,
          -598348.9375,
          -598352.5,
          -598354.6875,
          -598377.625,
          -598395.125,
          -598426.75,
          -598431.75,
          -598439.9375,
          -598441.0625,
          -598449.0625,
          -598465.1875,
          -598469.5,
          -598489.875,
          -598497.125,
          -598502.25,
          -598509.0625,
          -598510.8125,
          -598516.3125,
          -598535.8125,
          -598541.5,
          -598566.6875,
          -598573.0625,
          -598578.5625,
          -598583.6875,
          -598586.375,
          -598588.75,
          -598612.5,
          -598622.875,
          -598653.75,
          -598659.125,
          -598665.625,
          -598668.375,
          -598672.75,
          -598691.9375,
          -598703.625,
          -598730,
          -598735.6875,
          -598742.5625,
          -598745.5,
          -598751.75,
          -598767.0625,
          -598776.6875,
          -598796.1875,
          -598802.9375,
          -598808.6875,
          -598814.5625,
          -598818.0625,
          -598822.0625,
          -598840.375,
          -598854.375,
          -598877.875,
          -598884.3125,
          -598890.3125,
          -598894.5625,
          -598899.125,
          -598900.25,
          -598900.75,
          -598929.5625,
          -598934.0625,
          -598973.75,
          -598977.0625,
          -598984.875,
          -598996.375,
          -599005.0625,
          -599019.375,
          -599026.125,
          -599031.9375,
          -599038.9375,
          -599042.25,
          -599048.875,
          -599062.4375,
          -599072.625,
          -599089.75,
          -599096.4375,
          -599102,
          -599108.3125,
          -599112,
          -599116.625,
          -599132.625,
          -599146.75,
          -599167.5,
          -599173.4375,
          -599179.625,
          -599184.5,
          -599188.8125,
          -599191.375,
          -599192.0625,
          -599217.5,
          -599228.75,
          -599263.8125,
          -599267.625,
          -599275.4375,
          -599285.875,
          -599294.625,
          -599307.1875,
          -599313.9375,
          -599320,
          -599326.8125,
          -599330.625,
          -599337.3125,
          -599349.0625,
          -599359.75,
          -599374.75,
          -599381.3125,
          -599387.0625,
          -599393.3125,
          -599397.0625,
          -599402.3125,
          -599402.625,
          -599405.3125,
          -599430.5625,
          -599440.5625,
          -599450.0625,
          -599452.5,
          -599463.75,
          -599472.4375,
          -599477.1875,
          -599488,
          -599495.375,
          -599501.25,
          -599509.5,
          -599511.5,
          -599520.125,
          -599531.25,
          -599537.4375,
          -599551.9375,
          -599558.4375,
          -599563.8125,
          -599570.125,
          -599573.3125,
          -599578.5625,
          -599593.0625,
          -599605.3125,
          -599625,
          -599630.4375,
          -599636.875,
          -599641,
          -599646.125,
          -599647.25,
          -599650.5,
          -599672.625,
          -599675.25,
          -599704.1875,
          -599708.9375,
          -599714.1875,
          -599717.125,
          -599719.875,
          -599739.125,
          -599752.125,
          -599778.375,
          -599783.0625,
          -599789.9375,
          -599791.5625,
          -599798.25,
          -599812.3125,
          -599818.25,
          -599836.6875,
          -599843,
          -599847.625,
          -599853,
          -599855.5,
          -599859.5,
          -599876.75,
          -599886.0625,
          -599908.625,
          -599914.0625,
          -599919.5625,
          -599923.25,
          -599927,
          -599927.8125,
          -599948.75,
          -599967.4375,
          -599994.9375,
          -599999.1875,
          -600005.6875,
          -600007.4375,
          -600012.75,
          -600028.4375,
          -600035,
          -600055.75,
          -600061.125,
          -600066.5625,
          -600070.25,
          -600074.5,
          -600075,
          -600076.375,
          -600101.6875,
          -600111.5,
          -600121.0625,
          -600122.625,
          -600133.75,
          -600142,
          -600145.875,
          -600155.625,
          -600162.6875,
          -600168,
          -600176.625,
          -600177.5,
          -600186.3125,
          -600196.875,
          -600200.9375,
          -600214.3125,
          -600220.4375,
          -600225.3125,
          -600231.8125,
          -600233.625,
          -600239.375,
          -600252.8125,
          -600260,
          -600278.3125,
          -600283.875,
          -600288.8125,
          -600293.25,
          -600297.1875,
          -600298.875,
          -600300.125,
          -600322.875,
          -600328,
          -600357.625,
          -600361.5625,
          -600367.1875,
          -600368.375,
          -600371.9375,
          -600390,
          -600395.5625,
          -600419.5,
          -600424.125,
          -600429.8125,
          -600431.9375,
          -600436.4375,
          -600451.1875,
          -600459.375,
          -600478.625,
          -600483.75,
          -600488.875,
          -600492.8125,
          -600496.125,
          -600497.875,
          -600515.8125,
          -600531.5,
          -600554.875,
          -600559.3125,
          -600565.0625,
          -600567.4375,
          -600572.0625,
          -600585.6875,
          -600594.625,
          -600613.25,
          -600618.1875,
          -600623.625,
          -600627.1875,
          -600631.625,
          -600632.3125,
          -600634.3125,
          -600655.9375,
          -600657.3125,
          -600685.625,
          -600689.5625,
          -600694.5,
          -600696.1875,
          -600698.8125,
          -600716.875,
          -600724.0625,
          -600748.6875,
          -600752.75,
          -600758.4375,
          -600760.3125,
          -600764.9375,
          -600779.1875,
          -600784.625,
          -600802.9375,
          -600808.0625,
          -600812.625,
          -600817.125,
          -600819.5,
          -600821.75,
          -600839.125,
          -600849.8125,
          -600872.4375,
          -600877.0625,
          -600882.125,
          -600884.4375,
          -600888.5625,
          -600902.3125,
          -600912.25,
          -600930.9375,
          -600935.6875,
          -600941.1875,
          -600944.1875,
          -600948.625,
          -600948.6875,
          -600951.125,
          -600972.0625,
          -600980.1875,
          -600988.25,
          -600990.125,
          -600999.3125,
          -601006.875,
          -601010.8125,
          -601019.875,
          -601026,
          -601031.1875,
          -601038.0625,
          -601039.625,
          -601046.875,
          -601056.375,
          -601061.1875,
          -601073.4375,
          -601078.9375,
          -601083.5,
          -601088.8125,
          -601091.125,
          -601095.875,
          -601107.875,
          -601116.875,
          -601133,
          -601137.875,
          -601142.9375,
          -601146.4375,
          -601150.8125,
          -601152.0625,
          -601154.0625,
          -601173,
          -601177.25,
          -601202.5625,
          -601206.25,
          -601211,
          -601212.875,
          -601215.875,
          -601231.625,
          -601239.1875,
          -601260.3125,
          -601264.5,
          -601269.75,
          -601272,
          -601276.1875,
          -601288.8125,
          -601296.25,
          -601312.4375,
          -601317.625,
          -601322.125,
          -601325.9375,
          -601328.8125,
          -601331.1875,
          -601346.3125,
          -601360.25,
          -601380.125,
          -601384.3125,
          -601389.5,
          -601392,
          -601396.25,
          -601408.125,
          -601417.6875,
          -601433.625,
          -601438.4375,
          -601443.5,
          -601446.875,
          -601450.875,
          -601451.8125,
          -601454.1875,
          -601472.625,
          -601475.1875,
          -601499.3125,
          -601503.25,
          -601507.75,
          -601509.5,
          -601512.0625,
          -601527.5625,
          -601535.75,
          -601556.75,
          -601560.6875,
          -601565.9375,
          -601567.75,
          -601572.25,
          -601584.4375,
          -601590.5625,
          -601606.625,
          -601611.375,
          -601615.375,
          -601619.375,
          -601622.1875,
          -601624.1875,
          -601639.125,
          -601650.875,
          -601670.375,
          -601674.6875,
          -601679.3125,
          -601681.8125,
          -601685.6875,
          -601697.6875,
          -601706.9375,
          -601722.9375,
          -601727.4375,
          -601732.375,
          -601735.4375,
          -601739.4375,
          -601740.0625,
          -601742.1875,
          -601760.5,
          -601761.6875,
          -601785.8125,
          -601789.5625,
          -601793.625,
          -601795.5625,
          -601797.8125,
          -601813.375,
          -601820.8125,
          -601841.75,
          -601845.5,
          -601850.5625,
          -601852.1875,
          -601856.625,
          -601868.4375,
          -601874,
          -601889.875,
          -601894.375,
          -601898.1875,
          -601902.0625,
          -601904.6875,
          -601906.6875,
          -601921.3125,
          -601932.1875,
          -601951.5625,
          -601955.5,
          -601960.1875,
          -601962.375,
          -601966.1875,
          -601978,
          -601986.375,
          -602002,
          -602006.625,
          -602011.0625,
          -602014.125,
          -602018.0625,
          -602018.375,
          -602020.5,
          -602038.5625,
          -602039.4375,
          -602063.3125,
          -602066.6875,
          -602070.875,
          -602072.375,
          -602074.5625,
          -602089.9375,
          -602096.1875,
          -602116.6875,
          -602120.625,
          -602125.125,
          -602126.625,
          -602130.8125,
          -602142.625,
          -602148,
          -602163.625,
          -602168,
          -602171.875,
          -602175.4375,
          -602177.875,
          -602179.5,
          -602194.4375,
          -602205,
          -602224.375,
          -602228.125,
          -602232.6875,
          -602234.4375,
          -602238.3125,
          -602249.6875,
          -602257.3125,
          -602272.625,
          -602276.8125,
          -602281.1875,
          -602283.9375,
          -602287.4375,
          -602288.125,
          -602289.6875,
          -602307.875,
          -602308.5,
          -602332.5,
          -602335.625,
          -602339.6875,
          -602340.8125,
          -602342.9375,
          -602358.1875,
          -602362.875,
          -602382.9375,
          -602386.375,
          -602390.9375,
          -602392.375,
          -602395.9375,
          -602408.0625,
          -602413.4375,
          -602429,
          -602433,
          -602437,
          -602440.125,
          -602442.4375,
          -602443.8125,
          -602458.4375,
          -602470.125,
          -602489.3125,
          -602492.8125,
          -602497.4375,
          -602499,
          -602502.9375,
          -602514,
          -602519.8125,
          -602534.75,
          -602538.9375,
          -602543,
          -602545.8125,
          -602548.75,
          -602549.375,
          -602550.625,
          -602568.9375,
          -602569.875,
          -602593.8125,
          -602596.75,
          -602600.875,
          -602601.6875,
          -602604.25,
          -602618.75,
          -602621.625,
          -602641.0625,
          -602644.5625,
          -602648.625,
          -602650.3125,
          -602653.125,
          -602665.4375,
          -602671.125,
          -602686.8125,
          -602690.625,
          -602694.75,
          -602697.5,
          -602700.125,
          -602700.8125,
          -602715.625
         ]
        }
       ],
       "layout": {
        "template": {
         "data": {
          "bar": [
           {
            "error_x": {
             "color": "#2a3f5f"
            },
            "error_y": {
             "color": "#2a3f5f"
            },
            "marker": {
             "line": {
              "color": "#E5ECF6",
              "width": 0.5
             }
            },
            "type": "bar"
           }
          ],
          "barpolar": [
           {
            "marker": {
             "line": {
              "color": "#E5ECF6",
              "width": 0.5
             }
            },
            "type": "barpolar"
           }
          ],
          "carpet": [
           {
            "aaxis": {
             "endlinecolor": "#2a3f5f",
             "gridcolor": "white",
             "linecolor": "white",
             "minorgridcolor": "white",
             "startlinecolor": "#2a3f5f"
            },
            "baxis": {
             "endlinecolor": "#2a3f5f",
             "gridcolor": "white",
             "linecolor": "white",
             "minorgridcolor": "white",
             "startlinecolor": "#2a3f5f"
            },
            "type": "carpet"
           }
          ],
          "choropleth": [
           {
            "colorbar": {
             "outlinewidth": 0,
             "ticks": ""
            },
            "type": "choropleth"
           }
          ],
          "contour": [
           {
            "colorbar": {
             "outlinewidth": 0,
             "ticks": ""
            },
            "colorscale": [
             [
              0,
              "#0d0887"
             ],
             [
              0.1111111111111111,
              "#46039f"
             ],
             [
              0.2222222222222222,
              "#7201a8"
             ],
             [
              0.3333333333333333,
              "#9c179e"
             ],
             [
              0.4444444444444444,
              "#bd3786"
             ],
             [
              0.5555555555555556,
              "#d8576b"
             ],
             [
              0.6666666666666666,
              "#ed7953"
             ],
             [
              0.7777777777777778,
              "#fb9f3a"
             ],
             [
              0.8888888888888888,
              "#fdca26"
             ],
             [
              1,
              "#f0f921"
             ]
            ],
            "type": "contour"
           }
          ],
          "contourcarpet": [
           {
            "colorbar": {
             "outlinewidth": 0,
             "ticks": ""
            },
            "type": "contourcarpet"
           }
          ],
          "heatmap": [
           {
            "colorbar": {
             "outlinewidth": 0,
             "ticks": ""
            },
            "colorscale": [
             [
              0,
              "#0d0887"
             ],
             [
              0.1111111111111111,
              "#46039f"
             ],
             [
              0.2222222222222222,
              "#7201a8"
             ],
             [
              0.3333333333333333,
              "#9c179e"
             ],
             [
              0.4444444444444444,
              "#bd3786"
             ],
             [
              0.5555555555555556,
              "#d8576b"
             ],
             [
              0.6666666666666666,
              "#ed7953"
             ],
             [
              0.7777777777777778,
              "#fb9f3a"
             ],
             [
              0.8888888888888888,
              "#fdca26"
             ],
             [
              1,
              "#f0f921"
             ]
            ],
            "type": "heatmap"
           }
          ],
          "heatmapgl": [
           {
            "colorbar": {
             "outlinewidth": 0,
             "ticks": ""
            },
            "colorscale": [
             [
              0,
              "#0d0887"
             ],
             [
              0.1111111111111111,
              "#46039f"
             ],
             [
              0.2222222222222222,
              "#7201a8"
             ],
             [
              0.3333333333333333,
              "#9c179e"
             ],
             [
              0.4444444444444444,
              "#bd3786"
             ],
             [
              0.5555555555555556,
              "#d8576b"
             ],
             [
              0.6666666666666666,
              "#ed7953"
             ],
             [
              0.7777777777777778,
              "#fb9f3a"
             ],
             [
              0.8888888888888888,
              "#fdca26"
             ],
             [
              1,
              "#f0f921"
             ]
            ],
            "type": "heatmapgl"
           }
          ],
          "histogram": [
           {
            "marker": {
             "colorbar": {
              "outlinewidth": 0,
              "ticks": ""
             }
            },
            "type": "histogram"
           }
          ],
          "histogram2d": [
           {
            "colorbar": {
             "outlinewidth": 0,
             "ticks": ""
            },
            "colorscale": [
             [
              0,
              "#0d0887"
             ],
             [
              0.1111111111111111,
              "#46039f"
             ],
             [
              0.2222222222222222,
              "#7201a8"
             ],
             [
              0.3333333333333333,
              "#9c179e"
             ],
             [
              0.4444444444444444,
              "#bd3786"
             ],
             [
              0.5555555555555556,
              "#d8576b"
             ],
             [
              0.6666666666666666,
              "#ed7953"
             ],
             [
              0.7777777777777778,
              "#fb9f3a"
             ],
             [
              0.8888888888888888,
              "#fdca26"
             ],
             [
              1,
              "#f0f921"
             ]
            ],
            "type": "histogram2d"
           }
          ],
          "histogram2dcontour": [
           {
            "colorbar": {
             "outlinewidth": 0,
             "ticks": ""
            },
            "colorscale": [
             [
              0,
              "#0d0887"
             ],
             [
              0.1111111111111111,
              "#46039f"
             ],
             [
              0.2222222222222222,
              "#7201a8"
             ],
             [
              0.3333333333333333,
              "#9c179e"
             ],
             [
              0.4444444444444444,
              "#bd3786"
             ],
             [
              0.5555555555555556,
              "#d8576b"
             ],
             [
              0.6666666666666666,
              "#ed7953"
             ],
             [
              0.7777777777777778,
              "#fb9f3a"
             ],
             [
              0.8888888888888888,
              "#fdca26"
             ],
             [
              1,
              "#f0f921"
             ]
            ],
            "type": "histogram2dcontour"
           }
          ],
          "mesh3d": [
           {
            "colorbar": {
             "outlinewidth": 0,
             "ticks": ""
            },
            "type": "mesh3d"
           }
          ],
          "parcoords": [
           {
            "line": {
             "colorbar": {
              "outlinewidth": 0,
              "ticks": ""
             }
            },
            "type": "parcoords"
           }
          ],
          "pie": [
           {
            "automargin": true,
            "type": "pie"
           }
          ],
          "scatter": [
           {
            "marker": {
             "colorbar": {
              "outlinewidth": 0,
              "ticks": ""
             }
            },
            "type": "scatter"
           }
          ],
          "scatter3d": [
           {
            "line": {
             "colorbar": {
              "outlinewidth": 0,
              "ticks": ""
             }
            },
            "marker": {
             "colorbar": {
              "outlinewidth": 0,
              "ticks": ""
             }
            },
            "type": "scatter3d"
           }
          ],
          "scattercarpet": [
           {
            "marker": {
             "colorbar": {
              "outlinewidth": 0,
              "ticks": ""
             }
            },
            "type": "scattercarpet"
           }
          ],
          "scattergeo": [
           {
            "marker": {
             "colorbar": {
              "outlinewidth": 0,
              "ticks": ""
             }
            },
            "type": "scattergeo"
           }
          ],
          "scattergl": [
           {
            "marker": {
             "colorbar": {
              "outlinewidth": 0,
              "ticks": ""
             }
            },
            "type": "scattergl"
           }
          ],
          "scattermapbox": [
           {
            "marker": {
             "colorbar": {
              "outlinewidth": 0,
              "ticks": ""
             }
            },
            "type": "scattermapbox"
           }
          ],
          "scatterpolar": [
           {
            "marker": {
             "colorbar": {
              "outlinewidth": 0,
              "ticks": ""
             }
            },
            "type": "scatterpolar"
           }
          ],
          "scatterpolargl": [
           {
            "marker": {
             "colorbar": {
              "outlinewidth": 0,
              "ticks": ""
             }
            },
            "type": "scatterpolargl"
           }
          ],
          "scatterternary": [
           {
            "marker": {
             "colorbar": {
              "outlinewidth": 0,
              "ticks": ""
             }
            },
            "type": "scatterternary"
           }
          ],
          "surface": [
           {
            "colorbar": {
             "outlinewidth": 0,
             "ticks": ""
            },
            "colorscale": [
             [
              0,
              "#0d0887"
             ],
             [
              0.1111111111111111,
              "#46039f"
             ],
             [
              0.2222222222222222,
              "#7201a8"
             ],
             [
              0.3333333333333333,
              "#9c179e"
             ],
             [
              0.4444444444444444,
              "#bd3786"
             ],
             [
              0.5555555555555556,
              "#d8576b"
             ],
             [
              0.6666666666666666,
              "#ed7953"
             ],
             [
              0.7777777777777778,
              "#fb9f3a"
             ],
             [
              0.8888888888888888,
              "#fdca26"
             ],
             [
              1,
              "#f0f921"
             ]
            ],
            "type": "surface"
           }
          ],
          "table": [
           {
            "cells": {
             "fill": {
              "color": "#EBF0F8"
             },
             "line": {
              "color": "white"
             }
            },
            "header": {
             "fill": {
              "color": "#C8D4E3"
             },
             "line": {
              "color": "white"
             }
            },
            "type": "table"
           }
          ]
         },
         "layout": {
          "annotationdefaults": {
           "arrowcolor": "#2a3f5f",
           "arrowhead": 0,
           "arrowwidth": 1
          },
          "autotypenumbers": "strict",
          "coloraxis": {
           "colorbar": {
            "outlinewidth": 0,
            "ticks": ""
           }
          },
          "colorscale": {
           "diverging": [
            [
             0,
             "#8e0152"
            ],
            [
             0.1,
             "#c51b7d"
            ],
            [
             0.2,
             "#de77ae"
            ],
            [
             0.3,
             "#f1b6da"
            ],
            [
             0.4,
             "#fde0ef"
            ],
            [
             0.5,
             "#f7f7f7"
            ],
            [
             0.6,
             "#e6f5d0"
            ],
            [
             0.7,
             "#b8e186"
            ],
            [
             0.8,
             "#7fbc41"
            ],
            [
             0.9,
             "#4d9221"
            ],
            [
             1,
             "#276419"
            ]
           ],
           "sequential": [
            [
             0,
             "#0d0887"
            ],
            [
             0.1111111111111111,
             "#46039f"
            ],
            [
             0.2222222222222222,
             "#7201a8"
            ],
            [
             0.3333333333333333,
             "#9c179e"
            ],
            [
             0.4444444444444444,
             "#bd3786"
            ],
            [
             0.5555555555555556,
             "#d8576b"
            ],
            [
             0.6666666666666666,
             "#ed7953"
            ],
            [
             0.7777777777777778,
             "#fb9f3a"
            ],
            [
             0.8888888888888888,
             "#fdca26"
            ],
            [
             1,
             "#f0f921"
            ]
           ],
           "sequentialminus": [
            [
             0,
             "#0d0887"
            ],
            [
             0.1111111111111111,
             "#46039f"
            ],
            [
             0.2222222222222222,
             "#7201a8"
            ],
            [
             0.3333333333333333,
             "#9c179e"
            ],
            [
             0.4444444444444444,
             "#bd3786"
            ],
            [
             0.5555555555555556,
             "#d8576b"
            ],
            [
             0.6666666666666666,
             "#ed7953"
            ],
            [
             0.7777777777777778,
             "#fb9f3a"
            ],
            [
             0.8888888888888888,
             "#fdca26"
            ],
            [
             1,
             "#f0f921"
            ]
           ]
          },
          "colorway": [
           "#636efa",
           "#EF553B",
           "#00cc96",
           "#ab63fa",
           "#FFA15A",
           "#19d3f3",
           "#FF6692",
           "#B6E880",
           "#FF97FF",
           "#FECB52"
          ],
          "font": {
           "color": "#2a3f5f"
          },
          "geo": {
           "bgcolor": "white",
           "lakecolor": "white",
           "landcolor": "#E5ECF6",
           "showlakes": true,
           "showland": true,
           "subunitcolor": "white"
          },
          "hoverlabel": {
           "align": "left"
          },
          "hovermode": "closest",
          "mapbox": {
           "style": "light"
          },
          "paper_bgcolor": "white",
          "plot_bgcolor": "#E5ECF6",
          "polar": {
           "angularaxis": {
            "gridcolor": "white",
            "linecolor": "white",
            "ticks": ""
           },
           "bgcolor": "#E5ECF6",
           "radialaxis": {
            "gridcolor": "white",
            "linecolor": "white",
            "ticks": ""
           }
          },
          "scene": {
           "xaxis": {
            "backgroundcolor": "#E5ECF6",
            "gridcolor": "white",
            "gridwidth": 2,
            "linecolor": "white",
            "showbackground": true,
            "ticks": "",
            "zerolinecolor": "white"
           },
           "yaxis": {
            "backgroundcolor": "#E5ECF6",
            "gridcolor": "white",
            "gridwidth": 2,
            "linecolor": "white",
            "showbackground": true,
            "ticks": "",
            "zerolinecolor": "white"
           },
           "zaxis": {
            "backgroundcolor": "#E5ECF6",
            "gridcolor": "white",
            "gridwidth": 2,
            "linecolor": "white",
            "showbackground": true,
            "ticks": "",
            "zerolinecolor": "white"
           }
          },
          "shapedefaults": {
           "line": {
            "color": "#2a3f5f"
           }
          },
          "ternary": {
           "aaxis": {
            "gridcolor": "white",
            "linecolor": "white",
            "ticks": ""
           },
           "baxis": {
            "gridcolor": "white",
            "linecolor": "white",
            "ticks": ""
           },
           "bgcolor": "#E5ECF6",
           "caxis": {
            "gridcolor": "white",
            "linecolor": "white",
            "ticks": ""
           }
          },
          "title": {
           "x": 0.05
          },
          "xaxis": {
           "automargin": true,
           "gridcolor": "white",
           "linecolor": "white",
           "ticks": "",
           "title": {
            "standoff": 15
           },
           "zerolinecolor": "white",
           "zerolinewidth": 2
          },
          "yaxis": {
           "automargin": true,
           "gridcolor": "white",
           "linecolor": "white",
           "ticks": "",
           "title": {
            "standoff": 15
           },
           "zerolinecolor": "white",
           "zerolinewidth": 2
          }
         }
        },
        "title": {
         "text": "Energy Minimization"
        },
        "xaxis": {
         "title": {
          "text": "Energy Minimization Step"
         }
        },
        "yaxis": {
         "title": {
          "text": "Potential Energy KJ/mol-1"
         }
        }
       }
      },
      "text/html": [
       "<div>                            <div id=\"ce60fcc1-cd4a-42c7-ab16-0736b0cf5697\" class=\"plotly-graph-div\" style=\"height:525px; width:100%;\"></div>            <script type=\"text/javascript\">                require([\"plotly\"], function(Plotly) {                    window.PLOTLYENV=window.PLOTLYENV || {};                                    if (document.getElementById(\"ce60fcc1-cd4a-42c7-ab16-0736b0cf5697\")) {                    Plotly.newPlot(                        \"ce60fcc1-cd4a-42c7-ab16-0736b0cf5697\",                        [{\"type\": \"scatter\", \"x\": [0.0, 1.0, 2.0, 3.0, 4.0, 5.0, 6.0, 7.0, 8.0, 9.0, 11.0, 12.0, 13.0, 15.0, 16.0, 17.0, 18.0, 19.0, 21.0, 22.0, 23.0, 25.0, 26.0, 27.0, 28.0, 29.0, 31.0, 33.0, 34.0, 35.0, 36.0, 38.0, 39.0, 40.0, 42.0, 43.0, 44.0, 45.0, 46.0, 48.0, 49.0, 50.0, 52.0, 53.0, 54.0, 55.0, 56.0, 58.0, 59.0, 60.0, 62.0, 63.0, 64.0, 65.0, 67.0, 68.0, 69.0, 71.0, 72.0, 73.0, 74.0, 75.0, 77.0, 78.0, 79.0, 81.0, 82.0, 83.0, 84.0, 86.0, 87.0, 88.0, 90.0, 91.0, 92.0, 93.0, 95.0, 96.0, 97.0, 99.0, 100.0, 101.0, 102.0, 104.0, 105.0, 106.0, 108.0, 109.0, 110.0, 111.0, 112.0, 114.0, 115.0, 116.0, 118.0, 119.0, 120.0, 121.0, 123.0, 124.0, 125.0, 127.0, 128.0, 129.0, 130.0, 132.0, 133.0, 134.0, 136.0, 137.0, 138.0, 139.0, 140.0, 141.0, 143.0, 144.0, 145.0, 147.0, 148.0, 149.0, 150.0, 152.0, 153.0, 154.0, 156.0, 157.0, 158.0, 159.0, 160.0, 162.0, 163.0, 164.0, 166.0, 167.0, 168.0, 169.0, 171.0, 172.0, 173.0, 175.0, 176.0, 177.0, 178.0, 180.0, 181.0, 182.0, 184.0, 185.0, 186.0, 187.0, 189.0, 190.0, 191.0, 193.0, 194.0, 195.0, 196.0, 197.0, 198.0, 200.0, 202.0, 203.0, 204.0, 205.0, 207.0, 208.0, 209.0, 211.0, 212.0, 213.0, 215.0, 216.0, 217.0, 218.0, 219.0, 221.0, 222.0, 223.0, 225.0, 226.0, 227.0, 228.0, 229.0, 231.0, 232.0, 233.0, 235.0, 236.0, 237.0, 238.0, 239.0, 241.0, 242.0, 243.0, 245.0, 246.0, 247.0, 248.0, 249.0, 251.0, 252.0, 253.0, 255.0, 256.0, 257.0, 258.0, 259.0, 261.0, 262.0, 263.0, 265.0, 266.0, 267.0, 268.0, 269.0, 271.0, 272.0, 273.0, 275.0, 276.0, 277.0, 278.0, 279.0, 281.0, 282.0, 283.0, 285.0, 286.0, 287.0, 288.0, 290.0, 291.0, 292.0, 294.0, 295.0, 296.0, 297.0, 299.0, 300.0, 301.0, 303.0, 304.0, 305.0, 306.0, 307.0, 309.0, 310.0, 311.0, 313.0, 314.0, 315.0, 316.0, 317.0, 319.0, 320.0, 321.0, 323.0, 324.0, 325.0, 326.0, 328.0, 329.0, 330.0, 332.0, 333.0, 334.0, 335.0, 337.0, 338.0, 339.0, 341.0, 342.0, 343.0, 344.0, 345.0, 347.0, 348.0, 349.0, 351.0, 352.0, 353.0, 354.0, 355.0, 357.0, 358.0, 359.0, 361.0, 362.0, 363.0, 364.0, 366.0, 367.0, 368.0, 370.0, 371.0, 372.0, 373.0, 375.0, 376.0, 377.0, 379.0, 380.0, 381.0, 382.0, 383.0, 384.0, 386.0, 387.0, 388.0, 390.0, 391.0, 392.0, 393.0, 395.0, 396.0, 397.0, 399.0, 400.0, 401.0, 402.0, 403.0, 405.0, 406.0, 407.0, 409.0, 410.0, 411.0, 412.0, 414.0, 415.0, 416.0, 418.0, 419.0, 420.0, 421.0, 422.0, 423.0, 425.0, 427.0, 428.0, 429.0, 430.0, 432.0, 433.0, 434.0, 436.0, 437.0, 438.0, 440.0, 441.0, 442.0, 443.0, 444.0, 446.0, 447.0, 448.0, 450.0, 451.0, 452.0, 453.0, 454.0, 455.0, 456.0, 458.0, 459.0, 460.0, 462.0, 463.0, 464.0, 465.0, 467.0, 468.0, 469.0, 471.0, 472.0, 473.0, 474.0, 475.0, 477.0, 478.0, 479.0, 481.0, 482.0, 483.0, 484.0, 486.0, 487.0, 488.0, 490.0, 491.0, 492.0, 493.0, 495.0, 496.0, 497.0, 499.0, 500.0, 501.0, 502.0, 503.0, 505.0, 506.0, 507.0, 509.0, 510.0, 511.0, 512.0, 513.0, 515.0, 516.0, 517.0, 519.0, 520.0, 521.0, 522.0, 524.0, 525.0, 526.0, 528.0, 529.0, 530.0, 531.0, 533.0, 534.0, 535.0, 537.0, 538.0, 539.0, 540.0, 541.0, 543.0, 544.0, 545.0, 547.0, 548.0, 549.0, 550.0, 551.0, 553.0, 554.0, 555.0, 557.0, 558.0, 559.0, 560.0, 561.0, 563.0, 564.0, 565.0, 567.0, 568.0, 569.0, 570.0, 572.0, 573.0, 574.0, 576.0, 577.0, 578.0, 579.0, 581.0, 582.0, 583.0, 585.0, 586.0, 587.0, 588.0, 589.0, 591.0, 592.0, 593.0, 595.0, 596.0, 597.0, 598.0, 599.0, 601.0, 602.0, 603.0, 605.0, 606.0, 607.0, 608.0, 610.0, 611.0, 612.0, 614.0, 615.0, 616.0, 617.0, 619.0, 620.0, 621.0, 623.0, 624.0, 625.0, 626.0, 627.0, 629.0, 630.0, 631.0, 633.0, 634.0, 635.0, 636.0, 637.0, 639.0, 640.0, 641.0, 643.0, 644.0, 645.0, 646.0, 648.0, 649.0, 650.0, 652.0, 653.0, 654.0, 655.0, 657.0, 658.0, 659.0, 661.0, 662.0, 663.0, 664.0, 665.0, 666.0, 668.0, 669.0, 670.0, 672.0, 673.0, 675.0, 676.0, 677.0, 679.0, 680.0, 681.0, 682.0, 683.0, 685.0, 686.0, 687.0, 689.0, 690.0, 691.0, 692.0, 693.0, 694.0, 695.0, 697.0, 699.0, 700.0, 701.0, 702.0, 704.0, 705.0, 706.0, 708.0, 709.0, 710.0, 711.0, 712.0, 714.0, 715.0, 716.0, 718.0, 719.0, 720.0, 721.0, 722.0, 724.0, 725.0, 726.0, 728.0, 729.0, 730.0, 731.0, 732.0, 733.0, 735.0, 736.0, 737.0, 739.0, 740.0, 741.0, 742.0, 744.0, 745.0, 746.0, 748.0, 749.0, 750.0, 751.0, 753.0, 754.0, 755.0, 757.0, 758.0, 759.0, 760.0, 761.0, 763.0, 764.0, 765.0, 767.0, 768.0, 769.0, 770.0, 772.0, 773.0, 774.0, 776.0, 777.0, 778.0, 779.0, 781.0, 782.0, 783.0, 785.0, 786.0, 787.0, 788.0, 789.0, 790.0, 792.0, 793.0, 794.0, 796.0, 797.0, 799.0, 800.0, 801.0, 803.0, 804.0, 805.0, 806.0, 807.0, 808.0, 809.0, 811.0, 812.0, 813.0, 815.0, 816.0, 817.0, 818.0, 819.0, 821.0, 822.0, 823.0, 825.0, 826.0, 827.0, 828.0, 830.0, 831.0, 832.0, 834.0, 835.0, 836.0, 837.0, 839.0, 840.0, 841.0, 843.0, 844.0, 845.0, 846.0, 847.0, 849.0, 850.0, 851.0, 853.0, 854.0, 855.0, 856.0, 858.0, 859.0, 860.0, 862.0, 863.0, 864.0, 865.0, 867.0, 868.0, 869.0, 871.0, 872.0, 873.0, 874.0, 875.0, 877.0, 878.0, 879.0, 881.0, 882.0, 883.0, 884.0, 885.0, 886.0, 888.0, 889.0, 890.0, 892.0, 893.0, 895.0, 896.0, 897.0, 899.0, 900.0, 901.0, 902.0, 903.0, 905.0, 906.0, 907.0, 909.0, 910.0, 911.0, 912.0, 913.0, 914.0, 915.0, 917.0, 919.0, 920.0, 921.0, 922.0, 924.0, 925.0, 926.0, 928.0, 929.0, 930.0, 931.0, 932.0, 934.0, 935.0, 936.0, 938.0, 939.0, 940.0, 941.0, 942.0, 944.0, 945.0, 946.0, 948.0, 949.0, 950.0, 951.0, 952.0, 953.0, 955.0, 956.0, 957.0, 959.0, 960.0, 961.0, 962.0, 964.0, 965.0, 966.0, 968.0, 969.0, 970.0, 971.0, 973.0, 974.0, 975.0, 977.0, 978.0, 979.0, 980.0, 981.0, 983.0, 984.0, 985.0, 987.0, 988.0, 989.0, 990.0, 992.0, 993.0, 994.0, 996.0, 997.0, 998.0, 999.0, 1001.0, 1002.0, 1003.0, 1005.0, 1006.0, 1007.0, 1008.0, 1009.0, 1011.0, 1012.0, 1013.0, 1015.0, 1016.0, 1017.0, 1018.0, 1019.0, 1021.0, 1022.0, 1023.0, 1025.0, 1026.0, 1027.0, 1028.0, 1030.0, 1031.0, 1032.0, 1034.0, 1035.0, 1036.0, 1037.0, 1039.0, 1040.0, 1041.0, 1043.0, 1044.0, 1045.0, 1046.0, 1047.0, 1048.0, 1049.0, 1051.0, 1053.0, 1054.0, 1055.0, 1056.0, 1058.0, 1059.0, 1060.0, 1062.0, 1063.0, 1064.0, 1065.0, 1066.0, 1068.0, 1069.0, 1070.0, 1072.0, 1073.0, 1074.0, 1075.0, 1076.0, 1078.0, 1079.0, 1080.0, 1082.0, 1083.0, 1084.0, 1085.0, 1086.0, 1087.0, 1089.0, 1091.0, 1092.0, 1093.0, 1094.0, 1096.0, 1097.0, 1098.0, 1100.0, 1101.0, 1102.0, 1103.0, 1104.0, 1106.0, 1107.0, 1108.0, 1110.0, 1111.0, 1112.0, 1113.0, 1114.0, 1115.0, 1116.0, 1118.0, 1120.0, 1121.0, 1122.0, 1123.0, 1125.0, 1126.0, 1127.0, 1129.0, 1130.0, 1131.0, 1133.0, 1134.0, 1135.0, 1136.0, 1137.0, 1138.0, 1139.0, 1141.0, 1142.0, 1143.0, 1145.0, 1146.0, 1147.0, 1148.0, 1150.0, 1151.0, 1152.0, 1154.0, 1155.0, 1156.0, 1157.0, 1158.0, 1160.0, 1161.0, 1162.0, 1164.0, 1165.0, 1166.0, 1167.0, 1169.0, 1170.0, 1171.0, 1173.0, 1174.0, 1175.0, 1176.0, 1178.0, 1179.0, 1180.0, 1182.0, 1183.0, 1184.0, 1185.0, 1186.0, 1187.0, 1188.0, 1190.0, 1192.0, 1193.0, 1194.0, 1195.0, 1197.0, 1198.0, 1199.0, 1201.0, 1202.0, 1203.0, 1204.0, 1205.0, 1207.0, 1208.0, 1209.0, 1211.0, 1212.0, 1213.0, 1214.0, 1215.0, 1217.0, 1218.0, 1219.0, 1221.0, 1222.0, 1223.0, 1224.0, 1225.0, 1226.0, 1228.0, 1230.0, 1231.0, 1232.0, 1233.0, 1235.0, 1236.0, 1237.0, 1239.0, 1240.0, 1241.0, 1242.0, 1243.0, 1245.0, 1246.0, 1247.0, 1249.0, 1250.0, 1251.0, 1252.0, 1253.0, 1255.0, 1256.0, 1257.0, 1259.0, 1260.0, 1261.0, 1262.0, 1263.0, 1264.0, 1266.0, 1268.0, 1269.0, 1270.0, 1271.0, 1273.0, 1274.0, 1275.0, 1277.0, 1278.0, 1279.0, 1280.0, 1281.0, 1283.0, 1284.0, 1285.0, 1287.0, 1288.0, 1289.0, 1290.0, 1291.0, 1292.0, 1293.0, 1295.0, 1296.0, 1297.0, 1299.0, 1300.0, 1302.0, 1303.0, 1304.0, 1306.0, 1307.0, 1308.0, 1309.0, 1310.0, 1312.0, 1313.0, 1314.0, 1316.0, 1317.0, 1318.0, 1319.0, 1320.0, 1322.0, 1323.0, 1324.0, 1326.0, 1327.0, 1328.0, 1329.0, 1330.0, 1332.0, 1333.0, 1334.0, 1336.0, 1337.0, 1338.0, 1339.0, 1340.0, 1341.0, 1343.0, 1344.0, 1345.0, 1347.0, 1348.0, 1350.0, 1351.0, 1352.0, 1354.0, 1355.0, 1356.0, 1357.0, 1358.0, 1360.0, 1361.0, 1362.0, 1364.0, 1365.0, 1366.0, 1367.0, 1368.0, 1370.0, 1371.0, 1372.0, 1374.0, 1375.0, 1376.0, 1377.0, 1378.0, 1380.0, 1381.0, 1382.0, 1384.0, 1385.0, 1386.0, 1387.0, 1388.0, 1389.0, 1391.0, 1393.0, 1394.0, 1395.0, 1396.0, 1398.0, 1399.0, 1400.0, 1402.0, 1403.0, 1404.0, 1406.0, 1407.0, 1408.0, 1409.0, 1410.0, 1411.0, 1412.0, 1414.0, 1415.0, 1416.0, 1418.0, 1419.0, 1420.0, 1421.0, 1423.0, 1424.0, 1425.0, 1427.0, 1428.0, 1429.0, 1430.0, 1431.0, 1433.0, 1434.0, 1435.0, 1437.0, 1438.0, 1439.0, 1440.0, 1442.0, 1443.0, 1444.0, 1446.0, 1447.0, 1448.0, 1449.0, 1451.0, 1452.0, 1453.0, 1455.0, 1456.0, 1457.0, 1458.0, 1459.0, 1461.0, 1462.0, 1463.0, 1465.0, 1466.0, 1467.0, 1468.0, 1469.0, 1470.0, 1472.0, 1473.0, 1474.0, 1476.0, 1477.0, 1479.0, 1480.0, 1481.0, 1483.0, 1484.0, 1485.0, 1486.0, 1487.0, 1489.0, 1490.0, 1491.0, 1493.0, 1494.0, 1495.0, 1496.0, 1497.0, 1499.0, 1500.0, 1501.0, 1503.0, 1504.0, 1505.0, 1506.0, 1507.0, 1509.0, 1510.0, 1511.0, 1513.0, 1514.0, 1515.0, 1516.0, 1517.0, 1518.0, 1520.0, 1521.0, 1522.0, 1524.0, 1525.0, 1527.0, 1528.0, 1529.0, 1531.0, 1532.0, 1533.0, 1534.0, 1535.0, 1537.0, 1538.0, 1539.0, 1541.0, 1542.0, 1543.0, 1544.0, 1545.0, 1547.0, 1548.0, 1549.0, 1551.0, 1552.0, 1553.0, 1554.0, 1555.0, 1557.0, 1558.0, 1559.0, 1561.0, 1562.0, 1563.0, 1564.0, 1565.0, 1566.0, 1568.0, 1569.0, 1570.0, 1572.0, 1573.0, 1575.0, 1576.0, 1577.0, 1579.0, 1580.0, 1581.0, 1582.0, 1583.0, 1585.0, 1586.0, 1587.0, 1589.0, 1590.0, 1591.0, 1592.0, 1593.0, 1595.0, 1596.0, 1597.0, 1599.0, 1600.0, 1601.0, 1602.0, 1603.0, 1605.0, 1606.0, 1607.0, 1609.0, 1610.0, 1611.0, 1612.0, 1613.0, 1614.0, 1616.0, 1617.0, 1618.0, 1620.0, 1621.0, 1623.0, 1624.0, 1625.0, 1627.0, 1628.0, 1629.0, 1630.0, 1631.0, 1633.0, 1634.0, 1635.0, 1637.0, 1638.0, 1639.0, 1640.0, 1641.0, 1643.0, 1644.0, 1645.0, 1647.0, 1648.0, 1649.0, 1650.0, 1651.0, 1652.0, 1654.0, 1655.0, 1656.0, 1658.0, 1659.0, 1661.0, 1662.0, 1663.0, 1665.0, 1666.0, 1667.0, 1668.0, 1669.0, 1671.0, 1672.0, 1673.0, 1675.0, 1676.0, 1677.0, 1678.0, 1679.0, 1681.0, 1682.0, 1683.0, 1685.0, 1686.0, 1687.0, 1688.0, 1689.0, 1691.0, 1692.0, 1693.0, 1695.0, 1696.0, 1697.0, 1698.0, 1699.0, 1701.0, 1702.0, 1703.0, 1705.0, 1706.0, 1707.0, 1708.0, 1710.0, 1711.0, 1712.0, 1714.0, 1715.0, 1716.0, 1717.0, 1719.0, 1720.0, 1721.0, 1723.0, 1724.0, 1725.0, 1726.0, 1727.0, 1728.0, 1729.0, 1731.0, 1733.0, 1734.0, 1735.0, 1736.0, 1738.0, 1739.0, 1740.0, 1742.0, 1743.0, 1744.0, 1745.0, 1746.0, 1748.0, 1749.0, 1750.0, 1752.0, 1753.0, 1754.0, 1755.0, 1756.0, 1758.0, 1759.0, 1760.0, 1762.0, 1763.0, 1764.0, 1765.0, 1766.0, 1767.0, 1769.0, 1770.0, 1771.0, 1773.0, 1774.0, 1775.0, 1776.0, 1778.0, 1779.0, 1780.0, 1782.0, 1783.0, 1784.0, 1785.0, 1787.0, 1788.0, 1789.0, 1791.0, 1792.0, 1793.0, 1794.0, 1795.0, 1797.0, 1798.0, 1799.0, 1801.0, 1802.0, 1803.0, 1804.0, 1805.0, 1807.0, 1808.0, 1809.0, 1811.0, 1812.0, 1813.0, 1814.0, 1816.0, 1817.0, 1818.0, 1820.0, 1821.0, 1822.0, 1823.0, 1825.0, 1826.0, 1827.0, 1829.0, 1830.0, 1831.0, 1832.0, 1833.0, 1835.0, 1836.0, 1837.0, 1839.0, 1840.0, 1841.0, 1842.0, 1843.0, 1844.0, 1846.0, 1847.0, 1848.0, 1850.0, 1851.0, 1853.0, 1854.0, 1855.0, 1857.0, 1858.0, 1859.0, 1860.0, 1861.0, 1863.0, 1864.0, 1865.0, 1867.0, 1868.0, 1869.0, 1870.0, 1871.0, 1873.0, 1874.0, 1875.0, 1877.0, 1878.0, 1879.0, 1880.0, 1881.0, 1882.0, 1884.0, 1885.0, 1886.0, 1888.0, 1889.0, 1891.0, 1892.0, 1893.0, 1895.0, 1896.0, 1897.0, 1898.0, 1899.0, 1901.0, 1902.0, 1903.0, 1905.0, 1906.0, 1907.0, 1908.0, 1909.0, 1910.0, 1911.0, 1913.0, 1915.0, 1916.0, 1917.0, 1918.0, 1920.0, 1921.0, 1922.0, 1924.0, 1925.0, 1926.0, 1927.0, 1928.0, 1930.0, 1931.0, 1932.0, 1934.0, 1935.0, 1936.0, 1937.0, 1938.0, 1940.0, 1941.0, 1942.0, 1944.0, 1945.0, 1946.0, 1947.0, 1948.0, 1949.0, 1951.0, 1952.0, 1953.0, 1955.0, 1956.0, 1957.0, 1958.0, 1960.0, 1961.0, 1962.0, 1964.0, 1965.0, 1966.0, 1967.0, 1969.0, 1970.0, 1971.0, 1973.0, 1974.0, 1975.0, 1976.0, 1977.0, 1979.0, 1980.0, 1981.0, 1983.0, 1984.0, 1985.0, 1986.0, 1987.0, 1989.0, 1990.0, 1991.0, 1993.0, 1994.0, 1995.0, 1996.0, 1998.0, 1999.0, 2000.0, 2002.0, 2003.0, 2004.0, 2005.0, 2006.0, 2007.0, 2009.0, 2011.0, 2012.0, 2013.0, 2014.0, 2016.0, 2017.0, 2018.0, 2020.0, 2021.0, 2022.0, 2023.0, 2024.0, 2026.0, 2027.0, 2028.0, 2030.0, 2031.0, 2032.0, 2033.0, 2034.0, 2036.0, 2037.0, 2038.0, 2040.0, 2041.0, 2042.0, 2043.0, 2044.0, 2045.0, 2047.0, 2048.0, 2049.0, 2051.0, 2052.0, 2053.0, 2054.0, 2056.0, 2057.0, 2058.0, 2060.0, 2061.0, 2062.0, 2063.0, 2065.0, 2066.0, 2067.0, 2069.0, 2070.0, 2071.0, 2072.0, 2073.0, 2075.0, 2076.0, 2077.0, 2079.0, 2080.0, 2081.0, 2082.0, 2084.0, 2085.0, 2086.0, 2088.0, 2089.0, 2090.0, 2091.0, 2092.0, 2093.0, 2095.0, 2096.0, 2097.0, 2099.0, 2100.0, 2101.0, 2102.0, 2104.0, 2105.0, 2106.0, 2108.0, 2109.0, 2110.0, 2111.0, 2113.0, 2114.0, 2115.0, 2117.0, 2118.0, 2119.0, 2120.0, 2121.0, 2123.0, 2124.0, 2125.0, 2127.0, 2128.0, 2129.0, 2130.0, 2132.0, 2133.0, 2134.0, 2136.0, 2137.0, 2138.0, 2139.0, 2140.0, 2141.0, 2143.0, 2145.0, 2146.0, 2147.0, 2148.0, 2150.0, 2151.0, 2152.0, 2154.0, 2155.0, 2156.0, 2157.0, 2158.0, 2160.0, 2161.0, 2162.0, 2164.0, 2165.0, 2166.0, 2167.0, 2168.0, 2170.0, 2171.0, 2172.0, 2174.0, 2175.0, 2176.0, 2177.0, 2178.0, 2179.0, 2181.0, 2182.0, 2183.0, 2185.0, 2186.0, 2187.0, 2188.0, 2190.0, 2191.0, 2192.0, 2194.0, 2195.0, 2196.0, 2197.0, 2199.0, 2200.0, 2201.0, 2203.0, 2204.0, 2205.0, 2206.0, 2207.0, 2209.0, 2210.0, 2211.0, 2213.0, 2214.0, 2215.0, 2216.0, 2218.0, 2219.0, 2220.0, 2222.0, 2223.0, 2224.0, 2225.0, 2226.0, 2227.0, 2229.0, 2230.0, 2231.0, 2233.0, 2234.0, 2235.0, 2236.0, 2238.0, 2239.0, 2240.0, 2242.0, 2243.0, 2244.0, 2245.0, 2247.0, 2248.0, 2249.0, 2251.0, 2252.0, 2253.0, 2254.0, 2255.0, 2257.0, 2258.0, 2259.0, 2261.0, 2262.0, 2263.0, 2264.0, 2266.0, 2267.0, 2268.0, 2270.0, 2271.0, 2272.0, 2273.0, 2274.0, 2275.0, 2277.0, 2278.0, 2279.0, 2281.0, 2282.0, 2283.0, 2284.0, 2286.0, 2287.0, 2288.0, 2290.0, 2291.0, 2292.0, 2293.0, 2295.0, 2296.0, 2297.0, 2299.0, 2300.0, 2301.0, 2302.0, 2303.0, 2305.0, 2306.0, 2307.0, 2309.0, 2310.0, 2311.0, 2312.0, 2314.0, 2315.0, 2316.0, 2318.0, 2319.0, 2320.0, 2321.0, 2322.0, 2323.0, 2325.0, 2326.0, 2327.0, 2329.0, 2330.0, 2331.0, 2332.0, 2334.0, 2335.0, 2336.0, 2338.0, 2339.0, 2340.0, 2341.0, 2343.0, 2344.0, 2345.0, 2347.0, 2348.0, 2349.0, 2350.0, 2351.0, 2353.0, 2354.0, 2355.0, 2357.0, 2358.0, 2359.0, 2360.0, 2362.0, 2363.0, 2364.0, 2366.0, 2367.0, 2368.0, 2369.0, 2370.0, 2371.0, 2373.0, 2374.0, 2375.0, 2377.0, 2378.0, 2379.0, 2380.0, 2382.0, 2383.0, 2384.0, 2386.0, 2387.0, 2388.0, 2389.0, 2391.0, 2392.0, 2393.0, 2395.0, 2396.0, 2397.0, 2398.0, 2399.0, 2401.0, 2402.0, 2403.0, 2405.0, 2406.0, 2407.0, 2408.0, 2410.0, 2411.0, 2412.0, 2414.0, 2415.0, 2416.0, 2417.0, 2418.0, 2419.0, 2421.0, 2422.0, 2423.0, 2425.0, 2426.0, 2427.0, 2428.0, 2430.0, 2431.0, 2432.0, 2434.0, 2435.0, 2436.0, 2437.0, 2439.0, 2440.0, 2441.0, 2443.0, 2444.0, 2445.0, 2446.0, 2447.0, 2449.0], \"y\": [-327616.90625, -347311.0625, -371492.46875, -400076.8125, -427777.96875, -452049.0625, -457295.75, -461904.53125, -463968.46875, -467423.375, -472350.46875, -473182.25, -479743.8125, -482197.9375, -483607.65625, -485773.71875, -486206.21875, -487954.0, -491242.90625, -491573.21875, -496082.8125, -497215.3125, -497917.9375, -498765.53125, -498801.5, -499047.96875, -503263.9375, -504590.40625, -505913.0, -506152.53125, -507572.3125, -508782.75, -509315.71875, -510723.90625, -511569.125, -512162.0, -513047.3125, -513196.5625, -514056.5, -515344.53125, -515769.09375, -517367.0, -517971.75, -518394.09375, -518940.65625, -519113.90625, -519502.21875, -520977.625, -521473.375, -523381.78125, -523773.40625, -524165.75, -524397.0, -524647.6875, -525847.0625, -526626.5625, -528134.25, -528466.1875, -528804.125, -529018.875, -529233.0625, -529242.0, -530580.25, -531354.5625, -533032.8125, -533253.4375, -533524.75, -533610.625, -533748.4375, -534754.8125, -534977.125, -536366.875, -536551.125, -536809.1875, -536872.25, -537040.5, -537862.125, -538094.0625, -539171.25, -539359.0625, -539593.375, -539679.0625, -539866.0625, -540478.75, -540764.9375, -541521.25, -541724.875, -541905.25, -542066.25, -542172.5625, -542252.0625, -542919.75, -543340.125, -544161.875, -544320.5625, -544499.125, -544593.0625, -544717.9375, -545207.5, -545585.375, -546228.3125, -546381.25, -546557.25, -546647.3125, -546798.0, -547168.125, -547466.8125, -547931.3125, -548088.875, -548232.5, -548363.4375, -548463.5, -548543.125, -548556.125, -549136.625, -549488.3125, -550258.875, -550349.6875, -550510.0, -550519.0625, -550654.5, -551054.1875, -551094.25, -551611.8125, -551737.875, -551835.8125, -551932.8125, -551973.0, -552007.5625, -552500.9375, -552615.5625, -553259.6875, -553346.0625, -553462.0, -553490.4375, -553567.125, -553951.9375, -554038.5, -554553.0, -554645.9375, -554749.75, -554798.625, -554866.6875, -555196.25, -555375.25, -555808.6875, -555900.25, -556003.25, -556056.875, -556133.125, -556405.5625, -556602.5625, -556962.9375, -557055.25, -557151.875, -557213.75, -557286.1875, -557294.0625, -557310.4375, -557745.4375, -557911.9375, -558075.625, -558090.625, -558287.1875, -558421.1875, -558473.5625, -558628.6875, -558752.8125, -558836.25, -558983.25, -559088.9375, -559183.9375, -559302.6875, -559336.625, -559462.9375, -559614.9375, -559697.25, -559885.875, -559983.0, -560055.9375, -560159.25, -560186.125, -560292.0, -560467.4375, -560547.125, -560759.3125, -560850.875, -560915.4375, -561010.0, -561030.875, -561122.6875, -561315.5625, -561383.1875, -561619.25, -561704.5625, -561763.1875, -561847.125, -561864.375, -561938.625, -562153.0, -562211.25, -562476.0, -562553.6875, -562609.0, -562680.0625, -562696.6875, -562749.625, -562990.0625, -563042.4375, -563341.0, -563409.6875, -563464.1875, -563519.5, -563538.625, -563566.4375, -563837.3125, -563889.25, -564226.75, -564284.5625, -564340.25, -564378.125, -564400.8125, -564401.1875, -564705.8125, -564764.375, -565142.9375, -565189.5625, -565246.875, -565266.9375, -565293.3125, -565529.75, -565619.5, -565938.125, -565983.1875, -566056.9375, -566066.0625, -566135.0625, -566300.8125, -566337.3125, -566544.25, -566609.0625, -566653.4375, -566713.25, -566726.625, -566772.375, -566964.0, -567007.5625, -567248.8125, -567304.8125, -567351.1875, -567395.125, -567415.125, -567434.625, -567655.8125, -567720.5625, -567999.125, -568045.3125, -568095.6875, -568121.9375, -568149.8125, -568328.625, -568451.6875, -568691.0, -568735.75, -568797.9375, -568816.0625, -568874.0625, -569002.625, -569061.125, -569222.8125, -569278.4375, -569322.25, -569372.8125, -569394.6875, -569432.4375, -569582.75, -569661.5625, -569852.1875, -569900.6875, -569946.4375, -569983.4375, -570011.8125, -570026.6875, -570202.125, -570327.875, -570550.125, -570590.6875, -570639.875, -570661.6875, -570697.6875, -570832.375, -570920.125, -571098.75, -571142.25, -571191.3125, -571218.375, -571259.4375, -571368.8125, -571466.75, -571605.5625, -571652.375, -571696.5, -571735.1875, -571767.1875, -571790.0625, -571797.3125, -571971.9375, -572079.375, -572310.4375, -572341.5625, -572393.4375, -572399.25, -572444.875, -572568.375, -572594.0, -572753.875, -572796.9375, -572831.4375, -572866.75, -572883.5625, -572900.6875, -573053.6875, -573119.8125, -573319.0625, -573352.5, -573395.125, -573410.8125, -573442.375, -573562.625, -573620.625, -573778.3125, -573816.3125, -573855.125, -573880.875, -573909.0, -573912.5, -573915.8125, -574107.3125, -574181.375, -574252.375, -574259.0, -574345.25, -574401.75, -574425.6875, -574490.75, -574544.5, -574584.0625, -574648.0, -574693.25, -574736.0625, -574786.4375, -574805.75, -574858.625, -574923.5, -574970.0625, -575051.8125, -575093.6875, -575129.5, -575171.4375, -575193.375, -575230.0625, -575230.3125, -575251.4375, -575398.3125, -575398.5625, -575594.6875, -575622.0625, -575657.125, -575666.625, -575691.0, -575812.0625, -575843.1875, -575999.4375, -576032.0, -576062.875, -576085.3125, -576102.0625, -576105.375, -576251.1875, -576313.625, -576500.5625, -576526.375, -576561.0, -576570.875, -576593.125, -576706.1875, -576747.9375, -576901.1875, -576929.0625, -576965.5, -576977.5, -577009.4375, -577098.75, -577136.25, -577249.0, -577283.375, -577310.625, -577341.125, -577353.6875, -577374.8125, -577479.5625, -577520.875, -577653.625, -577684.1875, -577711.6875, -577735.1875, -577748.5625, -577758.3125, -577880.1875, -577925.4375, -578080.0, -578106.3125, -578134.375, -578150.125, -578164.6875, -578266.4375, -578346.875, -578487.875, -578512.3125, -578550.75, -578556.875, -578596.1875, -578667.125, -578688.0625, -578776.3125, -578810.75, -578832.6875, -578867.5625, -578871.875, -578904.1875, -578987.0625, -579002.9375, -579106.8125, -579138.5, -579159.25, -579189.1875, -579193.0625, -579216.6875, -579314.0, -579324.8125, -579447.9375, -579476.25, -579497.1875, -579520.375, -579525.25, -579537.25, -579652.0625, -579659.9375, -579806.1875, -579829.875, -579852.125, -579866.9375, -579874.375, -579975.125, -580054.5625, -580193.9375, -580213.625, -580249.9375, -580250.875, -580287.625, -580355.4375, -580365.125, -580450.1875, -580481.1875, -580499.0625, -580530.125, -580531.3125, -580558.875, -580640.0625, -580647.125, -580750.5625, -580777.9375, -580796.3125, -580820.125, -580824.0625, -580838.8125, -580936.9375, -580945.9375, -581072.5, -581094.625, -581115.8125, -581129.875, -581139.0, -581226.0625, -581299.375, -581418.0, -581437.625, -581468.5625, -581473.6875, -581503.625, -581565.1875, -581583.0, -581660.8125, -581687.75, -581707.0, -581731.9375, -581739.125, -581758.5625, -581833.25, -581856.875, -581952.75, -581976.0, -581996.75, -582014.25, -582025.5, -582032.125, -582122.0625, -582166.3125, -582283.375, -582301.8125, -582325.9375, -582334.25, -582351.3125, -582422.25, -582455.5625, -582550.3125, -582571.0, -582594.9375, -582606.3125, -582625.8125, -582684.6875, -582726.4375, -582802.0, -582824.875, -582846.1875, -582864.375, -582879.0, -582888.375, -582889.0625, -582985.5, -583026.9375, -583157.5, -583170.3125, -583198.125, -583236.125, -583268.4375, -583316.0, -583339.875, -583360.6875, -583384.9375, -583398.0, -583420.0, -583465.0625, -583505.875, -583563.125, -583585.9375, -583606.375, -583626.75, -583640.875, -583655.9375, -583658.25, -583662.0, -583759.5, -583797.0, -583833.375, -583838.5625, -583881.375, -583912.0625, -583925.625, -583962.375, -583989.3125, -584009.5, -584040.625, -584043.625, -584076.875, -584116.5, -584129.5625, -584179.4375, -584203.4375, -584219.8125, -584244.125, -584250.25, -584271.875, -584322.6875, -584344.5, -584411.8125, -584431.9375, -584450.3125, -584466.0625, -584479.0, -584485.6875, -584487.25, -584574.1875, -584593.875, -584707.625, -584720.75, -584740.8125, -584744.0625, -584757.375, -584824.5625, -584836.9375, -584927.5625, -584943.5625, -584962.5, -584970.125, -584984.5, -585041.0, -585068.1875, -585141.0625, -585159.0625, -585176.4375, -585189.75, -585200.9375, -585205.3125, -585273.4375, -585324.25, -585412.8125, -585427.625, -585447.4375, -585454.1875, -585469.4375, -585521.625, -585548.125, -585617.875, -585634.8125, -585653.25, -585664.125, -585679.0, -585723.5, -585764.25, -585821.375, -585839.5, -585856.875, -585871.6875, -585884.1875, -585892.4375, -585894.9375, -585966.5625, -586005.125, -586102.125, -586113.8125, -586135.75, -586164.5625, -586191.8125, -586227.75, -586246.8125, -586264.25, -586283.8125, -586294.5625, -586313.125, -586313.625, -586327.75, -586387.5625, -586389.4375, -586466.75, -586483.0, -586496.0, -586507.5625, -586512.25, -586515.0, -586588.5625, -586600.875, -586696.625, -586708.5625, -586725.0625, -586728.9375, -586738.75, -586797.375, -586812.3125, -586891.4375, -586904.625, -586922.125, -586927.375, -586941.4375, -586988.625, -587007.5, -587068.125, -587084.4375, -587098.5, -587111.375, -587119.3125, -587125.25, -587182.4375, -587214.75, -587288.5, -587302.125, -587318.1875, -587325.625, -587336.9375, -587382.625, -587413.5, -587475.1875, -587489.5625, -587506.625, -587514.875, -587529.625, -587566.75, -587594.5, -587641.625, -587657.875, -587672.3125, -587686.375, -587695.75, -587705.25, -587749.25, -587788.875, -587845.6875, -587860.25, -587875.4375, -587885.9375, -587897.25, -587900.4375, -587902.5625, -587970.25, -587980.25, -588072.1875, -588080.875, -588098.8125, -588126.4375, -588149.5625, -588184.3125, -588200.625, -588214.75, -588230.875, -588239.5625, -588254.125, -588286.6875, -588315.1875, -588356.3125, -588371.875, -588385.875, -588399.9375, -588409.375, -588419.375, -588419.9375, -588422.1875, -588492.375, -588517.1875, -588542.9375, -588545.4375, -588575.4375, -588597.4375, -588606.3125, -588632.6875, -588651.75, -588665.0, -588686.5625, -588688.375, -588710.9375, -588739.875, -588748.8125, -588785.6875, -588802.1875, -588813.6875, -588830.0, -588834.9375, -588848.3125, -588885.875, -588904.5625, -588954.75, -588968.5, -588982.4375, -588992.0, -589002.875, -589004.4375, -589008.75, -589069.5625, -589070.9375, -589149.9375, -589160.125, -589172.5625, -589176.6875, -589183.0, -589233.9375, -589252.0, -589320.75, -589331.1875, -589346.75, -589349.625, -589363.375, -589401.875, -589411.8125, -589461.125, -589475.1875, -589486.0, -589498.25, -589502.75, -589510.25, -589556.9375, -589573.0625, -589633.5625, -589645.4375, -589657.625, -589665.25, -589672.6875, -589712.6875, -589749.9375, -589804.3125, -589816.0, -589831.5625, -589837.125, -589851.875, -589881.8125, -589898.5625, -589936.5, -589950.6875, -589962.1875, -589975.375, -589981.5, -589991.9375, -590027.8125, -590049.75, -590095.6875, -590108.5, -590120.5625, -590131.0, -590138.5, -590144.0, -590186.4375, -590219.875, -590274.6875, -590286.375, -590299.1875, -590306.0, -590315.75, -590350.0625, -590379.5625, -590425.9375, -590437.9375, -590451.9375, -590459.25, -590471.9375, -590499.4375, -590523.3125, -590558.0, -590571.625, -590583.4375, -590595.4375, -590603.375, -590612.75, -590612.875, -590615.3125, -590674.5625, -590695.25, -590717.0625, -590719.4375, -590744.5625, -590763.875, -590771.625, -590794.75, -590810.875, -590821.9375, -590840.125, -590842.5, -590861.0625, -590886.125, -590894.75, -590927.0625, -590941.125, -590951.1875, -590964.6875, -590969.75, -590980.375, -591013.125, -591032.8125, -591076.75, -591088.4375, -591100.6875, -591108.6875, -591119.1875, -591119.4375, -591125.0625, -591175.75, -591195.4375, -591214.625, -591219.3125, -591241.125, -591259.25, -591269.1875, -591291.0625, -591305.5, -591317.625, -591333.5625, -591337.9375, -591354.25, -591377.3125, -591390.3125, -591420.1875, -591433.0, -591443.9375, -591456.3125, -591463.3125, -591472.5, -591472.875, -591474.9375, -591530.4375, -591552.0625, -591573.375, -591575.6875, -591602.0625, -591618.5, -591626.1875, -591644.3125, -591660.8125, -591674.25, -591694.9375, -591708.125, -591720.5, -591734.5, -591741.8125, -591755.5, -591756.125, -591766.6875, -591803.9375, -591808.125, -591858.125, -591868.4375, -591879.0, -591885.3125, -591892.8125, -591926.125, -591951.0625, -591993.875, -592004.9375, -592015.75, -592023.75, -592031.375, -592034.1875, -592073.625, -592112.0, -592162.6875, -592172.125, -592184.375, -592189.1875, -592198.6875, -592229.0, -592248.75, -592290.0, -592300.5625, -592312.1875, -592318.875, -592329.1875, -592354.4375, -592377.625, -592409.625, -592421.25, -592431.5625, -592441.75, -592448.9375, -592456.125, -592456.625, -592457.4375, -592511.6875, -592530.875, -592550.6875, -592552.0, -592575.1875, -592591.9375, -592598.1875, -592618.3125, -592632.75, -592642.5625, -592659.0, -592659.9375, -592677.125, -592699.1875, -592705.5, -592734.0625, -592746.4375, -592754.875, -592766.9375, -592770.4375, -592780.5625, -592809.75, -592823.3125, -592862.5625, -592872.5625, -592883.4375, -592890.25, -592898.75, -592899.25, -592902.9375, -592949.375, -592967.0625, -592984.5, -592988.0, -593008.0, -593023.875, -593031.6875, -593050.9375, -593063.8125, -593074.1875, -593088.625, -593091.8125, -593106.6875, -593127.0625, -593136.75, -593163.3125, -593174.75, -593184.25, -593194.9375, -593200.6875, -593209.0, -593235.5625, -593258.1875, -593294.0, -593304.1875, -593315.125, -593321.75, -593331.5, -593331.75, -593338.3125, -593377.625, -593393.1875, -593408.4375, -593413.5, -593430.4375, -593445.75, -593455.375, -593474.0, -593486.0, -593496.1875, -593508.9375, -593514.0625, -593526.5, -593545.6875, -593560.3125, -593585.375, -593596.25, -593606.0625, -593615.8125, -593622.75, -593629.75, -593632.625, -593633.0, -593678.125, -593689.25, -593751.25, -593756.8125, -593769.625, -593787.125, -593800.0, -593821.8125, -593832.75, -593842.0, -593853.375, -593858.0625, -593869.3125, -593889.8125, -593904.4375, -593930.3125, -593940.8125, -593949.6875, -593959.8125, -593964.9375, -593973.4375, -593997.5625, -594015.5625, -594046.4375, -594056.5, -594065.4375, -594073.5625, -594079.375, -594084.8125, -594113.5, -594138.0, -594174.625, -594183.625, -594193.1875, -594199.4375, -594206.375, -594207.75, -594208.5, -594252.75, -594256.6875, -594317.25, -594322.0, -594333.9375, -594351.3125, -594364.25, -594385.9375, -594396.25, -594405.125, -594415.6875, -594420.4375, -594430.1875, -594450.5625, -594465.4375, -594491.4375, -594501.3125, -594510.0, -594518.9375, -594524.0625, -594531.5, -594555.625, -594574.5, -594605.4375, -594614.6875, -594623.4375, -594631.0, -594636.4375, -594640.8125, -594669.4375, -594696.4375, -594732.9375, -594741.25, -594750.625, -594755.9375, -594762.9375, -594763.1875, -594764.3125, -594807.375, -594824.125, -594840.6875, -594842.3125, -594862.75, -594875.4375, -594880.875, -594894.875, -594907.5625, -594918.1875, -594934.125, -594944.125, -594953.5625, -594964.25, -594970.0625, -594979.875, -594980.75, -594988.5625, -595017.3125, -595021.0625, -595060.375, -595068.25, -595076.5, -595080.875, -595086.75, -595112.3125, -595128.4375, -595161.4375, -595169.875, -595178.125, -595184.4375, -595189.75, -595192.3125, -595222.6875, -595247.875, -595286.875, -595294.1875, -595303.1875, -595307.125, -595313.875, -595337.5, -595353.9375, -595385.9375, -595394.0625, -595403.3125, -595408.0625, -595416.25, -595435.5625, -595451.6875, -595476.3125, -595485.25, -595493.3125, -595501.3125, -595506.4375, -595512.3125, -595535.0625, -595556.4375, -595585.375, -595593.6875, -595602.0, -595608.375, -595614.625, -595617.3125, -595618.125, -595654.0, -595666.625, -595716.0, -595721.0, -595731.75, -595745.75, -595757.3125, -595774.75, -595784.0625, -595792.0625, -595801.75, -595806.0625, -595815.8125, -595831.875, -595844.875, -595865.5625, -595874.4375, -595881.9375, -595890.6875, -595895.25, -595903.0, -595921.9375, -595937.625, -595962.0, -595970.4375, -595978.125, -595985.5, -595990.5625, -595995.75, -596018.25, -596038.875, -596067.875, -596075.8125, -596083.625, -596089.5625, -596095.5, -596097.8125, -596098.5, -596133.75, -596142.6875, -596191.125, -596195.6875, -596205.8125, -596219.9375, -596231.0, -596248.0, -596256.8125, -596264.375, -596273.5, -596277.6875, -596286.5625, -596302.75, -596315.1875, -596335.5625, -596344.125, -596351.3125, -596359.5, -596363.9375, -596370.6875, -596389.625, -596405.125, -596429.0, -596437.0, -596444.5, -596451.5, -596456.1875, -596460.6875, -596483.25, -596503.6875, -596532.4375, -596539.9375, -596547.5, -596552.8125, -596558.3125, -596560.0, -596560.9375, -596595.25, -596600.9375, -596648.5, -596652.5625, -596662.1875, -596676.0, -596686.625, -596703.5, -596711.75, -596719.125, -596727.8125, -596731.8125, -596740.0, -596756.0625, -596768.0, -596788.1875, -596796.375, -596803.1875, -596810.9375, -596815.0625, -596821.1875, -596840.25, -596854.9375, -596878.9375, -596886.5, -596893.4375, -596899.9375, -596904.6875, -596908.4375, -596930.75, -596951.375, -596979.875, -596986.875, -596994.25, -596999.0625, -597004.4375, -597005.8125, -597006.5, -597040.3125, -597042.4375, -597089.3125, -597093.3125, -597102.3125, -597115.625, -597125.75, -597142.8125, -597151.0, -597157.75, -597166.0, -597169.625, -597177.1875, -597193.125, -597204.875, -597225.125, -597232.75, -597239.375, -597246.25, -597250.3125, -597256.0, -597275.0, -597290.0625, -597313.8125, -597321.125, -597327.75, -597333.75, -597338.1875, -597341.4375, -597341.5, -597372.125, -597388.1875, -597430.625, -597434.5, -597444.5, -597456.0, -597464.875, -597479.0625, -597487.125, -597493.875, -597502.625, -597505.875, -597514.625, -597528.25, -597537.75, -597554.5625, -597562.375, -597568.8125, -597576.5, -597580.1875, -597587.125, -597603.0625, -597614.25, -597634.25, -597641.4375, -597647.9375, -597654.875, -597658.75, -597663.75, -597682.5, -597697.0625, -597720.875, -597727.8125, -597734.375, -597739.8125, -597744.375, -597747.0625, -597769.25, -597790.6875, -597819.0625, -597825.25, -597832.5, -597836.25, -597841.6875, -597859.0625, -597874.75, -597898.375, -597904.9375, -597912.25, -597916.75, -597923.5, -597937.75, -597951.375, -597969.375, -597976.5, -597983.0625, -597989.6875, -597993.9375, -597999.0625, -597999.6875, -598001.4375, -598031.625, -598043.0625, -598054.4375, -598056.4375, -598069.5625, -598079.625, -598084.5, -598096.5, -598104.9375, -598111.625, -598121.0, -598122.6875, -598132.625, -598145.75, -598151.25, -598168.25, -598175.5625, -598181.5, -598188.75, -598192.0, -598197.5625, -598214.5625, -598227.6875, -598250.4375, -598257.125, -598264.0, -598268.4375, -598274.3125, -598274.6875, -598278.75, -598304.375, -598304.5, -598337.875, -598343.625, -598348.9375, -598352.5, -598354.6875, -598377.625, -598395.125, -598426.75, -598431.75, -598439.9375, -598441.0625, -598449.0625, -598465.1875, -598469.5, -598489.875, -598497.125, -598502.25, -598509.0625, -598510.8125, -598516.3125, -598535.8125, -598541.5, -598566.6875, -598573.0625, -598578.5625, -598583.6875, -598586.375, -598588.75, -598612.5, -598622.875, -598653.75, -598659.125, -598665.625, -598668.375, -598672.75, -598691.9375, -598703.625, -598730.0, -598735.6875, -598742.5625, -598745.5, -598751.75, -598767.0625, -598776.6875, -598796.1875, -598802.9375, -598808.6875, -598814.5625, -598818.0625, -598822.0625, -598840.375, -598854.375, -598877.875, -598884.3125, -598890.3125, -598894.5625, -598899.125, -598900.25, -598900.75, -598929.5625, -598934.0625, -598973.75, -598977.0625, -598984.875, -598996.375, -599005.0625, -599019.375, -599026.125, -599031.9375, -599038.9375, -599042.25, -599048.875, -599062.4375, -599072.625, -599089.75, -599096.4375, -599102.0, -599108.3125, -599112.0, -599116.625, -599132.625, -599146.75, -599167.5, -599173.4375, -599179.625, -599184.5, -599188.8125, -599191.375, -599192.0625, -599217.5, -599228.75, -599263.8125, -599267.625, -599275.4375, -599285.875, -599294.625, -599307.1875, -599313.9375, -599320.0, -599326.8125, -599330.625, -599337.3125, -599349.0625, -599359.75, -599374.75, -599381.3125, -599387.0625, -599393.3125, -599397.0625, -599402.3125, -599402.625, -599405.3125, -599430.5625, -599440.5625, -599450.0625, -599452.5, -599463.75, -599472.4375, -599477.1875, -599488.0, -599495.375, -599501.25, -599509.5, -599511.5, -599520.125, -599531.25, -599537.4375, -599551.9375, -599558.4375, -599563.8125, -599570.125, -599573.3125, -599578.5625, -599593.0625, -599605.3125, -599625.0, -599630.4375, -599636.875, -599641.0, -599646.125, -599647.25, -599650.5, -599672.625, -599675.25, -599704.1875, -599708.9375, -599714.1875, -599717.125, -599719.875, -599739.125, -599752.125, -599778.375, -599783.0625, -599789.9375, -599791.5625, -599798.25, -599812.3125, -599818.25, -599836.6875, -599843.0, -599847.625, -599853.0, -599855.5, -599859.5, -599876.75, -599886.0625, -599908.625, -599914.0625, -599919.5625, -599923.25, -599927.0, -599927.8125, -599948.75, -599967.4375, -599994.9375, -599999.1875, -600005.6875, -600007.4375, -600012.75, -600028.4375, -600035.0, -600055.75, -600061.125, -600066.5625, -600070.25, -600074.5, -600075.0, -600076.375, -600101.6875, -600111.5, -600121.0625, -600122.625, -600133.75, -600142.0, -600145.875, -600155.625, -600162.6875, -600168.0, -600176.625, -600177.5, -600186.3125, -600196.875, -600200.9375, -600214.3125, -600220.4375, -600225.3125, -600231.8125, -600233.625, -600239.375, -600252.8125, -600260.0, -600278.3125, -600283.875, -600288.8125, -600293.25, -600297.1875, -600298.875, -600300.125, -600322.875, -600328.0, -600357.625, -600361.5625, -600367.1875, -600368.375, -600371.9375, -600390.0, -600395.5625, -600419.5, -600424.125, -600429.8125, -600431.9375, -600436.4375, -600451.1875, -600459.375, -600478.625, -600483.75, -600488.875, -600492.8125, -600496.125, -600497.875, -600515.8125, -600531.5, -600554.875, -600559.3125, -600565.0625, -600567.4375, -600572.0625, -600585.6875, -600594.625, -600613.25, -600618.1875, -600623.625, -600627.1875, -600631.625, -600632.3125, -600634.3125, -600655.9375, -600657.3125, -600685.625, -600689.5625, -600694.5, -600696.1875, -600698.8125, -600716.875, -600724.0625, -600748.6875, -600752.75, -600758.4375, -600760.3125, -600764.9375, -600779.1875, -600784.625, -600802.9375, -600808.0625, -600812.625, -600817.125, -600819.5, -600821.75, -600839.125, -600849.8125, -600872.4375, -600877.0625, -600882.125, -600884.4375, -600888.5625, -600902.3125, -600912.25, -600930.9375, -600935.6875, -600941.1875, -600944.1875, -600948.625, -600948.6875, -600951.125, -600972.0625, -600980.1875, -600988.25, -600990.125, -600999.3125, -601006.875, -601010.8125, -601019.875, -601026.0, -601031.1875, -601038.0625, -601039.625, -601046.875, -601056.375, -601061.1875, -601073.4375, -601078.9375, -601083.5, -601088.8125, -601091.125, -601095.875, -601107.875, -601116.875, -601133.0, -601137.875, -601142.9375, -601146.4375, -601150.8125, -601152.0625, -601154.0625, -601173.0, -601177.25, -601202.5625, -601206.25, -601211.0, -601212.875, -601215.875, -601231.625, -601239.1875, -601260.3125, -601264.5, -601269.75, -601272.0, -601276.1875, -601288.8125, -601296.25, -601312.4375, -601317.625, -601322.125, -601325.9375, -601328.8125, -601331.1875, -601346.3125, -601360.25, -601380.125, -601384.3125, -601389.5, -601392.0, -601396.25, -601408.125, -601417.6875, -601433.625, -601438.4375, -601443.5, -601446.875, -601450.875, -601451.8125, -601454.1875, -601472.625, -601475.1875, -601499.3125, -601503.25, -601507.75, -601509.5, -601512.0625, -601527.5625, -601535.75, -601556.75, -601560.6875, -601565.9375, -601567.75, -601572.25, -601584.4375, -601590.5625, -601606.625, -601611.375, -601615.375, -601619.375, -601622.1875, -601624.1875, -601639.125, -601650.875, -601670.375, -601674.6875, -601679.3125, -601681.8125, -601685.6875, -601697.6875, -601706.9375, -601722.9375, -601727.4375, -601732.375, -601735.4375, -601739.4375, -601740.0625, -601742.1875, -601760.5, -601761.6875, -601785.8125, -601789.5625, -601793.625, -601795.5625, -601797.8125, -601813.375, -601820.8125, -601841.75, -601845.5, -601850.5625, -601852.1875, -601856.625, -601868.4375, -601874.0, -601889.875, -601894.375, -601898.1875, -601902.0625, -601904.6875, -601906.6875, -601921.3125, -601932.1875, -601951.5625, -601955.5, -601960.1875, -601962.375, -601966.1875, -601978.0, -601986.375, -602002.0, -602006.625, -602011.0625, -602014.125, -602018.0625, -602018.375, -602020.5, -602038.5625, -602039.4375, -602063.3125, -602066.6875, -602070.875, -602072.375, -602074.5625, -602089.9375, -602096.1875, -602116.6875, -602120.625, -602125.125, -602126.625, -602130.8125, -602142.625, -602148.0, -602163.625, -602168.0, -602171.875, -602175.4375, -602177.875, -602179.5, -602194.4375, -602205.0, -602224.375, -602228.125, -602232.6875, -602234.4375, -602238.3125, -602249.6875, -602257.3125, -602272.625, -602276.8125, -602281.1875, -602283.9375, -602287.4375, -602288.125, -602289.6875, -602307.875, -602308.5, -602332.5, -602335.625, -602339.6875, -602340.8125, -602342.9375, -602358.1875, -602362.875, -602382.9375, -602386.375, -602390.9375, -602392.375, -602395.9375, -602408.0625, -602413.4375, -602429.0, -602433.0, -602437.0, -602440.125, -602442.4375, -602443.8125, -602458.4375, -602470.125, -602489.3125, -602492.8125, -602497.4375, -602499.0, -602502.9375, -602514.0, -602519.8125, -602534.75, -602538.9375, -602543.0, -602545.8125, -602548.75, -602549.375, -602550.625, -602568.9375, -602569.875, -602593.8125, -602596.75, -602600.875, -602601.6875, -602604.25, -602618.75, -602621.625, -602641.0625, -602644.5625, -602648.625, -602650.3125, -602653.125, -602665.4375, -602671.125, -602686.8125, -602690.625, -602694.75, -602697.5, -602700.125, -602700.8125, -602715.625]}],                        {\"template\": {\"data\": {\"bar\": [{\"error_x\": {\"color\": \"#2a3f5f\"}, \"error_y\": {\"color\": \"#2a3f5f\"}, \"marker\": {\"line\": {\"color\": \"#E5ECF6\", \"width\": 0.5}}, \"type\": \"bar\"}], \"barpolar\": [{\"marker\": {\"line\": {\"color\": \"#E5ECF6\", \"width\": 0.5}}, \"type\": \"barpolar\"}], \"carpet\": [{\"aaxis\": {\"endlinecolor\": \"#2a3f5f\", \"gridcolor\": \"white\", \"linecolor\": \"white\", \"minorgridcolor\": \"white\", \"startlinecolor\": \"#2a3f5f\"}, \"baxis\": {\"endlinecolor\": \"#2a3f5f\", \"gridcolor\": \"white\", \"linecolor\": \"white\", \"minorgridcolor\": \"white\", \"startlinecolor\": \"#2a3f5f\"}, \"type\": \"carpet\"}], \"choropleth\": [{\"colorbar\": {\"outlinewidth\": 0, \"ticks\": \"\"}, \"type\": \"choropleth\"}], \"contour\": [{\"colorbar\": {\"outlinewidth\": 0, \"ticks\": \"\"}, \"colorscale\": [[0.0, \"#0d0887\"], [0.1111111111111111, \"#46039f\"], [0.2222222222222222, \"#7201a8\"], [0.3333333333333333, \"#9c179e\"], [0.4444444444444444, \"#bd3786\"], [0.5555555555555556, \"#d8576b\"], [0.6666666666666666, \"#ed7953\"], [0.7777777777777778, \"#fb9f3a\"], [0.8888888888888888, \"#fdca26\"], [1.0, \"#f0f921\"]], \"type\": \"contour\"}], \"contourcarpet\": [{\"colorbar\": {\"outlinewidth\": 0, \"ticks\": \"\"}, \"type\": \"contourcarpet\"}], \"heatmap\": [{\"colorbar\": {\"outlinewidth\": 0, \"ticks\": \"\"}, \"colorscale\": [[0.0, \"#0d0887\"], [0.1111111111111111, \"#46039f\"], [0.2222222222222222, \"#7201a8\"], [0.3333333333333333, \"#9c179e\"], [0.4444444444444444, \"#bd3786\"], [0.5555555555555556, \"#d8576b\"], [0.6666666666666666, \"#ed7953\"], [0.7777777777777778, \"#fb9f3a\"], [0.8888888888888888, \"#fdca26\"], [1.0, \"#f0f921\"]], \"type\": \"heatmap\"}], \"heatmapgl\": [{\"colorbar\": {\"outlinewidth\": 0, \"ticks\": \"\"}, \"colorscale\": [[0.0, \"#0d0887\"], [0.1111111111111111, \"#46039f\"], [0.2222222222222222, \"#7201a8\"], [0.3333333333333333, \"#9c179e\"], [0.4444444444444444, \"#bd3786\"], [0.5555555555555556, \"#d8576b\"], [0.6666666666666666, \"#ed7953\"], [0.7777777777777778, \"#fb9f3a\"], [0.8888888888888888, \"#fdca26\"], [1.0, \"#f0f921\"]], \"type\": \"heatmapgl\"}], \"histogram\": [{\"marker\": {\"colorbar\": {\"outlinewidth\": 0, \"ticks\": \"\"}}, \"type\": \"histogram\"}], \"histogram2d\": [{\"colorbar\": {\"outlinewidth\": 0, \"ticks\": \"\"}, \"colorscale\": [[0.0, \"#0d0887\"], [0.1111111111111111, \"#46039f\"], [0.2222222222222222, \"#7201a8\"], [0.3333333333333333, \"#9c179e\"], [0.4444444444444444, \"#bd3786\"], [0.5555555555555556, \"#d8576b\"], [0.6666666666666666, \"#ed7953\"], [0.7777777777777778, \"#fb9f3a\"], [0.8888888888888888, \"#fdca26\"], [1.0, \"#f0f921\"]], \"type\": \"histogram2d\"}], \"histogram2dcontour\": [{\"colorbar\": {\"outlinewidth\": 0, \"ticks\": \"\"}, \"colorscale\": [[0.0, \"#0d0887\"], [0.1111111111111111, \"#46039f\"], [0.2222222222222222, \"#7201a8\"], [0.3333333333333333, \"#9c179e\"], [0.4444444444444444, \"#bd3786\"], [0.5555555555555556, \"#d8576b\"], [0.6666666666666666, \"#ed7953\"], [0.7777777777777778, \"#fb9f3a\"], [0.8888888888888888, \"#fdca26\"], [1.0, \"#f0f921\"]], \"type\": \"histogram2dcontour\"}], \"mesh3d\": [{\"colorbar\": {\"outlinewidth\": 0, \"ticks\": \"\"}, \"type\": \"mesh3d\"}], \"parcoords\": [{\"line\": {\"colorbar\": {\"outlinewidth\": 0, \"ticks\": \"\"}}, \"type\": \"parcoords\"}], \"pie\": [{\"automargin\": true, \"type\": \"pie\"}], \"scatter\": [{\"marker\": {\"colorbar\": {\"outlinewidth\": 0, \"ticks\": \"\"}}, \"type\": \"scatter\"}], \"scatter3d\": [{\"line\": {\"colorbar\": {\"outlinewidth\": 0, \"ticks\": \"\"}}, \"marker\": {\"colorbar\": {\"outlinewidth\": 0, \"ticks\": \"\"}}, \"type\": \"scatter3d\"}], \"scattercarpet\": [{\"marker\": {\"colorbar\": {\"outlinewidth\": 0, \"ticks\": \"\"}}, \"type\": \"scattercarpet\"}], \"scattergeo\": [{\"marker\": {\"colorbar\": {\"outlinewidth\": 0, \"ticks\": \"\"}}, \"type\": \"scattergeo\"}], \"scattergl\": [{\"marker\": {\"colorbar\": {\"outlinewidth\": 0, \"ticks\": \"\"}}, \"type\": \"scattergl\"}], \"scattermapbox\": [{\"marker\": {\"colorbar\": {\"outlinewidth\": 0, \"ticks\": \"\"}}, \"type\": \"scattermapbox\"}], \"scatterpolar\": [{\"marker\": {\"colorbar\": {\"outlinewidth\": 0, \"ticks\": \"\"}}, \"type\": \"scatterpolar\"}], \"scatterpolargl\": [{\"marker\": {\"colorbar\": {\"outlinewidth\": 0, \"ticks\": \"\"}}, \"type\": \"scatterpolargl\"}], \"scatterternary\": [{\"marker\": {\"colorbar\": {\"outlinewidth\": 0, \"ticks\": \"\"}}, \"type\": \"scatterternary\"}], \"surface\": [{\"colorbar\": {\"outlinewidth\": 0, \"ticks\": \"\"}, \"colorscale\": [[0.0, \"#0d0887\"], [0.1111111111111111, \"#46039f\"], [0.2222222222222222, \"#7201a8\"], [0.3333333333333333, \"#9c179e\"], [0.4444444444444444, \"#bd3786\"], [0.5555555555555556, \"#d8576b\"], [0.6666666666666666, \"#ed7953\"], [0.7777777777777778, \"#fb9f3a\"], [0.8888888888888888, \"#fdca26\"], [1.0, \"#f0f921\"]], \"type\": \"surface\"}], \"table\": [{\"cells\": {\"fill\": {\"color\": \"#EBF0F8\"}, \"line\": {\"color\": \"white\"}}, \"header\": {\"fill\": {\"color\": \"#C8D4E3\"}, \"line\": {\"color\": \"white\"}}, \"type\": \"table\"}]}, \"layout\": {\"annotationdefaults\": {\"arrowcolor\": \"#2a3f5f\", \"arrowhead\": 0, \"arrowwidth\": 1}, \"autotypenumbers\": \"strict\", \"coloraxis\": {\"colorbar\": {\"outlinewidth\": 0, \"ticks\": \"\"}}, \"colorscale\": {\"diverging\": [[0, \"#8e0152\"], [0.1, \"#c51b7d\"], [0.2, \"#de77ae\"], [0.3, \"#f1b6da\"], [0.4, \"#fde0ef\"], [0.5, \"#f7f7f7\"], [0.6, \"#e6f5d0\"], [0.7, \"#b8e186\"], [0.8, \"#7fbc41\"], [0.9, \"#4d9221\"], [1, \"#276419\"]], \"sequential\": [[0.0, \"#0d0887\"], [0.1111111111111111, \"#46039f\"], [0.2222222222222222, \"#7201a8\"], [0.3333333333333333, \"#9c179e\"], [0.4444444444444444, \"#bd3786\"], [0.5555555555555556, \"#d8576b\"], [0.6666666666666666, \"#ed7953\"], [0.7777777777777778, \"#fb9f3a\"], [0.8888888888888888, \"#fdca26\"], [1.0, \"#f0f921\"]], \"sequentialminus\": [[0.0, \"#0d0887\"], [0.1111111111111111, \"#46039f\"], [0.2222222222222222, \"#7201a8\"], [0.3333333333333333, \"#9c179e\"], [0.4444444444444444, \"#bd3786\"], [0.5555555555555556, \"#d8576b\"], [0.6666666666666666, \"#ed7953\"], [0.7777777777777778, \"#fb9f3a\"], [0.8888888888888888, \"#fdca26\"], [1.0, \"#f0f921\"]]}, \"colorway\": [\"#636efa\", \"#EF553B\", \"#00cc96\", \"#ab63fa\", \"#FFA15A\", \"#19d3f3\", \"#FF6692\", \"#B6E880\", \"#FF97FF\", \"#FECB52\"], \"font\": {\"color\": \"#2a3f5f\"}, \"geo\": {\"bgcolor\": \"white\", \"lakecolor\": \"white\", \"landcolor\": \"#E5ECF6\", \"showlakes\": true, \"showland\": true, \"subunitcolor\": \"white\"}, \"hoverlabel\": {\"align\": \"left\"}, \"hovermode\": \"closest\", \"mapbox\": {\"style\": \"light\"}, \"paper_bgcolor\": \"white\", \"plot_bgcolor\": \"#E5ECF6\", \"polar\": {\"angularaxis\": {\"gridcolor\": \"white\", \"linecolor\": \"white\", \"ticks\": \"\"}, \"bgcolor\": \"#E5ECF6\", \"radialaxis\": {\"gridcolor\": \"white\", \"linecolor\": \"white\", \"ticks\": \"\"}}, \"scene\": {\"xaxis\": {\"backgroundcolor\": \"#E5ECF6\", \"gridcolor\": \"white\", \"gridwidth\": 2, \"linecolor\": \"white\", \"showbackground\": true, \"ticks\": \"\", \"zerolinecolor\": \"white\"}, \"yaxis\": {\"backgroundcolor\": \"#E5ECF6\", \"gridcolor\": \"white\", \"gridwidth\": 2, \"linecolor\": \"white\", \"showbackground\": true, \"ticks\": \"\", \"zerolinecolor\": \"white\"}, \"zaxis\": {\"backgroundcolor\": \"#E5ECF6\", \"gridcolor\": \"white\", \"gridwidth\": 2, \"linecolor\": \"white\", \"showbackground\": true, \"ticks\": \"\", \"zerolinecolor\": \"white\"}}, \"shapedefaults\": {\"line\": {\"color\": \"#2a3f5f\"}}, \"ternary\": {\"aaxis\": {\"gridcolor\": \"white\", \"linecolor\": \"white\", \"ticks\": \"\"}, \"baxis\": {\"gridcolor\": \"white\", \"linecolor\": \"white\", \"ticks\": \"\"}, \"bgcolor\": \"#E5ECF6\", \"caxis\": {\"gridcolor\": \"white\", \"linecolor\": \"white\", \"ticks\": \"\"}}, \"title\": {\"x\": 0.05}, \"xaxis\": {\"automargin\": true, \"gridcolor\": \"white\", \"linecolor\": \"white\", \"ticks\": \"\", \"title\": {\"standoff\": 15}, \"zerolinecolor\": \"white\", \"zerolinewidth\": 2}, \"yaxis\": {\"automargin\": true, \"gridcolor\": \"white\", \"linecolor\": \"white\", \"ticks\": \"\", \"title\": {\"standoff\": 15}, \"zerolinecolor\": \"white\", \"zerolinewidth\": 2}}}, \"title\": {\"text\": \"Energy Minimization\"}, \"xaxis\": {\"title\": {\"text\": \"Energy Minimization Step\"}}, \"yaxis\": {\"title\": {\"text\": \"Potential Energy KJ/mol-1\"}}},                        {\"responsive\": true}                    ).then(function(){\n",
       "                            \n",
       "var gd = document.getElementById('ce60fcc1-cd4a-42c7-ab16-0736b0cf5697');\n",
       "var x = new MutationObserver(function (mutations, observer) {{\n",
       "        var display = window.getComputedStyle(gd).display;\n",
       "        if (!display || display === 'none') {{\n",
       "            console.log([gd, 'removed!']);\n",
       "            Plotly.purge(gd);\n",
       "            observer.disconnect();\n",
       "        }}\n",
       "}});\n",
       "\n",
       "// Listen for the removal of the full notebook cells\n",
       "var notebookContainer = gd.closest('#notebook-container');\n",
       "if (notebookContainer) {{\n",
       "    x.observe(notebookContainer, {childList: true});\n",
       "}}\n",
       "\n",
       "// Listen for the clearing of the current output cell\n",
       "var outputEl = gd.closest('.output');\n",
       "if (outputEl) {{\n",
       "    x.observe(outputEl, {childList: true});\n",
       "}}\n",
       "\n",
       "                        })                };                });            </script>        </div>"
      ]
     },
     "metadata": {},
     "output_type": "display_data"
    }
   ],
   "source": [
    "import plotly\n",
    "import plotly.graph_objs as go\n",
    "\n",
    "#Read data from file and filter energy values higher than 1000 Kj/mol^-1\n",
    "with open(output_min_ene_xvg,'r') as energy_file:\n",
    "    x,y = map(\n",
    "        list,\n",
    "        zip(*[\n",
    "            (float(line.split()[0]),float(line.split()[1]))\n",
    "            for line in energy_file \n",
    "            if not line.startswith((\"#\",\"@\")) \n",
    "            if float(line.split()[1]) < 1000 \n",
    "        ])\n",
    "    )\n",
    "\n",
    "plotly.offline.init_notebook_mode(connected=True)\n",
    "\n",
    "fig = {\n",
    "    \"data\": [go.Scatter(x=x, y=y)],\n",
    "    \"layout\": go.Layout(title=\"Energy Minimization\",\n",
    "                        xaxis=dict(title = \"Energy Minimization Step\"),\n",
    "                        yaxis=dict(title = \"Potential Energy KJ/mol-1\")\n",
    "                       )\n",
    "}\n",
    "\n",
    "plotly.offline.iplot(fig)"
   ]
  },
  {
   "cell_type": "markdown",
   "metadata": {},
   "source": [
    "<a id=\"nvt\"></a>\n",
    "***\n",
    "## Equilibrate the system (NVT)\n",
    "Equilibrate the **protein system** in **NVT ensemble** (constant Number of particles, Volume and Temperature). Protein **heavy atoms** will be restrained using position restraining forces: movement is permitted, but only after overcoming a substantial energy penalty. The utility of position restraints is that they allow us to equilibrate our solvent around our protein, without the added variable of structural changes in the protein.\n",
    "\n",
    "- [Step 1](#eqNVTStep1): Creating portable binary run file for system equilibration\n",
    "- [Step 2](#eqNVTStep2): Equilibrate the **protein system** with **NVT** ensemble.\n",
    "- [Step 3](#eqNVTStep3): Checking **NVT Equilibration** results. Plotting **system temperature** by time during the **NVT equilibration** process. \n",
    "***\n",
    "**Building Blocks** used:\n",
    "- [Grompp](https://biobb-md.readthedocs.io/en/latest/gromacs.html#module-gromacs.grompp) from **biobb_md.gromacs.grompp** \n",
    "- [Mdrun](https://biobb-md.readthedocs.io/en/latest/gromacs.html#module-gromacs.mdrun) from **biobb_md.gromacs.mdrun** \n",
    "- [GMXEnergy](https://biobb-analysis.readthedocs.io/en/latest/gromacs.html#module-gromacs.gmx_energy) from **biobb_analysis.gromacs.gmx_energy** \n",
    "***"
   ]
  },
  {
   "cell_type": "markdown",
   "metadata": {},
   "source": [
    "<a id=\"eqNVTStep1\"></a>\n",
    "### Step 1: Creating portable binary run file for system equilibration (NVT)\n",
    "The **nvt** type of the **molecular dynamics parameters (mdp) property** contains the main default parameters to run an **NVT equilibration** with **protein restraints** (see [GROMACS mdp options](http://manual.gromacs.org/documentation/2018/user-guide/mdp-options.html)):\n",
    "\n",
    "-  Define                   = -DPOSRES\n",
    "-  integrator               = md\n",
    "-  dt                       = 0.002\n",
    "-  nsteps                   = 5000\n",
    "-  pcoupl                   = no\n",
    "-  gen_vel                  = yes\n",
    "-  gen_temp                 = 300\n",
    "-  gen_seed                 = -1\n",
    "\n",
    "In this particular example, the default parameters will be used: **md** integrator algorithm, a **step size** of **2fs**, **5,000 equilibration steps** with the protein **heavy atoms restrained**, and a temperature of **300K**.\n",
    "\n",
    "*Please note that for the sake of time this tutorial is only running 10ps of NVT equilibration, whereas in the [original example](http://www.mdtutorials.com/gmx/lysozyme/06_equil.html) the simulated time was 100ps.*"
   ]
  },
  {
   "cell_type": "code",
   "execution_count": 40,
   "metadata": {},
   "outputs": [
    {
     "name": "stderr",
     "output_type": "stream",
     "text": [
      "2021-01-14 19:33:27,792 [MainThread  ] [INFO ]  GROMACS Grompp 20191 version detected\n",
      "2021-01-14 19:33:27,796 [MainThread  ] [INFO ]  Extracting: /home/gelpi/DEVEL/BioExcel/biobb/biobb_remote/test/test_wdir/1AKI_genion_top.zip\n",
      "2021-01-14 19:33:27,797 [MainThread  ] [INFO ]  to:\n",
      "2021-01-14 19:33:27,798 [MainThread  ] [INFO ]  ['68c1f9b2-caa1-4141-b745-7e33cbf0a53d/p2g.top', '68c1f9b2-caa1-4141-b745-7e33cbf0a53d/posre.itp']\n",
      "2021-01-14 19:33:27,799 [MainThread  ] [INFO ]  Unzipping: \n",
      "2021-01-14 19:33:27,801 [MainThread  ] [INFO ]  ../test/test_wdir/1AKI_genion_top.zip\n",
      "2021-01-14 19:33:27,803 [MainThread  ] [INFO ]  To: \n",
      "2021-01-14 19:33:27,804 [MainThread  ] [INFO ]  68c1f9b2-caa1-4141-b745-7e33cbf0a53d/p2g.top\n",
      "2021-01-14 19:33:27,807 [MainThread  ] [INFO ]  68c1f9b2-caa1-4141-b745-7e33cbf0a53d/posre.itp\n",
      "2021-01-14 19:33:27,807 [MainThread  ] [INFO ]  Not using any container\n",
      "2021-01-14 19:33:28,213 [MainThread  ] [INFO ]  gmx -nobackup -nocopyright grompp -f 0a26f6d3-0e80-4c7a-a1d9-3ddd40cb0302/grompp.mdp -c ../test/test_wdir/1AKI_min.gro -r ../test/test_wdir/1AKI_min.gro -p 68c1f9b2-caa1-4141-b745-7e33cbf0a53d/p2g.top -o ../test/test_wdir/1AKI_gppnvt.tpr -po mdout.mdp -maxwarn 10\n",
      "\n",
      "2021-01-14 19:33:28,214 [MainThread  ] [INFO ]  Exit code 0\n",
      "\n",
      "2021-01-14 19:33:28,215 [MainThread  ] [INFO ]  turning H bonds into constraints...\n",
      "turning H bonds into constraints...\n",
      "turning H bonds into constraints...\n",
      "turning H bonds into constraints...\n",
      "Analysing residue names:\n",
      "There are:   129    Protein residues\n",
      "There are: 10616      Water residues\n",
      "There are:    28        Ion residues\n",
      "Analysing Protein...\n",
      "Analysing residues not classified as Protein/DNA/RNA/Water and splitting into groups...\n",
      "Determining Verlet buffer for a tolerance of 0.005 kJ/mol/ps at 300 K\n",
      "Calculated rlist for 1x1 atom pair-list as 1.035 nm, buffer size 0.035 nm\n",
      "Set rlist, assuming 4x4 atom pair-list, to 1.000 nm, buffer size 0.000 nm\n",
      "Note that mdrun will redetermine rlist based on the actual pair-list setup\n",
      "Calculating fourier grid dimensions for X Y Z\n",
      "Using a fourier grid of 60x60x60, spacing 0.117 0.117 0.117\n",
      "This run will generate roughly 12 Mb of data\n",
      "\n",
      "2021-01-14 19:33:28,215 [MainThread  ] [INFO ]                        :-) GROMACS - gmx grompp, 2019.1 (-:\n",
      "\n",
      "Executable:   /home/gelpi/miniconda3/envs/biobb_remote/bin/gmx\n",
      "Data prefix:  /home/gelpi/miniconda3/envs/biobb_remote\n",
      "Working dir:  /home/gelpi/DEVEL/BioExcel/biobb/biobb_remote/notebook\n",
      "Command line:\n",
      "  gmx -nobackup -nocopyright grompp -f 0a26f6d3-0e80-4c7a-a1d9-3ddd40cb0302/grompp.mdp -c ../test/test_wdir/1AKI_min.gro -r ../test/test_wdir/1AKI_min.gro -p 68c1f9b2-caa1-4141-b745-7e33cbf0a53d/p2g.top -o ../test/test_wdir/1AKI_gppnvt.tpr -po mdout.mdp -maxwarn 10\n",
      "\n",
      "Setting the LD random seed to -1237711754\n",
      "Generated 2145 of the 2145 non-bonded parameter combinations\n",
      "Generating 1-4 interactions: fudge = 0.5\n",
      "Generated 2145 of the 2145 1-4 parameter combinations\n",
      "Excluding 3 bonded neighbours molecule type 'Protein_chain_A'\n",
      "Excluding 2 bonded neighbours molecule type 'SOL'\n",
      "Excluding 1 bonded neighbours molecule type 'NA'\n",
      "Excluding 1 bonded neighbours molecule type 'CL'\n",
      "Setting gen_seed to -391476579\n",
      "Velocities were taken from a Maxwell distribution at 300 K\n",
      "Removing all charge groups because cutoff-scheme=Verlet\n",
      "Number of degrees of freedom in T-Coupling group Protein is 4920.79\n",
      "Number of degrees of freedom in T-Coupling group non-Protein is 63777.21\n",
      "Estimate for the relative computational load of the PME mesh part: 0.19\n",
      "\n",
      "GROMACS reminds you: \"What about my nose?\" (Aneesur Rahman, responding to an Argonne manager arguing the long hair of Charles Bennett in his group was disreputing the lab; Retold by Michael Klein)\n",
      "\n",
      "\n",
      "2021-01-14 19:33:28,216 [MainThread  ] [INFO ]  Removed: ['mdout.mdp', '68c1f9b2-caa1-4141-b745-7e33cbf0a53d', '0a26f6d3-0e80-4c7a-a1d9-3ddd40cb0302']\n"
     ]
    },
    {
     "data": {
      "text/plain": [
       "0"
      ]
     },
     "execution_count": 40,
     "metadata": {},
     "output_type": "execute_result"
    }
   ],
   "source": [
    "# Grompp: Creating portable binary run file for NVT Equilibration\n",
    "from biobb_md.gromacs.grompp import Grompp\n",
    "\n",
    "# Create prop dict and inputs/outputs\n",
    "input_min_gro = opj(local_path, pdbCode + '_min.gro')\n",
    "input_genion_top_zip = opj(local_path, pdbCode + '_genion_top.zip')\n",
    "\n",
    "output_gppnvt_tpr = opj(local_path, pdbCode+'_gppnvt.tpr')\n",
    "\n",
    "prop = {\n",
    "    'mdp':{\n",
    "        'nsteps': 5000,\n",
    "        'dt': 0.002,\n",
    "        'Define': '-DPOSRES',\n",
    "        #'tc_grps': \"DNA Water_and_ions\" # NOTE: uncomment this line if working with DNA\n",
    "    },\n",
    "    'simulation_type': 'nvt'\n",
    "}\n",
    "\n",
    "# Create and launch bb\n",
    "Grompp(input_gro_path=input_min_gro, \n",
    "       input_top_zip_path=input_genion_top_zip, \n",
    "       output_tpr_path=output_gppnvt_tpr,  \n",
    "       properties=prop).launch()"
   ]
  },
  {
   "cell_type": "markdown",
   "metadata": {},
   "source": [
    "Uploading new tpr file to remote"
   ]
  },
  {
   "cell_type": "code",
   "execution_count": 41,
   "metadata": {},
   "outputs": [
    {
     "name": "stdout",
     "output_type": "stream",
     "text": [
      "sending_file: ../test/test_wdir/1AKI_gppnvt.tpr -> scratch/test_biobb/biobb_81dff893-f0f9-49dd-b795-508c073a19e8/1AKI_gppnvt.tpr\n"
     ]
    }
   ],
   "source": [
    "slurm.task_data['local_data_bundle'].add_file(output_gppnvt_tpr)\n",
    "slurm.send_input_data(remote_path, overwrite= False)\n"
   ]
  },
  {
   "cell_type": "markdown",
   "metadata": {},
   "source": [
    "<a id=\"eqNVTStep2\"></a>\n",
    "### Step 2: Running NVT equilibration (remote)"
   ]
  },
  {
   "cell_type": "code",
   "execution_count": 43,
   "metadata": {},
   "outputs": [
    {
     "name": "stdout",
     "output_type": "stream",
     "text": [
      "Submitted job 13719189\n"
     ]
    }
   ],
   "source": [
    "# Mdrun: Running Equilibration NVT\n",
    "python_import = 'from biobb_md.gromacs.mdrun import Mdrun'\n",
    "\n",
    "# Create prop dict and inputs/outputs\n",
    "\n",
    "input_gppnvt_tpr = pdbCode + '_gppnvt.tpr'\n",
    "\n",
    "output_nvt_trr = pdbCode + '_nvt.trr'\n",
    "output_nvt_gro = pdbCode + '_nvt.gro'\n",
    "output_nvt_edr = pdbCode + '_nvt.edr'\n",
    "output_nvt_log = pdbCode + '_nvt.log'\n",
    "output_nvt_cpt = pdbCode + '_nvt.cpt'\n",
    "\n",
    "files = {\n",
    "    'input_tpr_path'  : input_gppnvt_tpr, \n",
    "    'output_trr_path' : output_nvt_trr, \n",
    "    'output_gro_path' : output_nvt_gro, \n",
    "    'output_edr_path' : output_nvt_edr, \n",
    "    'output_log_path' : output_nvt_log, \n",
    "    'output_cpt_path' : output_nvt_cpt\n",
    "}\n",
    "\n",
    "# get_remote_py_script generates one-line python script appropriate for a\n",
    "# single biobb execution\n",
    "# Alternatively, a file containing a more complex script can be loaded\n",
    "\n",
    "prop={'gmx_path':'gmx_mpi'}\n",
    "\n",
    "slurm.submit(\n",
    "    job_name= pdbCode + '_nvt',\n",
    "    queue_settings='default',\n",
    "    set_debug=True,\n",
    "    modules=modules,\n",
    "    conda_env=conda_env,\n",
    "    local_run_script=slurm.get_remote_py_script(\n",
    "        python_import, \n",
    "        files, \n",
    "        'Mdrun', \n",
    "        properties=prop\n",
    "    )\n",
    ")\n"
   ]
  },
  {
   "cell_type": "code",
   "execution_count": 44,
   "metadata": {},
   "outputs": [
    {
     "name": "stdout",
     "output_type": "stream",
     "text": [
      "0 Job 13719189 is Submitted\n",
      "5 Job 13719189 is Submitted\n",
      "10 Job 13719189 is Submitted\n",
      "15 Job 13719189 is Submitted\n",
      "20 Job 13719189 is Submitted\n",
      "25 Job 13719189 is Submitted\n",
      "30 Job 13719189 is Submitted\n",
      "35 Job 13719189 is Submitted\n",
      "40 Job 13719189 is Submitted\n",
      "45 Job 13719189 is Submitted\n",
      "50 Job 13719189 is Running\n",
      "55 Job 13719189 is Running\n",
      "60 Job 13719189 is Closing\n",
      "65 Job 13719189 is Closing\n",
      " Job 13719189 is Finished\n"
     ]
    }
   ],
   "source": [
    "slurm.check_job(poll_time=5)\n",
    "slurm.save(task_data_path)"
   ]
  },
  {
   "cell_type": "code",
   "execution_count": 45,
   "metadata": {},
   "outputs": [
    {
     "name": "stdout",
     "output_type": "stream",
     "text": [
      "getting_file: scratch/test_biobb/biobb_81dff893-f0f9-49dd-b795-508c073a19e8/1AKI_nvt.cpt -> ../test/test_wdir/1AKI_nvt.cpt\n",
      "getting_file: scratch/test_biobb/biobb_81dff893-f0f9-49dd-b795-508c073a19e8/log1.err -> ../test/test_wdir/log1.err\n",
      "getting_file: scratch/test_biobb/biobb_81dff893-f0f9-49dd-b795-508c073a19e8/log1.out -> ../test/test_wdir/log1.out\n"
     ]
    }
   ],
   "source": [
    "slurm.get_output_data(overwrite=False)"
   ]
  },
  {
   "cell_type": "markdown",
   "metadata": {},
   "source": [
    "<a id=\"eqNVTStep3\"></a>\n",
    "### Step 3: Checking NVT Equilibration results\n",
    "Checking **NVT Equilibration** results. Plotting **system temperature** by time during the NVT equilibration process. "
   ]
  },
  {
   "cell_type": "code",
   "execution_count": 46,
   "metadata": {},
   "outputs": [
    {
     "name": "stderr",
     "output_type": "stream",
     "text": [
      "2021-01-14 19:39:01,242 [MainThread  ] [INFO ]  Not using any container\n",
      "2021-01-14 19:39:01,263 [MainThread  ] [INFO ]  gmx energy -f /home/gelpi/DEVEL/BioExcel/biobb/biobb_remote/notebook/../test/test_wdir/1AKI_nvt.edr -o ../test/test_wdir/1AKI_nvt_temp.xvg -xvg none < 0657b46c-4ec2-40fd-a679-a6e2d0846759/instructions.in\n",
      "\n",
      "2021-01-14 19:39:01,265 [MainThread  ] [INFO ]  Exit code 0\n",
      "\n",
      "2021-01-14 19:39:01,267 [MainThread  ] [INFO ]  \n",
      "Statistics over 5001 steps [ 0.0000 through 10.0000 ps ], 1 data sets\n",
      "All statistics are over 51 points\n",
      "\n",
      "Energy                      Average   Err.Est.       RMSD  Tot-Drift\n",
      "-------------------------------------------------------------------------------\n",
      "Temperature                  298.13        1.9    9.65376    9.77663  (K)\n",
      "\n",
      "2021-01-14 19:39:01,268 [MainThread  ] [INFO ]                        :-) GROMACS - gmx energy, 2019.1 (-:\n",
      "\n",
      "                            GROMACS is written by:\n",
      "     Emile Apol      Rossen Apostolov      Paul Bauer     Herman J.C. Berendsen\n",
      "    Par Bjelkmar      Christian Blau   Viacheslav Bolnykh     Kevin Boyd    \n",
      " Aldert van Buuren   Rudi van Drunen     Anton Feenstra       Alan Gray     \n",
      "  Gerrit Groenhof     Anca Hamuraru    Vincent Hindriksen  M. Eric Irrgang  \n",
      "  Aleksei Iupinov   Christoph Junghans     Joe Jordan     Dimitrios Karkoulis\n",
      "    Peter Kasson        Jiri Kraus      Carsten Kutzner      Per Larsson    \n",
      "  Justin A. Lemkul    Viveca Lindahl    Magnus Lundborg     Erik Marklund   \n",
      "    Pascal Merz     Pieter Meulenhoff    Teemu Murtola       Szilard Pall   \n",
      "    Sander Pronk      Roland Schulz      Michael Shirts    Alexey Shvetsov  \n",
      "   Alfons Sijbers     Peter Tieleman      Jon Vincent      Teemu Virolainen \n",
      " Christian Wennberg    Maarten Wolf   \n",
      "                           and the project leaders:\n",
      "        Mark Abraham, Berk Hess, Erik Lindahl, and David van der Spoel\n",
      "\n",
      "Copyright (c) 1991-2000, University of Groningen, The Netherlands.\n",
      "Copyright (c) 2001-2018, The GROMACS development team at\n",
      "Uppsala University, Stockholm University and\n",
      "the Royal Institute of Technology, Sweden.\n",
      "check out http://www.gromacs.org for more information.\n",
      "\n",
      "GROMACS is free software; you can redistribute it and/or modify it\n",
      "under the terms of the GNU Lesser General Public License\n",
      "as published by the Free Software Foundation; either version 2.1\n",
      "of the License, or (at your option) any later version.\n",
      "\n",
      "GROMACS:      gmx energy, version 2019.1\n",
      "Executable:   /home/gelpi/miniconda3/envs/biobb_remote/bin/gmx\n",
      "Data prefix:  /home/gelpi/miniconda3/envs/biobb_remote\n",
      "Working dir:  /home/gelpi/DEVEL/BioExcel/biobb/biobb_remote/notebook\n",
      "Command line:\n",
      "  gmx energy -f /home/gelpi/DEVEL/BioExcel/biobb/biobb_remote/notebook/../test/test_wdir/1AKI_nvt.edr -o ../test/test_wdir/1AKI_nvt_temp.xvg -xvg none\n",
      "\n",
      "Opened /home/gelpi/DEVEL/BioExcel/biobb/biobb_remote/notebook/../test/test_wdir/1AKI_nvt.edr as single precision energy file\n",
      "\n",
      "Select the terms you want from the following list by\n",
      "selecting either (part of) the name or the number or a combination.\n",
      "End your selection with an empty line or a zero.\n",
      "-------------------------------------------------------------------\n",
      "  1  Bond             2  Angle            3  Proper-Dih.      4  Improper-Dih. \n",
      "  5  LJ-14            6  Coulomb-14       7  LJ-(SR)          8  Disper.-corr. \n",
      "  9  Coulomb-(SR)    10  Coul.-recip.    11  Position-Rest.  12  Potential     \n",
      " 13  Kinetic-En.     14  Total-Energy    15  Conserved-En.   16  Temperature   \n",
      " 17  Pres.-DC        18  Pressure        19  Constr.-rmsd    20  Vir-XX        \n",
      " 21  Vir-XY          22  Vir-XZ          23  Vir-YX          24  Vir-YY        \n",
      " 25  Vir-YZ          26  Vir-ZX          27  Vir-ZY          28  Vir-ZZ        \n",
      " 29  Pres-XX         30  Pres-XY         31  Pres-XZ         32  Pres-YX       \n",
      " 33  Pres-YY         34  Pres-YZ         35  Pres-ZX         36  Pres-ZY       \n",
      " 37  Pres-ZZ         38  #Surf*SurfTen   39  T-Protein       40  T-non-Protein \n",
      " 41  Lamb-Protein                        42  Lamb-non-Protein                  \n",
      "\n",
      "\n",
      "Back Off! I just backed up ../test/test_wdir/1AKI_nvt_temp.xvg to ../test/test_wdir/#1AKI_nvt_temp.xvg.2#\n",
      "Last energy frame read 10 time   10.000           \n",
      "\n",
      "GROMACS reminds you: \"The most likely way for the world to be destroyed, most experts agree, is by accident. That’s where we come in; we’re computer professionals. We cause accidents.\" (Nathaniel Borenstein)\n",
      "\n",
      "\n",
      "2021-01-14 19:39:01,270 [MainThread  ] [INFO ]  Removed: [PurePosixPath('0657b46c-4ec2-40fd-a679-a6e2d0846759')]\n"
     ]
    },
    {
     "data": {
      "text/plain": [
       "0"
      ]
     },
     "execution_count": 46,
     "metadata": {},
     "output_type": "execute_result"
    }
   ],
   "source": [
    "# GMXEnergy: Getting system temperature by time during NVT Equilibration  \n",
    "from biobb_analysis.gromacs.gmx_energy import GMXEnergy\n",
    "\n",
    "# Create prop dict and inputs/outputs\n",
    "input_nvt_edr = opj(local_path, pdbCode + '_nvt.edr')\n",
    "output_nvt_temp_xvg = opj(local_path, pdbCode+'_nvt_temp.xvg')\n",
    "prop = {\n",
    "    'terms':  [\"Temperature\"]\n",
    "}\n",
    "\n",
    "# Create and launch bb\n",
    "GMXEnergy(input_energy_path=input_nvt_edr, \n",
    "          output_xvg_path=output_nvt_temp_xvg, \n",
    "          properties=prop).launch()"
   ]
  },
  {
   "cell_type": "code",
   "execution_count": 47,
   "metadata": {
    "scrolled": true
   },
   "outputs": [
    {
     "data": {
      "text/html": [
       "        <script type=\"text/javascript\">\n",
       "        window.PlotlyConfig = {MathJaxConfig: 'local'};\n",
       "        if (window.MathJax) {MathJax.Hub.Config({SVG: {font: \"STIX-Web\"}});}\n",
       "        if (typeof require !== 'undefined') {\n",
       "        require.undef(\"plotly\");\n",
       "        requirejs.config({\n",
       "            paths: {\n",
       "                'plotly': ['https://cdn.plot.ly/plotly-latest.min']\n",
       "            }\n",
       "        });\n",
       "        require(['plotly'], function(Plotly) {\n",
       "            window._Plotly = Plotly;\n",
       "        });\n",
       "        }\n",
       "        </script>\n",
       "        "
      ]
     },
     "metadata": {},
     "output_type": "display_data"
    },
    {
     "data": {
      "application/vnd.plotly.v1+json": {
       "config": {
        "linkText": "Export to plot.ly",
        "plotlyServerURL": "https://plot.ly",
        "showLink": false
       },
       "data": [
        {
         "type": "scatter",
         "x": [
          0,
          1,
          2,
          3,
          4,
          5,
          6,
          7,
          8,
          9,
          10
         ],
         "y": [
          299.294128,
          296.395996,
          297.919525,
          302.109375,
          299.177795,
          302.135345,
          301.437256,
          299.523102,
          302.829163,
          300.664459,
          296.455505
         ]
        }
       ],
       "layout": {
        "template": {
         "data": {
          "bar": [
           {
            "error_x": {
             "color": "#2a3f5f"
            },
            "error_y": {
             "color": "#2a3f5f"
            },
            "marker": {
             "line": {
              "color": "#E5ECF6",
              "width": 0.5
             }
            },
            "type": "bar"
           }
          ],
          "barpolar": [
           {
            "marker": {
             "line": {
              "color": "#E5ECF6",
              "width": 0.5
             }
            },
            "type": "barpolar"
           }
          ],
          "carpet": [
           {
            "aaxis": {
             "endlinecolor": "#2a3f5f",
             "gridcolor": "white",
             "linecolor": "white",
             "minorgridcolor": "white",
             "startlinecolor": "#2a3f5f"
            },
            "baxis": {
             "endlinecolor": "#2a3f5f",
             "gridcolor": "white",
             "linecolor": "white",
             "minorgridcolor": "white",
             "startlinecolor": "#2a3f5f"
            },
            "type": "carpet"
           }
          ],
          "choropleth": [
           {
            "colorbar": {
             "outlinewidth": 0,
             "ticks": ""
            },
            "type": "choropleth"
           }
          ],
          "contour": [
           {
            "colorbar": {
             "outlinewidth": 0,
             "ticks": ""
            },
            "colorscale": [
             [
              0,
              "#0d0887"
             ],
             [
              0.1111111111111111,
              "#46039f"
             ],
             [
              0.2222222222222222,
              "#7201a8"
             ],
             [
              0.3333333333333333,
              "#9c179e"
             ],
             [
              0.4444444444444444,
              "#bd3786"
             ],
             [
              0.5555555555555556,
              "#d8576b"
             ],
             [
              0.6666666666666666,
              "#ed7953"
             ],
             [
              0.7777777777777778,
              "#fb9f3a"
             ],
             [
              0.8888888888888888,
              "#fdca26"
             ],
             [
              1,
              "#f0f921"
             ]
            ],
            "type": "contour"
           }
          ],
          "contourcarpet": [
           {
            "colorbar": {
             "outlinewidth": 0,
             "ticks": ""
            },
            "type": "contourcarpet"
           }
          ],
          "heatmap": [
           {
            "colorbar": {
             "outlinewidth": 0,
             "ticks": ""
            },
            "colorscale": [
             [
              0,
              "#0d0887"
             ],
             [
              0.1111111111111111,
              "#46039f"
             ],
             [
              0.2222222222222222,
              "#7201a8"
             ],
             [
              0.3333333333333333,
              "#9c179e"
             ],
             [
              0.4444444444444444,
              "#bd3786"
             ],
             [
              0.5555555555555556,
              "#d8576b"
             ],
             [
              0.6666666666666666,
              "#ed7953"
             ],
             [
              0.7777777777777778,
              "#fb9f3a"
             ],
             [
              0.8888888888888888,
              "#fdca26"
             ],
             [
              1,
              "#f0f921"
             ]
            ],
            "type": "heatmap"
           }
          ],
          "heatmapgl": [
           {
            "colorbar": {
             "outlinewidth": 0,
             "ticks": ""
            },
            "colorscale": [
             [
              0,
              "#0d0887"
             ],
             [
              0.1111111111111111,
              "#46039f"
             ],
             [
              0.2222222222222222,
              "#7201a8"
             ],
             [
              0.3333333333333333,
              "#9c179e"
             ],
             [
              0.4444444444444444,
              "#bd3786"
             ],
             [
              0.5555555555555556,
              "#d8576b"
             ],
             [
              0.6666666666666666,
              "#ed7953"
             ],
             [
              0.7777777777777778,
              "#fb9f3a"
             ],
             [
              0.8888888888888888,
              "#fdca26"
             ],
             [
              1,
              "#f0f921"
             ]
            ],
            "type": "heatmapgl"
           }
          ],
          "histogram": [
           {
            "marker": {
             "colorbar": {
              "outlinewidth": 0,
              "ticks": ""
             }
            },
            "type": "histogram"
           }
          ],
          "histogram2d": [
           {
            "colorbar": {
             "outlinewidth": 0,
             "ticks": ""
            },
            "colorscale": [
             [
              0,
              "#0d0887"
             ],
             [
              0.1111111111111111,
              "#46039f"
             ],
             [
              0.2222222222222222,
              "#7201a8"
             ],
             [
              0.3333333333333333,
              "#9c179e"
             ],
             [
              0.4444444444444444,
              "#bd3786"
             ],
             [
              0.5555555555555556,
              "#d8576b"
             ],
             [
              0.6666666666666666,
              "#ed7953"
             ],
             [
              0.7777777777777778,
              "#fb9f3a"
             ],
             [
              0.8888888888888888,
              "#fdca26"
             ],
             [
              1,
              "#f0f921"
             ]
            ],
            "type": "histogram2d"
           }
          ],
          "histogram2dcontour": [
           {
            "colorbar": {
             "outlinewidth": 0,
             "ticks": ""
            },
            "colorscale": [
             [
              0,
              "#0d0887"
             ],
             [
              0.1111111111111111,
              "#46039f"
             ],
             [
              0.2222222222222222,
              "#7201a8"
             ],
             [
              0.3333333333333333,
              "#9c179e"
             ],
             [
              0.4444444444444444,
              "#bd3786"
             ],
             [
              0.5555555555555556,
              "#d8576b"
             ],
             [
              0.6666666666666666,
              "#ed7953"
             ],
             [
              0.7777777777777778,
              "#fb9f3a"
             ],
             [
              0.8888888888888888,
              "#fdca26"
             ],
             [
              1,
              "#f0f921"
             ]
            ],
            "type": "histogram2dcontour"
           }
          ],
          "mesh3d": [
           {
            "colorbar": {
             "outlinewidth": 0,
             "ticks": ""
            },
            "type": "mesh3d"
           }
          ],
          "parcoords": [
           {
            "line": {
             "colorbar": {
              "outlinewidth": 0,
              "ticks": ""
             }
            },
            "type": "parcoords"
           }
          ],
          "pie": [
           {
            "automargin": true,
            "type": "pie"
           }
          ],
          "scatter": [
           {
            "marker": {
             "colorbar": {
              "outlinewidth": 0,
              "ticks": ""
             }
            },
            "type": "scatter"
           }
          ],
          "scatter3d": [
           {
            "line": {
             "colorbar": {
              "outlinewidth": 0,
              "ticks": ""
             }
            },
            "marker": {
             "colorbar": {
              "outlinewidth": 0,
              "ticks": ""
             }
            },
            "type": "scatter3d"
           }
          ],
          "scattercarpet": [
           {
            "marker": {
             "colorbar": {
              "outlinewidth": 0,
              "ticks": ""
             }
            },
            "type": "scattercarpet"
           }
          ],
          "scattergeo": [
           {
            "marker": {
             "colorbar": {
              "outlinewidth": 0,
              "ticks": ""
             }
            },
            "type": "scattergeo"
           }
          ],
          "scattergl": [
           {
            "marker": {
             "colorbar": {
              "outlinewidth": 0,
              "ticks": ""
             }
            },
            "type": "scattergl"
           }
          ],
          "scattermapbox": [
           {
            "marker": {
             "colorbar": {
              "outlinewidth": 0,
              "ticks": ""
             }
            },
            "type": "scattermapbox"
           }
          ],
          "scatterpolar": [
           {
            "marker": {
             "colorbar": {
              "outlinewidth": 0,
              "ticks": ""
             }
            },
            "type": "scatterpolar"
           }
          ],
          "scatterpolargl": [
           {
            "marker": {
             "colorbar": {
              "outlinewidth": 0,
              "ticks": ""
             }
            },
            "type": "scatterpolargl"
           }
          ],
          "scatterternary": [
           {
            "marker": {
             "colorbar": {
              "outlinewidth": 0,
              "ticks": ""
             }
            },
            "type": "scatterternary"
           }
          ],
          "surface": [
           {
            "colorbar": {
             "outlinewidth": 0,
             "ticks": ""
            },
            "colorscale": [
             [
              0,
              "#0d0887"
             ],
             [
              0.1111111111111111,
              "#46039f"
             ],
             [
              0.2222222222222222,
              "#7201a8"
             ],
             [
              0.3333333333333333,
              "#9c179e"
             ],
             [
              0.4444444444444444,
              "#bd3786"
             ],
             [
              0.5555555555555556,
              "#d8576b"
             ],
             [
              0.6666666666666666,
              "#ed7953"
             ],
             [
              0.7777777777777778,
              "#fb9f3a"
             ],
             [
              0.8888888888888888,
              "#fdca26"
             ],
             [
              1,
              "#f0f921"
             ]
            ],
            "type": "surface"
           }
          ],
          "table": [
           {
            "cells": {
             "fill": {
              "color": "#EBF0F8"
             },
             "line": {
              "color": "white"
             }
            },
            "header": {
             "fill": {
              "color": "#C8D4E3"
             },
             "line": {
              "color": "white"
             }
            },
            "type": "table"
           }
          ]
         },
         "layout": {
          "annotationdefaults": {
           "arrowcolor": "#2a3f5f",
           "arrowhead": 0,
           "arrowwidth": 1
          },
          "autotypenumbers": "strict",
          "coloraxis": {
           "colorbar": {
            "outlinewidth": 0,
            "ticks": ""
           }
          },
          "colorscale": {
           "diverging": [
            [
             0,
             "#8e0152"
            ],
            [
             0.1,
             "#c51b7d"
            ],
            [
             0.2,
             "#de77ae"
            ],
            [
             0.3,
             "#f1b6da"
            ],
            [
             0.4,
             "#fde0ef"
            ],
            [
             0.5,
             "#f7f7f7"
            ],
            [
             0.6,
             "#e6f5d0"
            ],
            [
             0.7,
             "#b8e186"
            ],
            [
             0.8,
             "#7fbc41"
            ],
            [
             0.9,
             "#4d9221"
            ],
            [
             1,
             "#276419"
            ]
           ],
           "sequential": [
            [
             0,
             "#0d0887"
            ],
            [
             0.1111111111111111,
             "#46039f"
            ],
            [
             0.2222222222222222,
             "#7201a8"
            ],
            [
             0.3333333333333333,
             "#9c179e"
            ],
            [
             0.4444444444444444,
             "#bd3786"
            ],
            [
             0.5555555555555556,
             "#d8576b"
            ],
            [
             0.6666666666666666,
             "#ed7953"
            ],
            [
             0.7777777777777778,
             "#fb9f3a"
            ],
            [
             0.8888888888888888,
             "#fdca26"
            ],
            [
             1,
             "#f0f921"
            ]
           ],
           "sequentialminus": [
            [
             0,
             "#0d0887"
            ],
            [
             0.1111111111111111,
             "#46039f"
            ],
            [
             0.2222222222222222,
             "#7201a8"
            ],
            [
             0.3333333333333333,
             "#9c179e"
            ],
            [
             0.4444444444444444,
             "#bd3786"
            ],
            [
             0.5555555555555556,
             "#d8576b"
            ],
            [
             0.6666666666666666,
             "#ed7953"
            ],
            [
             0.7777777777777778,
             "#fb9f3a"
            ],
            [
             0.8888888888888888,
             "#fdca26"
            ],
            [
             1,
             "#f0f921"
            ]
           ]
          },
          "colorway": [
           "#636efa",
           "#EF553B",
           "#00cc96",
           "#ab63fa",
           "#FFA15A",
           "#19d3f3",
           "#FF6692",
           "#B6E880",
           "#FF97FF",
           "#FECB52"
          ],
          "font": {
           "color": "#2a3f5f"
          },
          "geo": {
           "bgcolor": "white",
           "lakecolor": "white",
           "landcolor": "#E5ECF6",
           "showlakes": true,
           "showland": true,
           "subunitcolor": "white"
          },
          "hoverlabel": {
           "align": "left"
          },
          "hovermode": "closest",
          "mapbox": {
           "style": "light"
          },
          "paper_bgcolor": "white",
          "plot_bgcolor": "#E5ECF6",
          "polar": {
           "angularaxis": {
            "gridcolor": "white",
            "linecolor": "white",
            "ticks": ""
           },
           "bgcolor": "#E5ECF6",
           "radialaxis": {
            "gridcolor": "white",
            "linecolor": "white",
            "ticks": ""
           }
          },
          "scene": {
           "xaxis": {
            "backgroundcolor": "#E5ECF6",
            "gridcolor": "white",
            "gridwidth": 2,
            "linecolor": "white",
            "showbackground": true,
            "ticks": "",
            "zerolinecolor": "white"
           },
           "yaxis": {
            "backgroundcolor": "#E5ECF6",
            "gridcolor": "white",
            "gridwidth": 2,
            "linecolor": "white",
            "showbackground": true,
            "ticks": "",
            "zerolinecolor": "white"
           },
           "zaxis": {
            "backgroundcolor": "#E5ECF6",
            "gridcolor": "white",
            "gridwidth": 2,
            "linecolor": "white",
            "showbackground": true,
            "ticks": "",
            "zerolinecolor": "white"
           }
          },
          "shapedefaults": {
           "line": {
            "color": "#2a3f5f"
           }
          },
          "ternary": {
           "aaxis": {
            "gridcolor": "white",
            "linecolor": "white",
            "ticks": ""
           },
           "baxis": {
            "gridcolor": "white",
            "linecolor": "white",
            "ticks": ""
           },
           "bgcolor": "#E5ECF6",
           "caxis": {
            "gridcolor": "white",
            "linecolor": "white",
            "ticks": ""
           }
          },
          "title": {
           "x": 0.05
          },
          "xaxis": {
           "automargin": true,
           "gridcolor": "white",
           "linecolor": "white",
           "ticks": "",
           "title": {
            "standoff": 15
           },
           "zerolinecolor": "white",
           "zerolinewidth": 2
          },
          "yaxis": {
           "automargin": true,
           "gridcolor": "white",
           "linecolor": "white",
           "ticks": "",
           "title": {
            "standoff": 15
           },
           "zerolinecolor": "white",
           "zerolinewidth": 2
          }
         }
        },
        "title": {
         "text": "Temperature during NVT Equilibration"
        },
        "xaxis": {
         "title": {
          "text": "Time (ps)"
         }
        },
        "yaxis": {
         "title": {
          "text": "Temperature (K)"
         }
        }
       }
      },
      "text/html": [
       "<div>                            <div id=\"5ee74772-193b-46a7-831f-b8e451d93e7e\" class=\"plotly-graph-div\" style=\"height:525px; width:100%;\"></div>            <script type=\"text/javascript\">                require([\"plotly\"], function(Plotly) {                    window.PLOTLYENV=window.PLOTLYENV || {};                                    if (document.getElementById(\"5ee74772-193b-46a7-831f-b8e451d93e7e\")) {                    Plotly.newPlot(                        \"5ee74772-193b-46a7-831f-b8e451d93e7e\",                        [{\"type\": \"scatter\", \"x\": [0.0, 1.0, 2.0, 3.0, 4.0, 5.0, 6.0, 7.0, 8.0, 9.0, 10.0], \"y\": [299.294128, 296.395996, 297.919525, 302.109375, 299.177795, 302.135345, 301.437256, 299.523102, 302.829163, 300.664459, 296.455505]}],                        {\"template\": {\"data\": {\"bar\": [{\"error_x\": {\"color\": \"#2a3f5f\"}, \"error_y\": {\"color\": \"#2a3f5f\"}, \"marker\": {\"line\": {\"color\": \"#E5ECF6\", \"width\": 0.5}}, \"type\": \"bar\"}], \"barpolar\": [{\"marker\": {\"line\": {\"color\": \"#E5ECF6\", \"width\": 0.5}}, \"type\": \"barpolar\"}], \"carpet\": [{\"aaxis\": {\"endlinecolor\": \"#2a3f5f\", \"gridcolor\": \"white\", \"linecolor\": \"white\", \"minorgridcolor\": \"white\", \"startlinecolor\": \"#2a3f5f\"}, \"baxis\": {\"endlinecolor\": \"#2a3f5f\", \"gridcolor\": \"white\", \"linecolor\": \"white\", \"minorgridcolor\": \"white\", \"startlinecolor\": \"#2a3f5f\"}, \"type\": \"carpet\"}], \"choropleth\": [{\"colorbar\": {\"outlinewidth\": 0, \"ticks\": \"\"}, \"type\": \"choropleth\"}], \"contour\": [{\"colorbar\": {\"outlinewidth\": 0, \"ticks\": \"\"}, \"colorscale\": [[0.0, \"#0d0887\"], [0.1111111111111111, \"#46039f\"], [0.2222222222222222, \"#7201a8\"], [0.3333333333333333, \"#9c179e\"], [0.4444444444444444, \"#bd3786\"], [0.5555555555555556, \"#d8576b\"], [0.6666666666666666, \"#ed7953\"], [0.7777777777777778, \"#fb9f3a\"], [0.8888888888888888, \"#fdca26\"], [1.0, \"#f0f921\"]], \"type\": \"contour\"}], \"contourcarpet\": [{\"colorbar\": {\"outlinewidth\": 0, \"ticks\": \"\"}, \"type\": \"contourcarpet\"}], \"heatmap\": [{\"colorbar\": {\"outlinewidth\": 0, \"ticks\": \"\"}, \"colorscale\": [[0.0, \"#0d0887\"], [0.1111111111111111, \"#46039f\"], [0.2222222222222222, \"#7201a8\"], [0.3333333333333333, \"#9c179e\"], [0.4444444444444444, \"#bd3786\"], [0.5555555555555556, \"#d8576b\"], [0.6666666666666666, \"#ed7953\"], [0.7777777777777778, \"#fb9f3a\"], [0.8888888888888888, \"#fdca26\"], [1.0, \"#f0f921\"]], \"type\": \"heatmap\"}], \"heatmapgl\": [{\"colorbar\": {\"outlinewidth\": 0, \"ticks\": \"\"}, \"colorscale\": [[0.0, \"#0d0887\"], [0.1111111111111111, \"#46039f\"], [0.2222222222222222, \"#7201a8\"], [0.3333333333333333, \"#9c179e\"], [0.4444444444444444, \"#bd3786\"], [0.5555555555555556, \"#d8576b\"], [0.6666666666666666, \"#ed7953\"], [0.7777777777777778, \"#fb9f3a\"], [0.8888888888888888, \"#fdca26\"], [1.0, \"#f0f921\"]], \"type\": \"heatmapgl\"}], \"histogram\": [{\"marker\": {\"colorbar\": {\"outlinewidth\": 0, \"ticks\": \"\"}}, \"type\": \"histogram\"}], \"histogram2d\": [{\"colorbar\": {\"outlinewidth\": 0, \"ticks\": \"\"}, \"colorscale\": [[0.0, \"#0d0887\"], [0.1111111111111111, \"#46039f\"], [0.2222222222222222, \"#7201a8\"], [0.3333333333333333, \"#9c179e\"], [0.4444444444444444, \"#bd3786\"], [0.5555555555555556, \"#d8576b\"], [0.6666666666666666, \"#ed7953\"], [0.7777777777777778, \"#fb9f3a\"], [0.8888888888888888, \"#fdca26\"], [1.0, \"#f0f921\"]], \"type\": \"histogram2d\"}], \"histogram2dcontour\": [{\"colorbar\": {\"outlinewidth\": 0, \"ticks\": \"\"}, \"colorscale\": [[0.0, \"#0d0887\"], [0.1111111111111111, \"#46039f\"], [0.2222222222222222, \"#7201a8\"], [0.3333333333333333, \"#9c179e\"], [0.4444444444444444, \"#bd3786\"], [0.5555555555555556, \"#d8576b\"], [0.6666666666666666, \"#ed7953\"], [0.7777777777777778, \"#fb9f3a\"], [0.8888888888888888, \"#fdca26\"], [1.0, \"#f0f921\"]], \"type\": \"histogram2dcontour\"}], \"mesh3d\": [{\"colorbar\": {\"outlinewidth\": 0, \"ticks\": \"\"}, \"type\": \"mesh3d\"}], \"parcoords\": [{\"line\": {\"colorbar\": {\"outlinewidth\": 0, \"ticks\": \"\"}}, \"type\": \"parcoords\"}], \"pie\": [{\"automargin\": true, \"type\": \"pie\"}], \"scatter\": [{\"marker\": {\"colorbar\": {\"outlinewidth\": 0, \"ticks\": \"\"}}, \"type\": \"scatter\"}], \"scatter3d\": [{\"line\": {\"colorbar\": {\"outlinewidth\": 0, \"ticks\": \"\"}}, \"marker\": {\"colorbar\": {\"outlinewidth\": 0, \"ticks\": \"\"}}, \"type\": \"scatter3d\"}], \"scattercarpet\": [{\"marker\": {\"colorbar\": {\"outlinewidth\": 0, \"ticks\": \"\"}}, \"type\": \"scattercarpet\"}], \"scattergeo\": [{\"marker\": {\"colorbar\": {\"outlinewidth\": 0, \"ticks\": \"\"}}, \"type\": \"scattergeo\"}], \"scattergl\": [{\"marker\": {\"colorbar\": {\"outlinewidth\": 0, \"ticks\": \"\"}}, \"type\": \"scattergl\"}], \"scattermapbox\": [{\"marker\": {\"colorbar\": {\"outlinewidth\": 0, \"ticks\": \"\"}}, \"type\": \"scattermapbox\"}], \"scatterpolar\": [{\"marker\": {\"colorbar\": {\"outlinewidth\": 0, \"ticks\": \"\"}}, \"type\": \"scatterpolar\"}], \"scatterpolargl\": [{\"marker\": {\"colorbar\": {\"outlinewidth\": 0, \"ticks\": \"\"}}, \"type\": \"scatterpolargl\"}], \"scatterternary\": [{\"marker\": {\"colorbar\": {\"outlinewidth\": 0, \"ticks\": \"\"}}, \"type\": \"scatterternary\"}], \"surface\": [{\"colorbar\": {\"outlinewidth\": 0, \"ticks\": \"\"}, \"colorscale\": [[0.0, \"#0d0887\"], [0.1111111111111111, \"#46039f\"], [0.2222222222222222, \"#7201a8\"], [0.3333333333333333, \"#9c179e\"], [0.4444444444444444, \"#bd3786\"], [0.5555555555555556, \"#d8576b\"], [0.6666666666666666, \"#ed7953\"], [0.7777777777777778, \"#fb9f3a\"], [0.8888888888888888, \"#fdca26\"], [1.0, \"#f0f921\"]], \"type\": \"surface\"}], \"table\": [{\"cells\": {\"fill\": {\"color\": \"#EBF0F8\"}, \"line\": {\"color\": \"white\"}}, \"header\": {\"fill\": {\"color\": \"#C8D4E3\"}, \"line\": {\"color\": \"white\"}}, \"type\": \"table\"}]}, \"layout\": {\"annotationdefaults\": {\"arrowcolor\": \"#2a3f5f\", \"arrowhead\": 0, \"arrowwidth\": 1}, \"autotypenumbers\": \"strict\", \"coloraxis\": {\"colorbar\": {\"outlinewidth\": 0, \"ticks\": \"\"}}, \"colorscale\": {\"diverging\": [[0, \"#8e0152\"], [0.1, \"#c51b7d\"], [0.2, \"#de77ae\"], [0.3, \"#f1b6da\"], [0.4, \"#fde0ef\"], [0.5, \"#f7f7f7\"], [0.6, \"#e6f5d0\"], [0.7, \"#b8e186\"], [0.8, \"#7fbc41\"], [0.9, \"#4d9221\"], [1, \"#276419\"]], \"sequential\": [[0.0, \"#0d0887\"], [0.1111111111111111, \"#46039f\"], [0.2222222222222222, \"#7201a8\"], [0.3333333333333333, \"#9c179e\"], [0.4444444444444444, \"#bd3786\"], [0.5555555555555556, \"#d8576b\"], [0.6666666666666666, \"#ed7953\"], [0.7777777777777778, \"#fb9f3a\"], [0.8888888888888888, \"#fdca26\"], [1.0, \"#f0f921\"]], \"sequentialminus\": [[0.0, \"#0d0887\"], [0.1111111111111111, \"#46039f\"], [0.2222222222222222, \"#7201a8\"], [0.3333333333333333, \"#9c179e\"], [0.4444444444444444, \"#bd3786\"], [0.5555555555555556, \"#d8576b\"], [0.6666666666666666, \"#ed7953\"], [0.7777777777777778, \"#fb9f3a\"], [0.8888888888888888, \"#fdca26\"], [1.0, \"#f0f921\"]]}, \"colorway\": [\"#636efa\", \"#EF553B\", \"#00cc96\", \"#ab63fa\", \"#FFA15A\", \"#19d3f3\", \"#FF6692\", \"#B6E880\", \"#FF97FF\", \"#FECB52\"], \"font\": {\"color\": \"#2a3f5f\"}, \"geo\": {\"bgcolor\": \"white\", \"lakecolor\": \"white\", \"landcolor\": \"#E5ECF6\", \"showlakes\": true, \"showland\": true, \"subunitcolor\": \"white\"}, \"hoverlabel\": {\"align\": \"left\"}, \"hovermode\": \"closest\", \"mapbox\": {\"style\": \"light\"}, \"paper_bgcolor\": \"white\", \"plot_bgcolor\": \"#E5ECF6\", \"polar\": {\"angularaxis\": {\"gridcolor\": \"white\", \"linecolor\": \"white\", \"ticks\": \"\"}, \"bgcolor\": \"#E5ECF6\", \"radialaxis\": {\"gridcolor\": \"white\", \"linecolor\": \"white\", \"ticks\": \"\"}}, \"scene\": {\"xaxis\": {\"backgroundcolor\": \"#E5ECF6\", \"gridcolor\": \"white\", \"gridwidth\": 2, \"linecolor\": \"white\", \"showbackground\": true, \"ticks\": \"\", \"zerolinecolor\": \"white\"}, \"yaxis\": {\"backgroundcolor\": \"#E5ECF6\", \"gridcolor\": \"white\", \"gridwidth\": 2, \"linecolor\": \"white\", \"showbackground\": true, \"ticks\": \"\", \"zerolinecolor\": \"white\"}, \"zaxis\": {\"backgroundcolor\": \"#E5ECF6\", \"gridcolor\": \"white\", \"gridwidth\": 2, \"linecolor\": \"white\", \"showbackground\": true, \"ticks\": \"\", \"zerolinecolor\": \"white\"}}, \"shapedefaults\": {\"line\": {\"color\": \"#2a3f5f\"}}, \"ternary\": {\"aaxis\": {\"gridcolor\": \"white\", \"linecolor\": \"white\", \"ticks\": \"\"}, \"baxis\": {\"gridcolor\": \"white\", \"linecolor\": \"white\", \"ticks\": \"\"}, \"bgcolor\": \"#E5ECF6\", \"caxis\": {\"gridcolor\": \"white\", \"linecolor\": \"white\", \"ticks\": \"\"}}, \"title\": {\"x\": 0.05}, \"xaxis\": {\"automargin\": true, \"gridcolor\": \"white\", \"linecolor\": \"white\", \"ticks\": \"\", \"title\": {\"standoff\": 15}, \"zerolinecolor\": \"white\", \"zerolinewidth\": 2}, \"yaxis\": {\"automargin\": true, \"gridcolor\": \"white\", \"linecolor\": \"white\", \"ticks\": \"\", \"title\": {\"standoff\": 15}, \"zerolinecolor\": \"white\", \"zerolinewidth\": 2}}}, \"title\": {\"text\": \"Temperature during NVT Equilibration\"}, \"xaxis\": {\"title\": {\"text\": \"Time (ps)\"}}, \"yaxis\": {\"title\": {\"text\": \"Temperature (K)\"}}},                        {\"responsive\": true}                    ).then(function(){\n",
       "                            \n",
       "var gd = document.getElementById('5ee74772-193b-46a7-831f-b8e451d93e7e');\n",
       "var x = new MutationObserver(function (mutations, observer) {{\n",
       "        var display = window.getComputedStyle(gd).display;\n",
       "        if (!display || display === 'none') {{\n",
       "            console.log([gd, 'removed!']);\n",
       "            Plotly.purge(gd);\n",
       "            observer.disconnect();\n",
       "        }}\n",
       "}});\n",
       "\n",
       "// Listen for the removal of the full notebook cells\n",
       "var notebookContainer = gd.closest('#notebook-container');\n",
       "if (notebookContainer) {{\n",
       "    x.observe(notebookContainer, {childList: true});\n",
       "}}\n",
       "\n",
       "// Listen for the clearing of the current output cell\n",
       "var outputEl = gd.closest('.output');\n",
       "if (outputEl) {{\n",
       "    x.observe(outputEl, {childList: true});\n",
       "}}\n",
       "\n",
       "                        })                };                });            </script>        </div>"
      ]
     },
     "metadata": {},
     "output_type": "display_data"
    }
   ],
   "source": [
    "import plotly\n",
    "import plotly.graph_objs as go\n",
    "\n",
    "# Read temperature data from file \n",
    "with open(output_nvt_temp_xvg,'r') as temperature_file:\n",
    "    x,y = map(\n",
    "        list,\n",
    "        zip(*[\n",
    "            (float(line.split()[0]),float(line.split()[1]))\n",
    "            for line in temperature_file \n",
    "            if not line.startswith((\"#\",\"@\")) \n",
    "        ])\n",
    "    )\n",
    "\n",
    "plotly.offline.init_notebook_mode(connected=True)\n",
    "\n",
    "fig = {\n",
    "    \"data\": [go.Scatter(x=x, y=y)],\n",
    "    \"layout\": go.Layout(title=\"Temperature during NVT Equilibration\",\n",
    "                        xaxis=dict(title = \"Time (ps)\"),\n",
    "                        yaxis=dict(title = \"Temperature (K)\")\n",
    "                       )\n",
    "}\n",
    "\n",
    "plotly.offline.iplot(fig)"
   ]
  },
  {
   "cell_type": "markdown",
   "metadata": {},
   "source": [
    "<a id=\"npt\"></a>\n",
    "***\n",
    "## Equilibrate the system (NPT)\n",
    "Equilibrate the **protein system** in **NPT** ensemble (constant Number of particles, Pressure and Temperature).\n",
    "- [Step 1](#eqNPTStep1): Creating portable binary run file for system equilibration\n",
    "- [Step 2](#eqNPTStep2): Equilibrate the **protein system** with **NPT** ensemble.\n",
    "- [Step 3](#eqNPTStep3): Checking **NPT Equilibration** results. Plotting **system pressure and density** by time during the **NPT equilibration** process.\n",
    "***\n",
    "**Building Blocks** used:\n",
    " - [Grompp](https://biobb-md.readthedocs.io/en/latest/gromacs.html#module-gromacs.grompp) from **biobb_md.gromacs.grompp** \n",
    " - [Mdrun](https://biobb-md.readthedocs.io/en/latest/gromacs.html#module-gromacs.mdrun) from **biobb_md.gromacs.mdrun** \n",
    " - [GMXEnergy](https://biobb-analysis.readthedocs.io/en/latest/gromacs.html#module-gromacs.gmx_energy) from **biobb_analysis.gromacs.gmx_energy** \n",
    "***"
   ]
  },
  {
   "cell_type": "markdown",
   "metadata": {},
   "source": [
    "<a id=\"eqNPTStep1\"></a>\n",
    "### Step 1: Creating portable binary run file for system equilibration (NPT)\n",
    "\n",
    "The **npt** type of the **molecular dynamics parameters (mdp) property** contains the main default parameters to run an **NPT equilibration** with **protein restraints** (see [GROMACS mdp options](http://manual.gromacs.org/documentation/2018/user-guide/mdp-options.html)):\n",
    "\n",
    "-  Define                   = -DPOSRES\n",
    "-  integrator               = md\n",
    "-  dt                       = 0.002\n",
    "-  nsteps                   = 5000\n",
    "-  pcoupl = Parrinello-Rahman\n",
    "-  pcoupltype = isotropic\n",
    "-  tau_p = 1.0\n",
    "-  ref_p = 1.0\n",
    "-  compressibility = 4.5e-5\n",
    "-  refcoord_scaling = com\n",
    "-  gen_vel = no\n",
    "\n",
    "In this particular example, the default parameters will be used: **md** integrator algorithm, a **time step** of **2fs**, **5,000 equilibration steps** with the protein **heavy atoms restrained**, and a Parrinello-Rahman **pressure coupling** algorithm.\n",
    "\n",
    "*Please note that for the sake of time this tutorial is only running 10ps of NPT equilibration, whereas in the [original example](http://www.mdtutorials.com/gmx/lysozyme/07_equil2.html) the simulated time was 100ps.*"
   ]
  },
  {
   "cell_type": "code",
   "execution_count": 48,
   "metadata": {},
   "outputs": [
    {
     "name": "stderr",
     "output_type": "stream",
     "text": [
      "2021-01-14 19:39:12,593 [MainThread  ] [INFO ]  GROMACS Grompp 20191 version detected\n",
      "2021-01-14 19:39:12,597 [MainThread  ] [INFO ]  Extracting: /home/gelpi/DEVEL/BioExcel/biobb/biobb_remote/test/test_wdir/1AKI_genion_top.zip\n",
      "2021-01-14 19:39:12,598 [MainThread  ] [INFO ]  to:\n",
      "2021-01-14 19:39:12,598 [MainThread  ] [INFO ]  ['0d74d834-9758-49e0-90af-62c50106982f/p2g.top', '0d74d834-9758-49e0-90af-62c50106982f/posre.itp']\n",
      "2021-01-14 19:39:12,599 [MainThread  ] [INFO ]  Unzipping: \n",
      "2021-01-14 19:39:12,599 [MainThread  ] [INFO ]  ../test/test_wdir/1AKI_genion_top.zip\n",
      "2021-01-14 19:39:12,600 [MainThread  ] [INFO ]  To: \n",
      "2021-01-14 19:39:12,600 [MainThread  ] [INFO ]  0d74d834-9758-49e0-90af-62c50106982f/p2g.top\n",
      "2021-01-14 19:39:12,601 [MainThread  ] [INFO ]  0d74d834-9758-49e0-90af-62c50106982f/posre.itp\n",
      "2021-01-14 19:39:12,602 [MainThread  ] [INFO ]  Not using any container\n",
      "2021-01-14 19:39:13,053 [MainThread  ] [INFO ]  gmx -nobackup -nocopyright grompp -f 94676d20-2a68-4086-a93f-e0690b506a29/grompp.mdp -c ../test/test_wdir/1AKI_nvt.gro -r ../test/test_wdir/1AKI_nvt.gro -p 0d74d834-9758-49e0-90af-62c50106982f/p2g.top -o ../test/test_wdir/1AKI_gppnpt.tpr -po mdout.mdp -maxwarn 10\n",
      "\n",
      "2021-01-14 19:39:13,054 [MainThread  ] [INFO ]  Exit code 0\n",
      "\n",
      "2021-01-14 19:39:13,054 [MainThread  ] [INFO ]  turning H bonds into constraints...\n",
      "turning H bonds into constraints...\n",
      "turning H bonds into constraints...\n",
      "turning H bonds into constraints...\n",
      "Analysing residue names:\n",
      "There are:   129    Protein residues\n",
      "There are: 10616      Water residues\n",
      "There are:    28        Ion residues\n",
      "Analysing Protein...\n",
      "Analysing residues not classified as Protein/DNA/RNA/Water and splitting into groups...\n",
      "Determining Verlet buffer for a tolerance of 0.005 kJ/mol/ps at 300 K\n",
      "Calculated rlist for 1x1 atom pair-list as 1.035 nm, buffer size 0.035 nm\n",
      "Set rlist, assuming 4x4 atom pair-list, to 1.000 nm, buffer size 0.000 nm\n",
      "Note that mdrun will redetermine rlist based on the actual pair-list setup\n",
      "Calculating fourier grid dimensions for X Y Z\n",
      "Using a fourier grid of 60x60x60, spacing 0.117 0.117 0.117\n",
      "This run will generate roughly 12 Mb of data\n",
      "\n",
      "2021-01-14 19:39:13,056 [MainThread  ] [INFO ]                        :-) GROMACS - gmx grompp, 2019.1 (-:\n",
      "\n",
      "Executable:   /home/gelpi/miniconda3/envs/biobb_remote/bin/gmx\n",
      "Data prefix:  /home/gelpi/miniconda3/envs/biobb_remote\n",
      "Working dir:  /home/gelpi/DEVEL/BioExcel/biobb/biobb_remote/notebook\n",
      "Command line:\n",
      "  gmx -nobackup -nocopyright grompp -f 94676d20-2a68-4086-a93f-e0690b506a29/grompp.mdp -c ../test/test_wdir/1AKI_nvt.gro -r ../test/test_wdir/1AKI_nvt.gro -p 0d74d834-9758-49e0-90af-62c50106982f/p2g.top -o ../test/test_wdir/1AKI_gppnpt.tpr -po mdout.mdp -maxwarn 10\n",
      "\n",
      "Setting the LD random seed to 150992169\n",
      "Generated 2145 of the 2145 non-bonded parameter combinations\n",
      "Generating 1-4 interactions: fudge = 0.5\n",
      "Generated 2145 of the 2145 1-4 parameter combinations\n",
      "Excluding 3 bonded neighbours molecule type 'Protein_chain_A'\n",
      "Excluding 2 bonded neighbours molecule type 'SOL'\n",
      "Excluding 1 bonded neighbours molecule type 'NA'\n",
      "Excluding 1 bonded neighbours molecule type 'CL'\n",
      "Removing all charge groups because cutoff-scheme=Verlet\n",
      "\n",
      "NOTE 1 [file p2g.top, line 18678]:\n",
      "  You are combining position restraints with Parrinello-Rahman pressure\n",
      "  coupling, which can lead to instabilities. If you really want to combine\n",
      "  position restraints with pressure coupling, we suggest to use Berendsen\n",
      "  pressure coupling instead.\n",
      "\n",
      "The center of mass of the position restraint coord's is  3.485  3.521  3.506\n",
      "The center of mass of the position restraint coord's is  3.485  3.521  3.506\n",
      "Number of degrees of freedom in T-Coupling group Protein is 4920.79\n",
      "Number of degrees of freedom in T-Coupling group non-Protein is 63777.21\n",
      "Estimate for the relative computational load of the PME mesh part: 0.19\n",
      "\n",
      "There was 1 note\n",
      "\n",
      "GROMACS reminds you: \"Heard a talk introducing a new language called Swift, from a guy named Wozniak, and it had nothing to do with Apple!\" (Adam Cadien)\n",
      "\n",
      "\n",
      "2021-01-14 19:39:13,058 [MainThread  ] [INFO ]  Removed: ['mdout.mdp', '0d74d834-9758-49e0-90af-62c50106982f', '94676d20-2a68-4086-a93f-e0690b506a29']\n"
     ]
    },
    {
     "data": {
      "text/plain": [
       "0"
      ]
     },
     "execution_count": 48,
     "metadata": {},
     "output_type": "execute_result"
    }
   ],
   "source": [
    "# Grompp: Creating portable binary run file for NPT System Equilibration\n",
    "from biobb_md.gromacs.grompp import Grompp\n",
    "\n",
    "# Create prop dict and inputs/outputs\n",
    "input_nvt_gro = opj(local_path, pdbCode + '_nvt.gro')\n",
    "output_gppnpt_tpr = opj(local_path, pdbCode+'_gppnpt.tpr')\n",
    "prop = {\n",
    "    'simulation_type':'npt',\n",
    "    'mdp':{\n",
    "        'nsteps':'5000',\n",
    "        #'tc_grps': \"DNA Water_and_ions\" # NOTE: uncomment this line if working with DNA\n",
    "    }\n",
    "}\n",
    "\n",
    "# Create and launch bb\n",
    "Grompp(input_gro_path=input_nvt_gro, \n",
    "       input_top_zip_path=input_genion_top_zip, \n",
    "       output_tpr_path=output_gppnpt_tpr, \n",
    "       input_cpt_path=output_nvt_cpt,  \n",
    "       properties=prop).launch()"
   ]
  },
  {
   "cell_type": "code",
   "execution_count": 49,
   "metadata": {},
   "outputs": [
    {
     "name": "stdout",
     "output_type": "stream",
     "text": [
      "sending_file: ../test/test_wdir/1AKI_gppnpt.tpr -> scratch/test_biobb/biobb_81dff893-f0f9-49dd-b795-508c073a19e8/1AKI_gppnpt.tpr\n"
     ]
    }
   ],
   "source": [
    "slurm.task_data['local_data_bundle'].add_file(output_gppnpt_tpr)\n",
    "slurm.send_input_data(remote_path, overwrite= False)\n"
   ]
  },
  {
   "cell_type": "markdown",
   "metadata": {},
   "source": [
    "<a id=\"eqNPTStep2\"></a>\n",
    "### Step 2: Running NPT equilibration"
   ]
  },
  {
   "cell_type": "code",
   "execution_count": 50,
   "metadata": {},
   "outputs": [
    {
     "name": "stdout",
     "output_type": "stream",
     "text": [
      "Submitted job 13719318\n"
     ]
    }
   ],
   "source": [
    "# Mdrun: Running NPT System Equilibration\n",
    "python_import = 'from biobb_md.gromacs.mdrun import Mdrun'\n",
    "\n",
    "# Create prop dict and inputs/outputs\n",
    "input_nvt_tpr  = pdbCode + '_gppnpt.tpr' \n",
    "output_npt_trr = pdbCode + '_npt.trr'\n",
    "output_npt_gro = pdbCode + '_npt.gro'\n",
    "output_npt_edr = pdbCode + '_npt.edr'\n",
    "output_npt_log = pdbCode + '_npt.log'\n",
    "output_npt_cpt = pdbCode + '_npt.cpt'\n",
    "\n",
    "files = {\n",
    "    'input_tpr_path'  : input_nvt_tpr, \n",
    "    'output_trr_path' : output_npt_trr, \n",
    "    'output_gro_path' : output_npt_gro, \n",
    "    'output_edr_path' : output_npt_edr, \n",
    "    'output_log_path' : output_npt_log, \n",
    "    'output_cpt_path' : output_npt_cpt\n",
    "}\n",
    "\n",
    "# get_remote_py_script generates one-line python script appropriate for a\n",
    "# single biobb execution\n",
    "# Alternatively, a file containing a more complex script can be loaded\n",
    "prop={'gmx_path':'gmx_mpi'}\n",
    "\n",
    "slurm.submit(\n",
    "    job_name= pdbCode + '_npt',\n",
    "    queue_settings='default',\n",
    "    set_debug=True,\n",
    "    modules=modules,\n",
    "    conda_env=conda_env,\n",
    "    local_run_script=slurm.get_remote_py_script(\n",
    "        python_import, \n",
    "        files, \n",
    "        'Mdrun', \n",
    "        properties=prop\n",
    "    )\n",
    ")\n"
   ]
  },
  {
   "cell_type": "code",
   "execution_count": 51,
   "metadata": {},
   "outputs": [
    {
     "name": "stdout",
     "output_type": "stream",
     "text": [
      "0 Job 13719318 is Running\n",
      "5 Job 13719318 is Running\n",
      "10 Job 13719318 is Closing\n",
      " Job 13719318 is Finished\n"
     ]
    }
   ],
   "source": [
    "slurm.check_job(poll_time=5)\n",
    "slurm.save(task_data_path)"
   ]
  },
  {
   "cell_type": "code",
   "execution_count": 52,
   "metadata": {},
   "outputs": [
    {
     "name": "stdout",
     "output_type": "stream",
     "text": [
      "getting_file: scratch/test_biobb/biobb_81dff893-f0f9-49dd-b795-508c073a19e8/log2.err -> ../test/test_wdir/log2.err\n",
      "getting_file: scratch/test_biobb/biobb_81dff893-f0f9-49dd-b795-508c073a19e8/log2.out -> ../test/test_wdir/log2.out\n"
     ]
    }
   ],
   "source": [
    "slurm.get_output_data(overwrite=False)"
   ]
  },
  {
   "cell_type": "markdown",
   "metadata": {},
   "source": [
    "<a id=\"eqNPTStep3\"></a>\n",
    "### Step 3: Checking NPT Equilibration results\n",
    "Checking **NPT Equilibration** results. Plotting **system pressure and density** by time during the **NPT equilibration** process. "
   ]
  },
  {
   "cell_type": "code",
   "execution_count": 53,
   "metadata": {},
   "outputs": [
    {
     "name": "stderr",
     "output_type": "stream",
     "text": [
      "2021-01-14 19:41:06,695 [MainThread  ] [INFO ]  Not using any container\n",
      "2021-01-14 19:41:06,715 [MainThread  ] [INFO ]  gmx energy -f /home/gelpi/DEVEL/BioExcel/biobb/biobb_remote/notebook/../test/test_wdir/1AKI_npt.edr -o 1AKI_npt_PD.xvg -xvg none < e1fa74b0-d3d1-450a-80a9-5c82ca399eb4/instructions.in\n",
      "\n",
      "2021-01-14 19:41:06,716 [MainThread  ] [INFO ]  Exit code 0\n",
      "\n",
      "2021-01-14 19:41:06,717 [MainThread  ] [INFO ]  \n",
      "Statistics over 5001 steps [ 0.0000 through 10.0000 ps ], 2 data sets\n",
      "All statistics are over 51 points\n",
      "\n",
      "Energy                      Average   Err.Est.       RMSD  Tot-Drift\n",
      "-------------------------------------------------------------------------------\n",
      "Pressure                    3.47814         28    198.603     59.818  (bar)\n",
      "Density                     1019.44        1.2    4.49751    6.03403  (kg/m^3)\n",
      "\n",
      "2021-01-14 19:41:06,720 [MainThread  ] [INFO ]                        :-) GROMACS - gmx energy, 2019.1 (-:\n",
      "\n",
      "                            GROMACS is written by:\n",
      "     Emile Apol      Rossen Apostolov      Paul Bauer     Herman J.C. Berendsen\n",
      "    Par Bjelkmar      Christian Blau   Viacheslav Bolnykh     Kevin Boyd    \n",
      " Aldert van Buuren   Rudi van Drunen     Anton Feenstra       Alan Gray     \n",
      "  Gerrit Groenhof     Anca Hamuraru    Vincent Hindriksen  M. Eric Irrgang  \n",
      "  Aleksei Iupinov   Christoph Junghans     Joe Jordan     Dimitrios Karkoulis\n",
      "    Peter Kasson        Jiri Kraus      Carsten Kutzner      Per Larsson    \n",
      "  Justin A. Lemkul    Viveca Lindahl    Magnus Lundborg     Erik Marklund   \n",
      "    Pascal Merz     Pieter Meulenhoff    Teemu Murtola       Szilard Pall   \n",
      "    Sander Pronk      Roland Schulz      Michael Shirts    Alexey Shvetsov  \n",
      "   Alfons Sijbers     Peter Tieleman      Jon Vincent      Teemu Virolainen \n",
      " Christian Wennberg    Maarten Wolf   \n",
      "                           and the project leaders:\n",
      "        Mark Abraham, Berk Hess, Erik Lindahl, and David van der Spoel\n",
      "\n",
      "Copyright (c) 1991-2000, University of Groningen, The Netherlands.\n",
      "Copyright (c) 2001-2018, The GROMACS development team at\n",
      "Uppsala University, Stockholm University and\n",
      "the Royal Institute of Technology, Sweden.\n",
      "check out http://www.gromacs.org for more information.\n",
      "\n",
      "GROMACS is free software; you can redistribute it and/or modify it\n",
      "under the terms of the GNU Lesser General Public License\n",
      "as published by the Free Software Foundation; either version 2.1\n",
      "of the License, or (at your option) any later version.\n",
      "\n",
      "GROMACS:      gmx energy, version 2019.1\n",
      "Executable:   /home/gelpi/miniconda3/envs/biobb_remote/bin/gmx\n",
      "Data prefix:  /home/gelpi/miniconda3/envs/biobb_remote\n",
      "Working dir:  /home/gelpi/DEVEL/BioExcel/biobb/biobb_remote/notebook\n",
      "Command line:\n",
      "  gmx energy -f /home/gelpi/DEVEL/BioExcel/biobb/biobb_remote/notebook/../test/test_wdir/1AKI_npt.edr -o 1AKI_npt_PD.xvg -xvg none\n",
      "\n",
      "Opened /home/gelpi/DEVEL/BioExcel/biobb/biobb_remote/notebook/../test/test_wdir/1AKI_npt.edr as single precision energy file\n",
      "\n",
      "Select the terms you want from the following list by\n",
      "selecting either (part of) the name or the number or a combination.\n",
      "End your selection with an empty line or a zero.\n",
      "-------------------------------------------------------------------\n",
      "  1  Bond             2  Angle            3  Proper-Dih.      4  Improper-Dih. \n",
      "  5  LJ-14            6  Coulomb-14       7  LJ-(SR)          8  Disper.-corr. \n",
      "  9  Coulomb-(SR)    10  Coul.-recip.    11  Position-Rest.  12  Potential     \n",
      " 13  Kinetic-En.     14  Total-Energy    15  Conserved-En.   16  Temperature   \n",
      " 17  Pres.-DC        18  Pressure        19  Constr.-rmsd    20  Box-X         \n",
      " 21  Box-Y           22  Box-Z           23  Volume          24  Density       \n",
      " 25  pV              26  Enthalpy        27  Vir-XX          28  Vir-XY        \n",
      " 29  Vir-XZ          30  Vir-YX          31  Vir-YY          32  Vir-YZ        \n",
      " 33  Vir-ZX          34  Vir-ZY          35  Vir-ZZ          36  Pres-XX       \n",
      " 37  Pres-XY         38  Pres-XZ         39  Pres-YX         40  Pres-YY       \n",
      " 41  Pres-YZ         42  Pres-ZX         43  Pres-ZY         44  Pres-ZZ       \n",
      " 45  #Surf*SurfTen   46  Box-Vel-XX      47  Box-Vel-YY      48  Box-Vel-ZZ    \n",
      " 49  T-Protein                           50  T-non-Protein                     \n",
      " 51  Lamb-Protein                        52  Lamb-non-Protein                  \n",
      "\n",
      "\n",
      "Back Off! I just backed up 1AKI_npt_PD.xvg to ./#1AKI_npt_PD.xvg.6#\n",
      "Last energy frame read 10 time   10.000           \n",
      "\n",
      "GROMACS reminds you: \"Try to calculate the numbers that have been\" (The Smoke Fairies)\n",
      "\n",
      "\n",
      "2021-01-14 19:41:06,722 [MainThread  ] [INFO ]  Removed: [PurePosixPath('e1fa74b0-d3d1-450a-80a9-5c82ca399eb4')]\n"
     ]
    },
    {
     "data": {
      "text/plain": [
       "0"
      ]
     },
     "execution_count": 53,
     "metadata": {},
     "output_type": "execute_result"
    }
   ],
   "source": [
    "# GMXEnergy: Getting system pressure and density by time during NPT Equilibration  \n",
    "from biobb_analysis.gromacs.gmx_energy import GMXEnergy\n",
    "\n",
    "# Create prop dict and inputs/outputs\n",
    "input_npt_edr = local_path + \"/\" + pdbCode + '_npt.edr'\n",
    "output_npt_pd_xvg = pdbCode+'_npt_PD.xvg'\n",
    "prop = {\n",
    "    'terms':  [\"Pressure\",\"Density\"]\n",
    "}\n",
    "\n",
    "# Create and launch bb\n",
    "GMXEnergy(input_energy_path=input_npt_edr, \n",
    "          output_xvg_path=output_npt_pd_xvg, \n",
    "          properties=prop).launch()"
   ]
  },
  {
   "cell_type": "code",
   "execution_count": 54,
   "metadata": {},
   "outputs": [
    {
     "data": {
      "text/html": [
       "        <script type=\"text/javascript\">\n",
       "        window.PlotlyConfig = {MathJaxConfig: 'local'};\n",
       "        if (window.MathJax) {MathJax.Hub.Config({SVG: {font: \"STIX-Web\"}});}\n",
       "        if (typeof require !== 'undefined') {\n",
       "        require.undef(\"plotly\");\n",
       "        requirejs.config({\n",
       "            paths: {\n",
       "                'plotly': ['https://cdn.plot.ly/plotly-latest.min']\n",
       "            }\n",
       "        });\n",
       "        require(['plotly'], function(Plotly) {\n",
       "            window._Plotly = Plotly;\n",
       "        });\n",
       "        }\n",
       "        </script>\n",
       "        "
      ]
     },
     "metadata": {},
     "output_type": "display_data"
    },
    {
     "data": {
      "application/vnd.plotly.v1+json": {
       "config": {
        "linkText": "Export to plot.ly",
        "plotlyServerURL": "https://plot.ly",
        "showLink": false
       },
       "data": [
        {
         "type": "scatter",
         "x": [
          0,
          1,
          2,
          3,
          4,
          5,
          6,
          7,
          8,
          9,
          10
         ],
         "xaxis": "x",
         "y": [
          -564.522217,
          49.485275,
          -40.551224,
          31.045532,
          387.566162,
          116.008514,
          171.465088,
          -308.89563,
          279.414825,
          160.598022,
          -26.963959
         ],
         "yaxis": "y"
        },
        {
         "type": "scatter",
         "x": [
          0,
          1,
          2,
          3,
          4,
          5,
          6,
          7,
          8,
          9,
          10
         ],
         "xaxis": "x2",
         "y": [
          995.082031,
          1017.981995,
          1019.342957,
          1023.151123,
          1025.328491,
          1020.994141,
          1021.74939,
          1016.944336,
          1021.694946,
          1021.579407,
          1020.742249
         ],
         "yaxis": "y2"
        }
       ],
       "layout": {
        "showlegend": false,
        "template": {
         "data": {
          "bar": [
           {
            "error_x": {
             "color": "#2a3f5f"
            },
            "error_y": {
             "color": "#2a3f5f"
            },
            "marker": {
             "line": {
              "color": "#E5ECF6",
              "width": 0.5
             }
            },
            "type": "bar"
           }
          ],
          "barpolar": [
           {
            "marker": {
             "line": {
              "color": "#E5ECF6",
              "width": 0.5
             }
            },
            "type": "barpolar"
           }
          ],
          "carpet": [
           {
            "aaxis": {
             "endlinecolor": "#2a3f5f",
             "gridcolor": "white",
             "linecolor": "white",
             "minorgridcolor": "white",
             "startlinecolor": "#2a3f5f"
            },
            "baxis": {
             "endlinecolor": "#2a3f5f",
             "gridcolor": "white",
             "linecolor": "white",
             "minorgridcolor": "white",
             "startlinecolor": "#2a3f5f"
            },
            "type": "carpet"
           }
          ],
          "choropleth": [
           {
            "colorbar": {
             "outlinewidth": 0,
             "ticks": ""
            },
            "type": "choropleth"
           }
          ],
          "contour": [
           {
            "colorbar": {
             "outlinewidth": 0,
             "ticks": ""
            },
            "colorscale": [
             [
              0,
              "#0d0887"
             ],
             [
              0.1111111111111111,
              "#46039f"
             ],
             [
              0.2222222222222222,
              "#7201a8"
             ],
             [
              0.3333333333333333,
              "#9c179e"
             ],
             [
              0.4444444444444444,
              "#bd3786"
             ],
             [
              0.5555555555555556,
              "#d8576b"
             ],
             [
              0.6666666666666666,
              "#ed7953"
             ],
             [
              0.7777777777777778,
              "#fb9f3a"
             ],
             [
              0.8888888888888888,
              "#fdca26"
             ],
             [
              1,
              "#f0f921"
             ]
            ],
            "type": "contour"
           }
          ],
          "contourcarpet": [
           {
            "colorbar": {
             "outlinewidth": 0,
             "ticks": ""
            },
            "type": "contourcarpet"
           }
          ],
          "heatmap": [
           {
            "colorbar": {
             "outlinewidth": 0,
             "ticks": ""
            },
            "colorscale": [
             [
              0,
              "#0d0887"
             ],
             [
              0.1111111111111111,
              "#46039f"
             ],
             [
              0.2222222222222222,
              "#7201a8"
             ],
             [
              0.3333333333333333,
              "#9c179e"
             ],
             [
              0.4444444444444444,
              "#bd3786"
             ],
             [
              0.5555555555555556,
              "#d8576b"
             ],
             [
              0.6666666666666666,
              "#ed7953"
             ],
             [
              0.7777777777777778,
              "#fb9f3a"
             ],
             [
              0.8888888888888888,
              "#fdca26"
             ],
             [
              1,
              "#f0f921"
             ]
            ],
            "type": "heatmap"
           }
          ],
          "heatmapgl": [
           {
            "colorbar": {
             "outlinewidth": 0,
             "ticks": ""
            },
            "colorscale": [
             [
              0,
              "#0d0887"
             ],
             [
              0.1111111111111111,
              "#46039f"
             ],
             [
              0.2222222222222222,
              "#7201a8"
             ],
             [
              0.3333333333333333,
              "#9c179e"
             ],
             [
              0.4444444444444444,
              "#bd3786"
             ],
             [
              0.5555555555555556,
              "#d8576b"
             ],
             [
              0.6666666666666666,
              "#ed7953"
             ],
             [
              0.7777777777777778,
              "#fb9f3a"
             ],
             [
              0.8888888888888888,
              "#fdca26"
             ],
             [
              1,
              "#f0f921"
             ]
            ],
            "type": "heatmapgl"
           }
          ],
          "histogram": [
           {
            "marker": {
             "colorbar": {
              "outlinewidth": 0,
              "ticks": ""
             }
            },
            "type": "histogram"
           }
          ],
          "histogram2d": [
           {
            "colorbar": {
             "outlinewidth": 0,
             "ticks": ""
            },
            "colorscale": [
             [
              0,
              "#0d0887"
             ],
             [
              0.1111111111111111,
              "#46039f"
             ],
             [
              0.2222222222222222,
              "#7201a8"
             ],
             [
              0.3333333333333333,
              "#9c179e"
             ],
             [
              0.4444444444444444,
              "#bd3786"
             ],
             [
              0.5555555555555556,
              "#d8576b"
             ],
             [
              0.6666666666666666,
              "#ed7953"
             ],
             [
              0.7777777777777778,
              "#fb9f3a"
             ],
             [
              0.8888888888888888,
              "#fdca26"
             ],
             [
              1,
              "#f0f921"
             ]
            ],
            "type": "histogram2d"
           }
          ],
          "histogram2dcontour": [
           {
            "colorbar": {
             "outlinewidth": 0,
             "ticks": ""
            },
            "colorscale": [
             [
              0,
              "#0d0887"
             ],
             [
              0.1111111111111111,
              "#46039f"
             ],
             [
              0.2222222222222222,
              "#7201a8"
             ],
             [
              0.3333333333333333,
              "#9c179e"
             ],
             [
              0.4444444444444444,
              "#bd3786"
             ],
             [
              0.5555555555555556,
              "#d8576b"
             ],
             [
              0.6666666666666666,
              "#ed7953"
             ],
             [
              0.7777777777777778,
              "#fb9f3a"
             ],
             [
              0.8888888888888888,
              "#fdca26"
             ],
             [
              1,
              "#f0f921"
             ]
            ],
            "type": "histogram2dcontour"
           }
          ],
          "mesh3d": [
           {
            "colorbar": {
             "outlinewidth": 0,
             "ticks": ""
            },
            "type": "mesh3d"
           }
          ],
          "parcoords": [
           {
            "line": {
             "colorbar": {
              "outlinewidth": 0,
              "ticks": ""
             }
            },
            "type": "parcoords"
           }
          ],
          "pie": [
           {
            "automargin": true,
            "type": "pie"
           }
          ],
          "scatter": [
           {
            "marker": {
             "colorbar": {
              "outlinewidth": 0,
              "ticks": ""
             }
            },
            "type": "scatter"
           }
          ],
          "scatter3d": [
           {
            "line": {
             "colorbar": {
              "outlinewidth": 0,
              "ticks": ""
             }
            },
            "marker": {
             "colorbar": {
              "outlinewidth": 0,
              "ticks": ""
             }
            },
            "type": "scatter3d"
           }
          ],
          "scattercarpet": [
           {
            "marker": {
             "colorbar": {
              "outlinewidth": 0,
              "ticks": ""
             }
            },
            "type": "scattercarpet"
           }
          ],
          "scattergeo": [
           {
            "marker": {
             "colorbar": {
              "outlinewidth": 0,
              "ticks": ""
             }
            },
            "type": "scattergeo"
           }
          ],
          "scattergl": [
           {
            "marker": {
             "colorbar": {
              "outlinewidth": 0,
              "ticks": ""
             }
            },
            "type": "scattergl"
           }
          ],
          "scattermapbox": [
           {
            "marker": {
             "colorbar": {
              "outlinewidth": 0,
              "ticks": ""
             }
            },
            "type": "scattermapbox"
           }
          ],
          "scatterpolar": [
           {
            "marker": {
             "colorbar": {
              "outlinewidth": 0,
              "ticks": ""
             }
            },
            "type": "scatterpolar"
           }
          ],
          "scatterpolargl": [
           {
            "marker": {
             "colorbar": {
              "outlinewidth": 0,
              "ticks": ""
             }
            },
            "type": "scatterpolargl"
           }
          ],
          "scatterternary": [
           {
            "marker": {
             "colorbar": {
              "outlinewidth": 0,
              "ticks": ""
             }
            },
            "type": "scatterternary"
           }
          ],
          "surface": [
           {
            "colorbar": {
             "outlinewidth": 0,
             "ticks": ""
            },
            "colorscale": [
             [
              0,
              "#0d0887"
             ],
             [
              0.1111111111111111,
              "#46039f"
             ],
             [
              0.2222222222222222,
              "#7201a8"
             ],
             [
              0.3333333333333333,
              "#9c179e"
             ],
             [
              0.4444444444444444,
              "#bd3786"
             ],
             [
              0.5555555555555556,
              "#d8576b"
             ],
             [
              0.6666666666666666,
              "#ed7953"
             ],
             [
              0.7777777777777778,
              "#fb9f3a"
             ],
             [
              0.8888888888888888,
              "#fdca26"
             ],
             [
              1,
              "#f0f921"
             ]
            ],
            "type": "surface"
           }
          ],
          "table": [
           {
            "cells": {
             "fill": {
              "color": "#EBF0F8"
             },
             "line": {
              "color": "white"
             }
            },
            "header": {
             "fill": {
              "color": "#C8D4E3"
             },
             "line": {
              "color": "white"
             }
            },
            "type": "table"
           }
          ]
         },
         "layout": {
          "annotationdefaults": {
           "arrowcolor": "#2a3f5f",
           "arrowhead": 0,
           "arrowwidth": 1
          },
          "autotypenumbers": "strict",
          "coloraxis": {
           "colorbar": {
            "outlinewidth": 0,
            "ticks": ""
           }
          },
          "colorscale": {
           "diverging": [
            [
             0,
             "#8e0152"
            ],
            [
             0.1,
             "#c51b7d"
            ],
            [
             0.2,
             "#de77ae"
            ],
            [
             0.3,
             "#f1b6da"
            ],
            [
             0.4,
             "#fde0ef"
            ],
            [
             0.5,
             "#f7f7f7"
            ],
            [
             0.6,
             "#e6f5d0"
            ],
            [
             0.7,
             "#b8e186"
            ],
            [
             0.8,
             "#7fbc41"
            ],
            [
             0.9,
             "#4d9221"
            ],
            [
             1,
             "#276419"
            ]
           ],
           "sequential": [
            [
             0,
             "#0d0887"
            ],
            [
             0.1111111111111111,
             "#46039f"
            ],
            [
             0.2222222222222222,
             "#7201a8"
            ],
            [
             0.3333333333333333,
             "#9c179e"
            ],
            [
             0.4444444444444444,
             "#bd3786"
            ],
            [
             0.5555555555555556,
             "#d8576b"
            ],
            [
             0.6666666666666666,
             "#ed7953"
            ],
            [
             0.7777777777777778,
             "#fb9f3a"
            ],
            [
             0.8888888888888888,
             "#fdca26"
            ],
            [
             1,
             "#f0f921"
            ]
           ],
           "sequentialminus": [
            [
             0,
             "#0d0887"
            ],
            [
             0.1111111111111111,
             "#46039f"
            ],
            [
             0.2222222222222222,
             "#7201a8"
            ],
            [
             0.3333333333333333,
             "#9c179e"
            ],
            [
             0.4444444444444444,
             "#bd3786"
            ],
            [
             0.5555555555555556,
             "#d8576b"
            ],
            [
             0.6666666666666666,
             "#ed7953"
            ],
            [
             0.7777777777777778,
             "#fb9f3a"
            ],
            [
             0.8888888888888888,
             "#fdca26"
            ],
            [
             1,
             "#f0f921"
            ]
           ]
          },
          "colorway": [
           "#636efa",
           "#EF553B",
           "#00cc96",
           "#ab63fa",
           "#FFA15A",
           "#19d3f3",
           "#FF6692",
           "#B6E880",
           "#FF97FF",
           "#FECB52"
          ],
          "font": {
           "color": "#2a3f5f"
          },
          "geo": {
           "bgcolor": "white",
           "lakecolor": "white",
           "landcolor": "#E5ECF6",
           "showlakes": true,
           "showland": true,
           "subunitcolor": "white"
          },
          "hoverlabel": {
           "align": "left"
          },
          "hovermode": "closest",
          "mapbox": {
           "style": "light"
          },
          "paper_bgcolor": "white",
          "plot_bgcolor": "#E5ECF6",
          "polar": {
           "angularaxis": {
            "gridcolor": "white",
            "linecolor": "white",
            "ticks": ""
           },
           "bgcolor": "#E5ECF6",
           "radialaxis": {
            "gridcolor": "white",
            "linecolor": "white",
            "ticks": ""
           }
          },
          "scene": {
           "xaxis": {
            "backgroundcolor": "#E5ECF6",
            "gridcolor": "white",
            "gridwidth": 2,
            "linecolor": "white",
            "showbackground": true,
            "ticks": "",
            "zerolinecolor": "white"
           },
           "yaxis": {
            "backgroundcolor": "#E5ECF6",
            "gridcolor": "white",
            "gridwidth": 2,
            "linecolor": "white",
            "showbackground": true,
            "ticks": "",
            "zerolinecolor": "white"
           },
           "zaxis": {
            "backgroundcolor": "#E5ECF6",
            "gridcolor": "white",
            "gridwidth": 2,
            "linecolor": "white",
            "showbackground": true,
            "ticks": "",
            "zerolinecolor": "white"
           }
          },
          "shapedefaults": {
           "line": {
            "color": "#2a3f5f"
           }
          },
          "ternary": {
           "aaxis": {
            "gridcolor": "white",
            "linecolor": "white",
            "ticks": ""
           },
           "baxis": {
            "gridcolor": "white",
            "linecolor": "white",
            "ticks": ""
           },
           "bgcolor": "#E5ECF6",
           "caxis": {
            "gridcolor": "white",
            "linecolor": "white",
            "ticks": ""
           }
          },
          "title": {
           "x": 0.05
          },
          "xaxis": {
           "automargin": true,
           "gridcolor": "white",
           "linecolor": "white",
           "ticks": "",
           "title": {
            "standoff": 15
           },
           "zerolinecolor": "white",
           "zerolinewidth": 2
          },
          "yaxis": {
           "automargin": true,
           "gridcolor": "white",
           "linecolor": "white",
           "ticks": "",
           "title": {
            "standoff": 15
           },
           "zerolinecolor": "white",
           "zerolinewidth": 2
          }
         }
        },
        "title": {
         "text": "Pressure and Density during NPT Equilibration"
        },
        "xaxis": {
         "anchor": "y",
         "domain": [
          0,
          0.45
         ],
         "title": {
          "text": "Time (ps)"
         }
        },
        "xaxis2": {
         "anchor": "y2",
         "domain": [
          0.55,
          1
         ],
         "title": {
          "text": "Time (ps)"
         }
        },
        "yaxis": {
         "anchor": "x",
         "domain": [
          0,
          1
         ],
         "title": {
          "text": "Pressure (bar)"
         }
        },
        "yaxis2": {
         "anchor": "x2",
         "domain": [
          0,
          1
         ],
         "title": {
          "text": "Density (Kg*m^-3)"
         }
        }
       }
      },
      "text/html": [
       "<div>                            <div id=\"39fd2c09-8d60-4906-bd28-cb84c639f748\" class=\"plotly-graph-div\" style=\"height:525px; width:100%;\"></div>            <script type=\"text/javascript\">                require([\"plotly\"], function(Plotly) {                    window.PLOTLYENV=window.PLOTLYENV || {};                                    if (document.getElementById(\"39fd2c09-8d60-4906-bd28-cb84c639f748\")) {                    Plotly.newPlot(                        \"39fd2c09-8d60-4906-bd28-cb84c639f748\",                        [{\"type\": \"scatter\", \"x\": [0.0, 1.0, 2.0, 3.0, 4.0, 5.0, 6.0, 7.0, 8.0, 9.0, 10.0], \"xaxis\": \"x\", \"y\": [-564.522217, 49.485275, -40.551224, 31.045532, 387.566162, 116.008514, 171.465088, -308.89563, 279.414825, 160.598022, -26.963959], \"yaxis\": \"y\"}, {\"type\": \"scatter\", \"x\": [0.0, 1.0, 2.0, 3.0, 4.0, 5.0, 6.0, 7.0, 8.0, 9.0, 10.0], \"xaxis\": \"x2\", \"y\": [995.082031, 1017.981995, 1019.342957, 1023.151123, 1025.328491, 1020.994141, 1021.74939, 1016.944336, 1021.694946, 1021.579407, 1020.742249], \"yaxis\": \"y2\"}],                        {\"showlegend\": false, \"template\": {\"data\": {\"bar\": [{\"error_x\": {\"color\": \"#2a3f5f\"}, \"error_y\": {\"color\": \"#2a3f5f\"}, \"marker\": {\"line\": {\"color\": \"#E5ECF6\", \"width\": 0.5}}, \"type\": \"bar\"}], \"barpolar\": [{\"marker\": {\"line\": {\"color\": \"#E5ECF6\", \"width\": 0.5}}, \"type\": \"barpolar\"}], \"carpet\": [{\"aaxis\": {\"endlinecolor\": \"#2a3f5f\", \"gridcolor\": \"white\", \"linecolor\": \"white\", \"minorgridcolor\": \"white\", \"startlinecolor\": \"#2a3f5f\"}, \"baxis\": {\"endlinecolor\": \"#2a3f5f\", \"gridcolor\": \"white\", \"linecolor\": \"white\", \"minorgridcolor\": \"white\", \"startlinecolor\": \"#2a3f5f\"}, \"type\": \"carpet\"}], \"choropleth\": [{\"colorbar\": {\"outlinewidth\": 0, \"ticks\": \"\"}, \"type\": \"choropleth\"}], \"contour\": [{\"colorbar\": {\"outlinewidth\": 0, \"ticks\": \"\"}, \"colorscale\": [[0.0, \"#0d0887\"], [0.1111111111111111, \"#46039f\"], [0.2222222222222222, \"#7201a8\"], [0.3333333333333333, \"#9c179e\"], [0.4444444444444444, \"#bd3786\"], [0.5555555555555556, \"#d8576b\"], [0.6666666666666666, \"#ed7953\"], [0.7777777777777778, \"#fb9f3a\"], [0.8888888888888888, \"#fdca26\"], [1.0, \"#f0f921\"]], \"type\": \"contour\"}], \"contourcarpet\": [{\"colorbar\": {\"outlinewidth\": 0, \"ticks\": \"\"}, \"type\": \"contourcarpet\"}], \"heatmap\": [{\"colorbar\": {\"outlinewidth\": 0, \"ticks\": \"\"}, \"colorscale\": [[0.0, \"#0d0887\"], [0.1111111111111111, \"#46039f\"], [0.2222222222222222, \"#7201a8\"], [0.3333333333333333, \"#9c179e\"], [0.4444444444444444, \"#bd3786\"], [0.5555555555555556, \"#d8576b\"], [0.6666666666666666, \"#ed7953\"], [0.7777777777777778, \"#fb9f3a\"], [0.8888888888888888, \"#fdca26\"], [1.0, \"#f0f921\"]], \"type\": \"heatmap\"}], \"heatmapgl\": [{\"colorbar\": {\"outlinewidth\": 0, \"ticks\": \"\"}, \"colorscale\": [[0.0, \"#0d0887\"], [0.1111111111111111, \"#46039f\"], [0.2222222222222222, \"#7201a8\"], [0.3333333333333333, \"#9c179e\"], [0.4444444444444444, \"#bd3786\"], [0.5555555555555556, \"#d8576b\"], [0.6666666666666666, \"#ed7953\"], [0.7777777777777778, \"#fb9f3a\"], [0.8888888888888888, \"#fdca26\"], [1.0, \"#f0f921\"]], \"type\": \"heatmapgl\"}], \"histogram\": [{\"marker\": {\"colorbar\": {\"outlinewidth\": 0, \"ticks\": \"\"}}, \"type\": \"histogram\"}], \"histogram2d\": [{\"colorbar\": {\"outlinewidth\": 0, \"ticks\": \"\"}, \"colorscale\": [[0.0, \"#0d0887\"], [0.1111111111111111, \"#46039f\"], [0.2222222222222222, \"#7201a8\"], [0.3333333333333333, \"#9c179e\"], [0.4444444444444444, \"#bd3786\"], [0.5555555555555556, \"#d8576b\"], [0.6666666666666666, \"#ed7953\"], [0.7777777777777778, \"#fb9f3a\"], [0.8888888888888888, \"#fdca26\"], [1.0, \"#f0f921\"]], \"type\": \"histogram2d\"}], \"histogram2dcontour\": [{\"colorbar\": {\"outlinewidth\": 0, \"ticks\": \"\"}, \"colorscale\": [[0.0, \"#0d0887\"], [0.1111111111111111, \"#46039f\"], [0.2222222222222222, \"#7201a8\"], [0.3333333333333333, \"#9c179e\"], [0.4444444444444444, \"#bd3786\"], [0.5555555555555556, \"#d8576b\"], [0.6666666666666666, \"#ed7953\"], [0.7777777777777778, \"#fb9f3a\"], [0.8888888888888888, \"#fdca26\"], [1.0, \"#f0f921\"]], \"type\": \"histogram2dcontour\"}], \"mesh3d\": [{\"colorbar\": {\"outlinewidth\": 0, \"ticks\": \"\"}, \"type\": \"mesh3d\"}], \"parcoords\": [{\"line\": {\"colorbar\": {\"outlinewidth\": 0, \"ticks\": \"\"}}, \"type\": \"parcoords\"}], \"pie\": [{\"automargin\": true, \"type\": \"pie\"}], \"scatter\": [{\"marker\": {\"colorbar\": {\"outlinewidth\": 0, \"ticks\": \"\"}}, \"type\": \"scatter\"}], \"scatter3d\": [{\"line\": {\"colorbar\": {\"outlinewidth\": 0, \"ticks\": \"\"}}, \"marker\": {\"colorbar\": {\"outlinewidth\": 0, \"ticks\": \"\"}}, \"type\": \"scatter3d\"}], \"scattercarpet\": [{\"marker\": {\"colorbar\": {\"outlinewidth\": 0, \"ticks\": \"\"}}, \"type\": \"scattercarpet\"}], \"scattergeo\": [{\"marker\": {\"colorbar\": {\"outlinewidth\": 0, \"ticks\": \"\"}}, \"type\": \"scattergeo\"}], \"scattergl\": [{\"marker\": {\"colorbar\": {\"outlinewidth\": 0, \"ticks\": \"\"}}, \"type\": \"scattergl\"}], \"scattermapbox\": [{\"marker\": {\"colorbar\": {\"outlinewidth\": 0, \"ticks\": \"\"}}, \"type\": \"scattermapbox\"}], \"scatterpolar\": [{\"marker\": {\"colorbar\": {\"outlinewidth\": 0, \"ticks\": \"\"}}, \"type\": \"scatterpolar\"}], \"scatterpolargl\": [{\"marker\": {\"colorbar\": {\"outlinewidth\": 0, \"ticks\": \"\"}}, \"type\": \"scatterpolargl\"}], \"scatterternary\": [{\"marker\": {\"colorbar\": {\"outlinewidth\": 0, \"ticks\": \"\"}}, \"type\": \"scatterternary\"}], \"surface\": [{\"colorbar\": {\"outlinewidth\": 0, \"ticks\": \"\"}, \"colorscale\": [[0.0, \"#0d0887\"], [0.1111111111111111, \"#46039f\"], [0.2222222222222222, \"#7201a8\"], [0.3333333333333333, \"#9c179e\"], [0.4444444444444444, \"#bd3786\"], [0.5555555555555556, \"#d8576b\"], [0.6666666666666666, \"#ed7953\"], [0.7777777777777778, \"#fb9f3a\"], [0.8888888888888888, \"#fdca26\"], [1.0, \"#f0f921\"]], \"type\": \"surface\"}], \"table\": [{\"cells\": {\"fill\": {\"color\": \"#EBF0F8\"}, \"line\": {\"color\": \"white\"}}, \"header\": {\"fill\": {\"color\": \"#C8D4E3\"}, \"line\": {\"color\": \"white\"}}, \"type\": \"table\"}]}, \"layout\": {\"annotationdefaults\": {\"arrowcolor\": \"#2a3f5f\", \"arrowhead\": 0, \"arrowwidth\": 1}, \"autotypenumbers\": \"strict\", \"coloraxis\": {\"colorbar\": {\"outlinewidth\": 0, \"ticks\": \"\"}}, \"colorscale\": {\"diverging\": [[0, \"#8e0152\"], [0.1, \"#c51b7d\"], [0.2, \"#de77ae\"], [0.3, \"#f1b6da\"], [0.4, \"#fde0ef\"], [0.5, \"#f7f7f7\"], [0.6, \"#e6f5d0\"], [0.7, \"#b8e186\"], [0.8, \"#7fbc41\"], [0.9, \"#4d9221\"], [1, \"#276419\"]], \"sequential\": [[0.0, \"#0d0887\"], [0.1111111111111111, \"#46039f\"], [0.2222222222222222, \"#7201a8\"], [0.3333333333333333, \"#9c179e\"], [0.4444444444444444, \"#bd3786\"], [0.5555555555555556, \"#d8576b\"], [0.6666666666666666, \"#ed7953\"], [0.7777777777777778, \"#fb9f3a\"], [0.8888888888888888, \"#fdca26\"], [1.0, \"#f0f921\"]], \"sequentialminus\": [[0.0, \"#0d0887\"], [0.1111111111111111, \"#46039f\"], [0.2222222222222222, \"#7201a8\"], [0.3333333333333333, \"#9c179e\"], [0.4444444444444444, \"#bd3786\"], [0.5555555555555556, \"#d8576b\"], [0.6666666666666666, \"#ed7953\"], [0.7777777777777778, \"#fb9f3a\"], [0.8888888888888888, \"#fdca26\"], [1.0, \"#f0f921\"]]}, \"colorway\": [\"#636efa\", \"#EF553B\", \"#00cc96\", \"#ab63fa\", \"#FFA15A\", \"#19d3f3\", \"#FF6692\", \"#B6E880\", \"#FF97FF\", \"#FECB52\"], \"font\": {\"color\": \"#2a3f5f\"}, \"geo\": {\"bgcolor\": \"white\", \"lakecolor\": \"white\", \"landcolor\": \"#E5ECF6\", \"showlakes\": true, \"showland\": true, \"subunitcolor\": \"white\"}, \"hoverlabel\": {\"align\": \"left\"}, \"hovermode\": \"closest\", \"mapbox\": {\"style\": \"light\"}, \"paper_bgcolor\": \"white\", \"plot_bgcolor\": \"#E5ECF6\", \"polar\": {\"angularaxis\": {\"gridcolor\": \"white\", \"linecolor\": \"white\", \"ticks\": \"\"}, \"bgcolor\": \"#E5ECF6\", \"radialaxis\": {\"gridcolor\": \"white\", \"linecolor\": \"white\", \"ticks\": \"\"}}, \"scene\": {\"xaxis\": {\"backgroundcolor\": \"#E5ECF6\", \"gridcolor\": \"white\", \"gridwidth\": 2, \"linecolor\": \"white\", \"showbackground\": true, \"ticks\": \"\", \"zerolinecolor\": \"white\"}, \"yaxis\": {\"backgroundcolor\": \"#E5ECF6\", \"gridcolor\": \"white\", \"gridwidth\": 2, \"linecolor\": \"white\", \"showbackground\": true, \"ticks\": \"\", \"zerolinecolor\": \"white\"}, \"zaxis\": {\"backgroundcolor\": \"#E5ECF6\", \"gridcolor\": \"white\", \"gridwidth\": 2, \"linecolor\": \"white\", \"showbackground\": true, \"ticks\": \"\", \"zerolinecolor\": \"white\"}}, \"shapedefaults\": {\"line\": {\"color\": \"#2a3f5f\"}}, \"ternary\": {\"aaxis\": {\"gridcolor\": \"white\", \"linecolor\": \"white\", \"ticks\": \"\"}, \"baxis\": {\"gridcolor\": \"white\", \"linecolor\": \"white\", \"ticks\": \"\"}, \"bgcolor\": \"#E5ECF6\", \"caxis\": {\"gridcolor\": \"white\", \"linecolor\": \"white\", \"ticks\": \"\"}}, \"title\": {\"x\": 0.05}, \"xaxis\": {\"automargin\": true, \"gridcolor\": \"white\", \"linecolor\": \"white\", \"ticks\": \"\", \"title\": {\"standoff\": 15}, \"zerolinecolor\": \"white\", \"zerolinewidth\": 2}, \"yaxis\": {\"automargin\": true, \"gridcolor\": \"white\", \"linecolor\": \"white\", \"ticks\": \"\", \"title\": {\"standoff\": 15}, \"zerolinecolor\": \"white\", \"zerolinewidth\": 2}}}, \"title\": {\"text\": \"Pressure and Density during NPT Equilibration\"}, \"xaxis\": {\"anchor\": \"y\", \"domain\": [0.0, 0.45], \"title\": {\"text\": \"Time (ps)\"}}, \"xaxis2\": {\"anchor\": \"y2\", \"domain\": [0.55, 1.0], \"title\": {\"text\": \"Time (ps)\"}}, \"yaxis\": {\"anchor\": \"x\", \"domain\": [0.0, 1.0], \"title\": {\"text\": \"Pressure (bar)\"}}, \"yaxis2\": {\"anchor\": \"x2\", \"domain\": [0.0, 1.0], \"title\": {\"text\": \"Density (Kg*m^-3)\"}}},                        {\"responsive\": true}                    ).then(function(){\n",
       "                            \n",
       "var gd = document.getElementById('39fd2c09-8d60-4906-bd28-cb84c639f748');\n",
       "var x = new MutationObserver(function (mutations, observer) {{\n",
       "        var display = window.getComputedStyle(gd).display;\n",
       "        if (!display || display === 'none') {{\n",
       "            console.log([gd, 'removed!']);\n",
       "            Plotly.purge(gd);\n",
       "            observer.disconnect();\n",
       "        }}\n",
       "}});\n",
       "\n",
       "// Listen for the removal of the full notebook cells\n",
       "var notebookContainer = gd.closest('#notebook-container');\n",
       "if (notebookContainer) {{\n",
       "    x.observe(notebookContainer, {childList: true});\n",
       "}}\n",
       "\n",
       "// Listen for the clearing of the current output cell\n",
       "var outputEl = gd.closest('.output');\n",
       "if (outputEl) {{\n",
       "    x.observe(outputEl, {childList: true});\n",
       "}}\n",
       "\n",
       "                        })                };                });            </script>        </div>"
      ]
     },
     "metadata": {},
     "output_type": "display_data"
    }
   ],
   "source": [
    "import plotly\n",
    "from plotly import subplots\n",
    "import plotly.graph_objs as go\n",
    "\n",
    "# Read pressure and density data from file \n",
    "with open(output_npt_pd_xvg,'r') as pd_file:\n",
    "    x,y,z = map(\n",
    "        list,\n",
    "        zip(*[\n",
    "            (float(line.split()[0]),float(line.split()[1]),float(line.split()[2]))\n",
    "            for line in pd_file \n",
    "            if not line.startswith((\"#\",\"@\")) \n",
    "        ])\n",
    "    )\n",
    "\n",
    "plotly.offline.init_notebook_mode(connected=True)\n",
    "\n",
    "trace1 = go.Scatter(\n",
    "    x=x,y=y\n",
    ")\n",
    "trace2 = go.Scatter(\n",
    "    x=x,y=z\n",
    ")\n",
    "\n",
    "fig = subplots.make_subplots(rows=1, cols=2, print_grid=False)\n",
    "\n",
    "fig.append_trace(trace1, 1, 1)\n",
    "fig.append_trace(trace2, 1, 2)\n",
    "\n",
    "fig['layout']['xaxis1'].update(title='Time (ps)')\n",
    "fig['layout']['xaxis2'].update(title='Time (ps)')\n",
    "fig['layout']['yaxis1'].update(title='Pressure (bar)')\n",
    "fig['layout']['yaxis2'].update(title='Density (Kg*m^-3)')\n",
    "\n",
    "fig['layout'].update(title='Pressure and Density during NPT Equilibration')\n",
    "fig['layout'].update(showlegend=False)\n",
    "\n",
    "plotly.offline.iplot(fig)"
   ]
  },
  {
   "cell_type": "markdown",
   "metadata": {},
   "source": [
    "<a id=\"free\"></a>\n",
    "***\n",
    "## Free Molecular Dynamics Simulation\n",
    "Upon completion of the **two equilibration phases (NVT and NPT)**, the system is now well-equilibrated at the desired temperature and pressure. The **position restraints** can now be released. The last step of the **protein** MD setup is a short, **free MD simulation**, to ensure the robustness of the system. \n",
    "- [Step 1](#mdStep1): Creating portable binary run file to run a **free MD simulation**.\n",
    "- [Step 2](#mdStep2): Run short MD simulation of the **protein system**.\n",
    "- [Step 3](#mdStep3): Checking results for the final step of the setup process, the **free MD run**. Plotting **Root Mean Square deviation (RMSd)** and **Radius of Gyration (Rgyr)** by time during the **free MD run** step. \n",
    "***\n",
    "**Building Blocks** used:\n",
    " - [Grompp](https://biobb-md.readthedocs.io/en/latest/gromacs.html#module-gromacs.grompp) from **biobb_md.gromacs.grompp** \n",
    " - [Mdrun](https://biobb-md.readthedocs.io/en/latest/gromacs.html#module-gromacs.mdrun) from **biobb_md.gromacs.mdrun** \n",
    " - [GMXRms](https://biobb-analysis.readthedocs.io/en/latest/gromacs.html#module-gromacs.gmx_rms) from **biobb_analysis.gromacs.gmx_rms** \n",
    " - [GMXRgyr](https://biobb-analysis.readthedocs.io/en/latest/gromacs.html#module-gromacs.gmx_rgyr) from **biobb_analysis.gromacs.gmx_rgyr** \n",
    "***"
   ]
  },
  {
   "cell_type": "markdown",
   "metadata": {},
   "source": [
    "<a id=\"mdStep1\"></a>\n",
    "### Step 1: Creating portable binary run file to run a free MD simulation\n",
    "\n",
    "The **free** type of the **molecular dynamics parameters (mdp) property** contains the main default parameters to run an **free MD simulation** (see [GROMACS mdp options](http://manual.gromacs.org/documentation/2018/user-guide/mdp-options.html)):\n",
    "\n",
    "-  integrator               = md\n",
    "-  dt                       = 0.002 (ps)\n",
    "-  nsteps                   = 500000\n",
    "\n",
    "In this particular example, the default parameters will be used: **md** integrator algorithm, a **time step** of **2fs**, and a total of **50,000 md steps** (100ps).\n",
    "\n",
    "*Please note that for the sake of time this tutorial is only running 100ps of free MD, whereas in the [original example](http://www.mdtutorials.com/gmx/lysozyme/08_MD.html) the simulated time was 1ns (1000ps).*"
   ]
  },
  {
   "cell_type": "code",
   "execution_count": 55,
   "metadata": {},
   "outputs": [
    {
     "name": "stderr",
     "output_type": "stream",
     "text": [
      "2021-01-14 19:41:22,949 [MainThread  ] [INFO ]  GROMACS Grompp 20191 version detected\n",
      "2021-01-14 19:41:22,952 [MainThread  ] [INFO ]  Extracting: /home/gelpi/DEVEL/BioExcel/biobb/biobb_remote/test/test_wdir/1AKI_genion_top.zip\n",
      "2021-01-14 19:41:22,953 [MainThread  ] [INFO ]  to:\n",
      "2021-01-14 19:41:22,954 [MainThread  ] [INFO ]  ['398b2ed7-ffe0-4df0-9c9f-7570de93e7ca/p2g.top', '398b2ed7-ffe0-4df0-9c9f-7570de93e7ca/posre.itp']\n",
      "2021-01-14 19:41:22,955 [MainThread  ] [INFO ]  Unzipping: \n",
      "2021-01-14 19:41:22,957 [MainThread  ] [INFO ]  ../test/test_wdir/1AKI_genion_top.zip\n",
      "2021-01-14 19:41:22,959 [MainThread  ] [INFO ]  To: \n",
      "2021-01-14 19:41:22,962 [MainThread  ] [INFO ]  398b2ed7-ffe0-4df0-9c9f-7570de93e7ca/p2g.top\n",
      "2021-01-14 19:41:22,966 [MainThread  ] [INFO ]  398b2ed7-ffe0-4df0-9c9f-7570de93e7ca/posre.itp\n",
      "2021-01-14 19:41:22,967 [MainThread  ] [INFO ]  Not using any container\n",
      "2021-01-14 19:41:23,272 [MainThread  ] [INFO ]  gmx -nobackup -nocopyright grompp -f c239d8d0-0da4-461d-bda4-41ecf43fd0f8/grompp.mdp -c ../test/test_wdir/1AKI_npt.gro -r ../test/test_wdir/1AKI_npt.gro -p 398b2ed7-ffe0-4df0-9c9f-7570de93e7ca/p2g.top -o ../test/test_wdir/1AKI_gppmd.tpr -po mdout.mdp -maxwarn 10\n",
      "\n",
      "2021-01-14 19:41:23,273 [MainThread  ] [INFO ]  Exit code 0\n",
      "\n",
      "2021-01-14 19:41:23,274 [MainThread  ] [INFO ]  turning H bonds into constraints...\n",
      "turning H bonds into constraints...\n",
      "turning H bonds into constraints...\n",
      "turning H bonds into constraints...\n",
      "Analysing residue names:\n",
      "There are:   129    Protein residues\n",
      "There are: 10616      Water residues\n",
      "There are:    28        Ion residues\n",
      "Analysing Protein...\n",
      "Analysing residues not classified as Protein/DNA/RNA/Water and splitting into groups...\n",
      "Determining Verlet buffer for a tolerance of 0.005 kJ/mol/ps at 300 K\n",
      "Calculated rlist for 1x1 atom pair-list as 1.035 nm, buffer size 0.035 nm\n",
      "Set rlist, assuming 4x4 atom pair-list, to 1.000 nm, buffer size 0.000 nm\n",
      "Note that mdrun will redetermine rlist based on the actual pair-list setup\n",
      "Calculating fourier grid dimensions for X Y Z\n",
      "Using a fourier grid of 60x60x60, spacing 0.116 0.116 0.116\n",
      "This run will generate roughly 162 Mb of data\n",
      "\n",
      "2021-01-14 19:41:23,274 [MainThread  ] [INFO ]                        :-) GROMACS - gmx grompp, 2019.1 (-:\n",
      "\n",
      "Executable:   /home/gelpi/miniconda3/envs/biobb_remote/bin/gmx\n",
      "Data prefix:  /home/gelpi/miniconda3/envs/biobb_remote\n",
      "Working dir:  /home/gelpi/DEVEL/BioExcel/biobb/biobb_remote/notebook\n",
      "Command line:\n",
      "  gmx -nobackup -nocopyright grompp -f c239d8d0-0da4-461d-bda4-41ecf43fd0f8/grompp.mdp -c ../test/test_wdir/1AKI_npt.gro -r ../test/test_wdir/1AKI_npt.gro -p 398b2ed7-ffe0-4df0-9c9f-7570de93e7ca/p2g.top -o ../test/test_wdir/1AKI_gppmd.tpr -po mdout.mdp -maxwarn 10\n",
      "\n",
      "Setting the LD random seed to 659887639\n",
      "Generated 2145 of the 2145 non-bonded parameter combinations\n",
      "Generating 1-4 interactions: fudge = 0.5\n",
      "Generated 2145 of the 2145 1-4 parameter combinations\n",
      "Excluding 3 bonded neighbours molecule type 'Protein_chain_A'\n",
      "Excluding 2 bonded neighbours molecule type 'SOL'\n",
      "Excluding 1 bonded neighbours molecule type 'NA'\n",
      "Excluding 1 bonded neighbours molecule type 'CL'\n",
      "Removing all charge groups because cutoff-scheme=Verlet\n",
      "Number of degrees of freedom in T-Coupling group Protein is 4920.79\n",
      "Number of degrees of freedom in T-Coupling group non-Protein is 63777.21\n",
      "Estimate for the relative computational load of the PME mesh part: 0.18\n",
      "\n",
      "GROMACS reminds you: \"Hangout In the Suburbs If You've Got the Guts\" (Urban Dance Squad)\n",
      "\n",
      "\n",
      "2021-01-14 19:41:23,281 [MainThread  ] [INFO ]  Removed: ['mdout.mdp', '398b2ed7-ffe0-4df0-9c9f-7570de93e7ca', 'c239d8d0-0da4-461d-bda4-41ecf43fd0f8']\n"
     ]
    },
    {
     "data": {
      "text/plain": [
       "0"
      ]
     },
     "execution_count": 55,
     "metadata": {},
     "output_type": "execute_result"
    }
   ],
   "source": [
    "# Grompp: Creating portable binary run file for mdrun\n",
    "from biobb_md.gromacs.grompp import Grompp\n",
    "\n",
    "# Create prop dict and inputs/outputs\n",
    "input_npt_gro = local_path + '/' + pdbCode + '_npt.gro'\n",
    "output_gppmd_tpr = local_path + '/' + pdbCode+'_gppmd.tpr'\n",
    "prop = {\n",
    "    'simulation_type':'free',\n",
    "    'mdp':{\n",
    "        'nsteps':'500000',\n",
    "        #'tc_grps': \"DNA Water_and_ions\" # NOTE: uncomment this line if working with DNA\n",
    "    }\n",
    "}\n",
    "\n",
    "# Create and launch bb\n",
    "Grompp(input_gro_path=input_npt_gro, \n",
    "       input_top_zip_path=input_genion_top_zip, \n",
    "       output_tpr_path=output_gppmd_tpr, \n",
    "       input_cpt_path=output_npt_cpt, \n",
    "       properties=prop).launch()"
   ]
  },
  {
   "cell_type": "code",
   "execution_count": 56,
   "metadata": {},
   "outputs": [
    {
     "name": "stdout",
     "output_type": "stream",
     "text": [
      "sending_file: ../test/test_wdir/1AKI_gppmd.tpr -> scratch/test_biobb/biobb_81dff893-f0f9-49dd-b795-508c073a19e8/1AKI_gppmd.tpr\n"
     ]
    }
   ],
   "source": [
    "slurm.task_data['local_data_bundle'].add_file(output_gppmd_tpr)\n",
    "slurm.send_input_data(remote_path, overwrite= False)\n"
   ]
  },
  {
   "cell_type": "markdown",
   "metadata": {},
   "source": [
    "<a id=\"mdStep2\"></a>\n",
    "### Step 2: Running short free MD simulation"
   ]
  },
  {
   "cell_type": "code",
   "execution_count": 57,
   "metadata": {},
   "outputs": [
    {
     "name": "stdout",
     "output_type": "stream",
     "text": [
      "Submitted job 13719369\n"
     ]
    }
   ],
   "source": [
    "# Mdrun: Running NPT System Equilibration\n",
    "python_import = 'from biobb_md.gromacs.mdrun import Mdrun'\n",
    "\n",
    "# Create prop dict and inputs/outputs\n",
    "input_npt_tpr = pdbCode + '_gppmd.tpr' \n",
    "output_md_trr = pdbCode + '_md.trr'\n",
    "output_md_gro = pdbCode + '_md.gro'\n",
    "output_md_edr = pdbCode + '_md.edr'\n",
    "output_md_log = pdbCode + '_md.log'\n",
    "output_md_cpt = pdbCode + '_md.cpt'\n",
    "\n",
    "files = {\n",
    "    'input_tpr_path' : input_npt_tpr, \n",
    "    'output_trr_path': output_md_trr, \n",
    "    'output_gro_path': output_md_gro, \n",
    "    'output_edr_path': output_md_edr, \n",
    "    'output_log_path': output_md_log, \n",
    "    'output_cpt_path': output_md_cpt\n",
    "}\n",
    "\n",
    "# get_remote_py_script generates one-line python script appropriate for a\n",
    "# single biobb execution\n",
    "# Alternatively, a file containing a more complex script can be loaded\n",
    "\n",
    "prop={'gmx_path':'gmx_mpi'}\n",
    "slurm.submit(\n",
    "    job_name= pdbCode + '_md',\n",
    "    queue_settings='default',\n",
    "    modules=modules,\n",
    "    conda_env=conda_env,\n",
    "    local_run_script=slurm.get_remote_py_script(\n",
    "        python_import, \n",
    "        files, \n",
    "        'Mdrun', \n",
    "        properties=prop\n",
    "    )\n",
    ")"
   ]
  },
  {
   "cell_type": "code",
   "execution_count": 59,
   "metadata": {},
   "outputs": [
    {
     "name": "stdout",
     "output_type": "stream",
     "text": [
      " Job 13719369 is Finished\n"
     ]
    }
   ],
   "source": [
    "slurm.check_job(poll_time=50)\n",
    "slurm.save(task_data_path)"
   ]
  },
  {
   "cell_type": "code",
   "execution_count": 61,
   "metadata": {},
   "outputs": [
    {
     "name": "stdout",
     "output_type": "stream",
     "text": [
      "getting_file: scratch/test_biobb/biobb_81dff893-f0f9-49dd-b795-508c073a19e8/1AKI_npt.err -> ../test/test_wdir/1AKI_npt.err\n",
      "getting_file: scratch/test_biobb/biobb_81dff893-f0f9-49dd-b795-508c073a19e8/log3.err -> ../test/test_wdir/log3.err\n",
      "getting_file: scratch/test_biobb/biobb_81dff893-f0f9-49dd-b795-508c073a19e8/1AKI_npt.gro -> ../test/test_wdir/1AKI_npt.gro\n",
      "getting_file: scratch/test_biobb/biobb_81dff893-f0f9-49dd-b795-508c073a19e8/1AKI_npt.cpt -> ../test/test_wdir/1AKI_npt.cpt\n",
      "getting_file: scratch/test_biobb/biobb_81dff893-f0f9-49dd-b795-508c073a19e8/1AKI_md.log -> ../test/test_wdir/1AKI_md.log\n",
      "getting_file: scratch/test_biobb/biobb_81dff893-f0f9-49dd-b795-508c073a19e8/1AKI_gppnvt.tpr -> ../test/test_wdir/1AKI_gppnvt.tpr\n",
      "getting_file: scratch/test_biobb/biobb_81dff893-f0f9-49dd-b795-508c073a19e8/1AKI_nvt.gro -> ../test/test_wdir/1AKI_nvt.gro\n",
      "getting_file: scratch/test_biobb/biobb_81dff893-f0f9-49dd-b795-508c073a19e8/1AKI_min.gro -> ../test/test_wdir/1AKI_min.gro\n",
      "getting_file: scratch/test_biobb/biobb_81dff893-f0f9-49dd-b795-508c073a19e8/1AKI_md.gro -> ../test/test_wdir/1AKI_md.gro\n",
      "getting_file: scratch/test_biobb/biobb_81dff893-f0f9-49dd-b795-508c073a19e8/1AKI_nvt.log -> ../test/test_wdir/1AKI_nvt.log\n",
      "getting_file: scratch/test_biobb/biobb_81dff893-f0f9-49dd-b795-508c073a19e8/1AKI_min.edr -> ../test/test_wdir/1AKI_min.edr\n",
      "getting_file: scratch/test_biobb/biobb_81dff893-f0f9-49dd-b795-508c073a19e8/1AKI_min.trr -> ../test/test_wdir/1AKI_min.trr\n",
      "getting_file: scratch/test_biobb/biobb_81dff893-f0f9-49dd-b795-508c073a19e8/log3.out -> ../test/test_wdir/log3.out\n",
      "getting_file: scratch/test_biobb/biobb_81dff893-f0f9-49dd-b795-508c073a19e8/1AKI_md.cpt -> ../test/test_wdir/1AKI_md.cpt\n",
      "getting_file: scratch/test_biobb/biobb_81dff893-f0f9-49dd-b795-508c073a19e8/1AKI_npt.edr -> ../test/test_wdir/1AKI_npt.edr\n",
      "getting_file: scratch/test_biobb/biobb_81dff893-f0f9-49dd-b795-508c073a19e8/1AKI_nvt.cpt -> ../test/test_wdir/1AKI_nvt.cpt\n",
      "getting_file: scratch/test_biobb/biobb_81dff893-f0f9-49dd-b795-508c073a19e8/1AKI_gppmin.tpr -> ../test/test_wdir/1AKI_gppmin.tpr\n",
      "getting_file: scratch/test_biobb/biobb_81dff893-f0f9-49dd-b795-508c073a19e8/1AKI_md.edr -> ../test/test_wdir/1AKI_md.edr\n",
      "getting_file: scratch/test_biobb/biobb_81dff893-f0f9-49dd-b795-508c073a19e8/log1.err -> ../test/test_wdir/log1.err\n",
      "getting_file: scratch/test_biobb/biobb_81dff893-f0f9-49dd-b795-508c073a19e8/run_script.sh -> ../test/test_wdir/run_script.sh\n",
      "getting_file: scratch/test_biobb/biobb_81dff893-f0f9-49dd-b795-508c073a19e8/1AKI_nvt.trr -> ../test/test_wdir/1AKI_nvt.trr\n",
      "getting_file: scratch/test_biobb/biobb_81dff893-f0f9-49dd-b795-508c073a19e8/1AKI_npt.log -> ../test/test_wdir/1AKI_npt.log\n",
      "getting_file: scratch/test_biobb/biobb_81dff893-f0f9-49dd-b795-508c073a19e8/1AKI_min.err -> ../test/test_wdir/1AKI_min.err\n",
      "getting_file: scratch/test_biobb/biobb_81dff893-f0f9-49dd-b795-508c073a19e8/log.out -> ../test/test_wdir/log.out\n",
      "getting_file: scratch/test_biobb/biobb_81dff893-f0f9-49dd-b795-508c073a19e8/1AKI_npt.trr -> ../test/test_wdir/1AKI_npt.trr\n",
      "getting_file: scratch/test_biobb/biobb_81dff893-f0f9-49dd-b795-508c073a19e8/log1.out -> ../test/test_wdir/log1.out\n",
      "getting_file: scratch/test_biobb/biobb_81dff893-f0f9-49dd-b795-508c073a19e8/traj_comp.xtc -> ../test/test_wdir/traj_comp.xtc\n",
      "getting_file: scratch/test_biobb/biobb_81dff893-f0f9-49dd-b795-508c073a19e8/1AKI_nvt.edr -> ../test/test_wdir/1AKI_nvt.edr\n",
      "getting_file: scratch/test_biobb/biobb_81dff893-f0f9-49dd-b795-508c073a19e8/log2.err -> ../test/test_wdir/log2.err\n",
      "getting_file: scratch/test_biobb/biobb_81dff893-f0f9-49dd-b795-508c073a19e8/1AKI_md.trr -> ../test/test_wdir/1AKI_md.trr\n",
      "getting_file: scratch/test_biobb/biobb_81dff893-f0f9-49dd-b795-508c073a19e8/1AKI_min.log -> ../test/test_wdir/1AKI_min.log\n",
      "getting_file: scratch/test_biobb/biobb_81dff893-f0f9-49dd-b795-508c073a19e8/1AKI_md.err -> ../test/test_wdir/1AKI_md.err\n",
      "getting_file: scratch/test_biobb/biobb_81dff893-f0f9-49dd-b795-508c073a19e8/1AKI_md.out -> ../test/test_wdir/1AKI_md.out\n",
      "getting_file: scratch/test_biobb/biobb_81dff893-f0f9-49dd-b795-508c073a19e8/1AKI_gppmd.tpr -> ../test/test_wdir/1AKI_gppmd.tpr\n",
      "getting_file: scratch/test_biobb/biobb_81dff893-f0f9-49dd-b795-508c073a19e8/1AKI_min.out -> ../test/test_wdir/1AKI_min.out\n",
      "getting_file: scratch/test_biobb/biobb_81dff893-f0f9-49dd-b795-508c073a19e8/1AKI_gppnpt.tpr -> ../test/test_wdir/1AKI_gppnpt.tpr\n",
      "getting_file: scratch/test_biobb/biobb_81dff893-f0f9-49dd-b795-508c073a19e8/log2.out -> ../test/test_wdir/log2.out\n",
      "getting_file: scratch/test_biobb/biobb_81dff893-f0f9-49dd-b795-508c073a19e8/1AKI_npt.out -> ../test/test_wdir/1AKI_npt.out\n",
      "getting_file: scratch/test_biobb/biobb_81dff893-f0f9-49dd-b795-508c073a19e8/log.err -> ../test/test_wdir/log.err\n"
     ]
    }
   ],
   "source": [
    "slurm.get_output_data(overwrite=True)\n"
   ]
  },
  {
   "cell_type": "markdown",
   "metadata": {},
   "source": [
    "<a id=\"mdStep3\"></a>\n",
    "### Step 3: Checking free MD simulation results\n",
    "Checking results for the final step of the setup process, the **free MD run**. Plotting **Root Mean Square deviation (RMSd)** and **Radius of Gyration (Rgyr)** by time during the **free MD run** step. **RMSd** against the **experimental structure** (input structure of the pipeline) and against the **minimized and equilibrated structure** (output structure of the NPT equilibration step)."
   ]
  },
  {
   "cell_type": "code",
   "execution_count": 63,
   "metadata": {},
   "outputs": [
    {
     "name": "stderr",
     "output_type": "stream",
     "text": [
      "2021-01-15 15:38:59,621 [MainThread  ] [INFO ]  Not using any container\n",
      "2021-01-15 15:39:00,284 [MainThread  ] [INFO ]  echo 'Backbone Backbone' | gmx rms -s /home/gelpi/DEVEL/BioExcel/biobb/biobb_remote/notebook/../test/test_wdir/1AKI_gppmd.tpr -f /home/gelpi/DEVEL/BioExcel/biobb/biobb_remote/notebook/../test/test_wdir/1AKI_md.trr -o ../test/test_wdir/1AKI_rms_first.xvg -xvg none\n",
      "\n",
      "2021-01-15 15:39:00,285 [MainThread  ] [INFO ]  Exit code 0\n",
      "\n",
      "2021-01-15 15:39:00,287 [MainThread  ] [INFO ]  Selected 4: 'Backbone'\n",
      "Selected 4: 'Backbone'\n",
      "\n",
      "2021-01-15 15:39:00,288 [MainThread  ] [INFO ]                         :-) GROMACS - gmx rms, 2019.1 (-:\n",
      "\n",
      "                            GROMACS is written by:\n",
      "     Emile Apol      Rossen Apostolov      Paul Bauer     Herman J.C. Berendsen\n",
      "    Par Bjelkmar      Christian Blau   Viacheslav Bolnykh     Kevin Boyd    \n",
      " Aldert van Buuren   Rudi van Drunen     Anton Feenstra       Alan Gray     \n",
      "  Gerrit Groenhof     Anca Hamuraru    Vincent Hindriksen  M. Eric Irrgang  \n",
      "  Aleksei Iupinov   Christoph Junghans     Joe Jordan     Dimitrios Karkoulis\n",
      "    Peter Kasson        Jiri Kraus      Carsten Kutzner      Per Larsson    \n",
      "  Justin A. Lemkul    Viveca Lindahl    Magnus Lundborg     Erik Marklund   \n",
      "    Pascal Merz     Pieter Meulenhoff    Teemu Murtola       Szilard Pall   \n",
      "    Sander Pronk      Roland Schulz      Michael Shirts    Alexey Shvetsov  \n",
      "   Alfons Sijbers     Peter Tieleman      Jon Vincent      Teemu Virolainen \n",
      " Christian Wennberg    Maarten Wolf   \n",
      "                           and the project leaders:\n",
      "        Mark Abraham, Berk Hess, Erik Lindahl, and David van der Spoel\n",
      "\n",
      "Copyright (c) 1991-2000, University of Groningen, The Netherlands.\n",
      "Copyright (c) 2001-2018, The GROMACS development team at\n",
      "Uppsala University, Stockholm University and\n",
      "the Royal Institute of Technology, Sweden.\n",
      "check out http://www.gromacs.org for more information.\n",
      "\n",
      "GROMACS is free software; you can redistribute it and/or modify it\n",
      "under the terms of the GNU Lesser General Public License\n",
      "as published by the Free Software Foundation; either version 2.1\n",
      "of the License, or (at your option) any later version.\n",
      "\n",
      "GROMACS:      gmx rms, version 2019.1\n",
      "Executable:   /home/gelpi/miniconda3/envs/biobb_remote/bin/gmx\n",
      "Data prefix:  /home/gelpi/miniconda3/envs/biobb_remote\n",
      "Working dir:  /home/gelpi/DEVEL/BioExcel/biobb/biobb_remote/notebook\n",
      "Command line:\n",
      "  gmx rms -s /home/gelpi/DEVEL/BioExcel/biobb/biobb_remote/notebook/../test/test_wdir/1AKI_gppmd.tpr -f /home/gelpi/DEVEL/BioExcel/biobb/biobb_remote/notebook/../test/test_wdir/1AKI_md.trr -o ../test/test_wdir/1AKI_rms_first.xvg -xvg none\n",
      "\n",
      "Reading file /home/gelpi/DEVEL/BioExcel/biobb/biobb_remote/notebook/../test/test_wdir/1AKI_gppmd.tpr, VERSION 2019.1 (single precision)\n",
      "Reading file /home/gelpi/DEVEL/BioExcel/biobb/biobb_remote/notebook/../test/test_wdir/1AKI_gppmd.tpr, VERSION 2019.1 (single precision)\n",
      "Select group for least squares fit\n",
      "Group     0 (         System) has 33836 elements\n",
      "Group     1 (        Protein) has  1960 elements\n",
      "Group     2 (      Protein-H) has  1001 elements\n",
      "Group     3 (        C-alpha) has   129 elements\n",
      "Group     4 (       Backbone) has   387 elements\n",
      "Group     5 (      MainChain) has   517 elements\n",
      "Group     6 (   MainChain+Cb) has   634 elements\n",
      "Group     7 (    MainChain+H) has   646 elements\n",
      "Group     8 (      SideChain) has  1314 elements\n",
      "Group     9 (    SideChain-H) has   484 elements\n",
      "Group    10 (    Prot-Masses) has  1960 elements\n",
      "Group    11 (    non-Protein) has 31876 elements\n",
      "Group    12 (          Water) has 31848 elements\n",
      "Group    13 (            SOL) has 31848 elements\n",
      "Group    14 (      non-Water) has  1988 elements\n",
      "Group    15 (            Ion) has    28 elements\n",
      "Group    16 (             NA) has    10 elements\n",
      "Group    17 (             CL) has    18 elements\n",
      "Group    18 ( Water_and_ions) has 31876 elements\n",
      "Select a group: Select group for RMSD calculation\n",
      "Group     0 (         System) has 33836 elements\n",
      "Group     1 (        Protein) has  1960 elements\n",
      "Group     2 (      Protein-H) has  1001 elements\n",
      "Group     3 (        C-alpha) has   129 elements\n",
      "Group     4 (       Backbone) has   387 elements\n",
      "Group     5 (      MainChain) has   517 elements\n",
      "Group     6 (   MainChain+Cb) has   634 elements\n",
      "Group     7 (    MainChain+H) has   646 elements\n",
      "Group     8 (      SideChain) has  1314 elements\n",
      "Group     9 (    SideChain-H) has   484 elements\n",
      "Group    10 (    Prot-Masses) has  1960 elements\n",
      "Group    11 (    non-Protein) has 31876 elements\n",
      "Group    12 (          Water) has 31848 elements\n",
      "Group    13 (            SOL) has 31848 elements\n",
      "Group    14 (      non-Water) has  1988 elements\n",
      "Group    15 (            Ion) has    28 elements\n",
      "Group    16 (             NA) has    10 elements\n",
      "Group    17 (             CL) has    18 elements\n",
      "Group    18 ( Water_and_ions) has 31876 elements\n",
      "Select a group: trr version: GMX_trn_file (single precision)\n",
      "Last frame        100 time 1000.000   \n",
      "\n",
      "Back Off! I just backed up ../test/test_wdir/1AKI_rms_first.xvg to ../test/test_wdir/#1AKI_rms_first.xvg.2#\n",
      "\n",
      "GROMACS reminds you: \"This is extremely unlikely.\" (Berk Hess)\n",
      "\n",
      "\n"
     ]
    },
    {
     "data": {
      "text/plain": [
       "0"
      ]
     },
     "execution_count": 63,
     "metadata": {},
     "output_type": "execute_result"
    }
   ],
   "source": [
    "# GMXRms: Computing Root Mean Square deviation to analyse structural stability \n",
    "#         RMSd against minimized and equilibrated snapshot (backbone atoms)   \n",
    "\n",
    "from biobb_analysis.gromacs.gmx_rms import GMXRms\n",
    "\n",
    "# Create prop dict and inputs/outputs\n",
    "input_gppmd_tpr = opj(local_path, pdbCode + '_gppmd.tpr')\n",
    "input_md_trr = opj(local_path, pdbCode + '_md.trr')\n",
    "output_rms_first = opj(local_path, pdbCode+'_rms_first.xvg')\n",
    "prop = {\n",
    "    'selection':  'Backbone',\n",
    "    #'selection': 'non-Water'\n",
    "}\n",
    "\n",
    "# Create and launch bb\n",
    "GMXRms(input_structure_path=input_gppmd_tpr,\n",
    "         input_traj_path=input_md_trr,\n",
    "         output_xvg_path=output_rms_first, \n",
    "          properties=prop).launch()"
   ]
  },
  {
   "cell_type": "code",
   "execution_count": 65,
   "metadata": {},
   "outputs": [
    {
     "name": "stderr",
     "output_type": "stream",
     "text": [
      "2021-01-15 15:39:40,963 [MainThread  ] [INFO ]  Not using any container\n",
      "2021-01-15 15:39:41,598 [MainThread  ] [INFO ]  echo 'Backbone Backbone' | gmx rms -s /home/gelpi/DEVEL/BioExcel/biobb/biobb_remote/notebook/../test/test_wdir/1AKI_gppmin.tpr -f /home/gelpi/DEVEL/BioExcel/biobb/biobb_remote/notebook/../test/test_wdir/1AKI_md.trr -o ../test/test_wdir/1AKI_rms_exp.xvg -xvg none\n",
      "\n",
      "2021-01-15 15:39:41,599 [MainThread  ] [INFO ]  Exit code 0\n",
      "\n",
      "2021-01-15 15:39:41,600 [MainThread  ] [INFO ]  Selected 4: 'Backbone'\n",
      "Selected 4: 'Backbone'\n",
      "\n",
      "2021-01-15 15:39:41,601 [MainThread  ] [INFO ]                         :-) GROMACS - gmx rms, 2019.1 (-:\n",
      "\n",
      "                            GROMACS is written by:\n",
      "     Emile Apol      Rossen Apostolov      Paul Bauer     Herman J.C. Berendsen\n",
      "    Par Bjelkmar      Christian Blau   Viacheslav Bolnykh     Kevin Boyd    \n",
      " Aldert van Buuren   Rudi van Drunen     Anton Feenstra       Alan Gray     \n",
      "  Gerrit Groenhof     Anca Hamuraru    Vincent Hindriksen  M. Eric Irrgang  \n",
      "  Aleksei Iupinov   Christoph Junghans     Joe Jordan     Dimitrios Karkoulis\n",
      "    Peter Kasson        Jiri Kraus      Carsten Kutzner      Per Larsson    \n",
      "  Justin A. Lemkul    Viveca Lindahl    Magnus Lundborg     Erik Marklund   \n",
      "    Pascal Merz     Pieter Meulenhoff    Teemu Murtola       Szilard Pall   \n",
      "    Sander Pronk      Roland Schulz      Michael Shirts    Alexey Shvetsov  \n",
      "   Alfons Sijbers     Peter Tieleman      Jon Vincent      Teemu Virolainen \n",
      " Christian Wennberg    Maarten Wolf   \n",
      "                           and the project leaders:\n",
      "        Mark Abraham, Berk Hess, Erik Lindahl, and David van der Spoel\n",
      "\n",
      "Copyright (c) 1991-2000, University of Groningen, The Netherlands.\n",
      "Copyright (c) 2001-2018, The GROMACS development team at\n",
      "Uppsala University, Stockholm University and\n",
      "the Royal Institute of Technology, Sweden.\n",
      "check out http://www.gromacs.org for more information.\n",
      "\n",
      "GROMACS is free software; you can redistribute it and/or modify it\n",
      "under the terms of the GNU Lesser General Public License\n",
      "as published by the Free Software Foundation; either version 2.1\n",
      "of the License, or (at your option) any later version.\n",
      "\n",
      "GROMACS:      gmx rms, version 2019.1\n",
      "Executable:   /home/gelpi/miniconda3/envs/biobb_remote/bin/gmx\n",
      "Data prefix:  /home/gelpi/miniconda3/envs/biobb_remote\n",
      "Working dir:  /home/gelpi/DEVEL/BioExcel/biobb/biobb_remote/notebook\n",
      "Command line:\n",
      "  gmx rms -s /home/gelpi/DEVEL/BioExcel/biobb/biobb_remote/notebook/../test/test_wdir/1AKI_gppmin.tpr -f /home/gelpi/DEVEL/BioExcel/biobb/biobb_remote/notebook/../test/test_wdir/1AKI_md.trr -o ../test/test_wdir/1AKI_rms_exp.xvg -xvg none\n",
      "\n",
      "Reading file /home/gelpi/DEVEL/BioExcel/biobb/biobb_remote/notebook/../test/test_wdir/1AKI_gppmin.tpr, VERSION 2019.1 (single precision)\n",
      "Reading file /home/gelpi/DEVEL/BioExcel/biobb/biobb_remote/notebook/../test/test_wdir/1AKI_gppmin.tpr, VERSION 2019.1 (single precision)\n",
      "Select group for least squares fit\n",
      "Group     0 (         System) has 33836 elements\n",
      "Group     1 (        Protein) has  1960 elements\n",
      "Group     2 (      Protein-H) has  1001 elements\n",
      "Group     3 (        C-alpha) has   129 elements\n",
      "Group     4 (       Backbone) has   387 elements\n",
      "Group     5 (      MainChain) has   517 elements\n",
      "Group     6 (   MainChain+Cb) has   634 elements\n",
      "Group     7 (    MainChain+H) has   646 elements\n",
      "Group     8 (      SideChain) has  1314 elements\n",
      "Group     9 (    SideChain-H) has   484 elements\n",
      "Group    10 (    Prot-Masses) has  1960 elements\n",
      "Group    11 (    non-Protein) has 31876 elements\n",
      "Group    12 (          Water) has 31848 elements\n",
      "Group    13 (            SOL) has 31848 elements\n",
      "Group    14 (      non-Water) has  1988 elements\n",
      "Group    15 (            Ion) has    28 elements\n",
      "Group    16 (             NA) has    10 elements\n",
      "Group    17 (             CL) has    18 elements\n",
      "Group    18 ( Water_and_ions) has 31876 elements\n",
      "Select a group: Select group for RMSD calculation\n",
      "Group     0 (         System) has 33836 elements\n",
      "Group     1 (        Protein) has  1960 elements\n",
      "Group     2 (      Protein-H) has  1001 elements\n",
      "Group     3 (        C-alpha) has   129 elements\n",
      "Group     4 (       Backbone) has   387 elements\n",
      "Group     5 (      MainChain) has   517 elements\n",
      "Group     6 (   MainChain+Cb) has   634 elements\n",
      "Group     7 (    MainChain+H) has   646 elements\n",
      "Group     8 (      SideChain) has  1314 elements\n",
      "Group     9 (    SideChain-H) has   484 elements\n",
      "Group    10 (    Prot-Masses) has  1960 elements\n",
      "Group    11 (    non-Protein) has 31876 elements\n",
      "Group    12 (          Water) has 31848 elements\n",
      "Group    13 (            SOL) has 31848 elements\n",
      "Group    14 (      non-Water) has  1988 elements\n",
      "Group    15 (            Ion) has    28 elements\n",
      "Group    16 (             NA) has    10 elements\n",
      "Group    17 (             CL) has    18 elements\n",
      "Group    18 ( Water_and_ions) has 31876 elements\n",
      "Select a group: trr version: GMX_trn_file (single precision)\n",
      "Last frame        100 time 1000.000   \n",
      "\n",
      "GROMACS reminds you: \"FORTRAN was the language of choice for the same reason that three-legged races are popular.\" (Ken Thompson)\n",
      "\n",
      "\n"
     ]
    },
    {
     "data": {
      "text/plain": [
       "0"
      ]
     },
     "execution_count": 65,
     "metadata": {},
     "output_type": "execute_result"
    }
   ],
   "source": [
    "# GMXRms: Computing Root Mean Square deviation to analyse structural stability \n",
    "#         RMSd against experimental structure (backbone atoms)   \n",
    "\n",
    "from biobb_analysis.gromacs.gmx_rms import GMXRms\n",
    "\n",
    "# Create prop dict and inputs/outputs\n",
    "input_gppmin_tpr = opj(local_path, pdbCode + '_gppmin.tpr')\n",
    "input_traj_tpr = opj(local_path, pdbCode + '_md.trr')\n",
    "\n",
    "output_rms_exp = opj(local_path, pdbCode + '_rms_exp.xvg')\n",
    "prop = {\n",
    "    'selection':  'Backbone',\n",
    "    #'selection': 'non-Water'\n",
    "}\n",
    "\n",
    "# Create and launch bb\n",
    "GMXRms(input_structure_path=input_gppmin_tpr,\n",
    "         input_traj_path=input_md_trr,\n",
    "         output_xvg_path=output_rms_exp, \n",
    "          properties=prop).launch()"
   ]
  },
  {
   "cell_type": "code",
   "execution_count": 66,
   "metadata": {},
   "outputs": [
    {
     "data": {
      "text/html": [
       "        <script type=\"text/javascript\">\n",
       "        window.PlotlyConfig = {MathJaxConfig: 'local'};\n",
       "        if (window.MathJax) {MathJax.Hub.Config({SVG: {font: \"STIX-Web\"}});}\n",
       "        if (typeof require !== 'undefined') {\n",
       "        require.undef(\"plotly\");\n",
       "        requirejs.config({\n",
       "            paths: {\n",
       "                'plotly': ['https://cdn.plot.ly/plotly-latest.min']\n",
       "            }\n",
       "        });\n",
       "        require(['plotly'], function(Plotly) {\n",
       "            window._Plotly = Plotly;\n",
       "        });\n",
       "        }\n",
       "        </script>\n",
       "        "
      ]
     },
     "metadata": {},
     "output_type": "display_data"
    },
    {
     "data": {
      "application/vnd.plotly.v1+json": {
       "config": {
        "linkText": "Export to plot.ly",
        "plotlyServerURL": "https://plot.ly",
        "showLink": false
       },
       "data": [
        {
         "name": "RMSd vs first",
         "type": "scatter",
         "x": [
          0,
          10,
          20,
          30,
          40,
          50,
          60,
          70,
          80,
          90,
          100,
          110,
          120,
          130,
          140,
          150,
          160,
          170,
          180,
          190,
          200,
          210,
          220,
          230,
          240,
          250,
          260,
          270,
          280,
          290,
          300,
          310,
          320,
          330,
          340,
          350,
          360,
          370,
          380,
          390,
          400,
          410,
          420,
          430,
          440,
          450,
          460,
          470,
          480,
          490,
          500,
          510,
          520,
          530,
          540,
          550,
          560,
          570,
          580,
          590,
          600,
          610,
          620,
          630,
          640,
          650,
          660,
          670,
          680,
          690,
          700,
          710,
          720,
          730,
          740,
          750,
          760,
          770,
          780,
          790,
          800,
          810,
          820,
          830,
          840,
          850,
          860,
          870,
          880,
          890,
          900,
          910,
          920,
          930,
          940,
          950,
          960,
          970,
          980,
          990,
          1000
         ],
         "y": [
          0,
          0.0540864,
          0.0672895,
          0.0659862,
          0.0680802,
          0.0689306,
          0.0723229,
          0.0820107,
          0.0766138,
          0.0916068,
          0.0768584,
          0.0718482,
          0.0688165,
          0.0806263,
          0.0747169,
          0.0849914,
          0.0865321,
          0.0944558,
          0.0821457,
          0.0837703,
          0.0881638,
          0.0891654,
          0.0894126,
          0.0973824,
          0.0837898,
          0.0749159,
          0.0857348,
          0.092775,
          0.09077,
          0.0835137,
          0.0842416,
          0.0759048,
          0.0805916,
          0.0799841,
          0.0808667,
          0.0827352,
          0.0877053,
          0.0831191,
          0.0832647,
          0.0756003,
          0.082984,
          0.0927395,
          0.0923237,
          0.0822766,
          0.0877692,
          0.072637,
          0.0820714,
          0.0813131,
          0.0768264,
          0.0831491,
          0.0928611,
          0.0974131,
          0.0918623,
          0.0923612,
          0.0909895,
          0.0951956,
          0.1014255,
          0.0923944,
          0.1020164,
          0.1063158,
          0.1077295,
          0.1112525,
          0.1069543,
          0.1098411,
          0.104373,
          0.1003291,
          0.1019529,
          0.0981022,
          0.0885927,
          0.0954182,
          0.1048002,
          0.0956256,
          0.0858306,
          0.096639,
          0.0982547,
          0.0958682,
          0.0970243,
          0.0983164,
          0.1103111,
          0.0934646,
          0.0881494,
          0.089047,
          0.079032,
          0.0832134,
          0.0882596,
          0.0779021,
          0.0786934,
          0.0876871,
          0.0875924,
          0.0847716,
          0.0837731,
          0.0915451,
          0.0899914,
          0.0953194,
          0.0828065,
          0.0847464,
          0.0820052,
          0.0832497,
          0.0867336,
          0.0883979,
          0.0762496
         ]
        },
        {
         "name": "RMSd vs exp",
         "type": "scatter",
         "x": [
          0,
          10,
          20,
          30,
          40,
          50,
          60,
          70,
          80,
          90,
          100,
          110,
          120,
          130,
          140,
          150,
          160,
          170,
          180,
          190,
          200,
          210,
          220,
          230,
          240,
          250,
          260,
          270,
          280,
          290,
          300,
          310,
          320,
          330,
          340,
          350,
          360,
          370,
          380,
          390,
          400,
          410,
          420,
          430,
          440,
          450,
          460,
          470,
          480,
          490,
          500,
          510,
          520,
          530,
          540,
          550,
          560,
          570,
          580,
          590,
          600,
          610,
          620,
          630,
          640,
          650,
          660,
          670,
          680,
          690,
          700,
          710,
          720,
          730,
          740,
          750,
          760,
          770,
          780,
          790,
          800,
          810,
          820,
          830,
          840,
          850,
          860,
          870,
          880,
          890,
          900,
          910,
          920,
          930,
          940,
          950,
          960,
          970,
          980,
          990,
          1000
         ],
         "y": [
          0.0311325,
          0.0585148,
          0.0712119,
          0.0702858,
          0.0748071,
          0.0746099,
          0.0760554,
          0.0855086,
          0.0836409,
          0.0992908,
          0.0817559,
          0.0754476,
          0.0740578,
          0.087087,
          0.0799943,
          0.0904613,
          0.0919181,
          0.1013816,
          0.0870437,
          0.0909285,
          0.0959649,
          0.0925564,
          0.094669,
          0.1039411,
          0.0916327,
          0.081447,
          0.0895622,
          0.0976014,
          0.0960134,
          0.0885159,
          0.0886302,
          0.0803472,
          0.0867913,
          0.0882248,
          0.0877228,
          0.0883756,
          0.0909931,
          0.0871752,
          0.0869289,
          0.0827066,
          0.086086,
          0.0956488,
          0.0950061,
          0.0849229,
          0.0887386,
          0.0748415,
          0.0846755,
          0.0841967,
          0.078889,
          0.0891613,
          0.0977814,
          0.0981227,
          0.0923924,
          0.0944946,
          0.0925642,
          0.0974232,
          0.0994113,
          0.0932571,
          0.0993241,
          0.1030091,
          0.1072476,
          0.1091438,
          0.107929,
          0.1111411,
          0.1050729,
          0.0986149,
          0.1023966,
          0.0990143,
          0.088286,
          0.0930996,
          0.1029926,
          0.0945694,
          0.0867233,
          0.0960449,
          0.0966181,
          0.0966873,
          0.0971654,
          0.0995648,
          0.1104638,
          0.0948632,
          0.0916732,
          0.0895936,
          0.0801655,
          0.08418,
          0.0878113,
          0.080105,
          0.080914,
          0.0886869,
          0.0913102,
          0.0865917,
          0.0847097,
          0.0937895,
          0.0901084,
          0.0934122,
          0.0830467,
          0.0860954,
          0.0823827,
          0.0837019,
          0.0873653,
          0.088558,
          0.0765586
         ]
        }
       ],
       "layout": {
        "template": {
         "data": {
          "bar": [
           {
            "error_x": {
             "color": "#2a3f5f"
            },
            "error_y": {
             "color": "#2a3f5f"
            },
            "marker": {
             "line": {
              "color": "#E5ECF6",
              "width": 0.5
             }
            },
            "type": "bar"
           }
          ],
          "barpolar": [
           {
            "marker": {
             "line": {
              "color": "#E5ECF6",
              "width": 0.5
             }
            },
            "type": "barpolar"
           }
          ],
          "carpet": [
           {
            "aaxis": {
             "endlinecolor": "#2a3f5f",
             "gridcolor": "white",
             "linecolor": "white",
             "minorgridcolor": "white",
             "startlinecolor": "#2a3f5f"
            },
            "baxis": {
             "endlinecolor": "#2a3f5f",
             "gridcolor": "white",
             "linecolor": "white",
             "minorgridcolor": "white",
             "startlinecolor": "#2a3f5f"
            },
            "type": "carpet"
           }
          ],
          "choropleth": [
           {
            "colorbar": {
             "outlinewidth": 0,
             "ticks": ""
            },
            "type": "choropleth"
           }
          ],
          "contour": [
           {
            "colorbar": {
             "outlinewidth": 0,
             "ticks": ""
            },
            "colorscale": [
             [
              0,
              "#0d0887"
             ],
             [
              0.1111111111111111,
              "#46039f"
             ],
             [
              0.2222222222222222,
              "#7201a8"
             ],
             [
              0.3333333333333333,
              "#9c179e"
             ],
             [
              0.4444444444444444,
              "#bd3786"
             ],
             [
              0.5555555555555556,
              "#d8576b"
             ],
             [
              0.6666666666666666,
              "#ed7953"
             ],
             [
              0.7777777777777778,
              "#fb9f3a"
             ],
             [
              0.8888888888888888,
              "#fdca26"
             ],
             [
              1,
              "#f0f921"
             ]
            ],
            "type": "contour"
           }
          ],
          "contourcarpet": [
           {
            "colorbar": {
             "outlinewidth": 0,
             "ticks": ""
            },
            "type": "contourcarpet"
           }
          ],
          "heatmap": [
           {
            "colorbar": {
             "outlinewidth": 0,
             "ticks": ""
            },
            "colorscale": [
             [
              0,
              "#0d0887"
             ],
             [
              0.1111111111111111,
              "#46039f"
             ],
             [
              0.2222222222222222,
              "#7201a8"
             ],
             [
              0.3333333333333333,
              "#9c179e"
             ],
             [
              0.4444444444444444,
              "#bd3786"
             ],
             [
              0.5555555555555556,
              "#d8576b"
             ],
             [
              0.6666666666666666,
              "#ed7953"
             ],
             [
              0.7777777777777778,
              "#fb9f3a"
             ],
             [
              0.8888888888888888,
              "#fdca26"
             ],
             [
              1,
              "#f0f921"
             ]
            ],
            "type": "heatmap"
           }
          ],
          "heatmapgl": [
           {
            "colorbar": {
             "outlinewidth": 0,
             "ticks": ""
            },
            "colorscale": [
             [
              0,
              "#0d0887"
             ],
             [
              0.1111111111111111,
              "#46039f"
             ],
             [
              0.2222222222222222,
              "#7201a8"
             ],
             [
              0.3333333333333333,
              "#9c179e"
             ],
             [
              0.4444444444444444,
              "#bd3786"
             ],
             [
              0.5555555555555556,
              "#d8576b"
             ],
             [
              0.6666666666666666,
              "#ed7953"
             ],
             [
              0.7777777777777778,
              "#fb9f3a"
             ],
             [
              0.8888888888888888,
              "#fdca26"
             ],
             [
              1,
              "#f0f921"
             ]
            ],
            "type": "heatmapgl"
           }
          ],
          "histogram": [
           {
            "marker": {
             "colorbar": {
              "outlinewidth": 0,
              "ticks": ""
             }
            },
            "type": "histogram"
           }
          ],
          "histogram2d": [
           {
            "colorbar": {
             "outlinewidth": 0,
             "ticks": ""
            },
            "colorscale": [
             [
              0,
              "#0d0887"
             ],
             [
              0.1111111111111111,
              "#46039f"
             ],
             [
              0.2222222222222222,
              "#7201a8"
             ],
             [
              0.3333333333333333,
              "#9c179e"
             ],
             [
              0.4444444444444444,
              "#bd3786"
             ],
             [
              0.5555555555555556,
              "#d8576b"
             ],
             [
              0.6666666666666666,
              "#ed7953"
             ],
             [
              0.7777777777777778,
              "#fb9f3a"
             ],
             [
              0.8888888888888888,
              "#fdca26"
             ],
             [
              1,
              "#f0f921"
             ]
            ],
            "type": "histogram2d"
           }
          ],
          "histogram2dcontour": [
           {
            "colorbar": {
             "outlinewidth": 0,
             "ticks": ""
            },
            "colorscale": [
             [
              0,
              "#0d0887"
             ],
             [
              0.1111111111111111,
              "#46039f"
             ],
             [
              0.2222222222222222,
              "#7201a8"
             ],
             [
              0.3333333333333333,
              "#9c179e"
             ],
             [
              0.4444444444444444,
              "#bd3786"
             ],
             [
              0.5555555555555556,
              "#d8576b"
             ],
             [
              0.6666666666666666,
              "#ed7953"
             ],
             [
              0.7777777777777778,
              "#fb9f3a"
             ],
             [
              0.8888888888888888,
              "#fdca26"
             ],
             [
              1,
              "#f0f921"
             ]
            ],
            "type": "histogram2dcontour"
           }
          ],
          "mesh3d": [
           {
            "colorbar": {
             "outlinewidth": 0,
             "ticks": ""
            },
            "type": "mesh3d"
           }
          ],
          "parcoords": [
           {
            "line": {
             "colorbar": {
              "outlinewidth": 0,
              "ticks": ""
             }
            },
            "type": "parcoords"
           }
          ],
          "pie": [
           {
            "automargin": true,
            "type": "pie"
           }
          ],
          "scatter": [
           {
            "marker": {
             "colorbar": {
              "outlinewidth": 0,
              "ticks": ""
             }
            },
            "type": "scatter"
           }
          ],
          "scatter3d": [
           {
            "line": {
             "colorbar": {
              "outlinewidth": 0,
              "ticks": ""
             }
            },
            "marker": {
             "colorbar": {
              "outlinewidth": 0,
              "ticks": ""
             }
            },
            "type": "scatter3d"
           }
          ],
          "scattercarpet": [
           {
            "marker": {
             "colorbar": {
              "outlinewidth": 0,
              "ticks": ""
             }
            },
            "type": "scattercarpet"
           }
          ],
          "scattergeo": [
           {
            "marker": {
             "colorbar": {
              "outlinewidth": 0,
              "ticks": ""
             }
            },
            "type": "scattergeo"
           }
          ],
          "scattergl": [
           {
            "marker": {
             "colorbar": {
              "outlinewidth": 0,
              "ticks": ""
             }
            },
            "type": "scattergl"
           }
          ],
          "scattermapbox": [
           {
            "marker": {
             "colorbar": {
              "outlinewidth": 0,
              "ticks": ""
             }
            },
            "type": "scattermapbox"
           }
          ],
          "scatterpolar": [
           {
            "marker": {
             "colorbar": {
              "outlinewidth": 0,
              "ticks": ""
             }
            },
            "type": "scatterpolar"
           }
          ],
          "scatterpolargl": [
           {
            "marker": {
             "colorbar": {
              "outlinewidth": 0,
              "ticks": ""
             }
            },
            "type": "scatterpolargl"
           }
          ],
          "scatterternary": [
           {
            "marker": {
             "colorbar": {
              "outlinewidth": 0,
              "ticks": ""
             }
            },
            "type": "scatterternary"
           }
          ],
          "surface": [
           {
            "colorbar": {
             "outlinewidth": 0,
             "ticks": ""
            },
            "colorscale": [
             [
              0,
              "#0d0887"
             ],
             [
              0.1111111111111111,
              "#46039f"
             ],
             [
              0.2222222222222222,
              "#7201a8"
             ],
             [
              0.3333333333333333,
              "#9c179e"
             ],
             [
              0.4444444444444444,
              "#bd3786"
             ],
             [
              0.5555555555555556,
              "#d8576b"
             ],
             [
              0.6666666666666666,
              "#ed7953"
             ],
             [
              0.7777777777777778,
              "#fb9f3a"
             ],
             [
              0.8888888888888888,
              "#fdca26"
             ],
             [
              1,
              "#f0f921"
             ]
            ],
            "type": "surface"
           }
          ],
          "table": [
           {
            "cells": {
             "fill": {
              "color": "#EBF0F8"
             },
             "line": {
              "color": "white"
             }
            },
            "header": {
             "fill": {
              "color": "#C8D4E3"
             },
             "line": {
              "color": "white"
             }
            },
            "type": "table"
           }
          ]
         },
         "layout": {
          "annotationdefaults": {
           "arrowcolor": "#2a3f5f",
           "arrowhead": 0,
           "arrowwidth": 1
          },
          "autotypenumbers": "strict",
          "coloraxis": {
           "colorbar": {
            "outlinewidth": 0,
            "ticks": ""
           }
          },
          "colorscale": {
           "diverging": [
            [
             0,
             "#8e0152"
            ],
            [
             0.1,
             "#c51b7d"
            ],
            [
             0.2,
             "#de77ae"
            ],
            [
             0.3,
             "#f1b6da"
            ],
            [
             0.4,
             "#fde0ef"
            ],
            [
             0.5,
             "#f7f7f7"
            ],
            [
             0.6,
             "#e6f5d0"
            ],
            [
             0.7,
             "#b8e186"
            ],
            [
             0.8,
             "#7fbc41"
            ],
            [
             0.9,
             "#4d9221"
            ],
            [
             1,
             "#276419"
            ]
           ],
           "sequential": [
            [
             0,
             "#0d0887"
            ],
            [
             0.1111111111111111,
             "#46039f"
            ],
            [
             0.2222222222222222,
             "#7201a8"
            ],
            [
             0.3333333333333333,
             "#9c179e"
            ],
            [
             0.4444444444444444,
             "#bd3786"
            ],
            [
             0.5555555555555556,
             "#d8576b"
            ],
            [
             0.6666666666666666,
             "#ed7953"
            ],
            [
             0.7777777777777778,
             "#fb9f3a"
            ],
            [
             0.8888888888888888,
             "#fdca26"
            ],
            [
             1,
             "#f0f921"
            ]
           ],
           "sequentialminus": [
            [
             0,
             "#0d0887"
            ],
            [
             0.1111111111111111,
             "#46039f"
            ],
            [
             0.2222222222222222,
             "#7201a8"
            ],
            [
             0.3333333333333333,
             "#9c179e"
            ],
            [
             0.4444444444444444,
             "#bd3786"
            ],
            [
             0.5555555555555556,
             "#d8576b"
            ],
            [
             0.6666666666666666,
             "#ed7953"
            ],
            [
             0.7777777777777778,
             "#fb9f3a"
            ],
            [
             0.8888888888888888,
             "#fdca26"
            ],
            [
             1,
             "#f0f921"
            ]
           ]
          },
          "colorway": [
           "#636efa",
           "#EF553B",
           "#00cc96",
           "#ab63fa",
           "#FFA15A",
           "#19d3f3",
           "#FF6692",
           "#B6E880",
           "#FF97FF",
           "#FECB52"
          ],
          "font": {
           "color": "#2a3f5f"
          },
          "geo": {
           "bgcolor": "white",
           "lakecolor": "white",
           "landcolor": "#E5ECF6",
           "showlakes": true,
           "showland": true,
           "subunitcolor": "white"
          },
          "hoverlabel": {
           "align": "left"
          },
          "hovermode": "closest",
          "mapbox": {
           "style": "light"
          },
          "paper_bgcolor": "white",
          "plot_bgcolor": "#E5ECF6",
          "polar": {
           "angularaxis": {
            "gridcolor": "white",
            "linecolor": "white",
            "ticks": ""
           },
           "bgcolor": "#E5ECF6",
           "radialaxis": {
            "gridcolor": "white",
            "linecolor": "white",
            "ticks": ""
           }
          },
          "scene": {
           "xaxis": {
            "backgroundcolor": "#E5ECF6",
            "gridcolor": "white",
            "gridwidth": 2,
            "linecolor": "white",
            "showbackground": true,
            "ticks": "",
            "zerolinecolor": "white"
           },
           "yaxis": {
            "backgroundcolor": "#E5ECF6",
            "gridcolor": "white",
            "gridwidth": 2,
            "linecolor": "white",
            "showbackground": true,
            "ticks": "",
            "zerolinecolor": "white"
           },
           "zaxis": {
            "backgroundcolor": "#E5ECF6",
            "gridcolor": "white",
            "gridwidth": 2,
            "linecolor": "white",
            "showbackground": true,
            "ticks": "",
            "zerolinecolor": "white"
           }
          },
          "shapedefaults": {
           "line": {
            "color": "#2a3f5f"
           }
          },
          "ternary": {
           "aaxis": {
            "gridcolor": "white",
            "linecolor": "white",
            "ticks": ""
           },
           "baxis": {
            "gridcolor": "white",
            "linecolor": "white",
            "ticks": ""
           },
           "bgcolor": "#E5ECF6",
           "caxis": {
            "gridcolor": "white",
            "linecolor": "white",
            "ticks": ""
           }
          },
          "title": {
           "x": 0.05
          },
          "xaxis": {
           "automargin": true,
           "gridcolor": "white",
           "linecolor": "white",
           "ticks": "",
           "title": {
            "standoff": 15
           },
           "zerolinecolor": "white",
           "zerolinewidth": 2
          },
          "yaxis": {
           "automargin": true,
           "gridcolor": "white",
           "linecolor": "white",
           "ticks": "",
           "title": {
            "standoff": 15
           },
           "zerolinecolor": "white",
           "zerolinewidth": 2
          }
         }
        },
        "title": {
         "text": "RMSd during free MD Simulation"
        },
        "xaxis": {
         "title": {
          "text": "Time (ps)"
         }
        },
        "yaxis": {
         "title": {
          "text": "RMSd (nm)"
         }
        }
       }
      },
      "text/html": [
       "<div>                            <div id=\"dcbbb57e-f802-4aad-931b-1d3ad739e4a1\" class=\"plotly-graph-div\" style=\"height:525px; width:100%;\"></div>            <script type=\"text/javascript\">                require([\"plotly\"], function(Plotly) {                    window.PLOTLYENV=window.PLOTLYENV || {};                                    if (document.getElementById(\"dcbbb57e-f802-4aad-931b-1d3ad739e4a1\")) {                    Plotly.newPlot(                        \"dcbbb57e-f802-4aad-931b-1d3ad739e4a1\",                        [{\"name\": \"RMSd vs first\", \"type\": \"scatter\", \"x\": [0.0, 10.0, 20.0, 30.0, 40.0, 50.0, 60.0, 70.0, 80.0, 90.0, 100.0, 110.0, 120.0, 130.0, 140.0, 150.0, 160.0, 170.0, 180.0, 190.0, 200.0, 210.0, 220.0, 230.0, 240.0, 250.0, 260.0, 270.0, 280.0, 290.0, 300.0, 310.0, 320.0, 330.0, 340.0, 350.0, 360.0, 370.0, 380.0, 390.0, 400.0, 410.0, 420.0, 430.0, 440.0, 450.0, 460.0, 470.0, 480.0, 490.0, 500.0, 510.0, 520.0, 530.0, 540.0, 550.0, 560.0, 570.0, 580.0, 590.0, 600.0, 610.0, 620.0, 630.0, 640.0, 650.0, 660.0, 670.0, 680.0, 690.0, 700.0, 710.0, 720.0, 730.0, 740.0, 750.0, 760.0, 770.0, 780.0, 790.0, 800.0, 810.0, 820.0, 830.0, 840.0, 850.0, 860.0, 870.0, 880.0, 890.0, 900.0, 910.0, 920.0, 930.0, 940.0, 950.0, 960.0, 970.0, 980.0, 990.0, 1000.0], \"y\": [0.0, 0.0540864, 0.0672895, 0.0659862, 0.0680802, 0.0689306, 0.0723229, 0.0820107, 0.0766138, 0.0916068, 0.0768584, 0.0718482, 0.0688165, 0.0806263, 0.0747169, 0.0849914, 0.0865321, 0.0944558, 0.0821457, 0.0837703, 0.0881638, 0.0891654, 0.0894126, 0.0973824, 0.0837898, 0.0749159, 0.0857348, 0.092775, 0.09077, 0.0835137, 0.0842416, 0.0759048, 0.0805916, 0.0799841, 0.0808667, 0.0827352, 0.0877053, 0.0831191, 0.0832647, 0.0756003, 0.082984, 0.0927395, 0.0923237, 0.0822766, 0.0877692, 0.072637, 0.0820714, 0.0813131, 0.0768264, 0.0831491, 0.0928611, 0.0974131, 0.0918623, 0.0923612, 0.0909895, 0.0951956, 0.1014255, 0.0923944, 0.1020164, 0.1063158, 0.1077295, 0.1112525, 0.1069543, 0.1098411, 0.104373, 0.1003291, 0.1019529, 0.0981022, 0.0885927, 0.0954182, 0.1048002, 0.0956256, 0.0858306, 0.096639, 0.0982547, 0.0958682, 0.0970243, 0.0983164, 0.1103111, 0.0934646, 0.0881494, 0.089047, 0.079032, 0.0832134, 0.0882596, 0.0779021, 0.0786934, 0.0876871, 0.0875924, 0.0847716, 0.0837731, 0.0915451, 0.0899914, 0.0953194, 0.0828065, 0.0847464, 0.0820052, 0.0832497, 0.0867336, 0.0883979, 0.0762496]}, {\"name\": \"RMSd vs exp\", \"type\": \"scatter\", \"x\": [0.0, 10.0, 20.0, 30.0, 40.0, 50.0, 60.0, 70.0, 80.0, 90.0, 100.0, 110.0, 120.0, 130.0, 140.0, 150.0, 160.0, 170.0, 180.0, 190.0, 200.0, 210.0, 220.0, 230.0, 240.0, 250.0, 260.0, 270.0, 280.0, 290.0, 300.0, 310.0, 320.0, 330.0, 340.0, 350.0, 360.0, 370.0, 380.0, 390.0, 400.0, 410.0, 420.0, 430.0, 440.0, 450.0, 460.0, 470.0, 480.0, 490.0, 500.0, 510.0, 520.0, 530.0, 540.0, 550.0, 560.0, 570.0, 580.0, 590.0, 600.0, 610.0, 620.0, 630.0, 640.0, 650.0, 660.0, 670.0, 680.0, 690.0, 700.0, 710.0, 720.0, 730.0, 740.0, 750.0, 760.0, 770.0, 780.0, 790.0, 800.0, 810.0, 820.0, 830.0, 840.0, 850.0, 860.0, 870.0, 880.0, 890.0, 900.0, 910.0, 920.0, 930.0, 940.0, 950.0, 960.0, 970.0, 980.0, 990.0, 1000.0], \"y\": [0.0311325, 0.0585148, 0.0712119, 0.0702858, 0.0748071, 0.0746099, 0.0760554, 0.0855086, 0.0836409, 0.0992908, 0.0817559, 0.0754476, 0.0740578, 0.087087, 0.0799943, 0.0904613, 0.0919181, 0.1013816, 0.0870437, 0.0909285, 0.0959649, 0.0925564, 0.094669, 0.1039411, 0.0916327, 0.081447, 0.0895622, 0.0976014, 0.0960134, 0.0885159, 0.0886302, 0.0803472, 0.0867913, 0.0882248, 0.0877228, 0.0883756, 0.0909931, 0.0871752, 0.0869289, 0.0827066, 0.086086, 0.0956488, 0.0950061, 0.0849229, 0.0887386, 0.0748415, 0.0846755, 0.0841967, 0.078889, 0.0891613, 0.0977814, 0.0981227, 0.0923924, 0.0944946, 0.0925642, 0.0974232, 0.0994113, 0.0932571, 0.0993241, 0.1030091, 0.1072476, 0.1091438, 0.107929, 0.1111411, 0.1050729, 0.0986149, 0.1023966, 0.0990143, 0.088286, 0.0930996, 0.1029926, 0.0945694, 0.0867233, 0.0960449, 0.0966181, 0.0966873, 0.0971654, 0.0995648, 0.1104638, 0.0948632, 0.0916732, 0.0895936, 0.0801655, 0.08418, 0.0878113, 0.080105, 0.080914, 0.0886869, 0.0913102, 0.0865917, 0.0847097, 0.0937895, 0.0901084, 0.0934122, 0.0830467, 0.0860954, 0.0823827, 0.0837019, 0.0873653, 0.088558, 0.0765586]}],                        {\"template\": {\"data\": {\"bar\": [{\"error_x\": {\"color\": \"#2a3f5f\"}, \"error_y\": {\"color\": \"#2a3f5f\"}, \"marker\": {\"line\": {\"color\": \"#E5ECF6\", \"width\": 0.5}}, \"type\": \"bar\"}], \"barpolar\": [{\"marker\": {\"line\": {\"color\": \"#E5ECF6\", \"width\": 0.5}}, \"type\": \"barpolar\"}], \"carpet\": [{\"aaxis\": {\"endlinecolor\": \"#2a3f5f\", \"gridcolor\": \"white\", \"linecolor\": \"white\", \"minorgridcolor\": \"white\", \"startlinecolor\": \"#2a3f5f\"}, \"baxis\": {\"endlinecolor\": \"#2a3f5f\", \"gridcolor\": \"white\", \"linecolor\": \"white\", \"minorgridcolor\": \"white\", \"startlinecolor\": \"#2a3f5f\"}, \"type\": \"carpet\"}], \"choropleth\": [{\"colorbar\": {\"outlinewidth\": 0, \"ticks\": \"\"}, \"type\": \"choropleth\"}], \"contour\": [{\"colorbar\": {\"outlinewidth\": 0, \"ticks\": \"\"}, \"colorscale\": [[0.0, \"#0d0887\"], [0.1111111111111111, \"#46039f\"], [0.2222222222222222, \"#7201a8\"], [0.3333333333333333, \"#9c179e\"], [0.4444444444444444, \"#bd3786\"], [0.5555555555555556, \"#d8576b\"], [0.6666666666666666, \"#ed7953\"], [0.7777777777777778, \"#fb9f3a\"], [0.8888888888888888, \"#fdca26\"], [1.0, \"#f0f921\"]], \"type\": \"contour\"}], \"contourcarpet\": [{\"colorbar\": {\"outlinewidth\": 0, \"ticks\": \"\"}, \"type\": \"contourcarpet\"}], \"heatmap\": [{\"colorbar\": {\"outlinewidth\": 0, \"ticks\": \"\"}, \"colorscale\": [[0.0, \"#0d0887\"], [0.1111111111111111, \"#46039f\"], [0.2222222222222222, \"#7201a8\"], [0.3333333333333333, \"#9c179e\"], [0.4444444444444444, \"#bd3786\"], [0.5555555555555556, \"#d8576b\"], [0.6666666666666666, \"#ed7953\"], [0.7777777777777778, \"#fb9f3a\"], [0.8888888888888888, \"#fdca26\"], [1.0, \"#f0f921\"]], \"type\": \"heatmap\"}], \"heatmapgl\": [{\"colorbar\": {\"outlinewidth\": 0, \"ticks\": \"\"}, \"colorscale\": [[0.0, \"#0d0887\"], [0.1111111111111111, \"#46039f\"], [0.2222222222222222, \"#7201a8\"], [0.3333333333333333, \"#9c179e\"], [0.4444444444444444, \"#bd3786\"], [0.5555555555555556, \"#d8576b\"], [0.6666666666666666, \"#ed7953\"], [0.7777777777777778, \"#fb9f3a\"], [0.8888888888888888, \"#fdca26\"], [1.0, \"#f0f921\"]], \"type\": \"heatmapgl\"}], \"histogram\": [{\"marker\": {\"colorbar\": {\"outlinewidth\": 0, \"ticks\": \"\"}}, \"type\": \"histogram\"}], \"histogram2d\": [{\"colorbar\": {\"outlinewidth\": 0, \"ticks\": \"\"}, \"colorscale\": [[0.0, \"#0d0887\"], [0.1111111111111111, \"#46039f\"], [0.2222222222222222, \"#7201a8\"], [0.3333333333333333, \"#9c179e\"], [0.4444444444444444, \"#bd3786\"], [0.5555555555555556, \"#d8576b\"], [0.6666666666666666, \"#ed7953\"], [0.7777777777777778, \"#fb9f3a\"], [0.8888888888888888, \"#fdca26\"], [1.0, \"#f0f921\"]], \"type\": \"histogram2d\"}], \"histogram2dcontour\": [{\"colorbar\": {\"outlinewidth\": 0, \"ticks\": \"\"}, \"colorscale\": [[0.0, \"#0d0887\"], [0.1111111111111111, \"#46039f\"], [0.2222222222222222, \"#7201a8\"], [0.3333333333333333, \"#9c179e\"], [0.4444444444444444, \"#bd3786\"], [0.5555555555555556, \"#d8576b\"], [0.6666666666666666, \"#ed7953\"], [0.7777777777777778, \"#fb9f3a\"], [0.8888888888888888, \"#fdca26\"], [1.0, \"#f0f921\"]], \"type\": \"histogram2dcontour\"}], \"mesh3d\": [{\"colorbar\": {\"outlinewidth\": 0, \"ticks\": \"\"}, \"type\": \"mesh3d\"}], \"parcoords\": [{\"line\": {\"colorbar\": {\"outlinewidth\": 0, \"ticks\": \"\"}}, \"type\": \"parcoords\"}], \"pie\": [{\"automargin\": true, \"type\": \"pie\"}], \"scatter\": [{\"marker\": {\"colorbar\": {\"outlinewidth\": 0, \"ticks\": \"\"}}, \"type\": \"scatter\"}], \"scatter3d\": [{\"line\": {\"colorbar\": {\"outlinewidth\": 0, \"ticks\": \"\"}}, \"marker\": {\"colorbar\": {\"outlinewidth\": 0, \"ticks\": \"\"}}, \"type\": \"scatter3d\"}], \"scattercarpet\": [{\"marker\": {\"colorbar\": {\"outlinewidth\": 0, \"ticks\": \"\"}}, \"type\": \"scattercarpet\"}], \"scattergeo\": [{\"marker\": {\"colorbar\": {\"outlinewidth\": 0, \"ticks\": \"\"}}, \"type\": \"scattergeo\"}], \"scattergl\": [{\"marker\": {\"colorbar\": {\"outlinewidth\": 0, \"ticks\": \"\"}}, \"type\": \"scattergl\"}], \"scattermapbox\": [{\"marker\": {\"colorbar\": {\"outlinewidth\": 0, \"ticks\": \"\"}}, \"type\": \"scattermapbox\"}], \"scatterpolar\": [{\"marker\": {\"colorbar\": {\"outlinewidth\": 0, \"ticks\": \"\"}}, \"type\": \"scatterpolar\"}], \"scatterpolargl\": [{\"marker\": {\"colorbar\": {\"outlinewidth\": 0, \"ticks\": \"\"}}, \"type\": \"scatterpolargl\"}], \"scatterternary\": [{\"marker\": {\"colorbar\": {\"outlinewidth\": 0, \"ticks\": \"\"}}, \"type\": \"scatterternary\"}], \"surface\": [{\"colorbar\": {\"outlinewidth\": 0, \"ticks\": \"\"}, \"colorscale\": [[0.0, \"#0d0887\"], [0.1111111111111111, \"#46039f\"], [0.2222222222222222, \"#7201a8\"], [0.3333333333333333, \"#9c179e\"], [0.4444444444444444, \"#bd3786\"], [0.5555555555555556, \"#d8576b\"], [0.6666666666666666, \"#ed7953\"], [0.7777777777777778, \"#fb9f3a\"], [0.8888888888888888, \"#fdca26\"], [1.0, \"#f0f921\"]], \"type\": \"surface\"}], \"table\": [{\"cells\": {\"fill\": {\"color\": \"#EBF0F8\"}, \"line\": {\"color\": \"white\"}}, \"header\": {\"fill\": {\"color\": \"#C8D4E3\"}, \"line\": {\"color\": \"white\"}}, \"type\": \"table\"}]}, \"layout\": {\"annotationdefaults\": {\"arrowcolor\": \"#2a3f5f\", \"arrowhead\": 0, \"arrowwidth\": 1}, \"autotypenumbers\": \"strict\", \"coloraxis\": {\"colorbar\": {\"outlinewidth\": 0, \"ticks\": \"\"}}, \"colorscale\": {\"diverging\": [[0, \"#8e0152\"], [0.1, \"#c51b7d\"], [0.2, \"#de77ae\"], [0.3, \"#f1b6da\"], [0.4, \"#fde0ef\"], [0.5, \"#f7f7f7\"], [0.6, \"#e6f5d0\"], [0.7, \"#b8e186\"], [0.8, \"#7fbc41\"], [0.9, \"#4d9221\"], [1, \"#276419\"]], \"sequential\": [[0.0, \"#0d0887\"], [0.1111111111111111, \"#46039f\"], [0.2222222222222222, \"#7201a8\"], [0.3333333333333333, \"#9c179e\"], [0.4444444444444444, \"#bd3786\"], [0.5555555555555556, \"#d8576b\"], [0.6666666666666666, \"#ed7953\"], [0.7777777777777778, \"#fb9f3a\"], [0.8888888888888888, \"#fdca26\"], [1.0, \"#f0f921\"]], \"sequentialminus\": [[0.0, \"#0d0887\"], [0.1111111111111111, \"#46039f\"], [0.2222222222222222, \"#7201a8\"], [0.3333333333333333, \"#9c179e\"], [0.4444444444444444, \"#bd3786\"], [0.5555555555555556, \"#d8576b\"], [0.6666666666666666, \"#ed7953\"], [0.7777777777777778, \"#fb9f3a\"], [0.8888888888888888, \"#fdca26\"], [1.0, \"#f0f921\"]]}, \"colorway\": [\"#636efa\", \"#EF553B\", \"#00cc96\", \"#ab63fa\", \"#FFA15A\", \"#19d3f3\", \"#FF6692\", \"#B6E880\", \"#FF97FF\", \"#FECB52\"], \"font\": {\"color\": \"#2a3f5f\"}, \"geo\": {\"bgcolor\": \"white\", \"lakecolor\": \"white\", \"landcolor\": \"#E5ECF6\", \"showlakes\": true, \"showland\": true, \"subunitcolor\": \"white\"}, \"hoverlabel\": {\"align\": \"left\"}, \"hovermode\": \"closest\", \"mapbox\": {\"style\": \"light\"}, \"paper_bgcolor\": \"white\", \"plot_bgcolor\": \"#E5ECF6\", \"polar\": {\"angularaxis\": {\"gridcolor\": \"white\", \"linecolor\": \"white\", \"ticks\": \"\"}, \"bgcolor\": \"#E5ECF6\", \"radialaxis\": {\"gridcolor\": \"white\", \"linecolor\": \"white\", \"ticks\": \"\"}}, \"scene\": {\"xaxis\": {\"backgroundcolor\": \"#E5ECF6\", \"gridcolor\": \"white\", \"gridwidth\": 2, \"linecolor\": \"white\", \"showbackground\": true, \"ticks\": \"\", \"zerolinecolor\": \"white\"}, \"yaxis\": {\"backgroundcolor\": \"#E5ECF6\", \"gridcolor\": \"white\", \"gridwidth\": 2, \"linecolor\": \"white\", \"showbackground\": true, \"ticks\": \"\", \"zerolinecolor\": \"white\"}, \"zaxis\": {\"backgroundcolor\": \"#E5ECF6\", \"gridcolor\": \"white\", \"gridwidth\": 2, \"linecolor\": \"white\", \"showbackground\": true, \"ticks\": \"\", \"zerolinecolor\": \"white\"}}, \"shapedefaults\": {\"line\": {\"color\": \"#2a3f5f\"}}, \"ternary\": {\"aaxis\": {\"gridcolor\": \"white\", \"linecolor\": \"white\", \"ticks\": \"\"}, \"baxis\": {\"gridcolor\": \"white\", \"linecolor\": \"white\", \"ticks\": \"\"}, \"bgcolor\": \"#E5ECF6\", \"caxis\": {\"gridcolor\": \"white\", \"linecolor\": \"white\", \"ticks\": \"\"}}, \"title\": {\"x\": 0.05}, \"xaxis\": {\"automargin\": true, \"gridcolor\": \"white\", \"linecolor\": \"white\", \"ticks\": \"\", \"title\": {\"standoff\": 15}, \"zerolinecolor\": \"white\", \"zerolinewidth\": 2}, \"yaxis\": {\"automargin\": true, \"gridcolor\": \"white\", \"linecolor\": \"white\", \"ticks\": \"\", \"title\": {\"standoff\": 15}, \"zerolinecolor\": \"white\", \"zerolinewidth\": 2}}}, \"title\": {\"text\": \"RMSd during free MD Simulation\"}, \"xaxis\": {\"title\": {\"text\": \"Time (ps)\"}}, \"yaxis\": {\"title\": {\"text\": \"RMSd (nm)\"}}},                        {\"responsive\": true}                    ).then(function(){\n",
       "                            \n",
       "var gd = document.getElementById('dcbbb57e-f802-4aad-931b-1d3ad739e4a1');\n",
       "var x = new MutationObserver(function (mutations, observer) {{\n",
       "        var display = window.getComputedStyle(gd).display;\n",
       "        if (!display || display === 'none') {{\n",
       "            console.log([gd, 'removed!']);\n",
       "            Plotly.purge(gd);\n",
       "            observer.disconnect();\n",
       "        }}\n",
       "}});\n",
       "\n",
       "// Listen for the removal of the full notebook cells\n",
       "var notebookContainer = gd.closest('#notebook-container');\n",
       "if (notebookContainer) {{\n",
       "    x.observe(notebookContainer, {childList: true});\n",
       "}}\n",
       "\n",
       "// Listen for the clearing of the current output cell\n",
       "var outputEl = gd.closest('.output');\n",
       "if (outputEl) {{\n",
       "    x.observe(outputEl, {childList: true});\n",
       "}}\n",
       "\n",
       "                        })                };                });            </script>        </div>"
      ]
     },
     "metadata": {},
     "output_type": "display_data"
    }
   ],
   "source": [
    "import plotly\n",
    "import plotly.graph_objs as go\n",
    "\n",
    "# Read RMS vs first snapshot data from file \n",
    "with open(output_rms_first,'r') as rms_first_file:\n",
    "    x,y = map(\n",
    "        list,\n",
    "        zip(*[\n",
    "            (float(line.split()[0]),float(line.split()[1]))\n",
    "            for line in rms_first_file \n",
    "            if not line.startswith((\"#\",\"@\")) \n",
    "        ])\n",
    "    )\n",
    "\n",
    "# Read RMS vs experimental structure data from file \n",
    "with open(output_rms_exp,'r') as rms_exp_file:\n",
    "    x2,y2 = map(\n",
    "        list,\n",
    "        zip(*[\n",
    "            (float(line.split()[0]),float(line.split()[1]))\n",
    "            for line in rms_exp_file\n",
    "            if not line.startswith((\"#\",\"@\")) \n",
    "        ])\n",
    "    )\n",
    "    \n",
    "trace1 = go.Scatter(\n",
    "    x = x,\n",
    "    y = y,\n",
    "    name = 'RMSd vs first'\n",
    ")\n",
    "\n",
    "trace2 = go.Scatter(\n",
    "    x = x,\n",
    "    y = y2,\n",
    "    name = 'RMSd vs exp'\n",
    ")\n",
    "\n",
    "data = [trace1, trace2]\n",
    "\n",
    "plotly.offline.init_notebook_mode(connected=True)\n",
    "\n",
    "fig = {\n",
    "    \"data\": data,\n",
    "    \"layout\": go.Layout(title=\"RMSd during free MD Simulation\",\n",
    "                        xaxis=dict(title = \"Time (ps)\"),\n",
    "                        yaxis=dict(title = \"RMSd (nm)\")\n",
    "                       )\n",
    "}\n",
    "\n",
    "plotly.offline.iplot(fig)\n"
   ]
  },
  {
   "cell_type": "code",
   "execution_count": 67,
   "metadata": {},
   "outputs": [
    {
     "name": "stderr",
     "output_type": "stream",
     "text": [
      "2021-01-15 15:40:02,529 [MainThread  ] [INFO ]  Not using any container\n",
      "2021-01-15 15:40:03,144 [MainThread  ] [INFO ]  echo \"Backbone\" | gmx gyrate -s /home/gelpi/DEVEL/BioExcel/biobb/biobb_remote/notebook/../test/test_wdir/1AKI_gppmin.tpr -f /home/gelpi/DEVEL/BioExcel/biobb/biobb_remote/notebook/../test/test_wdir/1AKI_md.trr -o ../test/test_wdir/1AKI_rgyr.xvg -xvg none\n",
      "\n",
      "2021-01-15 15:40:03,145 [MainThread  ] [INFO ]  Exit code 0\n",
      "\n",
      "2021-01-15 15:40:03,147 [MainThread  ] [INFO ]  Selected 4: 'Backbone'\n",
      "\n",
      "2021-01-15 15:40:03,147 [MainThread  ] [INFO ]                        :-) GROMACS - gmx gyrate, 2019.1 (-:\n",
      "\n",
      "                            GROMACS is written by:\n",
      "     Emile Apol      Rossen Apostolov      Paul Bauer     Herman J.C. Berendsen\n",
      "    Par Bjelkmar      Christian Blau   Viacheslav Bolnykh     Kevin Boyd    \n",
      " Aldert van Buuren   Rudi van Drunen     Anton Feenstra       Alan Gray     \n",
      "  Gerrit Groenhof     Anca Hamuraru    Vincent Hindriksen  M. Eric Irrgang  \n",
      "  Aleksei Iupinov   Christoph Junghans     Joe Jordan     Dimitrios Karkoulis\n",
      "    Peter Kasson        Jiri Kraus      Carsten Kutzner      Per Larsson    \n",
      "  Justin A. Lemkul    Viveca Lindahl    Magnus Lundborg     Erik Marklund   \n",
      "    Pascal Merz     Pieter Meulenhoff    Teemu Murtola       Szilard Pall   \n",
      "    Sander Pronk      Roland Schulz      Michael Shirts    Alexey Shvetsov  \n",
      "   Alfons Sijbers     Peter Tieleman      Jon Vincent      Teemu Virolainen \n",
      " Christian Wennberg    Maarten Wolf   \n",
      "                           and the project leaders:\n",
      "        Mark Abraham, Berk Hess, Erik Lindahl, and David van der Spoel\n",
      "\n",
      "Copyright (c) 1991-2000, University of Groningen, The Netherlands.\n",
      "Copyright (c) 2001-2018, The GROMACS development team at\n",
      "Uppsala University, Stockholm University and\n",
      "the Royal Institute of Technology, Sweden.\n",
      "check out http://www.gromacs.org for more information.\n",
      "\n",
      "GROMACS is free software; you can redistribute it and/or modify it\n",
      "under the terms of the GNU Lesser General Public License\n",
      "as published by the Free Software Foundation; either version 2.1\n",
      "of the License, or (at your option) any later version.\n",
      "\n",
      "GROMACS:      gmx gyrate, version 2019.1\n",
      "Executable:   /home/gelpi/miniconda3/envs/biobb_remote/bin/gmx\n",
      "Data prefix:  /home/gelpi/miniconda3/envs/biobb_remote\n",
      "Working dir:  /home/gelpi/DEVEL/BioExcel/biobb/biobb_remote/notebook\n",
      "Command line:\n",
      "  gmx gyrate -s /home/gelpi/DEVEL/BioExcel/biobb/biobb_remote/notebook/../test/test_wdir/1AKI_gppmin.tpr -f /home/gelpi/DEVEL/BioExcel/biobb/biobb_remote/notebook/../test/test_wdir/1AKI_md.trr -o ../test/test_wdir/1AKI_rgyr.xvg -xvg none\n",
      "\n",
      "Reading file /home/gelpi/DEVEL/BioExcel/biobb/biobb_remote/notebook/../test/test_wdir/1AKI_gppmin.tpr, VERSION 2019.1 (single precision)\n",
      "Reading file /home/gelpi/DEVEL/BioExcel/biobb/biobb_remote/notebook/../test/test_wdir/1AKI_gppmin.tpr, VERSION 2019.1 (single precision)\n",
      "Group     0 (         System) has 33836 elements\n",
      "Group     1 (        Protein) has  1960 elements\n",
      "Group     2 (      Protein-H) has  1001 elements\n",
      "Group     3 (        C-alpha) has   129 elements\n",
      "Group     4 (       Backbone) has   387 elements\n",
      "Group     5 (      MainChain) has   517 elements\n",
      "Group     6 (   MainChain+Cb) has   634 elements\n",
      "Group     7 (    MainChain+H) has   646 elements\n",
      "Group     8 (      SideChain) has  1314 elements\n",
      "Group     9 (    SideChain-H) has   484 elements\n",
      "Group    10 (    Prot-Masses) has  1960 elements\n",
      "Group    11 (    non-Protein) has 31876 elements\n",
      "Group    12 (          Water) has 31848 elements\n",
      "Group    13 (            SOL) has 31848 elements\n",
      "Group    14 (      non-Water) has  1988 elements\n",
      "Group    15 (            Ion) has    28 elements\n",
      "Group    16 (             NA) has    10 elements\n",
      "Group    17 (             CL) has    18 elements\n",
      "Group    18 ( Water_and_ions) has 31876 elements\n",
      "Select a group: trr version: GMX_trn_file (single precision)\n",
      "Reading frame       0 time    0.000   \n",
      "Back Off! I just backed up ../test/test_wdir/1AKI_rgyr.xvg to ../test/test_wdir/#1AKI_rgyr.xvg.1#\n",
      "Last frame        100 time 1000.000   \n",
      "\n",
      "GROMACS reminds you: \"Aber wenn der Quarterback kommt, um dir die Brille abzunehmen, sag ihm: Danke, die bleibt wo sie ist\" (Wir sind Helden)\n",
      "\n",
      "\n"
     ]
    },
    {
     "data": {
      "text/plain": [
       "0"
      ]
     },
     "execution_count": 67,
     "metadata": {},
     "output_type": "execute_result"
    }
   ],
   "source": [
    "# GMXRgyr: Computing Radius of Gyration to measure the protein compactness during the free MD simulation \n",
    "\n",
    "from biobb_analysis.gromacs.gmx_rgyr import GMXRgyr\n",
    "\n",
    "# Create prop dict and inputs/outputs\n",
    "output_rgyr = opj(local_path, pdbCode+'_rgyr.xvg')\n",
    "prop = {\n",
    "    'selection':  'Backbone'\n",
    "}\n",
    "\n",
    "# Create and launch bb\n",
    "GMXRgyr(input_structure_path=input_gppmin_tpr,\n",
    "         input_traj_path=input_md_trr,\n",
    "         output_xvg_path=output_rgyr, \n",
    "          properties=prop).launch()"
   ]
  },
  {
   "cell_type": "code",
   "execution_count": 68,
   "metadata": {},
   "outputs": [
    {
     "data": {
      "text/html": [
       "        <script type=\"text/javascript\">\n",
       "        window.PlotlyConfig = {MathJaxConfig: 'local'};\n",
       "        if (window.MathJax) {MathJax.Hub.Config({SVG: {font: \"STIX-Web\"}});}\n",
       "        if (typeof require !== 'undefined') {\n",
       "        require.undef(\"plotly\");\n",
       "        requirejs.config({\n",
       "            paths: {\n",
       "                'plotly': ['https://cdn.plot.ly/plotly-latest.min']\n",
       "            }\n",
       "        });\n",
       "        require(['plotly'], function(Plotly) {\n",
       "            window._Plotly = Plotly;\n",
       "        });\n",
       "        }\n",
       "        </script>\n",
       "        "
      ]
     },
     "metadata": {},
     "output_type": "display_data"
    },
    {
     "data": {
      "application/vnd.plotly.v1+json": {
       "config": {
        "linkText": "Export to plot.ly",
        "plotlyServerURL": "https://plot.ly",
        "showLink": false
       },
       "data": [
        {
         "type": "scatter",
         "x": [
          0,
          10,
          20,
          30,
          40,
          50,
          60,
          70,
          80,
          90,
          100,
          110,
          120,
          130,
          140,
          150,
          160,
          170,
          180,
          190,
          200,
          210,
          220,
          230,
          240,
          250,
          260,
          270,
          280,
          290,
          300,
          310,
          320,
          330,
          340,
          350,
          360,
          370,
          380,
          390,
          400,
          410,
          420,
          430,
          440,
          450,
          460,
          470,
          480,
          490,
          500,
          510,
          520,
          530,
          540,
          550,
          560,
          570,
          580,
          590,
          600,
          610,
          620,
          630,
          640,
          650,
          660,
          670,
          680,
          690,
          700,
          710,
          720,
          730,
          740,
          750,
          760,
          770,
          780,
          790,
          800,
          810,
          820,
          830,
          840,
          850,
          860,
          870,
          880,
          890,
          900,
          910,
          920,
          930,
          940,
          950,
          960,
          970,
          980,
          990,
          1000
         ],
         "y": [
          1.37736,
          1.38588,
          1.39945,
          1.40207,
          1.40271,
          1.39292,
          1.39857,
          1.38981,
          1.40572,
          1.39718,
          1.39082,
          1.39421,
          1.38721,
          1.40423,
          1.39507,
          1.39044,
          1.39002,
          1.39887,
          1.39401,
          1.38733,
          1.3913,
          1.38418,
          1.38961,
          1.3875,
          1.39106,
          1.38677,
          1.38136,
          1.38936,
          1.37839,
          1.38686,
          1.37441,
          1.38078,
          1.38191,
          1.38381,
          1.38442,
          1.37954,
          1.37344,
          1.38917,
          1.38406,
          1.38667,
          1.37995,
          1.37929,
          1.37909,
          1.38225,
          1.38415,
          1.38518,
          1.38797,
          1.39225,
          1.38437,
          1.38234,
          1.38888,
          1.38506,
          1.38982,
          1.39166,
          1.37827,
          1.38322,
          1.3844,
          1.38883,
          1.38738,
          1.37509,
          1.37952,
          1.37598,
          1.37686,
          1.37882,
          1.37511,
          1.37368,
          1.38378,
          1.37918,
          1.37627,
          1.37673,
          1.37646,
          1.38146,
          1.38377,
          1.37363,
          1.37522,
          1.36839,
          1.37509,
          1.37528,
          1.37936,
          1.37822,
          1.38683,
          1.38856,
          1.38471,
          1.38978,
          1.38775,
          1.38834,
          1.39299,
          1.39363,
          1.39224,
          1.37919,
          1.39121,
          1.39106,
          1.3894,
          1.38419,
          1.38704,
          1.38723,
          1.38512,
          1.38573,
          1.38768,
          1.37976,
          1.38188
         ]
        }
       ],
       "layout": {
        "template": {
         "data": {
          "bar": [
           {
            "error_x": {
             "color": "#2a3f5f"
            },
            "error_y": {
             "color": "#2a3f5f"
            },
            "marker": {
             "line": {
              "color": "#E5ECF6",
              "width": 0.5
             }
            },
            "type": "bar"
           }
          ],
          "barpolar": [
           {
            "marker": {
             "line": {
              "color": "#E5ECF6",
              "width": 0.5
             }
            },
            "type": "barpolar"
           }
          ],
          "carpet": [
           {
            "aaxis": {
             "endlinecolor": "#2a3f5f",
             "gridcolor": "white",
             "linecolor": "white",
             "minorgridcolor": "white",
             "startlinecolor": "#2a3f5f"
            },
            "baxis": {
             "endlinecolor": "#2a3f5f",
             "gridcolor": "white",
             "linecolor": "white",
             "minorgridcolor": "white",
             "startlinecolor": "#2a3f5f"
            },
            "type": "carpet"
           }
          ],
          "choropleth": [
           {
            "colorbar": {
             "outlinewidth": 0,
             "ticks": ""
            },
            "type": "choropleth"
           }
          ],
          "contour": [
           {
            "colorbar": {
             "outlinewidth": 0,
             "ticks": ""
            },
            "colorscale": [
             [
              0,
              "#0d0887"
             ],
             [
              0.1111111111111111,
              "#46039f"
             ],
             [
              0.2222222222222222,
              "#7201a8"
             ],
             [
              0.3333333333333333,
              "#9c179e"
             ],
             [
              0.4444444444444444,
              "#bd3786"
             ],
             [
              0.5555555555555556,
              "#d8576b"
             ],
             [
              0.6666666666666666,
              "#ed7953"
             ],
             [
              0.7777777777777778,
              "#fb9f3a"
             ],
             [
              0.8888888888888888,
              "#fdca26"
             ],
             [
              1,
              "#f0f921"
             ]
            ],
            "type": "contour"
           }
          ],
          "contourcarpet": [
           {
            "colorbar": {
             "outlinewidth": 0,
             "ticks": ""
            },
            "type": "contourcarpet"
           }
          ],
          "heatmap": [
           {
            "colorbar": {
             "outlinewidth": 0,
             "ticks": ""
            },
            "colorscale": [
             [
              0,
              "#0d0887"
             ],
             [
              0.1111111111111111,
              "#46039f"
             ],
             [
              0.2222222222222222,
              "#7201a8"
             ],
             [
              0.3333333333333333,
              "#9c179e"
             ],
             [
              0.4444444444444444,
              "#bd3786"
             ],
             [
              0.5555555555555556,
              "#d8576b"
             ],
             [
              0.6666666666666666,
              "#ed7953"
             ],
             [
              0.7777777777777778,
              "#fb9f3a"
             ],
             [
              0.8888888888888888,
              "#fdca26"
             ],
             [
              1,
              "#f0f921"
             ]
            ],
            "type": "heatmap"
           }
          ],
          "heatmapgl": [
           {
            "colorbar": {
             "outlinewidth": 0,
             "ticks": ""
            },
            "colorscale": [
             [
              0,
              "#0d0887"
             ],
             [
              0.1111111111111111,
              "#46039f"
             ],
             [
              0.2222222222222222,
              "#7201a8"
             ],
             [
              0.3333333333333333,
              "#9c179e"
             ],
             [
              0.4444444444444444,
              "#bd3786"
             ],
             [
              0.5555555555555556,
              "#d8576b"
             ],
             [
              0.6666666666666666,
              "#ed7953"
             ],
             [
              0.7777777777777778,
              "#fb9f3a"
             ],
             [
              0.8888888888888888,
              "#fdca26"
             ],
             [
              1,
              "#f0f921"
             ]
            ],
            "type": "heatmapgl"
           }
          ],
          "histogram": [
           {
            "marker": {
             "colorbar": {
              "outlinewidth": 0,
              "ticks": ""
             }
            },
            "type": "histogram"
           }
          ],
          "histogram2d": [
           {
            "colorbar": {
             "outlinewidth": 0,
             "ticks": ""
            },
            "colorscale": [
             [
              0,
              "#0d0887"
             ],
             [
              0.1111111111111111,
              "#46039f"
             ],
             [
              0.2222222222222222,
              "#7201a8"
             ],
             [
              0.3333333333333333,
              "#9c179e"
             ],
             [
              0.4444444444444444,
              "#bd3786"
             ],
             [
              0.5555555555555556,
              "#d8576b"
             ],
             [
              0.6666666666666666,
              "#ed7953"
             ],
             [
              0.7777777777777778,
              "#fb9f3a"
             ],
             [
              0.8888888888888888,
              "#fdca26"
             ],
             [
              1,
              "#f0f921"
             ]
            ],
            "type": "histogram2d"
           }
          ],
          "histogram2dcontour": [
           {
            "colorbar": {
             "outlinewidth": 0,
             "ticks": ""
            },
            "colorscale": [
             [
              0,
              "#0d0887"
             ],
             [
              0.1111111111111111,
              "#46039f"
             ],
             [
              0.2222222222222222,
              "#7201a8"
             ],
             [
              0.3333333333333333,
              "#9c179e"
             ],
             [
              0.4444444444444444,
              "#bd3786"
             ],
             [
              0.5555555555555556,
              "#d8576b"
             ],
             [
              0.6666666666666666,
              "#ed7953"
             ],
             [
              0.7777777777777778,
              "#fb9f3a"
             ],
             [
              0.8888888888888888,
              "#fdca26"
             ],
             [
              1,
              "#f0f921"
             ]
            ],
            "type": "histogram2dcontour"
           }
          ],
          "mesh3d": [
           {
            "colorbar": {
             "outlinewidth": 0,
             "ticks": ""
            },
            "type": "mesh3d"
           }
          ],
          "parcoords": [
           {
            "line": {
             "colorbar": {
              "outlinewidth": 0,
              "ticks": ""
             }
            },
            "type": "parcoords"
           }
          ],
          "pie": [
           {
            "automargin": true,
            "type": "pie"
           }
          ],
          "scatter": [
           {
            "marker": {
             "colorbar": {
              "outlinewidth": 0,
              "ticks": ""
             }
            },
            "type": "scatter"
           }
          ],
          "scatter3d": [
           {
            "line": {
             "colorbar": {
              "outlinewidth": 0,
              "ticks": ""
             }
            },
            "marker": {
             "colorbar": {
              "outlinewidth": 0,
              "ticks": ""
             }
            },
            "type": "scatter3d"
           }
          ],
          "scattercarpet": [
           {
            "marker": {
             "colorbar": {
              "outlinewidth": 0,
              "ticks": ""
             }
            },
            "type": "scattercarpet"
           }
          ],
          "scattergeo": [
           {
            "marker": {
             "colorbar": {
              "outlinewidth": 0,
              "ticks": ""
             }
            },
            "type": "scattergeo"
           }
          ],
          "scattergl": [
           {
            "marker": {
             "colorbar": {
              "outlinewidth": 0,
              "ticks": ""
             }
            },
            "type": "scattergl"
           }
          ],
          "scattermapbox": [
           {
            "marker": {
             "colorbar": {
              "outlinewidth": 0,
              "ticks": ""
             }
            },
            "type": "scattermapbox"
           }
          ],
          "scatterpolar": [
           {
            "marker": {
             "colorbar": {
              "outlinewidth": 0,
              "ticks": ""
             }
            },
            "type": "scatterpolar"
           }
          ],
          "scatterpolargl": [
           {
            "marker": {
             "colorbar": {
              "outlinewidth": 0,
              "ticks": ""
             }
            },
            "type": "scatterpolargl"
           }
          ],
          "scatterternary": [
           {
            "marker": {
             "colorbar": {
              "outlinewidth": 0,
              "ticks": ""
             }
            },
            "type": "scatterternary"
           }
          ],
          "surface": [
           {
            "colorbar": {
             "outlinewidth": 0,
             "ticks": ""
            },
            "colorscale": [
             [
              0,
              "#0d0887"
             ],
             [
              0.1111111111111111,
              "#46039f"
             ],
             [
              0.2222222222222222,
              "#7201a8"
             ],
             [
              0.3333333333333333,
              "#9c179e"
             ],
             [
              0.4444444444444444,
              "#bd3786"
             ],
             [
              0.5555555555555556,
              "#d8576b"
             ],
             [
              0.6666666666666666,
              "#ed7953"
             ],
             [
              0.7777777777777778,
              "#fb9f3a"
             ],
             [
              0.8888888888888888,
              "#fdca26"
             ],
             [
              1,
              "#f0f921"
             ]
            ],
            "type": "surface"
           }
          ],
          "table": [
           {
            "cells": {
             "fill": {
              "color": "#EBF0F8"
             },
             "line": {
              "color": "white"
             }
            },
            "header": {
             "fill": {
              "color": "#C8D4E3"
             },
             "line": {
              "color": "white"
             }
            },
            "type": "table"
           }
          ]
         },
         "layout": {
          "annotationdefaults": {
           "arrowcolor": "#2a3f5f",
           "arrowhead": 0,
           "arrowwidth": 1
          },
          "autotypenumbers": "strict",
          "coloraxis": {
           "colorbar": {
            "outlinewidth": 0,
            "ticks": ""
           }
          },
          "colorscale": {
           "diverging": [
            [
             0,
             "#8e0152"
            ],
            [
             0.1,
             "#c51b7d"
            ],
            [
             0.2,
             "#de77ae"
            ],
            [
             0.3,
             "#f1b6da"
            ],
            [
             0.4,
             "#fde0ef"
            ],
            [
             0.5,
             "#f7f7f7"
            ],
            [
             0.6,
             "#e6f5d0"
            ],
            [
             0.7,
             "#b8e186"
            ],
            [
             0.8,
             "#7fbc41"
            ],
            [
             0.9,
             "#4d9221"
            ],
            [
             1,
             "#276419"
            ]
           ],
           "sequential": [
            [
             0,
             "#0d0887"
            ],
            [
             0.1111111111111111,
             "#46039f"
            ],
            [
             0.2222222222222222,
             "#7201a8"
            ],
            [
             0.3333333333333333,
             "#9c179e"
            ],
            [
             0.4444444444444444,
             "#bd3786"
            ],
            [
             0.5555555555555556,
             "#d8576b"
            ],
            [
             0.6666666666666666,
             "#ed7953"
            ],
            [
             0.7777777777777778,
             "#fb9f3a"
            ],
            [
             0.8888888888888888,
             "#fdca26"
            ],
            [
             1,
             "#f0f921"
            ]
           ],
           "sequentialminus": [
            [
             0,
             "#0d0887"
            ],
            [
             0.1111111111111111,
             "#46039f"
            ],
            [
             0.2222222222222222,
             "#7201a8"
            ],
            [
             0.3333333333333333,
             "#9c179e"
            ],
            [
             0.4444444444444444,
             "#bd3786"
            ],
            [
             0.5555555555555556,
             "#d8576b"
            ],
            [
             0.6666666666666666,
             "#ed7953"
            ],
            [
             0.7777777777777778,
             "#fb9f3a"
            ],
            [
             0.8888888888888888,
             "#fdca26"
            ],
            [
             1,
             "#f0f921"
            ]
           ]
          },
          "colorway": [
           "#636efa",
           "#EF553B",
           "#00cc96",
           "#ab63fa",
           "#FFA15A",
           "#19d3f3",
           "#FF6692",
           "#B6E880",
           "#FF97FF",
           "#FECB52"
          ],
          "font": {
           "color": "#2a3f5f"
          },
          "geo": {
           "bgcolor": "white",
           "lakecolor": "white",
           "landcolor": "#E5ECF6",
           "showlakes": true,
           "showland": true,
           "subunitcolor": "white"
          },
          "hoverlabel": {
           "align": "left"
          },
          "hovermode": "closest",
          "mapbox": {
           "style": "light"
          },
          "paper_bgcolor": "white",
          "plot_bgcolor": "#E5ECF6",
          "polar": {
           "angularaxis": {
            "gridcolor": "white",
            "linecolor": "white",
            "ticks": ""
           },
           "bgcolor": "#E5ECF6",
           "radialaxis": {
            "gridcolor": "white",
            "linecolor": "white",
            "ticks": ""
           }
          },
          "scene": {
           "xaxis": {
            "backgroundcolor": "#E5ECF6",
            "gridcolor": "white",
            "gridwidth": 2,
            "linecolor": "white",
            "showbackground": true,
            "ticks": "",
            "zerolinecolor": "white"
           },
           "yaxis": {
            "backgroundcolor": "#E5ECF6",
            "gridcolor": "white",
            "gridwidth": 2,
            "linecolor": "white",
            "showbackground": true,
            "ticks": "",
            "zerolinecolor": "white"
           },
           "zaxis": {
            "backgroundcolor": "#E5ECF6",
            "gridcolor": "white",
            "gridwidth": 2,
            "linecolor": "white",
            "showbackground": true,
            "ticks": "",
            "zerolinecolor": "white"
           }
          },
          "shapedefaults": {
           "line": {
            "color": "#2a3f5f"
           }
          },
          "ternary": {
           "aaxis": {
            "gridcolor": "white",
            "linecolor": "white",
            "ticks": ""
           },
           "baxis": {
            "gridcolor": "white",
            "linecolor": "white",
            "ticks": ""
           },
           "bgcolor": "#E5ECF6",
           "caxis": {
            "gridcolor": "white",
            "linecolor": "white",
            "ticks": ""
           }
          },
          "title": {
           "x": 0.05
          },
          "xaxis": {
           "automargin": true,
           "gridcolor": "white",
           "linecolor": "white",
           "ticks": "",
           "title": {
            "standoff": 15
           },
           "zerolinecolor": "white",
           "zerolinewidth": 2
          },
          "yaxis": {
           "automargin": true,
           "gridcolor": "white",
           "linecolor": "white",
           "ticks": "",
           "title": {
            "standoff": 15
           },
           "zerolinecolor": "white",
           "zerolinewidth": 2
          }
         }
        },
        "title": {
         "text": "Radius of Gyration"
        },
        "xaxis": {
         "title": {
          "text": "Time (ps)"
         }
        },
        "yaxis": {
         "title": {
          "text": "Rgyr (nm)"
         }
        }
       }
      },
      "text/html": [
       "<div>                            <div id=\"7e3835a5-4f39-499e-8e6d-852b6d300149\" class=\"plotly-graph-div\" style=\"height:525px; width:100%;\"></div>            <script type=\"text/javascript\">                require([\"plotly\"], function(Plotly) {                    window.PLOTLYENV=window.PLOTLYENV || {};                                    if (document.getElementById(\"7e3835a5-4f39-499e-8e6d-852b6d300149\")) {                    Plotly.newPlot(                        \"7e3835a5-4f39-499e-8e6d-852b6d300149\",                        [{\"type\": \"scatter\", \"x\": [0.0, 10.0, 20.0, 30.0, 40.0, 50.0, 60.0, 70.0, 80.0, 90.0, 100.0, 110.0, 120.0, 130.0, 140.0, 150.0, 160.0, 170.0, 180.0, 190.0, 200.0, 210.0, 220.0, 230.0, 240.0, 250.0, 260.0, 270.0, 280.0, 290.0, 300.0, 310.0, 320.0, 330.0, 340.0, 350.0, 360.0, 370.0, 380.0, 390.0, 400.0, 410.0, 420.0, 430.0, 440.0, 450.0, 460.0, 470.0, 480.0, 490.0, 500.0, 510.0, 520.0, 530.0, 540.0, 550.0, 560.0, 570.0, 580.0, 590.0, 600.0, 610.0, 620.0, 630.0, 640.0, 650.0, 660.0, 670.0, 680.0, 690.0, 700.0, 710.0, 720.0, 730.0, 740.0, 750.0, 760.0, 770.0, 780.0, 790.0, 800.0, 810.0, 820.0, 830.0, 840.0, 850.0, 860.0, 870.0, 880.0, 890.0, 900.0, 910.0, 920.0, 930.0, 940.0, 950.0, 960.0, 970.0, 980.0, 990.0, 1000.0], \"y\": [1.37736, 1.38588, 1.39945, 1.40207, 1.40271, 1.39292, 1.39857, 1.38981, 1.40572, 1.39718, 1.39082, 1.39421, 1.38721, 1.40423, 1.39507, 1.39044, 1.39002, 1.39887, 1.39401, 1.38733, 1.3913, 1.38418, 1.38961, 1.3875, 1.39106, 1.38677, 1.38136, 1.38936, 1.37839, 1.38686, 1.37441, 1.38078, 1.38191, 1.38381, 1.38442, 1.37954, 1.37344, 1.38917, 1.38406, 1.38667, 1.37995, 1.37929, 1.37909, 1.38225, 1.38415, 1.38518, 1.38797, 1.39225, 1.38437, 1.38234, 1.38888, 1.38506, 1.38982, 1.39166, 1.37827, 1.38322, 1.3844, 1.38883, 1.38738, 1.37509, 1.37952, 1.37598, 1.37686, 1.37882, 1.37511, 1.37368, 1.38378, 1.37918, 1.37627, 1.37673, 1.37646, 1.38146, 1.38377, 1.37363, 1.37522, 1.36839, 1.37509, 1.37528, 1.37936, 1.37822, 1.38683, 1.38856, 1.38471, 1.38978, 1.38775, 1.38834, 1.39299, 1.39363, 1.39224, 1.37919, 1.39121, 1.39106, 1.3894, 1.38419, 1.38704, 1.38723, 1.38512, 1.38573, 1.38768, 1.37976, 1.38188]}],                        {\"template\": {\"data\": {\"bar\": [{\"error_x\": {\"color\": \"#2a3f5f\"}, \"error_y\": {\"color\": \"#2a3f5f\"}, \"marker\": {\"line\": {\"color\": \"#E5ECF6\", \"width\": 0.5}}, \"type\": \"bar\"}], \"barpolar\": [{\"marker\": {\"line\": {\"color\": \"#E5ECF6\", \"width\": 0.5}}, \"type\": \"barpolar\"}], \"carpet\": [{\"aaxis\": {\"endlinecolor\": \"#2a3f5f\", \"gridcolor\": \"white\", \"linecolor\": \"white\", \"minorgridcolor\": \"white\", \"startlinecolor\": \"#2a3f5f\"}, \"baxis\": {\"endlinecolor\": \"#2a3f5f\", \"gridcolor\": \"white\", \"linecolor\": \"white\", \"minorgridcolor\": \"white\", \"startlinecolor\": \"#2a3f5f\"}, \"type\": \"carpet\"}], \"choropleth\": [{\"colorbar\": {\"outlinewidth\": 0, \"ticks\": \"\"}, \"type\": \"choropleth\"}], \"contour\": [{\"colorbar\": {\"outlinewidth\": 0, \"ticks\": \"\"}, \"colorscale\": [[0.0, \"#0d0887\"], [0.1111111111111111, \"#46039f\"], [0.2222222222222222, \"#7201a8\"], [0.3333333333333333, \"#9c179e\"], [0.4444444444444444, \"#bd3786\"], [0.5555555555555556, \"#d8576b\"], [0.6666666666666666, \"#ed7953\"], [0.7777777777777778, \"#fb9f3a\"], [0.8888888888888888, \"#fdca26\"], [1.0, \"#f0f921\"]], \"type\": \"contour\"}], \"contourcarpet\": [{\"colorbar\": {\"outlinewidth\": 0, \"ticks\": \"\"}, \"type\": \"contourcarpet\"}], \"heatmap\": [{\"colorbar\": {\"outlinewidth\": 0, \"ticks\": \"\"}, \"colorscale\": [[0.0, \"#0d0887\"], [0.1111111111111111, \"#46039f\"], [0.2222222222222222, \"#7201a8\"], [0.3333333333333333, \"#9c179e\"], [0.4444444444444444, \"#bd3786\"], [0.5555555555555556, \"#d8576b\"], [0.6666666666666666, \"#ed7953\"], [0.7777777777777778, \"#fb9f3a\"], [0.8888888888888888, \"#fdca26\"], [1.0, \"#f0f921\"]], \"type\": \"heatmap\"}], \"heatmapgl\": [{\"colorbar\": {\"outlinewidth\": 0, \"ticks\": \"\"}, \"colorscale\": [[0.0, \"#0d0887\"], [0.1111111111111111, \"#46039f\"], [0.2222222222222222, \"#7201a8\"], [0.3333333333333333, \"#9c179e\"], [0.4444444444444444, \"#bd3786\"], [0.5555555555555556, \"#d8576b\"], [0.6666666666666666, \"#ed7953\"], [0.7777777777777778, \"#fb9f3a\"], [0.8888888888888888, \"#fdca26\"], [1.0, \"#f0f921\"]], \"type\": \"heatmapgl\"}], \"histogram\": [{\"marker\": {\"colorbar\": {\"outlinewidth\": 0, \"ticks\": \"\"}}, \"type\": \"histogram\"}], \"histogram2d\": [{\"colorbar\": {\"outlinewidth\": 0, \"ticks\": \"\"}, \"colorscale\": [[0.0, \"#0d0887\"], [0.1111111111111111, \"#46039f\"], [0.2222222222222222, \"#7201a8\"], [0.3333333333333333, \"#9c179e\"], [0.4444444444444444, \"#bd3786\"], [0.5555555555555556, \"#d8576b\"], [0.6666666666666666, \"#ed7953\"], [0.7777777777777778, \"#fb9f3a\"], [0.8888888888888888, \"#fdca26\"], [1.0, \"#f0f921\"]], \"type\": \"histogram2d\"}], \"histogram2dcontour\": [{\"colorbar\": {\"outlinewidth\": 0, \"ticks\": \"\"}, \"colorscale\": [[0.0, \"#0d0887\"], [0.1111111111111111, \"#46039f\"], [0.2222222222222222, \"#7201a8\"], [0.3333333333333333, \"#9c179e\"], [0.4444444444444444, \"#bd3786\"], [0.5555555555555556, \"#d8576b\"], [0.6666666666666666, \"#ed7953\"], [0.7777777777777778, \"#fb9f3a\"], [0.8888888888888888, \"#fdca26\"], [1.0, \"#f0f921\"]], \"type\": \"histogram2dcontour\"}], \"mesh3d\": [{\"colorbar\": {\"outlinewidth\": 0, \"ticks\": \"\"}, \"type\": \"mesh3d\"}], \"parcoords\": [{\"line\": {\"colorbar\": {\"outlinewidth\": 0, \"ticks\": \"\"}}, \"type\": \"parcoords\"}], \"pie\": [{\"automargin\": true, \"type\": \"pie\"}], \"scatter\": [{\"marker\": {\"colorbar\": {\"outlinewidth\": 0, \"ticks\": \"\"}}, \"type\": \"scatter\"}], \"scatter3d\": [{\"line\": {\"colorbar\": {\"outlinewidth\": 0, \"ticks\": \"\"}}, \"marker\": {\"colorbar\": {\"outlinewidth\": 0, \"ticks\": \"\"}}, \"type\": \"scatter3d\"}], \"scattercarpet\": [{\"marker\": {\"colorbar\": {\"outlinewidth\": 0, \"ticks\": \"\"}}, \"type\": \"scattercarpet\"}], \"scattergeo\": [{\"marker\": {\"colorbar\": {\"outlinewidth\": 0, \"ticks\": \"\"}}, \"type\": \"scattergeo\"}], \"scattergl\": [{\"marker\": {\"colorbar\": {\"outlinewidth\": 0, \"ticks\": \"\"}}, \"type\": \"scattergl\"}], \"scattermapbox\": [{\"marker\": {\"colorbar\": {\"outlinewidth\": 0, \"ticks\": \"\"}}, \"type\": \"scattermapbox\"}], \"scatterpolar\": [{\"marker\": {\"colorbar\": {\"outlinewidth\": 0, \"ticks\": \"\"}}, \"type\": \"scatterpolar\"}], \"scatterpolargl\": [{\"marker\": {\"colorbar\": {\"outlinewidth\": 0, \"ticks\": \"\"}}, \"type\": \"scatterpolargl\"}], \"scatterternary\": [{\"marker\": {\"colorbar\": {\"outlinewidth\": 0, \"ticks\": \"\"}}, \"type\": \"scatterternary\"}], \"surface\": [{\"colorbar\": {\"outlinewidth\": 0, \"ticks\": \"\"}, \"colorscale\": [[0.0, \"#0d0887\"], [0.1111111111111111, \"#46039f\"], [0.2222222222222222, \"#7201a8\"], [0.3333333333333333, \"#9c179e\"], [0.4444444444444444, \"#bd3786\"], [0.5555555555555556, \"#d8576b\"], [0.6666666666666666, \"#ed7953\"], [0.7777777777777778, \"#fb9f3a\"], [0.8888888888888888, \"#fdca26\"], [1.0, \"#f0f921\"]], \"type\": \"surface\"}], \"table\": [{\"cells\": {\"fill\": {\"color\": \"#EBF0F8\"}, \"line\": {\"color\": \"white\"}}, \"header\": {\"fill\": {\"color\": \"#C8D4E3\"}, \"line\": {\"color\": \"white\"}}, \"type\": \"table\"}]}, \"layout\": {\"annotationdefaults\": {\"arrowcolor\": \"#2a3f5f\", \"arrowhead\": 0, \"arrowwidth\": 1}, \"autotypenumbers\": \"strict\", \"coloraxis\": {\"colorbar\": {\"outlinewidth\": 0, \"ticks\": \"\"}}, \"colorscale\": {\"diverging\": [[0, \"#8e0152\"], [0.1, \"#c51b7d\"], [0.2, \"#de77ae\"], [0.3, \"#f1b6da\"], [0.4, \"#fde0ef\"], [0.5, \"#f7f7f7\"], [0.6, \"#e6f5d0\"], [0.7, \"#b8e186\"], [0.8, \"#7fbc41\"], [0.9, \"#4d9221\"], [1, \"#276419\"]], \"sequential\": [[0.0, \"#0d0887\"], [0.1111111111111111, \"#46039f\"], [0.2222222222222222, \"#7201a8\"], [0.3333333333333333, \"#9c179e\"], [0.4444444444444444, \"#bd3786\"], [0.5555555555555556, \"#d8576b\"], [0.6666666666666666, \"#ed7953\"], [0.7777777777777778, \"#fb9f3a\"], [0.8888888888888888, \"#fdca26\"], [1.0, \"#f0f921\"]], \"sequentialminus\": [[0.0, \"#0d0887\"], [0.1111111111111111, \"#46039f\"], [0.2222222222222222, \"#7201a8\"], [0.3333333333333333, \"#9c179e\"], [0.4444444444444444, \"#bd3786\"], [0.5555555555555556, \"#d8576b\"], [0.6666666666666666, \"#ed7953\"], [0.7777777777777778, \"#fb9f3a\"], [0.8888888888888888, \"#fdca26\"], [1.0, \"#f0f921\"]]}, \"colorway\": [\"#636efa\", \"#EF553B\", \"#00cc96\", \"#ab63fa\", \"#FFA15A\", \"#19d3f3\", \"#FF6692\", \"#B6E880\", \"#FF97FF\", \"#FECB52\"], \"font\": {\"color\": \"#2a3f5f\"}, \"geo\": {\"bgcolor\": \"white\", \"lakecolor\": \"white\", \"landcolor\": \"#E5ECF6\", \"showlakes\": true, \"showland\": true, \"subunitcolor\": \"white\"}, \"hoverlabel\": {\"align\": \"left\"}, \"hovermode\": \"closest\", \"mapbox\": {\"style\": \"light\"}, \"paper_bgcolor\": \"white\", \"plot_bgcolor\": \"#E5ECF6\", \"polar\": {\"angularaxis\": {\"gridcolor\": \"white\", \"linecolor\": \"white\", \"ticks\": \"\"}, \"bgcolor\": \"#E5ECF6\", \"radialaxis\": {\"gridcolor\": \"white\", \"linecolor\": \"white\", \"ticks\": \"\"}}, \"scene\": {\"xaxis\": {\"backgroundcolor\": \"#E5ECF6\", \"gridcolor\": \"white\", \"gridwidth\": 2, \"linecolor\": \"white\", \"showbackground\": true, \"ticks\": \"\", \"zerolinecolor\": \"white\"}, \"yaxis\": {\"backgroundcolor\": \"#E5ECF6\", \"gridcolor\": \"white\", \"gridwidth\": 2, \"linecolor\": \"white\", \"showbackground\": true, \"ticks\": \"\", \"zerolinecolor\": \"white\"}, \"zaxis\": {\"backgroundcolor\": \"#E5ECF6\", \"gridcolor\": \"white\", \"gridwidth\": 2, \"linecolor\": \"white\", \"showbackground\": true, \"ticks\": \"\", \"zerolinecolor\": \"white\"}}, \"shapedefaults\": {\"line\": {\"color\": \"#2a3f5f\"}}, \"ternary\": {\"aaxis\": {\"gridcolor\": \"white\", \"linecolor\": \"white\", \"ticks\": \"\"}, \"baxis\": {\"gridcolor\": \"white\", \"linecolor\": \"white\", \"ticks\": \"\"}, \"bgcolor\": \"#E5ECF6\", \"caxis\": {\"gridcolor\": \"white\", \"linecolor\": \"white\", \"ticks\": \"\"}}, \"title\": {\"x\": 0.05}, \"xaxis\": {\"automargin\": true, \"gridcolor\": \"white\", \"linecolor\": \"white\", \"ticks\": \"\", \"title\": {\"standoff\": 15}, \"zerolinecolor\": \"white\", \"zerolinewidth\": 2}, \"yaxis\": {\"automargin\": true, \"gridcolor\": \"white\", \"linecolor\": \"white\", \"ticks\": \"\", \"title\": {\"standoff\": 15}, \"zerolinecolor\": \"white\", \"zerolinewidth\": 2}}}, \"title\": {\"text\": \"Radius of Gyration\"}, \"xaxis\": {\"title\": {\"text\": \"Time (ps)\"}}, \"yaxis\": {\"title\": {\"text\": \"Rgyr (nm)\"}}},                        {\"responsive\": true}                    ).then(function(){\n",
       "                            \n",
       "var gd = document.getElementById('7e3835a5-4f39-499e-8e6d-852b6d300149');\n",
       "var x = new MutationObserver(function (mutations, observer) {{\n",
       "        var display = window.getComputedStyle(gd).display;\n",
       "        if (!display || display === 'none') {{\n",
       "            console.log([gd, 'removed!']);\n",
       "            Plotly.purge(gd);\n",
       "            observer.disconnect();\n",
       "        }}\n",
       "}});\n",
       "\n",
       "// Listen for the removal of the full notebook cells\n",
       "var notebookContainer = gd.closest('#notebook-container');\n",
       "if (notebookContainer) {{\n",
       "    x.observe(notebookContainer, {childList: true});\n",
       "}}\n",
       "\n",
       "// Listen for the clearing of the current output cell\n",
       "var outputEl = gd.closest('.output');\n",
       "if (outputEl) {{\n",
       "    x.observe(outputEl, {childList: true});\n",
       "}}\n",
       "\n",
       "                        })                };                });            </script>        </div>"
      ]
     },
     "metadata": {},
     "output_type": "display_data"
    }
   ],
   "source": [
    "import plotly\n",
    "import plotly.graph_objs as go\n",
    "\n",
    "# Read Rgyr data from file \n",
    "with open(output_rgyr,'r') as rgyr_file:\n",
    "    x,y = map(\n",
    "        list,\n",
    "        zip(*[\n",
    "            (float(line.split()[0]),float(line.split()[1]))\n",
    "            for line in rgyr_file \n",
    "            if not line.startswith((\"#\",\"@\")) \n",
    "        ])\n",
    "    )\n",
    "\n",
    "plotly.offline.init_notebook_mode(connected=True)\n",
    "\n",
    "fig = {\n",
    "    \"data\": [go.Scatter(x=x, y=y)],\n",
    "    \"layout\": go.Layout(title=\"Radius of Gyration\",\n",
    "                        xaxis=dict(title = \"Time (ps)\"),\n",
    "                        yaxis=dict(title = \"Rgyr (nm)\")\n",
    "                       )\n",
    "}\n",
    "\n",
    "plotly.offline.iplot(fig)"
   ]
  },
  {
   "cell_type": "markdown",
   "metadata": {},
   "source": [
    "<a id=\"post\"></a>\n",
    "***\n",
    "## Post-processing and Visualizing resulting 3D trajectory\n",
    "Post-processing and Visualizing the **protein system** MD setup **resulting trajectory** using **NGL**\n",
    "- [Step 1](#ppStep1): *Imaging* the resulting trajectory, **stripping out water molecules and ions** and **correcting periodicity issues**.\n",
    "- [Step 2](#ppStep2): Generating a *dry* structure, **removing water molecules and ions** from the final snapshot of the MD setup pipeline.\n",
    "- [Step 3](#ppStep3): Visualizing the *imaged* trajectory using the *dry* structure as a **topology**. \n",
    "***\n",
    "**Building Blocks** used:\n",
    " - [GMXImage](https://biobb-analysis.readthedocs.io/en/latest/gromacs.html#module-gromacs.gmx_image) from **biobb_analysis.gromacs.gmx_image** \n",
    " - [GMXTrjConvStr](https://biobb-analysis.readthedocs.io/en/latest/gromacs.html#module-gromacs.gmx_trjconv_str) from **biobb_analysis.gromacs.gmx_trjconv_str** \n",
    "***"
   ]
  },
  {
   "cell_type": "markdown",
   "metadata": {},
   "source": [
    "<a id=\"ppStep1\"></a>\n",
    "### Step 1: *Imaging* the resulting trajectory.\n",
    "Stripping out **water molecules and ions** and **correcting periodicity issues**  "
   ]
  },
  {
   "cell_type": "code",
   "execution_count": 69,
   "metadata": {},
   "outputs": [
    {
     "name": "stderr",
     "output_type": "stream",
     "text": [
      "2021-01-15 15:40:32,283 [MainThread  ] [INFO ]  Not using any container\n",
      "2021-01-15 15:40:33,021 [MainThread  ] [INFO ]  echo \"Protein\" \"Protein\" | gmx trjconv -f /home/gelpi/DEVEL/BioExcel/biobb/biobb_remote/notebook/../test/test_wdir/1AKI_md.trr -s /home/gelpi/DEVEL/BioExcel/biobb/biobb_remote/notebook/../test/test_wdir/1AKI_gppmd.tpr -fit none -o ../test/test_wdir/1AKI_imaged_traj.trr -center -pbc mol -ur compact\n",
      "\n",
      "2021-01-15 15:40:33,023 [MainThread  ] [INFO ]  Exit code 0\n",
      "\n",
      "2021-01-15 15:40:33,024 [MainThread  ] [INFO ]  Note that major changes are planned in future for trjconv, to improve usability and utility.Select group for centering\n",
      "Selected 1: 'Protein'\n",
      "Select group for output\n",
      "Selected 1: 'Protein'\n",
      "\n",
      "2021-01-15 15:40:33,025 [MainThread  ] [INFO ]                       :-) GROMACS - gmx trjconv, 2019.1 (-:\n",
      "\n",
      "                            GROMACS is written by:\n",
      "     Emile Apol      Rossen Apostolov      Paul Bauer     Herman J.C. Berendsen\n",
      "    Par Bjelkmar      Christian Blau   Viacheslav Bolnykh     Kevin Boyd    \n",
      " Aldert van Buuren   Rudi van Drunen     Anton Feenstra       Alan Gray     \n",
      "  Gerrit Groenhof     Anca Hamuraru    Vincent Hindriksen  M. Eric Irrgang  \n",
      "  Aleksei Iupinov   Christoph Junghans     Joe Jordan     Dimitrios Karkoulis\n",
      "    Peter Kasson        Jiri Kraus      Carsten Kutzner      Per Larsson    \n",
      "  Justin A. Lemkul    Viveca Lindahl    Magnus Lundborg     Erik Marklund   \n",
      "    Pascal Merz     Pieter Meulenhoff    Teemu Murtola       Szilard Pall   \n",
      "    Sander Pronk      Roland Schulz      Michael Shirts    Alexey Shvetsov  \n",
      "   Alfons Sijbers     Peter Tieleman      Jon Vincent      Teemu Virolainen \n",
      " Christian Wennberg    Maarten Wolf   \n",
      "                           and the project leaders:\n",
      "        Mark Abraham, Berk Hess, Erik Lindahl, and David van der Spoel\n",
      "\n",
      "Copyright (c) 1991-2000, University of Groningen, The Netherlands.\n",
      "Copyright (c) 2001-2018, The GROMACS development team at\n",
      "Uppsala University, Stockholm University and\n",
      "the Royal Institute of Technology, Sweden.\n",
      "check out http://www.gromacs.org for more information.\n",
      "\n",
      "GROMACS is free software; you can redistribute it and/or modify it\n",
      "under the terms of the GNU Lesser General Public License\n",
      "as published by the Free Software Foundation; either version 2.1\n",
      "of the License, or (at your option) any later version.\n",
      "\n",
      "GROMACS:      gmx trjconv, version 2019.1\n",
      "Executable:   /home/gelpi/miniconda3/envs/biobb_remote/bin/gmx\n",
      "Data prefix:  /home/gelpi/miniconda3/envs/biobb_remote\n",
      "Working dir:  /home/gelpi/DEVEL/BioExcel/biobb/biobb_remote/notebook\n",
      "Command line:\n",
      "  gmx trjconv -f /home/gelpi/DEVEL/BioExcel/biobb/biobb_remote/notebook/../test/test_wdir/1AKI_md.trr -s /home/gelpi/DEVEL/BioExcel/biobb/biobb_remote/notebook/../test/test_wdir/1AKI_gppmd.tpr -fit none -o ../test/test_wdir/1AKI_imaged_traj.trr -center -pbc mol -ur compact\n",
      "\n",
      "Will write trr: Trajectory in portable xdr format\n",
      "Reading file /home/gelpi/DEVEL/BioExcel/biobb/biobb_remote/notebook/../test/test_wdir/1AKI_gppmd.tpr, VERSION 2019.1 (single precision)\n",
      "Reading file /home/gelpi/DEVEL/BioExcel/biobb/biobb_remote/notebook/../test/test_wdir/1AKI_gppmd.tpr, VERSION 2019.1 (single precision)\n",
      "Group     0 (         System) has 33836 elements\n",
      "Group     1 (        Protein) has  1960 elements\n",
      "Group     2 (      Protein-H) has  1001 elements\n",
      "Group     3 (        C-alpha) has   129 elements\n",
      "Group     4 (       Backbone) has   387 elements\n",
      "Group     5 (      MainChain) has   517 elements\n",
      "Group     6 (   MainChain+Cb) has   634 elements\n",
      "Group     7 (    MainChain+H) has   646 elements\n",
      "Group     8 (      SideChain) has  1314 elements\n",
      "Group     9 (    SideChain-H) has   484 elements\n",
      "Group    10 (    Prot-Masses) has  1960 elements\n",
      "Group    11 (    non-Protein) has 31876 elements\n",
      "Group    12 (          Water) has 31848 elements\n",
      "Group    13 (            SOL) has 31848 elements\n",
      "Group    14 (      non-Water) has  1988 elements\n",
      "Group    15 (            Ion) has    28 elements\n",
      "Group    16 (             NA) has    10 elements\n",
      "Group    17 (             CL) has    18 elements\n",
      "Group    18 ( Water_and_ions) has 31876 elements\n",
      "Select a group: Group     0 (         System) has 33836 elements\n",
      "Group     1 (        Protein) has  1960 elements\n",
      "Group     2 (      Protein-H) has  1001 elements\n",
      "Group     3 (        C-alpha) has   129 elements\n",
      "Group     4 (       Backbone) has   387 elements\n",
      "Group     5 (      MainChain) has   517 elements\n",
      "Group     6 (   MainChain+Cb) has   634 elements\n",
      "Group     7 (    MainChain+H) has   646 elements\n",
      "Group     8 (      SideChain) has  1314 elements\n",
      "Group     9 (    SideChain-H) has   484 elements\n",
      "Group    10 (    Prot-Masses) has  1960 elements\n",
      "Group    11 (    non-Protein) has 31876 elements\n",
      "Group    12 (          Water) has 31848 elements\n",
      "Group    13 (            SOL) has 31848 elements\n",
      "Group    14 (      non-Water) has  1988 elements\n",
      "Group    15 (            Ion) has    28 elements\n",
      "Group    16 (             NA) has    10 elements\n",
      "Group    17 (             CL) has    18 elements\n",
      "Group    18 ( Water_and_ions) has 31876 elements\n",
      "Select a group: trr version: GMX_trn_file (single precision)\n",
      "Reading frame       0 time    0.000   \n",
      "Back Off! I just backed up ../test/test_wdir/1AKI_imaged_traj.trr to ../test/test_wdir/#1AKI_imaged_traj.trr.1#\n",
      "Last frame        100 time 1000.000    ->  frame    100 time 1000.000      \n",
      "\n",
      "\n",
      "GROMACS reminds you: \"It's just B I O L O G Y, can't you see?\" (Joe Jackson)\n",
      "\n",
      "\n"
     ]
    },
    {
     "data": {
      "text/plain": [
       "0"
      ]
     },
     "execution_count": 69,
     "metadata": {},
     "output_type": "execute_result"
    }
   ],
   "source": [
    "# GMXImage: \"Imaging\" the resulting trajectory\n",
    "#           Removing water molecules and ions from the resulting structure\n",
    "from biobb_analysis.gromacs.gmx_image import GMXImage\n",
    "\n",
    "# Create prop dict and inputs/outputs\n",
    "\n",
    "output_imaged_traj = opj(local_path, pdbCode+'_imaged_traj.trr')\n",
    "prop = {\n",
    "    'center_selection':  'Protein',\n",
    "    'output_selection': 'Protein',\n",
    "    'pbc' : 'mol',\n",
    "    'center' : True\n",
    "}\n",
    "\n",
    "# Create and launch bb\n",
    "GMXImage(input_traj_path=input_md_trr,\n",
    "         input_top_path=input_gppmd_tpr,\n",
    "         output_traj_path=output_imaged_traj, \n",
    "          properties=prop).launch()"
   ]
  },
  {
   "cell_type": "markdown",
   "metadata": {},
   "source": [
    "<a id=\"ppStep2\"></a>\n",
    "### Step 2: Generating the output *dry* structure.\n",
    "**Removing water molecules and ions** from the resulting structure"
   ]
  },
  {
   "cell_type": "code",
   "execution_count": 70,
   "metadata": {},
   "outputs": [
    {
     "name": "stderr",
     "output_type": "stream",
     "text": [
      "2021-01-15 15:40:57,874 [MainThread  ] [INFO ]  Not using any container\n",
      "2021-01-15 15:40:58,006 [MainThread  ] [INFO ]  echo \"Protein\" | gmx trjconv -f /home/gelpi/DEVEL/BioExcel/biobb/biobb_remote/notebook/../test/test_wdir/1AKI_md.gro -s /home/gelpi/DEVEL/BioExcel/biobb/biobb_remote/notebook/../test/test_wdir/1AKI_gppmd.tpr -o ../test/test_wdir/1AKI_md_dry.gro\n",
      "\n",
      "2021-01-15 15:40:58,007 [MainThread  ] [INFO ]  Exit code 0\n",
      "\n",
      "2021-01-15 15:40:58,009 [MainThread  ] [INFO ]  Note that major changes are planned in future for trjconv, to improve usability and utility.Select group for output\n",
      "Selected 1: 'Protein'\n",
      "\n",
      "2021-01-15 15:40:58,010 [MainThread  ] [INFO ]                       :-) GROMACS - gmx trjconv, 2019.1 (-:\n",
      "\n",
      "                            GROMACS is written by:\n",
      "     Emile Apol      Rossen Apostolov      Paul Bauer     Herman J.C. Berendsen\n",
      "    Par Bjelkmar      Christian Blau   Viacheslav Bolnykh     Kevin Boyd    \n",
      " Aldert van Buuren   Rudi van Drunen     Anton Feenstra       Alan Gray     \n",
      "  Gerrit Groenhof     Anca Hamuraru    Vincent Hindriksen  M. Eric Irrgang  \n",
      "  Aleksei Iupinov   Christoph Junghans     Joe Jordan     Dimitrios Karkoulis\n",
      "    Peter Kasson        Jiri Kraus      Carsten Kutzner      Per Larsson    \n",
      "  Justin A. Lemkul    Viveca Lindahl    Magnus Lundborg     Erik Marklund   \n",
      "    Pascal Merz     Pieter Meulenhoff    Teemu Murtola       Szilard Pall   \n",
      "    Sander Pronk      Roland Schulz      Michael Shirts    Alexey Shvetsov  \n",
      "   Alfons Sijbers     Peter Tieleman      Jon Vincent      Teemu Virolainen \n",
      " Christian Wennberg    Maarten Wolf   \n",
      "                           and the project leaders:\n",
      "        Mark Abraham, Berk Hess, Erik Lindahl, and David van der Spoel\n",
      "\n",
      "Copyright (c) 1991-2000, University of Groningen, The Netherlands.\n",
      "Copyright (c) 2001-2018, The GROMACS development team at\n",
      "Uppsala University, Stockholm University and\n",
      "the Royal Institute of Technology, Sweden.\n",
      "check out http://www.gromacs.org for more information.\n",
      "\n",
      "GROMACS is free software; you can redistribute it and/or modify it\n",
      "under the terms of the GNU Lesser General Public License\n",
      "as published by the Free Software Foundation; either version 2.1\n",
      "of the License, or (at your option) any later version.\n",
      "\n",
      "GROMACS:      gmx trjconv, version 2019.1\n",
      "Executable:   /home/gelpi/miniconda3/envs/biobb_remote/bin/gmx\n",
      "Data prefix:  /home/gelpi/miniconda3/envs/biobb_remote\n",
      "Working dir:  /home/gelpi/DEVEL/BioExcel/biobb/biobb_remote/notebook\n",
      "Command line:\n",
      "  gmx trjconv -f /home/gelpi/DEVEL/BioExcel/biobb/biobb_remote/notebook/../test/test_wdir/1AKI_md.gro -s /home/gelpi/DEVEL/BioExcel/biobb/biobb_remote/notebook/../test/test_wdir/1AKI_gppmd.tpr -o ../test/test_wdir/1AKI_md_dry.gro\n",
      "\n",
      "Will write gro: Coordinate file in Gromos-87 format\n",
      "Reading file /home/gelpi/DEVEL/BioExcel/biobb/biobb_remote/notebook/../test/test_wdir/1AKI_gppmd.tpr, VERSION 2019.1 (single precision)\n",
      "Reading file /home/gelpi/DEVEL/BioExcel/biobb/biobb_remote/notebook/../test/test_wdir/1AKI_gppmd.tpr, VERSION 2019.1 (single precision)\n",
      "Group     0 (         System) has 33836 elements\n",
      "Group     1 (        Protein) has  1960 elements\n",
      "Group     2 (      Protein-H) has  1001 elements\n",
      "Group     3 (        C-alpha) has   129 elements\n",
      "Group     4 (       Backbone) has   387 elements\n",
      "Group     5 (      MainChain) has   517 elements\n",
      "Group     6 (   MainChain+Cb) has   634 elements\n",
      "Group     7 (    MainChain+H) has   646 elements\n",
      "Group     8 (      SideChain) has  1314 elements\n",
      "Group     9 (    SideChain-H) has   484 elements\n",
      "Group    10 (    Prot-Masses) has  1960 elements\n",
      "Group    11 (    non-Protein) has 31876 elements\n",
      "Group    12 (          Water) has 31848 elements\n",
      "Group    13 (            SOL) has 31848 elements\n",
      "Group    14 (      non-Water) has  1988 elements\n",
      "Group    15 (            Ion) has    28 elements\n",
      "Group    16 (             NA) has    10 elements\n",
      "Group    17 (             CL) has    18 elements\n",
      "Group    18 ( Water_and_ions) has 31876 elements\n",
      "Select a group: Reading frames from gro file 'Protein in water', 33836 atoms.\n",
      "Reading frame       0 time    0.000   \n",
      "Precision of /home/gelpi/DEVEL/BioExcel/biobb/biobb_remote/notebook/../test/test_wdir/1AKI_md.gro is 0.001 (nm)\n",
      "\n",
      "Back Off! I just backed up ../test/test_wdir/1AKI_md_dry.gro to ../test/test_wdir/#1AKI_md_dry.gro.1#\n",
      "Last frame          0 time    0.000   \n",
      "\n",
      "\n",
      "GROMACS reminds you: \"I Ripped the Cord Right Out Of the Phone\" (Capt. Beefheart)\n",
      "\n",
      "\n"
     ]
    },
    {
     "data": {
      "text/plain": [
       "0"
      ]
     },
     "execution_count": 70,
     "metadata": {},
     "output_type": "execute_result"
    }
   ],
   "source": [
    "# GMXTrjConvStr: Converting and/or manipulating a structure\n",
    "#                Removing water molecules and ions from the resulting structure\n",
    "#                The \"dry\" structure will be used as a topology to visualize \n",
    "#                the \"imaged dry\" trajectory generated in the previous step.\n",
    "from biobb_analysis.gromacs.gmx_trjconv_str import GMXTrjConvStr\n",
    "\n",
    "# Create prop dict and inputs/outputs\n",
    "input_md_gro = opj(local_path, pdbCode + '_md.gro')\n",
    "output_dry_gro = opj(local_path, pdbCode+'_md_dry.gro')\n",
    "prop = {\n",
    "    'selection':  'Protein'\n",
    "}\n",
    "\n",
    "# Create and launch bb\n",
    "GMXTrjConvStr(input_structure_path=input_md_gro,\n",
    "         input_top_path=input_gppmd_tpr,\n",
    "         output_str_path=output_dry_gro, \n",
    "          properties=prop).launch()"
   ]
  },
  {
   "cell_type": "markdown",
   "metadata": {},
   "source": [
    "<a id=\"ppStep3\"></a>\n",
    "### Step 3: Visualizing the generated dehydrated trajectory.\n",
    "Using the **imaged trajectory** (output of the [Post-processing step 1](#ppStep1)) with the **dry structure** (output of the [Post-processing step 2](#ppStep2)) as a topology."
   ]
  },
  {
   "cell_type": "code",
   "execution_count": 71,
   "metadata": {
    "scrolled": true
   },
   "outputs": [
    {
     "data": {
      "application/vnd.jupyter.widget-view+json": {
       "model_id": "5cc0864ea4144ee88e7192e2b40ac6d0",
       "version_major": 2,
       "version_minor": 0
      },
      "text/plain": [
       "NGLWidget(max_frame=100)"
      ]
     },
     "metadata": {},
     "output_type": "display_data"
    },
    {
     "data": {
      "application/vnd.jupyter.widget-view+json": {
       "model_id": "ba8264620d2246a3873eded1b3e17ccd",
       "version_major": 2,
       "version_minor": 0
      },
      "text/plain": [
       "Tab(children=(Box(children=(Box(children=(Box(children=(Label(value='step'), IntSlider(value=1, min=-100)), la…"
      ]
     },
     "metadata": {},
     "output_type": "display_data"
    }
   ],
   "source": [
    "# Show trajectory\n",
    "view = nglview.show_simpletraj(nglview.SimpletrajTrajectory(output_imaged_traj, output_dry_gro), gui=True)\n",
    "view"
   ]
  },
  {
   "cell_type": "markdown",
   "metadata": {},
   "source": [
    "Clean remote files amd remove credentials\n"
   ]
  },
  {
   "cell_type": "code",
   "execution_count": 72,
   "metadata": {},
   "outputs": [
    {
     "name": "stdout",
     "output_type": "stream",
     "text": [
      "Removing remote data for job 13719369\n"
     ]
    }
   ],
   "source": [
    "slurm.clean_remote()\n",
    "#credentials.remove_host_auth()"
   ]
  },
  {
   "cell_type": "markdown",
   "metadata": {
    "variables": {
     "output_genion_top_zip": "1AKI_genion_top.zip",
     "output_gppmd_tpr": "1AKI_gppmd.tpr",
     "output_md_cpt": "1AKI_md.cpt",
     "output_md_gro": "1AKI_md.gro",
     "output_md_trr": "1AKI_md.trr",
     "output_rgyr": "1AKI_rgyr.xvg",
     "output_rms_exp": "1AKI_rms_exp.xvg",
     "output_rms_first": "1AKI_rms_first.xvg"
    }
   },
   "source": [
    "<a id=\"output\"></a>\n",
    "## Output files\n",
    "\n",
    "Important **Output files** generated:\n",
    " - {{output_md_gro}}: **Final structure** (snapshot) of the MD setup protocol.\n",
    " - {{output_md_trr}}: **Final trajectory** of the MD setup protocol.\n",
    " - {{output_md_cpt}}: **Final checkpoint file**, with information about the state of the simulation. It can be used to **restart** or **continue** a MD simulation.\n",
    " - {{output_gppmd_tpr}}: **Final tpr file**, GROMACS portable binary run input file. This file contains the starting structure of the **MD setup free MD simulation step**, together with the molecular topology and all the simulation parameters. It can be used to **extend** the simulation.\n",
    " - {{output_genion_top_zip}}: **Final topology** of the MD system. It is a compressed zip file including a **topology file** (.top) and a set of auxiliar **include topology** files (.itp).\n",
    "\n",
    "**Analysis** (MD setup check) output files generated:\n",
    " - {{output_rms_first}}: **Root Mean Square deviation (RMSd)** against **minimized and equilibrated structure** of the final **free MD run step**.\n",
    " - {{output_rms_exp}}: **Root Mean Square deviation (RMSd)** against **experimental structure** of the final **free MD run step**.\n",
    " - {{output_rgyr}}: **Radius of Gyration** of the final **free MD run step** of the **setup pipeline**.\n",
    " "
   ]
  },
  {
   "cell_type": "markdown",
   "metadata": {},
   "source": [
    "***\n",
    "<a id=\"questions\"></a>\n",
    "\n",
    "## Questions & Comments\n",
    "\n",
    "Questions, issues, suggestions and comments are really welcome!\n",
    "\n",
    "* GitHub issues:\n",
    "    * [https://github.com/bioexcel/biobb](https://github.com/bioexcel/biobb)\n",
    "\n",
    "* BioExcel forum:\n",
    "    * [https://ask.bioexcel.eu/c/BioExcel-Building-Blocks-library](https://ask.bioexcel.eu/c/BioExcel-Building-Blocks-library)\n"
   ]
  }
 ],
 "metadata": {
  "kernelspec": {
   "display_name": "Python 3",
   "language": "python",
   "name": "python3"
  },
  "language_info": {
   "codemirror_mode": {
    "name": "ipython",
    "version": 3
   },
   "file_extension": ".py",
   "mimetype": "text/x-python",
   "name": "python",
   "nbconvert_exporter": "python",
   "pygments_lexer": "ipython3",
   "version": "3.7.9"
  }
 },
 "nbformat": 4,
 "nbformat_minor": 2
}
