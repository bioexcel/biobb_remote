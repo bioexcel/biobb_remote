{
 "cells": [
  {
   "cell_type": "markdown",
   "metadata": {},
   "source": [
    "### Generate SSH credentials"
   ]
  },
  {
   "cell_type": "code",
   "execution_count": 3,
   "metadata": {},
   "outputs": [],
   "source": [
    "host = \"sl1.bsc.es\"\n",
    "user = \"bsc23860\"\n",
    "keys_file = \"test_keys\"\n"
   ]
  },
  {
   "cell_type": "code",
   "execution_count": 4,
   "metadata": {},
   "outputs": [],
   "source": [
    "from biobb_remote.ssh_session import SSHCredentials"
   ]
  },
  {
   "cell_type": "code",
   "execution_count": 5,
   "metadata": {},
   "outputs": [
    {
     "name": "stdout",
     "output_type": "stream",
     "text": [
      "ssh-rsa AAAAB3NzaC1yc2EAAAADAQABAAABAQDVmrrscgfswlwv4XTmgEukuBG6nkvTKwU8+P7ffNFmP59LFebd4GTKF1EzFmkzQ6Enfw+M7FI5MQ2nG3skNwKYCaFkYoylOhhN7h/CLXCy9tsPncb2yB8tZhIdcXWy/3PSESs0IkAhsg6mN1IJpuqqmem0sMkNyDxDemvCMSt4LcLSmdCyOCZU7j1axeK6PV7/yKodtAbxlqXuRvtCGzNYmHYIExmnpIduNrolSOYZKk9LT40yrwG1gXay10m8swkR8Q0WtyqHZ43ldQcV+2AEqaN4Fm1HQAZ9x+PKclSP+vaA/Qh9r35q/+IrolGzQfx+2TfOFOj5H4gVbyZbxb+H bsc23860@biobb\n",
      "\n"
     ]
    }
   ],
   "source": [
    "credentials = SSHCredentials(host=host, userid=user)\n",
    "credentials.generate_key()\n",
    "print(credentials.get_public_str())\n",
    "credentials.save(output_path=keys_file)"
   ]
  },
  {
   "cell_type": "markdown",
   "metadata": {},
   "source": [
    "### Add public key to .ssh/authorized_keys\n"
   ]
  },
  {
   "cell_type": "markdown",
   "metadata": {},
   "source": [
    "### Start ssh session and test"
   ]
  },
  {
   "cell_type": "code",
   "execution_count": 4,
   "metadata": {},
   "outputs": [],
   "source": [
    "from biobb_remote.ssh_session import SSHSession"
   ]
  },
  {
   "cell_type": "code",
   "execution_count": 5,
   "metadata": {},
   "outputs": [],
   "source": [
    "ssh_session = SSHSession(credentials_path=keys_file)\n"
   ]
  },
  {
   "cell_type": "code",
   "execution_count": 6,
   "metadata": {},
   "outputs": [
    {
     "name": "stdout",
     "output_type": "stream",
     "text": [
      "total 565760\n",
      "drwxr-xr-x 2 bsc23860 bsc23      4096 Jun 27  2017 bin\n",
      "-rw-r--r-- 1 bsc23860 bsc23       397 Dec 29 11:11 pb\n",
      "lrwxrwxrwx 1 bsc23860 bsc23        31 Jul  9  2018 projects -> /slgpfs/projects/bsc23/bsc23860\n",
      "drwxr-xr-x 2 bsc23860 bsc23      4096 May 31  2018 public_html\n",
      "lrwxrwxrwx 1 bsc23860 bsc23        30 Jul  9  2018 scratch -> /slgpfs/scratch/bsc23/bsc23860\n",
      "-rw-r--r-- 1 bsc23860 bsc23 579308027 Sep 27 12:13 uniprot_sprot.dat.gz\n",
      "\n"
     ]
    }
   ],
   "source": [
    "print(ssh_session.run_command('ls -l')[0])"
   ]
  },
  {
   "cell_type": "markdown",
   "metadata": {},
   "source": [
    "### set SLURM queue details"
   ]
  },
  {
   "cell_type": "code",
   "execution_count": 7,
   "metadata": {},
   "outputs": [],
   "source": [
    "from biobb_remote.slurm import Slurm"
   ]
  },
  {
   "cell_type": "code",
   "execution_count": 8,
   "metadata": {},
   "outputs": [],
   "source": [
    "keys_file = \"test_keys\"\n",
    "job = Slurm()\n",
    "job.ssh_data.load_from_file(keys_file)"
   ]
  },
  {
   "cell_type": "markdown",
   "metadata": {},
   "source": [
    "### Check queue status"
   ]
  },
  {
   "cell_type": "code",
   "execution_count": 10,
   "metadata": {},
   "outputs": [
    {
     "name": "stdout",
     "output_type": "stream",
     "text": [
      "             JOBID PARTITION     NAME     USER ST       TIME  NODES NODELIST(REASON)\n",
      "\n"
     ]
    }
   ],
   "source": [
    "print(job.check_queue())\n"
   ]
  },
  {
   "cell_type": "markdown",
   "metadata": {},
   "source": [
    "### Input job details"
   ]
  },
  {
   "cell_type": "code",
   "execution_count": 11,
   "metadata": {},
   "outputs": [],
   "source": [
    "local_data_path = '/home/gelpi/DEVEL/BioExcel/biobb/biobb_remote/test/test_input'\n",
    "launch_script = local_data_path + '/bsLDH_SLURM.sh'\n",
    "remote_path ='/home/bsc23/bsc23860/scratch/test_biobb'\n",
    "queue_settings = 'default'\n",
    "modules = 'gromacs'\n",
    "task_file = 'task_file.json'\n",
    "local_output_path = '/home/bsc23/bsc23860/scratch/test_biobb'\n"
   ]
  },
  {
   "cell_type": "markdown",
   "metadata": {},
   "source": [
    "### Set local input and upload remote data"
   ]
  },
  {
   "cell_type": "code",
   "execution_count": 12,
   "metadata": {},
   "outputs": [
    {
     "name": "stdout",
     "output_type": "stream",
     "text": [
      "sending_file: /home/gelpi/DEVEL/BioExcel/biobb/biobb_remote/test/test_input/bsLDH_SLURM.orig.sh -> /home/bsc23/bsc23860/scratch/test_biobb/biobb_43355f27-8ada-4c8f-ba12-791ccf963404/bsLDH_SLURM.orig.sh\n",
      "sending_file: /home/gelpi/DEVEL/BioExcel/biobb/biobb_remote/test/test_input/bsLDH_md.gro -> /home/bsc23/bsc23860/scratch/test_biobb/biobb_43355f27-8ada-4c8f-ba12-791ccf963404/bsLDH_md.gro\n",
      "sending_file: /home/gelpi/DEVEL/BioExcel/biobb/biobb_remote/test/test_input/bsLDH_SLURM.sh -> /home/bsc23/bsc23860/scratch/test_biobb/biobb_43355f27-8ada-4c8f-ba12-791ccf963404/bsLDH_SLURM.sh\n",
      "sending_file: /home/gelpi/DEVEL/BioExcel/biobb/biobb_remote/test/test_input/bsLDH_md.tpr -> /home/bsc23/bsc23860/scratch/test_biobb/biobb_43355f27-8ada-4c8f-ba12-791ccf963404/bsLDH_md.tpr\n"
     ]
    }
   ],
   "source": [
    "job.set_local_data_bundle(local_data_path)\n",
    "job.send_input_data(remote_path)"
   ]
  },
  {
   "cell_type": "markdown",
   "metadata": {},
   "source": [
    "### Submit job"
   ]
  },
  {
   "cell_type": "code",
   "execution_count": 13,
   "metadata": {},
   "outputs": [
    {
     "name": "stdout",
     "output_type": "stream",
     "text": [
      "Submitted job 6824164\n"
     ]
    }
   ],
   "source": [
    "job.submit(queue_settings, modules, launch_script)"
   ]
  },
  {
   "cell_type": "markdown",
   "metadata": {},
   "source": [
    "### Some checks"
   ]
  },
  {
   "cell_type": "code",
   "execution_count": 15,
   "metadata": {},
   "outputs": [
    {
     "data": {
      "text/plain": [
       "'Job 6824164 Running'"
      ]
     },
     "execution_count": 15,
     "metadata": {},
     "output_type": "execute_result"
    }
   ],
   "source": [
    "job.check_job()"
   ]
  },
  {
   "cell_type": "code",
   "execution_count": 16,
   "metadata": {},
   "outputs": [
    {
     "name": "stdout",
     "output_type": "stream",
     "text": [
      "hostname sln21\n",
      "Started.\n",
      "Running MD...\n",
      "\n",
      "load impi/2018.3 (PATH, MANPATH, LD_LIBRARY_PATH) \n",
      "Set INTEL compilers as MPI wrappers backend \n",
      "load FFTW/3.3.8 (PATH, LD_LIBRARY_PATH, LIBRARY_PATH, C_INCLUDE_PATH,\n",
      "CPLUS_INCLUDE_PATH, HDF5_ROOT, HDF5_DIR) \n",
      "load GROMACS/2018.0 (PATH, MANPATH, LD_LIBRARY_PATH, LIBRARY_PATH,\n",
      "PKG_CONFIG_PATH, C_INCLUDE_PATH, CPLUS_INCLUDE_PATH) \n",
      "\n"
     ]
    }
   ],
   "source": [
    "stdout, stderr = job.get_logs()\n",
    "print(stdout)\n",
    "print(stderr)\n"
   ]
  },
  {
   "cell_type": "markdown",
   "metadata": {},
   "source": [
    "### Get GROMACS log"
   ]
  },
  {
   "cell_type": "code",
   "execution_count": 17,
   "metadata": {},
   "outputs": [
    {
     "name": "stdout",
     "output_type": "stream",
     "text": [
      "                       :-) GROMACS - gmx mdrun, 2018 (-:\n",
      "\n",
      "                            GROMACS is written by:\n",
      "     Emile Apol      Rossen Apostolov  Herman J.C. Berendsen    Par Bjelkmar   \n",
      " Aldert van Buuren   Rudi van Drunen     Anton Feenstra    Gerrit Groenhof  \n",
      " Christoph Junghans   Anca Hamuraru    Vincent Hindriksen Dimitrios Karkoulis\n",
      "    Peter Kasson        Jiri Kraus      Carsten Kutzner      Per Larsson    \n",
      "  Justin A. Lemkul    Viveca Lindahl    Magnus Lundborg   Pieter Meulenhoff \n",
      "   Erik Marklund      Teemu Murtola       Szilard Pall       Sander Pronk   \n",
      "   Roland Schulz     Alexey Shvetsov     Michael Shirts     Alfons Sijbers  \n",
      "   Peter Tieleman    Teemu Virolainen  Christian Wennberg    Maarten Wolf   \n",
      "                           and the project leaders:\n",
      "        Mark Abraham, Berk Hess, Erik Lindahl, and David van der Spoel\n",
      "\n",
      "Copyright (c) 1991-2000, University of Groningen, The Netherlands.\n",
      "Copyright (c) 2001-2017, The GROMACS development team at\n",
      "Uppsala University, Stockholm University and\n",
      "the Royal Institute of Technology, Sweden.\n",
      "check out http://www.gromacs.org for more information.\n",
      "\n",
      "GROMACS is free software; you can redistribute it and/or modify it\n",
      "under the terms of the GNU Lesser General Public License\n",
      "as published by the Free Software Foundation; either version 2.1\n",
      "of the License, or (at your option) any later version.\n",
      "\n",
      "GROMACS:      gmx mdrun, version 2018\n",
      "Executable:   /apps/GROMACS/2018.0/INTEL/IMPI/bin/gmx_mpi\n",
      "Data prefix:  /apps/GROMACS/2018.0/INTEL/IMPI\n",
      "Working dir:  /slgpfs/scratch/bsc23/bsc23860/test_biobb/biobb_43355f27-8ada-4c8f-ba12-791ccf963404\n",
      "Command line:\n",
      "  gmx_mpi mdrun -v -s bsLDH_md.tpr -o bsLDH_md.trr -x bsLDH_md.xtc -c bsLDH_md.gro -e bsLDH_md.edr -g bsLDH_md_MN.log -cpo bsLDH_md.cpt\n",
      "\n",
      "Reading file bsLDH_md.tpr, VERSION 2016.3 (single precision)\n",
      "Note: file tpx version 110, software tpx version 112\n",
      "The number of OpenMP threads was set by environment variable OMP_NUM_THREADS to 1\n",
      "Changing nstlist from 10 to 50, rlist from 1 to 1.104\n",
      "\n",
      "No option -multi\n",
      "Using 1 MPI process\n",
      "Using 1 OpenMP thread \n",
      "\n",
      "\n",
      "Non-default thread affinity set probably by the OpenMP library,\n",
      "disabling internal thread affinity\n",
      "\n",
      "WARNING: This run will generate roughly 2904 Mb of data\n",
      "\n",
      "starting mdrun 'Protein in water t=   0.00000'\n",
      "5000000 steps,  10000.0 ps.\n",
      "\n"
     ]
    }
   ],
   "source": [
    "print(job.get_remote_file('bsLDH_mdrun.log'))"
   ]
  },
  {
   "cell_type": "markdown",
   "metadata": {},
   "source": [
    "### Recovering remote data"
   ]
  },
  {
   "cell_type": "code",
   "execution_count": null,
   "metadata": {},
   "outputs": [],
   "source": [
    "job.get_output_data(local_output_path, overwrite=False)"
   ]
  },
  {
   "cell_type": "markdown",
   "metadata": {},
   "source": [
    "### cancel current job"
   ]
  },
  {
   "cell_type": "code",
   "execution_count": 18,
   "metadata": {},
   "outputs": [
    {
     "name": "stdout",
     "output_type": "stream",
     "text": [
      "Job 6824164 cancelled\n",
      "Removing remote data for job 6824164\n"
     ]
    }
   ],
   "source": [
    "job.cancel()"
   ]
  },
  {
   "cell_type": "code",
   "execution_count": 23,
   "metadata": {},
   "outputs": [
    {
     "data": {
      "text/plain": [
       "'             JOBID PARTITION     NAME     USER ST       TIME  NODES NODELIST(REASON)\\n'"
      ]
     },
     "execution_count": 23,
     "metadata": {},
     "output_type": "execute_result"
    }
   ],
   "source": [
    "job.check_queue()"
   ]
  },
  {
   "cell_type": "code",
   "execution_count": 24,
   "metadata": {},
   "outputs": [
    {
     "name": "stdout",
     "output_type": "stream",
     "text": [
      "Job cancelled by user\n"
     ]
    },
    {
     "data": {
      "text/plain": [
       "'Job 6824164 Cancelled'"
      ]
     },
     "execution_count": 24,
     "metadata": {},
     "output_type": "execute_result"
    }
   ],
   "source": [
    "job.check_job()"
   ]
  },
  {
   "cell_type": "code",
   "execution_count": null,
   "metadata": {},
   "outputs": [],
   "source": []
  }
 ],
 "metadata": {
  "kernelspec": {
   "display_name": "Python 3",
   "language": "python",
   "name": "python3"
  },
  "language_info": {
   "codemirror_mode": {
    "name": "ipython",
    "version": 3
   },
   "file_extension": ".py",
   "mimetype": "text/x-python",
   "name": "python",
   "nbconvert_exporter": "python",
   "pygments_lexer": "ipython3",
   "version": "3.6.9"
  }
 },
 "nbformat": 4,
 "nbformat_minor": 2
}
